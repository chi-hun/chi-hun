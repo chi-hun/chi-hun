{
  "nbformat": 4,
  "nbformat_minor": 0,
  "metadata": {
    "colab": {
      "provenance": [],
      "authorship_tag": "ABX9TyM+yu5x4gmAHYlheDT1xNCE",
      "include_colab_link": true
    },
    "kernelspec": {
      "name": "python3",
      "display_name": "Python 3"
    },
    "language_info": {
      "name": "python"
    }
  },
  "cells": [
    {
      "cell_type": "markdown",
      "metadata": {
        "id": "view-in-github",
        "colab_type": "text"
      },
      "source": [
        "<a href=\"https://colab.research.google.com/github/chi-hun/chi-hun/blob/main/label_smoothing.ipynb\" target=\"_parent\"><img src=\"https://colab.research.google.com/assets/colab-badge.svg\" alt=\"Open In Colab\"/></a>"
      ]
    },
    {
      "cell_type": "markdown",
      "source": [
        "label smoothing\n",
        "\n",
        "y(k)′= y(k)(1−α) + α/ K \n",
        "\n",
        "(k: 현재 클래스의 index, y(k): ground truth, K: 총 클래스 개수, α: 최적화 해야 할 하이퍼파라미터)\n"
      ],
      "metadata": {
        "id": "5De4jP-I2BE4"
      }
    },
    {
      "cell_type": "code",
      "execution_count": 13,
      "metadata": {
        "id": "HvX3Y1kY2AcP"
      },
      "outputs": [],
      "source": [
        "import numpy as np\n",
        "pre = np.array([[0.5, 0.2, 0.9999],\n",
        "                [0.1, 0.3, 0.7]])\n",
        "def label_smoothing(pre, alpha=0.001, pclip=0.999): # 확률이 pclip을 넘어가면 label smoothing 진행\n",
        "    k = pre.shape[1]\n",
        "    for i, row in enumerate(pre):\n",
        "        if (row > pclip).any():\n",
        "            row = (1 - alpha) * row + alpha / k\n",
        "            pre[i] = row\n",
        "    return pre"
      ]
    },
    {
      "cell_type": "code",
      "source": [
        "label_smoothing(pre)"
      ],
      "metadata": {
        "colab": {
          "base_uri": "https://localhost:8080/"
        },
        "id": "XFyHEHcq8G7U",
        "outputId": "5b4832f8-dae6-4295-917b-dc6f4d1eb9b3"
      },
      "execution_count": 14,
      "outputs": [
        {
          "output_type": "execute_result",
          "data": {
            "text/plain": [
              "array([[0.49983333, 0.20013333, 0.99923343],\n",
              "       [0.1       , 0.3       , 0.7       ]])"
            ]
          },
          "metadata": {},
          "execution_count": 14
        }
      ]
    }
  ]
}