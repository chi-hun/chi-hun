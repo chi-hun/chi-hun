{
  "nbformat": 4,
  "nbformat_minor": 0,
  "metadata": {
    "colab": {
      "provenance": [],
      "authorship_tag": "ABX9TyOKnyTz1+B8OyY0ep+vrsQz",
      "include_colab_link": true
    },
    "kernelspec": {
      "name": "python3",
      "display_name": "Python 3"
    },
    "language_info": {
      "name": "python"
    }
  },
  "cells": [
    {
      "cell_type": "markdown",
      "metadata": {
        "id": "view-in-github",
        "colab_type": "text"
      },
      "source": [
        "<a href=\"https://colab.research.google.com/github/chi-hun/chi-hun/blob/main/oof.ipynb\" target=\"_parent\"><img src=\"https://colab.research.google.com/assets/colab-badge.svg\" alt=\"Open In Colab\"/></a>"
      ]
    },
    {
      "cell_type": "markdown",
      "source": [
        "**Out Of Fold**"
      ],
      "metadata": {
        "id": "xfIfT9TSQMZS"
      }
    },
    {
      "cell_type": "code",
      "source": [
        "import pandas as pd\n",
        "import numpy as np\n",
        "import gc\n",
        "from sklearn.model_selection import KFold, StratifiedKFold\n",
        "from sklearn.metrics import mean_squared_error, roc_auc_score\n",
        "from xgboost import XGBRegressor\n",
        "import tensorflow as tf\n",
        "from tensorflow.keras import layers"
      ],
      "metadata": {
        "id": "BPiTu7kZQfs0"
      },
      "execution_count": null,
      "outputs": []
    },
    {
      "cell_type": "markdown",
      "source": [
        "# XGB"
      ],
      "metadata": {
        "id": "0FdRP9mOGOLa"
      }
    },
    {
      "cell_type": "code",
      "execution_count": null,
      "metadata": {
        "id": "pSH5vNzzQKAN"
      },
      "outputs": [],
      "source": [
        "train = pd.read_csv('/content/sample_data/california_housing_train.csv',)\n",
        "test = pd.read_csv('/content/sample_data/california_housing_test.csv')\n",
        "x_train = train.copy()\n",
        "y_train = x_train.pop('median_house_value')\n",
        "x_test = test.copy()\n",
        "y_test = x_test.pop('median_house_value')"
      ]
    },
    {
      "cell_type": "code",
      "source": [
        "folds = 5 # 나눌 폴드수\n",
        "kfold = KFold(n_splits=folds, shuffle=True) # kfold 생성\n",
        "xgb = XGBRegressor()\n",
        "pre_all = 0 # 폴드별 예측값 합 저장 \n",
        "for fold ,(train_idx, val_idx) in enumerate(kfold.split(x_train, y_train)):\n",
        "    model = xgb.fit(x_train.iloc[train_idx], y_train.iloc[train_idx], eval_set=[(x_train.iloc[val_idx], y_train.iloc[val_idx])], eval_metric='rmse',verbose=100)# 폴드 훈련\n",
        "    pre_v = model.predict(x_train.iloc[val_idx]) # 폴드 검증 예측\n",
        "    rmse = mean_squared_error(y_train.iloc[val_idx], pre_v, squared=True) # 검증 평가\n",
        "    sc = model.score(x_train.iloc[val_idx], y_train.iloc[val_idx]) # 모델 평가\n",
        "    pre = model.predict(x_test) / folds # 테스트 자료의 예측값을 폴드수로 나누어 저장\n",
        "    pre_all += pre\n",
        "    del model # 모델 삭제\n",
        "    gc.collect()\n",
        "    print(f'======{fold+1} / {folds}======\\n sc : {sc}, rmse : {rmse}')\n"
      ],
      "metadata": {
        "colab": {
          "base_uri": "https://localhost:8080/"
        },
        "id": "tfO2oONPT3Pd",
        "outputId": "02bbc0b7-c2d5-4d24-c847-15855b90fbd0"
      },
      "execution_count": null,
      "outputs": [
        {
          "output_type": "stream",
          "name": "stdout",
          "text": [
            "[03:36:52] WARNING: /workspace/src/objective/regression_obj.cu:152: reg:linear is now deprecated in favor of reg:squarederror.\n",
            "[0]\tvalidation_0-rmse:220405\n",
            "[99]\tvalidation_0-rmse:54227.8\n",
            "======1 / 5======\n",
            " sc : 0.7865070620565007, rmse : 2940651836.1883554\n",
            "[03:36:53] WARNING: /workspace/src/objective/regression_obj.cu:152: reg:linear is now deprecated in favor of reg:squarederror.\n",
            "[0]\tvalidation_0-rmse:215534\n",
            "[99]\tvalidation_0-rmse:54306.2\n",
            "======2 / 5======\n",
            " sc : 0.7771336575191564, rmse : 2949163875.0810614\n",
            "[03:36:54] WARNING: /workspace/src/objective/regression_obj.cu:152: reg:linear is now deprecated in favor of reg:squarederror.\n",
            "[0]\tvalidation_0-rmse:216117\n",
            "[99]\tvalidation_0-rmse:54197.1\n",
            "======3 / 5======\n",
            " sc : 0.7809879240209472, rmse : 2937322138.489846\n",
            "[03:36:55] WARNING: /workspace/src/objective/regression_obj.cu:152: reg:linear is now deprecated in favor of reg:squarederror.\n",
            "[0]\tvalidation_0-rmse:213872\n",
            "[99]\tvalidation_0-rmse:55060.7\n",
            "======4 / 5======\n",
            " sc : 0.7707934073512362, rmse : 3031674176.1274943\n",
            "[03:36:56] WARNING: /workspace/src/objective/regression_obj.cu:152: reg:linear is now deprecated in favor of reg:squarederror.\n",
            "[0]\tvalidation_0-rmse:218014\n",
            "[99]\tvalidation_0-rmse:55990.4\n",
            "======5 / 5======\n",
            " sc : 0.769282330493155, rmse : 3134927744.779759\n"
          ]
        }
      ]
    },
    {
      "cell_type": "code",
      "source": [
        "rmse_oof = mean_squared_error(y_test, pre_all, squared=True)"
      ],
      "metadata": {
        "id": "tDwUdIyva2RH"
      },
      "execution_count": null,
      "outputs": []
    },
    {
      "cell_type": "code",
      "source": [
        "model = xgb.fit(x_train, y_train)\n",
        "pre = model.predict(x_test)\n",
        "rmse_one = mean_squared_error(y_test, pre, squared=True)"
      ],
      "metadata": {
        "colab": {
          "base_uri": "https://localhost:8080/"
        },
        "id": "XotOgr4IbATu",
        "outputId": "9a58abe8-526f-4ddf-b3df-d14961a12d12"
      },
      "execution_count": null,
      "outputs": [
        {
          "output_type": "stream",
          "name": "stdout",
          "text": [
            "[03:40:50] WARNING: /workspace/src/objective/regression_obj.cu:152: reg:linear is now deprecated in favor of reg:squarederror.\n"
          ]
        }
      ]
    },
    {
      "cell_type": "code",
      "source": [
        "print(f'one : {rmse_one}, oof : {rmse_oof}, 차이 = {rmse_one - rmse_oof}')"
      ],
      "metadata": {
        "colab": {
          "base_uri": "https://localhost:8080/"
        },
        "id": "WGeVUjVzbkax",
        "outputId": "1e06295a-7e85-498c-d272-af74d2dacdf5"
      },
      "execution_count": null,
      "outputs": [
        {
          "output_type": "stream",
          "name": "stdout",
          "text": [
            "one : 3095456066.206096, oof : 3088113156.788528, 차이 = 7342909.417568207\n"
          ]
        }
      ]
    },
    {
      "cell_type": "markdown",
      "source": [
        "# deep learnig"
      ],
      "metadata": {
        "id": "UVenciUFcoNp"
      }
    },
    {
      "cell_type": "code",
      "source": [
        "train = pd.read_csv('/content/sample_data/mnist_train_small.csv')\n",
        "test = pd.read_csv('/content/sample_data/mnist_test.csv')\n",
        "\n",
        "x_train = train.copy()\n",
        "y_train = x_train.pop('6').values\n",
        "x_train = x_train.values\n",
        "\n",
        "x_test = test.copy()\n",
        "y_test = x_test.pop('7').values\n",
        "x_test = x_test.values"
      ],
      "metadata": {
        "id": "AShb52W-hIb_"
      },
      "execution_count": null,
      "outputs": []
    },
    {
      "cell_type": "code",
      "source": [
        "def model_make():\n",
        "    inputs = layers.Input(shape=(28*28))\n",
        "    x = layers.Dense(1024, activation='relu')(inputs)\n",
        "    x = layers.Dense(512, activation='relu')(x)\n",
        "    outputs = layers.Dense(10, activation='softmax')(x)\n",
        "\n",
        "    model = tf.keras.Model(inputs, outputs)\n",
        "    return model"
      ],
      "metadata": {
        "id": "YRzj2y2Lmzax"
      },
      "execution_count": null,
      "outputs": []
    },
    {
      "cell_type": "code",
      "source": [
        "folds = 5\n",
        "skf = StratifiedKFold(n_splits=folds, shuffle=True) # 폴드 생성\n",
        "pre_all = np.zeros((x_test.shape[0], 10)) # 예측 결과 저장\n",
        "for fold, (train_idx, val_idx) in enumerate(skf.split(x_train, y_train)):\n",
        "    tf.keras.backend.clear_session() # 모델 삭제\n",
        "    gc.collect()\n",
        "\n",
        "    print(f'fold : {fold+1} / {folds}')\n",
        "    model = model_make() # 모델 생성\n",
        "    model.compile(optimizer='adam', loss=tf.keras.losses.SparseCategoricalCrossentropy(), metrics=['accuracy'])\n",
        "    his = model.fit(x_train[train_idx], y_train[train_idx], validation_data=(x_train[val_idx], y_train[val_idx]), epochs=5)\n",
        "    best_accuracy = np.array(his.history['val_accuracy']).max() # 최고정확도\n",
        "    pre = model.predict(x_test) # 테스트 데이터 예측\n",
        "    pre_all += pre / folds # 폴드수로 나눈 예측값 저장\n",
        "    print(f'best_accuracy : {best_accuracy}')"
      ],
      "metadata": {
        "colab": {
          "base_uri": "https://localhost:8080/"
        },
        "id": "iiHFpXKcocAP",
        "outputId": "d3ef5c77-6876-48a0-a651-521773057da5"
      },
      "execution_count": null,
      "outputs": [
        {
          "output_type": "stream",
          "name": "stdout",
          "text": [
            "fold : 1 / 5\n",
            "Epoch 1/5\n",
            "500/500 [==============================] - 9s 17ms/step - loss: 4.3608 - accuracy: 0.8677 - val_loss: 0.7069 - val_accuracy: 0.9003\n",
            "Epoch 2/5\n",
            "500/500 [==============================] - 9s 18ms/step - loss: 0.4113 - accuracy: 0.9346 - val_loss: 0.5021 - val_accuracy: 0.9280\n",
            "Epoch 3/5\n",
            "500/500 [==============================] - 9s 17ms/step - loss: 0.2723 - accuracy: 0.9499 - val_loss: 0.5050 - val_accuracy: 0.9300\n",
            "Epoch 4/5\n",
            "500/500 [==============================] - 9s 17ms/step - loss: 0.2486 - accuracy: 0.9507 - val_loss: 0.4478 - val_accuracy: 0.9340\n",
            "Epoch 5/5\n",
            "500/500 [==============================] - 9s 17ms/step - loss: 0.2198 - accuracy: 0.9579 - val_loss: 0.3399 - val_accuracy: 0.9417\n",
            "313/313 [==============================] - 2s 5ms/step\n",
            "best_accuracy : 0.9417499899864197\n",
            "fold : 2 / 5\n",
            "Epoch 1/5\n",
            "500/500 [==============================] - 10s 19ms/step - loss: 3.5825 - accuracy: 0.8612 - val_loss: 0.4969 - val_accuracy: 0.9018\n",
            "Epoch 2/5\n",
            "500/500 [==============================] - 9s 17ms/step - loss: 0.3354 - accuracy: 0.9324 - val_loss: 0.4790 - val_accuracy: 0.8978\n",
            "Epoch 3/5\n",
            "500/500 [==============================] - 9s 19ms/step - loss: 0.2255 - accuracy: 0.9491 - val_loss: 0.4134 - val_accuracy: 0.9185\n",
            "Epoch 4/5\n",
            "500/500 [==============================] - 9s 18ms/step - loss: 0.1827 - accuracy: 0.9557 - val_loss: 0.3888 - val_accuracy: 0.9262\n",
            "Epoch 5/5\n",
            "500/500 [==============================] - 9s 17ms/step - loss: 0.2004 - accuracy: 0.9549 - val_loss: 0.3032 - val_accuracy: 0.9323\n",
            "313/313 [==============================] - 2s 5ms/step\n",
            "best_accuracy : 0.9322500228881836\n",
            "fold : 3 / 5\n",
            "Epoch 1/5\n",
            "500/500 [==============================] - 10s 18ms/step - loss: 5.0263 - accuracy: 0.8691 - val_loss: 0.8640 - val_accuracy: 0.9018\n",
            "Epoch 2/5\n",
            "500/500 [==============================] - 9s 18ms/step - loss: 0.4183 - accuracy: 0.9342 - val_loss: 0.6433 - val_accuracy: 0.9162\n",
            "Epoch 3/5\n",
            "500/500 [==============================] - 9s 19ms/step - loss: 0.2496 - accuracy: 0.9525 - val_loss: 0.7556 - val_accuracy: 0.9045\n",
            "Epoch 4/5\n",
            "500/500 [==============================] - 9s 18ms/step - loss: 0.2204 - accuracy: 0.9557 - val_loss: 0.3938 - val_accuracy: 0.9348\n",
            "Epoch 5/5\n",
            "500/500 [==============================] - 8s 17ms/step - loss: 0.1582 - accuracy: 0.9669 - val_loss: 0.4366 - val_accuracy: 0.9325\n",
            "313/313 [==============================] - 2s 5ms/step\n",
            "best_accuracy : 0.9347500205039978\n",
            "fold : 4 / 5\n",
            "Epoch 1/5\n",
            "500/500 [==============================] - 10s 18ms/step - loss: 4.1925 - accuracy: 0.8684 - val_loss: 0.7845 - val_accuracy: 0.9028\n",
            "Epoch 2/5\n",
            "500/500 [==============================] - 9s 18ms/step - loss: 0.4126 - accuracy: 0.9314 - val_loss: 0.4660 - val_accuracy: 0.9283\n",
            "Epoch 3/5\n",
            "500/500 [==============================] - 9s 18ms/step - loss: 0.2559 - accuracy: 0.9508 - val_loss: 0.5255 - val_accuracy: 0.9240\n",
            "Epoch 4/5\n",
            "500/500 [==============================] - 10s 19ms/step - loss: 0.2505 - accuracy: 0.9519 - val_loss: 0.3182 - val_accuracy: 0.9420\n",
            "Epoch 5/5\n",
            "500/500 [==============================] - 9s 18ms/step - loss: 0.1729 - accuracy: 0.9633 - val_loss: 0.2880 - val_accuracy: 0.9380\n",
            "313/313 [==============================] - 2s 5ms/step\n",
            "best_accuracy : 0.9419999718666077\n",
            "fold : 5 / 5\n",
            "Epoch 1/5\n",
            "500/500 [==============================] - 8s 16ms/step - loss: 3.8601 - accuracy: 0.8693 - val_loss: 0.6864 - val_accuracy: 0.9017\n",
            "Epoch 2/5\n",
            "500/500 [==============================] - 8s 17ms/step - loss: 0.3715 - accuracy: 0.9357 - val_loss: 0.5186 - val_accuracy: 0.9165\n",
            "Epoch 3/5\n",
            "500/500 [==============================] - 8s 17ms/step - loss: 0.2712 - accuracy: 0.9467 - val_loss: 0.3112 - val_accuracy: 0.9427\n",
            "Epoch 4/5\n",
            "500/500 [==============================] - 9s 18ms/step - loss: 0.2078 - accuracy: 0.9559 - val_loss: 0.3716 - val_accuracy: 0.9367\n",
            "Epoch 5/5\n",
            "500/500 [==============================] - 9s 18ms/step - loss: 0.2041 - accuracy: 0.9550 - val_loss: 0.3613 - val_accuracy: 0.9457\n",
            "313/313 [==============================] - 2s 5ms/step\n",
            "best_accuracy : 0.9457364082336426\n"
          ]
        }
      ]
    },
    {
      "cell_type": "code",
      "source": [
        "pre_oof = np.argmax(pre_all, axis=1)\n",
        "tr = (y_test == pre_oof).sum()\n",
        "print(f'정확도 : {round(tr / len(pre_oof), 2)*100}%')"
      ],
      "metadata": {
        "colab": {
          "base_uri": "https://localhost:8080/"
        },
        "id": "_bWRgeal53TW",
        "outputId": "183c7a0c-725e-4433-8c4e-d4b4be2fd619"
      },
      "execution_count": null,
      "outputs": [
        {
          "output_type": "stream",
          "name": "stdout",
          "text": [
            "정확도 : 97.0%\n"
          ]
        }
      ]
    },
    {
      "cell_type": "code",
      "source": [
        "model = model_make()\n",
        "model.compile(optimizer='adam', loss=tf.keras.losses.SparseCategoricalCrossentropy(), metrics=['accuracy'])\n",
        "his = model.fit(x_train, y_train, validation_split=0.1, epochs=5)\n",
        "pre = model.predict(x_test)\n",
        "pre_one = np.argmax(pre, axis=1)\n",
        "tr = (y_test == pre_one).sum()\n",
        "print(f'정확도 : {round(tr / len(pre_oof), 2)*100}%')"
      ],
      "metadata": {
        "colab": {
          "base_uri": "https://localhost:8080/"
        },
        "id": "wqVTsni07zof",
        "outputId": "36c23090-94f4-4aef-fd5b-352eab4c043b"
      },
      "execution_count": null,
      "outputs": [
        {
          "output_type": "stream",
          "name": "stdout",
          "text": [
            "Epoch 1/5\n",
            "563/563 [==============================] - 11s 19ms/step - loss: 4.1753 - accuracy: 0.8697 - val_loss: 0.5973 - val_accuracy: 0.9080\n",
            "Epoch 2/5\n",
            "563/563 [==============================] - 11s 19ms/step - loss: 0.3615 - accuracy: 0.9348 - val_loss: 0.4644 - val_accuracy: 0.9235\n",
            "Epoch 3/5\n",
            "563/563 [==============================] - 10s 18ms/step - loss: 0.2428 - accuracy: 0.9502 - val_loss: 0.4203 - val_accuracy: 0.9300\n",
            "Epoch 4/5\n",
            "563/563 [==============================] - 9s 16ms/step - loss: 0.1689 - accuracy: 0.9614 - val_loss: 0.3635 - val_accuracy: 0.9310\n",
            "Epoch 5/5\n",
            "563/563 [==============================] - 10s 18ms/step - loss: 0.2354 - accuracy: 0.9518 - val_loss: 0.3240 - val_accuracy: 0.9395\n",
            "313/313 [==============================] - 2s 5ms/step\n",
            "정확도 : 94.0%\n"
          ]
        }
      ]
    }
  ]
}