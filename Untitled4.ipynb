{
  "nbformat": 4,
  "nbformat_minor": 0,
  "metadata": {
    "colab": {
      "name": "Untitled4.ipynb",
      "provenance": [],
      "collapsed_sections": [],
      "authorship_tag": "ABX9TyM7Lrchx+RGIsUJtOYwjERK",
      "include_colab_link": true
    },
    "kernelspec": {
      "name": "python3",
      "display_name": "Python 3"
    },
    "language_info": {
      "name": "python"
    },
    "widgets": {
      "application/vnd.jupyter.widget-state+json": {
        "b0d465cba2c2428ba80e8e371b4fbf81": {
          "model_module": "@jupyter-widgets/controls",
          "model_name": "HBoxModel",
          "model_module_version": "1.5.0",
          "state": {
            "_dom_classes": [],
            "_model_module": "@jupyter-widgets/controls",
            "_model_module_version": "1.5.0",
            "_model_name": "HBoxModel",
            "_view_count": null,
            "_view_module": "@jupyter-widgets/controls",
            "_view_module_version": "1.5.0",
            "_view_name": "HBoxView",
            "box_style": "",
            "children": [
              "IPY_MODEL_114b1765c73b45b19b6f7c9a6f641477",
              "IPY_MODEL_7d25e8e3ccdb4380b0b2d9229fed2f6e",
              "IPY_MODEL_aa85a47567db4df89e21b3b064ee16bd"
            ],
            "layout": "IPY_MODEL_f50412aae2da435d9e85aee19fb4295e"
          }
        },
        "114b1765c73b45b19b6f7c9a6f641477": {
          "model_module": "@jupyter-widgets/controls",
          "model_name": "HTMLModel",
          "model_module_version": "1.5.0",
          "state": {
            "_dom_classes": [],
            "_model_module": "@jupyter-widgets/controls",
            "_model_module_version": "1.5.0",
            "_model_name": "HTMLModel",
            "_view_count": null,
            "_view_module": "@jupyter-widgets/controls",
            "_view_module_version": "1.5.0",
            "_view_name": "HTMLView",
            "description": "",
            "description_tooltip": null,
            "layout": "IPY_MODEL_027706fab39a486382740942ee631c26",
            "placeholder": "​",
            "style": "IPY_MODEL_56cfdadc6e2a4d83b3d3e197cca3adf1",
            "value": "100%"
          }
        },
        "7d25e8e3ccdb4380b0b2d9229fed2f6e": {
          "model_module": "@jupyter-widgets/controls",
          "model_name": "FloatProgressModel",
          "model_module_version": "1.5.0",
          "state": {
            "_dom_classes": [],
            "_model_module": "@jupyter-widgets/controls",
            "_model_module_version": "1.5.0",
            "_model_name": "FloatProgressModel",
            "_view_count": null,
            "_view_module": "@jupyter-widgets/controls",
            "_view_module_version": "1.5.0",
            "_view_name": "ProgressView",
            "bar_style": "success",
            "description": "",
            "description_tooltip": null,
            "layout": "IPY_MODEL_456f261b4725439baee818fd78c84075",
            "max": 9912422,
            "min": 0,
            "orientation": "horizontal",
            "style": "IPY_MODEL_35edc54cd59f437ea585a1dbc14a8112",
            "value": 9912422
          }
        },
        "aa85a47567db4df89e21b3b064ee16bd": {
          "model_module": "@jupyter-widgets/controls",
          "model_name": "HTMLModel",
          "model_module_version": "1.5.0",
          "state": {
            "_dom_classes": [],
            "_model_module": "@jupyter-widgets/controls",
            "_model_module_version": "1.5.0",
            "_model_name": "HTMLModel",
            "_view_count": null,
            "_view_module": "@jupyter-widgets/controls",
            "_view_module_version": "1.5.0",
            "_view_name": "HTMLView",
            "description": "",
            "description_tooltip": null,
            "layout": "IPY_MODEL_5b0ed205c0c444cdaa16cb1ab822611a",
            "placeholder": "​",
            "style": "IPY_MODEL_4e5e0118dbb04ef4adef25914a95e3b4",
            "value": " 9912422/9912422 [00:01&lt;00:00, 15821598.14it/s]"
          }
        },
        "f50412aae2da435d9e85aee19fb4295e": {
          "model_module": "@jupyter-widgets/base",
          "model_name": "LayoutModel",
          "model_module_version": "1.2.0",
          "state": {
            "_model_module": "@jupyter-widgets/base",
            "_model_module_version": "1.2.0",
            "_model_name": "LayoutModel",
            "_view_count": null,
            "_view_module": "@jupyter-widgets/base",
            "_view_module_version": "1.2.0",
            "_view_name": "LayoutView",
            "align_content": null,
            "align_items": null,
            "align_self": null,
            "border": null,
            "bottom": null,
            "display": null,
            "flex": null,
            "flex_flow": null,
            "grid_area": null,
            "grid_auto_columns": null,
            "grid_auto_flow": null,
            "grid_auto_rows": null,
            "grid_column": null,
            "grid_gap": null,
            "grid_row": null,
            "grid_template_areas": null,
            "grid_template_columns": null,
            "grid_template_rows": null,
            "height": null,
            "justify_content": null,
            "justify_items": null,
            "left": null,
            "margin": null,
            "max_height": null,
            "max_width": null,
            "min_height": null,
            "min_width": null,
            "object_fit": null,
            "object_position": null,
            "order": null,
            "overflow": null,
            "overflow_x": null,
            "overflow_y": null,
            "padding": null,
            "right": null,
            "top": null,
            "visibility": null,
            "width": null
          }
        },
        "027706fab39a486382740942ee631c26": {
          "model_module": "@jupyter-widgets/base",
          "model_name": "LayoutModel",
          "model_module_version": "1.2.0",
          "state": {
            "_model_module": "@jupyter-widgets/base",
            "_model_module_version": "1.2.0",
            "_model_name": "LayoutModel",
            "_view_count": null,
            "_view_module": "@jupyter-widgets/base",
            "_view_module_version": "1.2.0",
            "_view_name": "LayoutView",
            "align_content": null,
            "align_items": null,
            "align_self": null,
            "border": null,
            "bottom": null,
            "display": null,
            "flex": null,
            "flex_flow": null,
            "grid_area": null,
            "grid_auto_columns": null,
            "grid_auto_flow": null,
            "grid_auto_rows": null,
            "grid_column": null,
            "grid_gap": null,
            "grid_row": null,
            "grid_template_areas": null,
            "grid_template_columns": null,
            "grid_template_rows": null,
            "height": null,
            "justify_content": null,
            "justify_items": null,
            "left": null,
            "margin": null,
            "max_height": null,
            "max_width": null,
            "min_height": null,
            "min_width": null,
            "object_fit": null,
            "object_position": null,
            "order": null,
            "overflow": null,
            "overflow_x": null,
            "overflow_y": null,
            "padding": null,
            "right": null,
            "top": null,
            "visibility": null,
            "width": null
          }
        },
        "56cfdadc6e2a4d83b3d3e197cca3adf1": {
          "model_module": "@jupyter-widgets/controls",
          "model_name": "DescriptionStyleModel",
          "model_module_version": "1.5.0",
          "state": {
            "_model_module": "@jupyter-widgets/controls",
            "_model_module_version": "1.5.0",
            "_model_name": "DescriptionStyleModel",
            "_view_count": null,
            "_view_module": "@jupyter-widgets/base",
            "_view_module_version": "1.2.0",
            "_view_name": "StyleView",
            "description_width": ""
          }
        },
        "456f261b4725439baee818fd78c84075": {
          "model_module": "@jupyter-widgets/base",
          "model_name": "LayoutModel",
          "model_module_version": "1.2.0",
          "state": {
            "_model_module": "@jupyter-widgets/base",
            "_model_module_version": "1.2.0",
            "_model_name": "LayoutModel",
            "_view_count": null,
            "_view_module": "@jupyter-widgets/base",
            "_view_module_version": "1.2.0",
            "_view_name": "LayoutView",
            "align_content": null,
            "align_items": null,
            "align_self": null,
            "border": null,
            "bottom": null,
            "display": null,
            "flex": null,
            "flex_flow": null,
            "grid_area": null,
            "grid_auto_columns": null,
            "grid_auto_flow": null,
            "grid_auto_rows": null,
            "grid_column": null,
            "grid_gap": null,
            "grid_row": null,
            "grid_template_areas": null,
            "grid_template_columns": null,
            "grid_template_rows": null,
            "height": null,
            "justify_content": null,
            "justify_items": null,
            "left": null,
            "margin": null,
            "max_height": null,
            "max_width": null,
            "min_height": null,
            "min_width": null,
            "object_fit": null,
            "object_position": null,
            "order": null,
            "overflow": null,
            "overflow_x": null,
            "overflow_y": null,
            "padding": null,
            "right": null,
            "top": null,
            "visibility": null,
            "width": null
          }
        },
        "35edc54cd59f437ea585a1dbc14a8112": {
          "model_module": "@jupyter-widgets/controls",
          "model_name": "ProgressStyleModel",
          "model_module_version": "1.5.0",
          "state": {
            "_model_module": "@jupyter-widgets/controls",
            "_model_module_version": "1.5.0",
            "_model_name": "ProgressStyleModel",
            "_view_count": null,
            "_view_module": "@jupyter-widgets/base",
            "_view_module_version": "1.2.0",
            "_view_name": "StyleView",
            "bar_color": null,
            "description_width": ""
          }
        },
        "5b0ed205c0c444cdaa16cb1ab822611a": {
          "model_module": "@jupyter-widgets/base",
          "model_name": "LayoutModel",
          "model_module_version": "1.2.0",
          "state": {
            "_model_module": "@jupyter-widgets/base",
            "_model_module_version": "1.2.0",
            "_model_name": "LayoutModel",
            "_view_count": null,
            "_view_module": "@jupyter-widgets/base",
            "_view_module_version": "1.2.0",
            "_view_name": "LayoutView",
            "align_content": null,
            "align_items": null,
            "align_self": null,
            "border": null,
            "bottom": null,
            "display": null,
            "flex": null,
            "flex_flow": null,
            "grid_area": null,
            "grid_auto_columns": null,
            "grid_auto_flow": null,
            "grid_auto_rows": null,
            "grid_column": null,
            "grid_gap": null,
            "grid_row": null,
            "grid_template_areas": null,
            "grid_template_columns": null,
            "grid_template_rows": null,
            "height": null,
            "justify_content": null,
            "justify_items": null,
            "left": null,
            "margin": null,
            "max_height": null,
            "max_width": null,
            "min_height": null,
            "min_width": null,
            "object_fit": null,
            "object_position": null,
            "order": null,
            "overflow": null,
            "overflow_x": null,
            "overflow_y": null,
            "padding": null,
            "right": null,
            "top": null,
            "visibility": null,
            "width": null
          }
        },
        "4e5e0118dbb04ef4adef25914a95e3b4": {
          "model_module": "@jupyter-widgets/controls",
          "model_name": "DescriptionStyleModel",
          "model_module_version": "1.5.0",
          "state": {
            "_model_module": "@jupyter-widgets/controls",
            "_model_module_version": "1.5.0",
            "_model_name": "DescriptionStyleModel",
            "_view_count": null,
            "_view_module": "@jupyter-widgets/base",
            "_view_module_version": "1.2.0",
            "_view_name": "StyleView",
            "description_width": ""
          }
        },
        "a9d81d0acceb433b84b0b1a46110ebe5": {
          "model_module": "@jupyter-widgets/controls",
          "model_name": "HBoxModel",
          "model_module_version": "1.5.0",
          "state": {
            "_dom_classes": [],
            "_model_module": "@jupyter-widgets/controls",
            "_model_module_version": "1.5.0",
            "_model_name": "HBoxModel",
            "_view_count": null,
            "_view_module": "@jupyter-widgets/controls",
            "_view_module_version": "1.5.0",
            "_view_name": "HBoxView",
            "box_style": "",
            "children": [
              "IPY_MODEL_449ccfabf1cf4eef97163a31a1dd8726",
              "IPY_MODEL_66272136aed641029ac594ef527a81c4",
              "IPY_MODEL_1ddee3459a2c46d290244c717d9e357a"
            ],
            "layout": "IPY_MODEL_ce27d6f339d6469495e5e892204a1d61"
          }
        },
        "449ccfabf1cf4eef97163a31a1dd8726": {
          "model_module": "@jupyter-widgets/controls",
          "model_name": "HTMLModel",
          "model_module_version": "1.5.0",
          "state": {
            "_dom_classes": [],
            "_model_module": "@jupyter-widgets/controls",
            "_model_module_version": "1.5.0",
            "_model_name": "HTMLModel",
            "_view_count": null,
            "_view_module": "@jupyter-widgets/controls",
            "_view_module_version": "1.5.0",
            "_view_name": "HTMLView",
            "description": "",
            "description_tooltip": null,
            "layout": "IPY_MODEL_6cd04a19272f46c4bef5a2daea116aee",
            "placeholder": "​",
            "style": "IPY_MODEL_96d5969186a2454191c8187a71197574",
            "value": "100%"
          }
        },
        "66272136aed641029ac594ef527a81c4": {
          "model_module": "@jupyter-widgets/controls",
          "model_name": "FloatProgressModel",
          "model_module_version": "1.5.0",
          "state": {
            "_dom_classes": [],
            "_model_module": "@jupyter-widgets/controls",
            "_model_module_version": "1.5.0",
            "_model_name": "FloatProgressModel",
            "_view_count": null,
            "_view_module": "@jupyter-widgets/controls",
            "_view_module_version": "1.5.0",
            "_view_name": "ProgressView",
            "bar_style": "success",
            "description": "",
            "description_tooltip": null,
            "layout": "IPY_MODEL_d4c8dd2eb58042da837795a811177594",
            "max": 28881,
            "min": 0,
            "orientation": "horizontal",
            "style": "IPY_MODEL_7c1390884d404ce7bbbf9e1774132e10",
            "value": 28881
          }
        },
        "1ddee3459a2c46d290244c717d9e357a": {
          "model_module": "@jupyter-widgets/controls",
          "model_name": "HTMLModel",
          "model_module_version": "1.5.0",
          "state": {
            "_dom_classes": [],
            "_model_module": "@jupyter-widgets/controls",
            "_model_module_version": "1.5.0",
            "_model_name": "HTMLModel",
            "_view_count": null,
            "_view_module": "@jupyter-widgets/controls",
            "_view_module_version": "1.5.0",
            "_view_name": "HTMLView",
            "description": "",
            "description_tooltip": null,
            "layout": "IPY_MODEL_7082c4e866b74cb0b5ac6962d2cea7c9",
            "placeholder": "​",
            "style": "IPY_MODEL_a3dfc639ae1141b5a6261529b5ed2bd1",
            "value": " 28881/28881 [00:00&lt;00:00, 514702.27it/s]"
          }
        },
        "ce27d6f339d6469495e5e892204a1d61": {
          "model_module": "@jupyter-widgets/base",
          "model_name": "LayoutModel",
          "model_module_version": "1.2.0",
          "state": {
            "_model_module": "@jupyter-widgets/base",
            "_model_module_version": "1.2.0",
            "_model_name": "LayoutModel",
            "_view_count": null,
            "_view_module": "@jupyter-widgets/base",
            "_view_module_version": "1.2.0",
            "_view_name": "LayoutView",
            "align_content": null,
            "align_items": null,
            "align_self": null,
            "border": null,
            "bottom": null,
            "display": null,
            "flex": null,
            "flex_flow": null,
            "grid_area": null,
            "grid_auto_columns": null,
            "grid_auto_flow": null,
            "grid_auto_rows": null,
            "grid_column": null,
            "grid_gap": null,
            "grid_row": null,
            "grid_template_areas": null,
            "grid_template_columns": null,
            "grid_template_rows": null,
            "height": null,
            "justify_content": null,
            "justify_items": null,
            "left": null,
            "margin": null,
            "max_height": null,
            "max_width": null,
            "min_height": null,
            "min_width": null,
            "object_fit": null,
            "object_position": null,
            "order": null,
            "overflow": null,
            "overflow_x": null,
            "overflow_y": null,
            "padding": null,
            "right": null,
            "top": null,
            "visibility": null,
            "width": null
          }
        },
        "6cd04a19272f46c4bef5a2daea116aee": {
          "model_module": "@jupyter-widgets/base",
          "model_name": "LayoutModel",
          "model_module_version": "1.2.0",
          "state": {
            "_model_module": "@jupyter-widgets/base",
            "_model_module_version": "1.2.0",
            "_model_name": "LayoutModel",
            "_view_count": null,
            "_view_module": "@jupyter-widgets/base",
            "_view_module_version": "1.2.0",
            "_view_name": "LayoutView",
            "align_content": null,
            "align_items": null,
            "align_self": null,
            "border": null,
            "bottom": null,
            "display": null,
            "flex": null,
            "flex_flow": null,
            "grid_area": null,
            "grid_auto_columns": null,
            "grid_auto_flow": null,
            "grid_auto_rows": null,
            "grid_column": null,
            "grid_gap": null,
            "grid_row": null,
            "grid_template_areas": null,
            "grid_template_columns": null,
            "grid_template_rows": null,
            "height": null,
            "justify_content": null,
            "justify_items": null,
            "left": null,
            "margin": null,
            "max_height": null,
            "max_width": null,
            "min_height": null,
            "min_width": null,
            "object_fit": null,
            "object_position": null,
            "order": null,
            "overflow": null,
            "overflow_x": null,
            "overflow_y": null,
            "padding": null,
            "right": null,
            "top": null,
            "visibility": null,
            "width": null
          }
        },
        "96d5969186a2454191c8187a71197574": {
          "model_module": "@jupyter-widgets/controls",
          "model_name": "DescriptionStyleModel",
          "model_module_version": "1.5.0",
          "state": {
            "_model_module": "@jupyter-widgets/controls",
            "_model_module_version": "1.5.0",
            "_model_name": "DescriptionStyleModel",
            "_view_count": null,
            "_view_module": "@jupyter-widgets/base",
            "_view_module_version": "1.2.0",
            "_view_name": "StyleView",
            "description_width": ""
          }
        },
        "d4c8dd2eb58042da837795a811177594": {
          "model_module": "@jupyter-widgets/base",
          "model_name": "LayoutModel",
          "model_module_version": "1.2.0",
          "state": {
            "_model_module": "@jupyter-widgets/base",
            "_model_module_version": "1.2.0",
            "_model_name": "LayoutModel",
            "_view_count": null,
            "_view_module": "@jupyter-widgets/base",
            "_view_module_version": "1.2.0",
            "_view_name": "LayoutView",
            "align_content": null,
            "align_items": null,
            "align_self": null,
            "border": null,
            "bottom": null,
            "display": null,
            "flex": null,
            "flex_flow": null,
            "grid_area": null,
            "grid_auto_columns": null,
            "grid_auto_flow": null,
            "grid_auto_rows": null,
            "grid_column": null,
            "grid_gap": null,
            "grid_row": null,
            "grid_template_areas": null,
            "grid_template_columns": null,
            "grid_template_rows": null,
            "height": null,
            "justify_content": null,
            "justify_items": null,
            "left": null,
            "margin": null,
            "max_height": null,
            "max_width": null,
            "min_height": null,
            "min_width": null,
            "object_fit": null,
            "object_position": null,
            "order": null,
            "overflow": null,
            "overflow_x": null,
            "overflow_y": null,
            "padding": null,
            "right": null,
            "top": null,
            "visibility": null,
            "width": null
          }
        },
        "7c1390884d404ce7bbbf9e1774132e10": {
          "model_module": "@jupyter-widgets/controls",
          "model_name": "ProgressStyleModel",
          "model_module_version": "1.5.0",
          "state": {
            "_model_module": "@jupyter-widgets/controls",
            "_model_module_version": "1.5.0",
            "_model_name": "ProgressStyleModel",
            "_view_count": null,
            "_view_module": "@jupyter-widgets/base",
            "_view_module_version": "1.2.0",
            "_view_name": "StyleView",
            "bar_color": null,
            "description_width": ""
          }
        },
        "7082c4e866b74cb0b5ac6962d2cea7c9": {
          "model_module": "@jupyter-widgets/base",
          "model_name": "LayoutModel",
          "model_module_version": "1.2.0",
          "state": {
            "_model_module": "@jupyter-widgets/base",
            "_model_module_version": "1.2.0",
            "_model_name": "LayoutModel",
            "_view_count": null,
            "_view_module": "@jupyter-widgets/base",
            "_view_module_version": "1.2.0",
            "_view_name": "LayoutView",
            "align_content": null,
            "align_items": null,
            "align_self": null,
            "border": null,
            "bottom": null,
            "display": null,
            "flex": null,
            "flex_flow": null,
            "grid_area": null,
            "grid_auto_columns": null,
            "grid_auto_flow": null,
            "grid_auto_rows": null,
            "grid_column": null,
            "grid_gap": null,
            "grid_row": null,
            "grid_template_areas": null,
            "grid_template_columns": null,
            "grid_template_rows": null,
            "height": null,
            "justify_content": null,
            "justify_items": null,
            "left": null,
            "margin": null,
            "max_height": null,
            "max_width": null,
            "min_height": null,
            "min_width": null,
            "object_fit": null,
            "object_position": null,
            "order": null,
            "overflow": null,
            "overflow_x": null,
            "overflow_y": null,
            "padding": null,
            "right": null,
            "top": null,
            "visibility": null,
            "width": null
          }
        },
        "a3dfc639ae1141b5a6261529b5ed2bd1": {
          "model_module": "@jupyter-widgets/controls",
          "model_name": "DescriptionStyleModel",
          "model_module_version": "1.5.0",
          "state": {
            "_model_module": "@jupyter-widgets/controls",
            "_model_module_version": "1.5.0",
            "_model_name": "DescriptionStyleModel",
            "_view_count": null,
            "_view_module": "@jupyter-widgets/base",
            "_view_module_version": "1.2.0",
            "_view_name": "StyleView",
            "description_width": ""
          }
        },
        "07fa1733325144b6a10eb37ece3b1aca": {
          "model_module": "@jupyter-widgets/controls",
          "model_name": "HBoxModel",
          "model_module_version": "1.5.0",
          "state": {
            "_dom_classes": [],
            "_model_module": "@jupyter-widgets/controls",
            "_model_module_version": "1.5.0",
            "_model_name": "HBoxModel",
            "_view_count": null,
            "_view_module": "@jupyter-widgets/controls",
            "_view_module_version": "1.5.0",
            "_view_name": "HBoxView",
            "box_style": "",
            "children": [
              "IPY_MODEL_94a3ee0dea344581ac93547dc8d78c72",
              "IPY_MODEL_f27ed307a4374171803df04547aa892d",
              "IPY_MODEL_1fddc5b103db49349abca7b299f4c6d2"
            ],
            "layout": "IPY_MODEL_0a7eaea2c5a54288a72aaa6cf6f20252"
          }
        },
        "94a3ee0dea344581ac93547dc8d78c72": {
          "model_module": "@jupyter-widgets/controls",
          "model_name": "HTMLModel",
          "model_module_version": "1.5.0",
          "state": {
            "_dom_classes": [],
            "_model_module": "@jupyter-widgets/controls",
            "_model_module_version": "1.5.0",
            "_model_name": "HTMLModel",
            "_view_count": null,
            "_view_module": "@jupyter-widgets/controls",
            "_view_module_version": "1.5.0",
            "_view_name": "HTMLView",
            "description": "",
            "description_tooltip": null,
            "layout": "IPY_MODEL_87f8be1586be4385a6a4cddc78aab43d",
            "placeholder": "​",
            "style": "IPY_MODEL_38798444a2a048de8d53c7611dd10827",
            "value": "100%"
          }
        },
        "f27ed307a4374171803df04547aa892d": {
          "model_module": "@jupyter-widgets/controls",
          "model_name": "FloatProgressModel",
          "model_module_version": "1.5.0",
          "state": {
            "_dom_classes": [],
            "_model_module": "@jupyter-widgets/controls",
            "_model_module_version": "1.5.0",
            "_model_name": "FloatProgressModel",
            "_view_count": null,
            "_view_module": "@jupyter-widgets/controls",
            "_view_module_version": "1.5.0",
            "_view_name": "ProgressView",
            "bar_style": "success",
            "description": "",
            "description_tooltip": null,
            "layout": "IPY_MODEL_37fd3a4409cd44b3be8b2412bb25b3eb",
            "max": 1648877,
            "min": 0,
            "orientation": "horizontal",
            "style": "IPY_MODEL_87441a2d266a406da04130609cfdd572",
            "value": 1648877
          }
        },
        "1fddc5b103db49349abca7b299f4c6d2": {
          "model_module": "@jupyter-widgets/controls",
          "model_name": "HTMLModel",
          "model_module_version": "1.5.0",
          "state": {
            "_dom_classes": [],
            "_model_module": "@jupyter-widgets/controls",
            "_model_module_version": "1.5.0",
            "_model_name": "HTMLModel",
            "_view_count": null,
            "_view_module": "@jupyter-widgets/controls",
            "_view_module_version": "1.5.0",
            "_view_name": "HTMLView",
            "description": "",
            "description_tooltip": null,
            "layout": "IPY_MODEL_0a11e9638d6e414386f3abbe77f4c1ce",
            "placeholder": "​",
            "style": "IPY_MODEL_078f97d9595841ca9e21f8bba2e2ed38",
            "value": " 1648877/1648877 [00:00&lt;00:00, 2936918.04it/s]"
          }
        },
        "0a7eaea2c5a54288a72aaa6cf6f20252": {
          "model_module": "@jupyter-widgets/base",
          "model_name": "LayoutModel",
          "model_module_version": "1.2.0",
          "state": {
            "_model_module": "@jupyter-widgets/base",
            "_model_module_version": "1.2.0",
            "_model_name": "LayoutModel",
            "_view_count": null,
            "_view_module": "@jupyter-widgets/base",
            "_view_module_version": "1.2.0",
            "_view_name": "LayoutView",
            "align_content": null,
            "align_items": null,
            "align_self": null,
            "border": null,
            "bottom": null,
            "display": null,
            "flex": null,
            "flex_flow": null,
            "grid_area": null,
            "grid_auto_columns": null,
            "grid_auto_flow": null,
            "grid_auto_rows": null,
            "grid_column": null,
            "grid_gap": null,
            "grid_row": null,
            "grid_template_areas": null,
            "grid_template_columns": null,
            "grid_template_rows": null,
            "height": null,
            "justify_content": null,
            "justify_items": null,
            "left": null,
            "margin": null,
            "max_height": null,
            "max_width": null,
            "min_height": null,
            "min_width": null,
            "object_fit": null,
            "object_position": null,
            "order": null,
            "overflow": null,
            "overflow_x": null,
            "overflow_y": null,
            "padding": null,
            "right": null,
            "top": null,
            "visibility": null,
            "width": null
          }
        },
        "87f8be1586be4385a6a4cddc78aab43d": {
          "model_module": "@jupyter-widgets/base",
          "model_name": "LayoutModel",
          "model_module_version": "1.2.0",
          "state": {
            "_model_module": "@jupyter-widgets/base",
            "_model_module_version": "1.2.0",
            "_model_name": "LayoutModel",
            "_view_count": null,
            "_view_module": "@jupyter-widgets/base",
            "_view_module_version": "1.2.0",
            "_view_name": "LayoutView",
            "align_content": null,
            "align_items": null,
            "align_self": null,
            "border": null,
            "bottom": null,
            "display": null,
            "flex": null,
            "flex_flow": null,
            "grid_area": null,
            "grid_auto_columns": null,
            "grid_auto_flow": null,
            "grid_auto_rows": null,
            "grid_column": null,
            "grid_gap": null,
            "grid_row": null,
            "grid_template_areas": null,
            "grid_template_columns": null,
            "grid_template_rows": null,
            "height": null,
            "justify_content": null,
            "justify_items": null,
            "left": null,
            "margin": null,
            "max_height": null,
            "max_width": null,
            "min_height": null,
            "min_width": null,
            "object_fit": null,
            "object_position": null,
            "order": null,
            "overflow": null,
            "overflow_x": null,
            "overflow_y": null,
            "padding": null,
            "right": null,
            "top": null,
            "visibility": null,
            "width": null
          }
        },
        "38798444a2a048de8d53c7611dd10827": {
          "model_module": "@jupyter-widgets/controls",
          "model_name": "DescriptionStyleModel",
          "model_module_version": "1.5.0",
          "state": {
            "_model_module": "@jupyter-widgets/controls",
            "_model_module_version": "1.5.0",
            "_model_name": "DescriptionStyleModel",
            "_view_count": null,
            "_view_module": "@jupyter-widgets/base",
            "_view_module_version": "1.2.0",
            "_view_name": "StyleView",
            "description_width": ""
          }
        },
        "37fd3a4409cd44b3be8b2412bb25b3eb": {
          "model_module": "@jupyter-widgets/base",
          "model_name": "LayoutModel",
          "model_module_version": "1.2.0",
          "state": {
            "_model_module": "@jupyter-widgets/base",
            "_model_module_version": "1.2.0",
            "_model_name": "LayoutModel",
            "_view_count": null,
            "_view_module": "@jupyter-widgets/base",
            "_view_module_version": "1.2.0",
            "_view_name": "LayoutView",
            "align_content": null,
            "align_items": null,
            "align_self": null,
            "border": null,
            "bottom": null,
            "display": null,
            "flex": null,
            "flex_flow": null,
            "grid_area": null,
            "grid_auto_columns": null,
            "grid_auto_flow": null,
            "grid_auto_rows": null,
            "grid_column": null,
            "grid_gap": null,
            "grid_row": null,
            "grid_template_areas": null,
            "grid_template_columns": null,
            "grid_template_rows": null,
            "height": null,
            "justify_content": null,
            "justify_items": null,
            "left": null,
            "margin": null,
            "max_height": null,
            "max_width": null,
            "min_height": null,
            "min_width": null,
            "object_fit": null,
            "object_position": null,
            "order": null,
            "overflow": null,
            "overflow_x": null,
            "overflow_y": null,
            "padding": null,
            "right": null,
            "top": null,
            "visibility": null,
            "width": null
          }
        },
        "87441a2d266a406da04130609cfdd572": {
          "model_module": "@jupyter-widgets/controls",
          "model_name": "ProgressStyleModel",
          "model_module_version": "1.5.0",
          "state": {
            "_model_module": "@jupyter-widgets/controls",
            "_model_module_version": "1.5.0",
            "_model_name": "ProgressStyleModel",
            "_view_count": null,
            "_view_module": "@jupyter-widgets/base",
            "_view_module_version": "1.2.0",
            "_view_name": "StyleView",
            "bar_color": null,
            "description_width": ""
          }
        },
        "0a11e9638d6e414386f3abbe77f4c1ce": {
          "model_module": "@jupyter-widgets/base",
          "model_name": "LayoutModel",
          "model_module_version": "1.2.0",
          "state": {
            "_model_module": "@jupyter-widgets/base",
            "_model_module_version": "1.2.0",
            "_model_name": "LayoutModel",
            "_view_count": null,
            "_view_module": "@jupyter-widgets/base",
            "_view_module_version": "1.2.0",
            "_view_name": "LayoutView",
            "align_content": null,
            "align_items": null,
            "align_self": null,
            "border": null,
            "bottom": null,
            "display": null,
            "flex": null,
            "flex_flow": null,
            "grid_area": null,
            "grid_auto_columns": null,
            "grid_auto_flow": null,
            "grid_auto_rows": null,
            "grid_column": null,
            "grid_gap": null,
            "grid_row": null,
            "grid_template_areas": null,
            "grid_template_columns": null,
            "grid_template_rows": null,
            "height": null,
            "justify_content": null,
            "justify_items": null,
            "left": null,
            "margin": null,
            "max_height": null,
            "max_width": null,
            "min_height": null,
            "min_width": null,
            "object_fit": null,
            "object_position": null,
            "order": null,
            "overflow": null,
            "overflow_x": null,
            "overflow_y": null,
            "padding": null,
            "right": null,
            "top": null,
            "visibility": null,
            "width": null
          }
        },
        "078f97d9595841ca9e21f8bba2e2ed38": {
          "model_module": "@jupyter-widgets/controls",
          "model_name": "DescriptionStyleModel",
          "model_module_version": "1.5.0",
          "state": {
            "_model_module": "@jupyter-widgets/controls",
            "_model_module_version": "1.5.0",
            "_model_name": "DescriptionStyleModel",
            "_view_count": null,
            "_view_module": "@jupyter-widgets/base",
            "_view_module_version": "1.2.0",
            "_view_name": "StyleView",
            "description_width": ""
          }
        },
        "0c2d0edb19c94c2da39c4bfdceb503b8": {
          "model_module": "@jupyter-widgets/controls",
          "model_name": "HBoxModel",
          "model_module_version": "1.5.0",
          "state": {
            "_dom_classes": [],
            "_model_module": "@jupyter-widgets/controls",
            "_model_module_version": "1.5.0",
            "_model_name": "HBoxModel",
            "_view_count": null,
            "_view_module": "@jupyter-widgets/controls",
            "_view_module_version": "1.5.0",
            "_view_name": "HBoxView",
            "box_style": "",
            "children": [
              "IPY_MODEL_e5aa1a2408f245e99adc797779c18666",
              "IPY_MODEL_118cd491d83f44b38e2b88f154dc6cbd",
              "IPY_MODEL_718503f665944939b4e857189d750e74"
            ],
            "layout": "IPY_MODEL_f5fda6617d50492ebfcdb97e99c52d37"
          }
        },
        "e5aa1a2408f245e99adc797779c18666": {
          "model_module": "@jupyter-widgets/controls",
          "model_name": "HTMLModel",
          "model_module_version": "1.5.0",
          "state": {
            "_dom_classes": [],
            "_model_module": "@jupyter-widgets/controls",
            "_model_module_version": "1.5.0",
            "_model_name": "HTMLModel",
            "_view_count": null,
            "_view_module": "@jupyter-widgets/controls",
            "_view_module_version": "1.5.0",
            "_view_name": "HTMLView",
            "description": "",
            "description_tooltip": null,
            "layout": "IPY_MODEL_45a2029f9d5d42dc9b2d5f341d110d66",
            "placeholder": "​",
            "style": "IPY_MODEL_f77c5ddc3d6a4bbd81512ebf318ffbb7",
            "value": "100%"
          }
        },
        "118cd491d83f44b38e2b88f154dc6cbd": {
          "model_module": "@jupyter-widgets/controls",
          "model_name": "FloatProgressModel",
          "model_module_version": "1.5.0",
          "state": {
            "_dom_classes": [],
            "_model_module": "@jupyter-widgets/controls",
            "_model_module_version": "1.5.0",
            "_model_name": "FloatProgressModel",
            "_view_count": null,
            "_view_module": "@jupyter-widgets/controls",
            "_view_module_version": "1.5.0",
            "_view_name": "ProgressView",
            "bar_style": "success",
            "description": "",
            "description_tooltip": null,
            "layout": "IPY_MODEL_53ef4fe77c7f4fcebae4ac7692258776",
            "max": 4542,
            "min": 0,
            "orientation": "horizontal",
            "style": "IPY_MODEL_3d633dda15a04795923ff8b68ebb170b",
            "value": 4542
          }
        },
        "718503f665944939b4e857189d750e74": {
          "model_module": "@jupyter-widgets/controls",
          "model_name": "HTMLModel",
          "model_module_version": "1.5.0",
          "state": {
            "_dom_classes": [],
            "_model_module": "@jupyter-widgets/controls",
            "_model_module_version": "1.5.0",
            "_model_name": "HTMLModel",
            "_view_count": null,
            "_view_module": "@jupyter-widgets/controls",
            "_view_module_version": "1.5.0",
            "_view_name": "HTMLView",
            "description": "",
            "description_tooltip": null,
            "layout": "IPY_MODEL_ec26c92fe72645298ac7b25ab97d232f",
            "placeholder": "​",
            "style": "IPY_MODEL_52895036831e460aaef13d9052057f3a",
            "value": " 4542/4542 [00:00&lt;00:00, 108229.96it/s]"
          }
        },
        "f5fda6617d50492ebfcdb97e99c52d37": {
          "model_module": "@jupyter-widgets/base",
          "model_name": "LayoutModel",
          "model_module_version": "1.2.0",
          "state": {
            "_model_module": "@jupyter-widgets/base",
            "_model_module_version": "1.2.0",
            "_model_name": "LayoutModel",
            "_view_count": null,
            "_view_module": "@jupyter-widgets/base",
            "_view_module_version": "1.2.0",
            "_view_name": "LayoutView",
            "align_content": null,
            "align_items": null,
            "align_self": null,
            "border": null,
            "bottom": null,
            "display": null,
            "flex": null,
            "flex_flow": null,
            "grid_area": null,
            "grid_auto_columns": null,
            "grid_auto_flow": null,
            "grid_auto_rows": null,
            "grid_column": null,
            "grid_gap": null,
            "grid_row": null,
            "grid_template_areas": null,
            "grid_template_columns": null,
            "grid_template_rows": null,
            "height": null,
            "justify_content": null,
            "justify_items": null,
            "left": null,
            "margin": null,
            "max_height": null,
            "max_width": null,
            "min_height": null,
            "min_width": null,
            "object_fit": null,
            "object_position": null,
            "order": null,
            "overflow": null,
            "overflow_x": null,
            "overflow_y": null,
            "padding": null,
            "right": null,
            "top": null,
            "visibility": null,
            "width": null
          }
        },
        "45a2029f9d5d42dc9b2d5f341d110d66": {
          "model_module": "@jupyter-widgets/base",
          "model_name": "LayoutModel",
          "model_module_version": "1.2.0",
          "state": {
            "_model_module": "@jupyter-widgets/base",
            "_model_module_version": "1.2.0",
            "_model_name": "LayoutModel",
            "_view_count": null,
            "_view_module": "@jupyter-widgets/base",
            "_view_module_version": "1.2.0",
            "_view_name": "LayoutView",
            "align_content": null,
            "align_items": null,
            "align_self": null,
            "border": null,
            "bottom": null,
            "display": null,
            "flex": null,
            "flex_flow": null,
            "grid_area": null,
            "grid_auto_columns": null,
            "grid_auto_flow": null,
            "grid_auto_rows": null,
            "grid_column": null,
            "grid_gap": null,
            "grid_row": null,
            "grid_template_areas": null,
            "grid_template_columns": null,
            "grid_template_rows": null,
            "height": null,
            "justify_content": null,
            "justify_items": null,
            "left": null,
            "margin": null,
            "max_height": null,
            "max_width": null,
            "min_height": null,
            "min_width": null,
            "object_fit": null,
            "object_position": null,
            "order": null,
            "overflow": null,
            "overflow_x": null,
            "overflow_y": null,
            "padding": null,
            "right": null,
            "top": null,
            "visibility": null,
            "width": null
          }
        },
        "f77c5ddc3d6a4bbd81512ebf318ffbb7": {
          "model_module": "@jupyter-widgets/controls",
          "model_name": "DescriptionStyleModel",
          "model_module_version": "1.5.0",
          "state": {
            "_model_module": "@jupyter-widgets/controls",
            "_model_module_version": "1.5.0",
            "_model_name": "DescriptionStyleModel",
            "_view_count": null,
            "_view_module": "@jupyter-widgets/base",
            "_view_module_version": "1.2.0",
            "_view_name": "StyleView",
            "description_width": ""
          }
        },
        "53ef4fe77c7f4fcebae4ac7692258776": {
          "model_module": "@jupyter-widgets/base",
          "model_name": "LayoutModel",
          "model_module_version": "1.2.0",
          "state": {
            "_model_module": "@jupyter-widgets/base",
            "_model_module_version": "1.2.0",
            "_model_name": "LayoutModel",
            "_view_count": null,
            "_view_module": "@jupyter-widgets/base",
            "_view_module_version": "1.2.0",
            "_view_name": "LayoutView",
            "align_content": null,
            "align_items": null,
            "align_self": null,
            "border": null,
            "bottom": null,
            "display": null,
            "flex": null,
            "flex_flow": null,
            "grid_area": null,
            "grid_auto_columns": null,
            "grid_auto_flow": null,
            "grid_auto_rows": null,
            "grid_column": null,
            "grid_gap": null,
            "grid_row": null,
            "grid_template_areas": null,
            "grid_template_columns": null,
            "grid_template_rows": null,
            "height": null,
            "justify_content": null,
            "justify_items": null,
            "left": null,
            "margin": null,
            "max_height": null,
            "max_width": null,
            "min_height": null,
            "min_width": null,
            "object_fit": null,
            "object_position": null,
            "order": null,
            "overflow": null,
            "overflow_x": null,
            "overflow_y": null,
            "padding": null,
            "right": null,
            "top": null,
            "visibility": null,
            "width": null
          }
        },
        "3d633dda15a04795923ff8b68ebb170b": {
          "model_module": "@jupyter-widgets/controls",
          "model_name": "ProgressStyleModel",
          "model_module_version": "1.5.0",
          "state": {
            "_model_module": "@jupyter-widgets/controls",
            "_model_module_version": "1.5.0",
            "_model_name": "ProgressStyleModel",
            "_view_count": null,
            "_view_module": "@jupyter-widgets/base",
            "_view_module_version": "1.2.0",
            "_view_name": "StyleView",
            "bar_color": null,
            "description_width": ""
          }
        },
        "ec26c92fe72645298ac7b25ab97d232f": {
          "model_module": "@jupyter-widgets/base",
          "model_name": "LayoutModel",
          "model_module_version": "1.2.0",
          "state": {
            "_model_module": "@jupyter-widgets/base",
            "_model_module_version": "1.2.0",
            "_model_name": "LayoutModel",
            "_view_count": null,
            "_view_module": "@jupyter-widgets/base",
            "_view_module_version": "1.2.0",
            "_view_name": "LayoutView",
            "align_content": null,
            "align_items": null,
            "align_self": null,
            "border": null,
            "bottom": null,
            "display": null,
            "flex": null,
            "flex_flow": null,
            "grid_area": null,
            "grid_auto_columns": null,
            "grid_auto_flow": null,
            "grid_auto_rows": null,
            "grid_column": null,
            "grid_gap": null,
            "grid_row": null,
            "grid_template_areas": null,
            "grid_template_columns": null,
            "grid_template_rows": null,
            "height": null,
            "justify_content": null,
            "justify_items": null,
            "left": null,
            "margin": null,
            "max_height": null,
            "max_width": null,
            "min_height": null,
            "min_width": null,
            "object_fit": null,
            "object_position": null,
            "order": null,
            "overflow": null,
            "overflow_x": null,
            "overflow_y": null,
            "padding": null,
            "right": null,
            "top": null,
            "visibility": null,
            "width": null
          }
        },
        "52895036831e460aaef13d9052057f3a": {
          "model_module": "@jupyter-widgets/controls",
          "model_name": "DescriptionStyleModel",
          "model_module_version": "1.5.0",
          "state": {
            "_model_module": "@jupyter-widgets/controls",
            "_model_module_version": "1.5.0",
            "_model_name": "DescriptionStyleModel",
            "_view_count": null,
            "_view_module": "@jupyter-widgets/base",
            "_view_module_version": "1.2.0",
            "_view_name": "StyleView",
            "description_width": ""
          }
        },
        "58b67dacb05f46ce858f162d03d26ae5": {
          "model_module": "@jupyter-widgets/controls",
          "model_name": "HBoxModel",
          "model_module_version": "1.5.0",
          "state": {
            "_dom_classes": [],
            "_model_module": "@jupyter-widgets/controls",
            "_model_module_version": "1.5.0",
            "_model_name": "HBoxModel",
            "_view_count": null,
            "_view_module": "@jupyter-widgets/controls",
            "_view_module_version": "1.5.0",
            "_view_name": "HBoxView",
            "box_style": "",
            "children": [
              "IPY_MODEL_c2cf692c3bd04ba588dfc0891a1a612c",
              "IPY_MODEL_c9ed7a495b614b4cbce28f465b2ec364",
              "IPY_MODEL_782ff5b15ab3435ca83d3f1f5d4d1336"
            ],
            "layout": "IPY_MODEL_26a356b98fba407dbfc0f7fb2117d6d4"
          }
        },
        "c2cf692c3bd04ba588dfc0891a1a612c": {
          "model_module": "@jupyter-widgets/controls",
          "model_name": "HTMLModel",
          "model_module_version": "1.5.0",
          "state": {
            "_dom_classes": [],
            "_model_module": "@jupyter-widgets/controls",
            "_model_module_version": "1.5.0",
            "_model_name": "HTMLModel",
            "_view_count": null,
            "_view_module": "@jupyter-widgets/controls",
            "_view_module_version": "1.5.0",
            "_view_name": "HTMLView",
            "description": "",
            "description_tooltip": null,
            "layout": "IPY_MODEL_2934e2bd6c3a4f46a81204038299f760",
            "placeholder": "​",
            "style": "IPY_MODEL_7cd7b6ec231347599e5ca4e91a52bfe0",
            "value": "100%"
          }
        },
        "c9ed7a495b614b4cbce28f465b2ec364": {
          "model_module": "@jupyter-widgets/controls",
          "model_name": "FloatProgressModel",
          "model_module_version": "1.5.0",
          "state": {
            "_dom_classes": [],
            "_model_module": "@jupyter-widgets/controls",
            "_model_module_version": "1.5.0",
            "_model_name": "FloatProgressModel",
            "_view_count": null,
            "_view_module": "@jupyter-widgets/controls",
            "_view_module_version": "1.5.0",
            "_view_name": "ProgressView",
            "bar_style": "success",
            "description": "",
            "description_tooltip": null,
            "layout": "IPY_MODEL_3da02a060e604e0bbabd0fd0f1ca7f4d",
            "max": 102530333,
            "min": 0,
            "orientation": "horizontal",
            "style": "IPY_MODEL_0bc57f24f910462f833d4ffc7a591134",
            "value": 102530333
          }
        },
        "782ff5b15ab3435ca83d3f1f5d4d1336": {
          "model_module": "@jupyter-widgets/controls",
          "model_name": "HTMLModel",
          "model_module_version": "1.5.0",
          "state": {
            "_dom_classes": [],
            "_model_module": "@jupyter-widgets/controls",
            "_model_module_version": "1.5.0",
            "_model_name": "HTMLModel",
            "_view_count": null,
            "_view_module": "@jupyter-widgets/controls",
            "_view_module_version": "1.5.0",
            "_view_name": "HTMLView",
            "description": "",
            "description_tooltip": null,
            "layout": "IPY_MODEL_5d8bfda8670a4c1a8b8919e3bfee3f04",
            "placeholder": "​",
            "style": "IPY_MODEL_a4e212c61a55428da3180cb724762a44",
            "value": " 97.8M/97.8M [00:01&lt;00:00, 90.7MB/s]"
          }
        },
        "26a356b98fba407dbfc0f7fb2117d6d4": {
          "model_module": "@jupyter-widgets/base",
          "model_name": "LayoutModel",
          "model_module_version": "1.2.0",
          "state": {
            "_model_module": "@jupyter-widgets/base",
            "_model_module_version": "1.2.0",
            "_model_name": "LayoutModel",
            "_view_count": null,
            "_view_module": "@jupyter-widgets/base",
            "_view_module_version": "1.2.0",
            "_view_name": "LayoutView",
            "align_content": null,
            "align_items": null,
            "align_self": null,
            "border": null,
            "bottom": null,
            "display": null,
            "flex": null,
            "flex_flow": null,
            "grid_area": null,
            "grid_auto_columns": null,
            "grid_auto_flow": null,
            "grid_auto_rows": null,
            "grid_column": null,
            "grid_gap": null,
            "grid_row": null,
            "grid_template_areas": null,
            "grid_template_columns": null,
            "grid_template_rows": null,
            "height": null,
            "justify_content": null,
            "justify_items": null,
            "left": null,
            "margin": null,
            "max_height": null,
            "max_width": null,
            "min_height": null,
            "min_width": null,
            "object_fit": null,
            "object_position": null,
            "order": null,
            "overflow": null,
            "overflow_x": null,
            "overflow_y": null,
            "padding": null,
            "right": null,
            "top": null,
            "visibility": null,
            "width": null
          }
        },
        "2934e2bd6c3a4f46a81204038299f760": {
          "model_module": "@jupyter-widgets/base",
          "model_name": "LayoutModel",
          "model_module_version": "1.2.0",
          "state": {
            "_model_module": "@jupyter-widgets/base",
            "_model_module_version": "1.2.0",
            "_model_name": "LayoutModel",
            "_view_count": null,
            "_view_module": "@jupyter-widgets/base",
            "_view_module_version": "1.2.0",
            "_view_name": "LayoutView",
            "align_content": null,
            "align_items": null,
            "align_self": null,
            "border": null,
            "bottom": null,
            "display": null,
            "flex": null,
            "flex_flow": null,
            "grid_area": null,
            "grid_auto_columns": null,
            "grid_auto_flow": null,
            "grid_auto_rows": null,
            "grid_column": null,
            "grid_gap": null,
            "grid_row": null,
            "grid_template_areas": null,
            "grid_template_columns": null,
            "grid_template_rows": null,
            "height": null,
            "justify_content": null,
            "justify_items": null,
            "left": null,
            "margin": null,
            "max_height": null,
            "max_width": null,
            "min_height": null,
            "min_width": null,
            "object_fit": null,
            "object_position": null,
            "order": null,
            "overflow": null,
            "overflow_x": null,
            "overflow_y": null,
            "padding": null,
            "right": null,
            "top": null,
            "visibility": null,
            "width": null
          }
        },
        "7cd7b6ec231347599e5ca4e91a52bfe0": {
          "model_module": "@jupyter-widgets/controls",
          "model_name": "DescriptionStyleModel",
          "model_module_version": "1.5.0",
          "state": {
            "_model_module": "@jupyter-widgets/controls",
            "_model_module_version": "1.5.0",
            "_model_name": "DescriptionStyleModel",
            "_view_count": null,
            "_view_module": "@jupyter-widgets/base",
            "_view_module_version": "1.2.0",
            "_view_name": "StyleView",
            "description_width": ""
          }
        },
        "3da02a060e604e0bbabd0fd0f1ca7f4d": {
          "model_module": "@jupyter-widgets/base",
          "model_name": "LayoutModel",
          "model_module_version": "1.2.0",
          "state": {
            "_model_module": "@jupyter-widgets/base",
            "_model_module_version": "1.2.0",
            "_model_name": "LayoutModel",
            "_view_count": null,
            "_view_module": "@jupyter-widgets/base",
            "_view_module_version": "1.2.0",
            "_view_name": "LayoutView",
            "align_content": null,
            "align_items": null,
            "align_self": null,
            "border": null,
            "bottom": null,
            "display": null,
            "flex": null,
            "flex_flow": null,
            "grid_area": null,
            "grid_auto_columns": null,
            "grid_auto_flow": null,
            "grid_auto_rows": null,
            "grid_column": null,
            "grid_gap": null,
            "grid_row": null,
            "grid_template_areas": null,
            "grid_template_columns": null,
            "grid_template_rows": null,
            "height": null,
            "justify_content": null,
            "justify_items": null,
            "left": null,
            "margin": null,
            "max_height": null,
            "max_width": null,
            "min_height": null,
            "min_width": null,
            "object_fit": null,
            "object_position": null,
            "order": null,
            "overflow": null,
            "overflow_x": null,
            "overflow_y": null,
            "padding": null,
            "right": null,
            "top": null,
            "visibility": null,
            "width": null
          }
        },
        "0bc57f24f910462f833d4ffc7a591134": {
          "model_module": "@jupyter-widgets/controls",
          "model_name": "ProgressStyleModel",
          "model_module_version": "1.5.0",
          "state": {
            "_model_module": "@jupyter-widgets/controls",
            "_model_module_version": "1.5.0",
            "_model_name": "ProgressStyleModel",
            "_view_count": null,
            "_view_module": "@jupyter-widgets/base",
            "_view_module_version": "1.2.0",
            "_view_name": "StyleView",
            "bar_color": null,
            "description_width": ""
          }
        },
        "5d8bfda8670a4c1a8b8919e3bfee3f04": {
          "model_module": "@jupyter-widgets/base",
          "model_name": "LayoutModel",
          "model_module_version": "1.2.0",
          "state": {
            "_model_module": "@jupyter-widgets/base",
            "_model_module_version": "1.2.0",
            "_model_name": "LayoutModel",
            "_view_count": null,
            "_view_module": "@jupyter-widgets/base",
            "_view_module_version": "1.2.0",
            "_view_name": "LayoutView",
            "align_content": null,
            "align_items": null,
            "align_self": null,
            "border": null,
            "bottom": null,
            "display": null,
            "flex": null,
            "flex_flow": null,
            "grid_area": null,
            "grid_auto_columns": null,
            "grid_auto_flow": null,
            "grid_auto_rows": null,
            "grid_column": null,
            "grid_gap": null,
            "grid_row": null,
            "grid_template_areas": null,
            "grid_template_columns": null,
            "grid_template_rows": null,
            "height": null,
            "justify_content": null,
            "justify_items": null,
            "left": null,
            "margin": null,
            "max_height": null,
            "max_width": null,
            "min_height": null,
            "min_width": null,
            "object_fit": null,
            "object_position": null,
            "order": null,
            "overflow": null,
            "overflow_x": null,
            "overflow_y": null,
            "padding": null,
            "right": null,
            "top": null,
            "visibility": null,
            "width": null
          }
        },
        "a4e212c61a55428da3180cb724762a44": {
          "model_module": "@jupyter-widgets/controls",
          "model_name": "DescriptionStyleModel",
          "model_module_version": "1.5.0",
          "state": {
            "_model_module": "@jupyter-widgets/controls",
            "_model_module_version": "1.5.0",
            "_model_name": "DescriptionStyleModel",
            "_view_count": null,
            "_view_module": "@jupyter-widgets/base",
            "_view_module_version": "1.2.0",
            "_view_name": "StyleView",
            "description_width": ""
          }
        }
      }
    }
  },
  "cells": [
    {
      "cell_type": "markdown",
      "metadata": {
        "id": "view-in-github",
        "colab_type": "text"
      },
      "source": [
        "<a href=\"https://colab.research.google.com/github/chi-hun/chi-hun/blob/main/Untitled4.ipynb\" target=\"_parent\"><img src=\"https://colab.research.google.com/assets/colab-badge.svg\" alt=\"Open In Colab\"/></a>"
      ]
    },
    {
      "cell_type": "code",
      "execution_count": null,
      "metadata": {
        "id": "M-28ouZqB9Fz"
      },
      "outputs": [],
      "source": [
        "from fastai.vision.all import *"
      ]
    },
    {
      "cell_type": "code",
      "source": [
        "import fastai\n",
        "fastai.__version__"
      ],
      "metadata": {
        "id": "KdAAY9c1fs7O",
        "outputId": "849ee6ce-e511-48ca-cef9-ca7ef2e19d26",
        "colab": {
          "base_uri": "https://localhost:8080/",
          "height": 35
        }
      },
      "execution_count": null,
      "outputs": [
        {
          "output_type": "execute_result",
          "data": {
            "text/plain": [
              "'2.7.9'"
            ],
            "application/vnd.google.colaboratory.intrinsic+json": {
              "type": "string"
            }
          },
          "metadata": {},
          "execution_count": 19
        }
      ]
    },
    {
      "cell_type": "code",
      "source": [
        "path = untar_data(URLs.PETS)"
      ],
      "metadata": {
        "id": "Uhd_cW3UCGmg",
        "colab": {
          "base_uri": "https://localhost:8080/",
          "height": 56
        },
        "outputId": "f0a4db25-97eb-4f74-97cc-01fb1d9b9643"
      },
      "execution_count": null,
      "outputs": [
        {
          "output_type": "stream",
          "name": "stdout",
          "text": [
            "Downloading a new version of this dataset...\n"
          ]
        },
        {
          "output_type": "display_data",
          "data": {
            "text/plain": [
              "<IPython.core.display.HTML object>"
            ],
            "text/html": [
              "\n",
              "<style>\n",
              "    /* Turns off some styling */\n",
              "    progress {\n",
              "        /* gets rid of default border in Firefox and Opera. */\n",
              "        border: none;\n",
              "        /* Needs to be in here for Safari polyfill so background images work as expected. */\n",
              "        background-size: auto;\n",
              "    }\n",
              "    progress:not([value]), progress:not([value])::-webkit-progress-bar {\n",
              "        background: repeating-linear-gradient(45deg, #7e7e7e, #7e7e7e 10px, #5c5c5c 10px, #5c5c5c 20px);\n",
              "    }\n",
              "    .progress-bar-interrupted, .progress-bar-interrupted::-webkit-progress-bar {\n",
              "        background: #F44336;\n",
              "    }\n",
              "</style>\n"
            ]
          },
          "metadata": {}
        },
        {
          "output_type": "display_data",
          "data": {
            "text/plain": [
              "<IPython.core.display.HTML object>"
            ],
            "text/html": [
              "\n",
              "    <div>\n",
              "      <progress value='811712512' class='' max='811706944' style='width:300px; height:20px; vertical-align: middle;'></progress>\n",
              "      100.00% [811712512/811706944 00:09&lt;00:00]\n",
              "    </div>\n",
              "    "
            ]
          },
          "metadata": {}
        }
      ]
    },
    {
      "cell_type": "code",
      "source": [
        "path.ls()"
      ],
      "metadata": {
        "colab": {
          "base_uri": "https://localhost:8080/"
        },
        "id": "5osON6SRmB2z",
        "outputId": "6eb14ccc-346c-4bbf-85bb-a0e243a7c3c3"
      },
      "execution_count": null,
      "outputs": [
        {
          "output_type": "execute_result",
          "data": {
            "text/plain": [
              "(#2) [Path('/root/.fastai/data/oxford-iiit-pet/annotations'),Path('/root/.fastai/data/oxford-iiit-pet/images')]"
            ]
          },
          "metadata": {},
          "execution_count": 25
        }
      ]
    },
    {
      "cell_type": "code",
      "source": [
        "files = get_image_files(path/\"images\")\n",
        "len(files)"
      ],
      "metadata": {
        "colab": {
          "base_uri": "https://localhost:8080/"
        },
        "id": "zxFw6kgqmxs_",
        "outputId": "58438b92-cd9b-4a95-aa10-a0f2f347045f"
      },
      "execution_count": null,
      "outputs": [
        {
          "output_type": "execute_result",
          "data": {
            "text/plain": [
              "7390"
            ]
          },
          "metadata": {},
          "execution_count": 26
        }
      ]
    },
    {
      "cell_type": "code",
      "source": [
        "def label_func(f):\n",
        "    return f[0].isupper()"
      ],
      "metadata": {
        "id": "m51wmygHnHMU"
      },
      "execution_count": null,
      "outputs": []
    },
    {
      "cell_type": "code",
      "source": [
        "dls = ImageDataLoaders.from_name_func(path,files,label_func,item_tfms=Resize(224))"
      ],
      "metadata": {
        "id": "JQVHx91Ln8gR"
      },
      "execution_count": null,
      "outputs": []
    },
    {
      "cell_type": "code",
      "source": [
        "dls.show_batch()"
      ],
      "metadata": {
        "id": "RH58LVVxodIp"
      },
      "execution_count": null,
      "outputs": []
    },
    {
      "cell_type": "code",
      "source": [
        "learn = vision_learner(dls,resnet34,metrics=accuracy)\n",
        "learn.fine_tune(2)"
      ],
      "metadata": {
        "colab": {
          "base_uri": "https://localhost:8080/",
          "height": 536
        },
        "id": "YeH7GMMao4jV",
        "outputId": "20186356-6da5-400e-e8c2-a8d460fa7385"
      },
      "execution_count": null,
      "outputs": [
        {
          "output_type": "stream",
          "name": "stderr",
          "text": [
            "/usr/local/lib/python3.7/dist-packages/torchvision/models/_utils.py:209: UserWarning: The parameter 'pretrained' is deprecated since 0.13 and will be removed in 0.15, please use 'weights' instead.\n",
            "  f\"The parameter '{pretrained_param}' is deprecated since 0.13 and will be removed in 0.15, \"\n",
            "/usr/local/lib/python3.7/dist-packages/torchvision/models/_utils.py:223: UserWarning: Arguments other than a weight enum or `None` for 'weights' are deprecated since 0.13 and will be removed in 0.15. The current behavior is equivalent to passing `weights=ResNet34_Weights.IMAGENET1K_V1`. You can also use `weights=ResNet34_Weights.DEFAULT` to get the most up-to-date weights.\n",
            "  warnings.warn(msg)\n"
          ]
        },
        {
          "output_type": "display_data",
          "data": {
            "text/plain": [
              "<IPython.core.display.HTML object>"
            ],
            "text/html": [
              "\n",
              "<style>\n",
              "    /* Turns off some styling */\n",
              "    progress {\n",
              "        /* gets rid of default border in Firefox and Opera. */\n",
              "        border: none;\n",
              "        /* Needs to be in here for Safari polyfill so background images work as expected. */\n",
              "        background-size: auto;\n",
              "    }\n",
              "    progress:not([value]), progress:not([value])::-webkit-progress-bar {\n",
              "        background: repeating-linear-gradient(45deg, #7e7e7e, #7e7e7e 10px, #5c5c5c 10px, #5c5c5c 20px);\n",
              "    }\n",
              "    .progress-bar-interrupted, .progress-bar-interrupted::-webkit-progress-bar {\n",
              "        background: #F44336;\n",
              "    }\n",
              "</style>\n"
            ]
          },
          "metadata": {}
        },
        {
          "output_type": "display_data",
          "data": {
            "text/plain": [
              "<IPython.core.display.HTML object>"
            ],
            "text/html": [
              "\n",
              "    <div>\n",
              "      <progress value='0' class='' max='1' style='width:300px; height:20px; vertical-align: middle;'></progress>\n",
              "      0.00% [0/1 00:00&lt;?]\n",
              "    </div>\n",
              "    \n",
              "<table border=\"1\" class=\"dataframe\">\n",
              "  <thead>\n",
              "    <tr style=\"text-align: left;\">\n",
              "      <th>epoch</th>\n",
              "      <th>train_loss</th>\n",
              "      <th>valid_loss</th>\n",
              "      <th>accuracy</th>\n",
              "      <th>time</th>\n",
              "    </tr>\n",
              "  </thead>\n",
              "  <tbody>\n",
              "  </tbody>\n",
              "</table><p>\n",
              "\n",
              "    <div>\n",
              "      <progress value='35' class='' max='92' style='width:300px; height:20px; vertical-align: middle;'></progress>\n",
              "      38.04% [35/92 11:05&lt;18:04 0.5090]\n",
              "    </div>\n",
              "    "
            ]
          },
          "metadata": {}
        },
        {
          "output_type": "error",
          "ename": "KeyboardInterrupt",
          "evalue": "ignored",
          "traceback": [
            "\u001b[0;31m---------------------------------------------------------------------------\u001b[0m",
            "\u001b[0;31mKeyboardInterrupt\u001b[0m                         Traceback (most recent call last)",
            "\u001b[0;32m<ipython-input-39-092a4e92eb98>\u001b[0m in \u001b[0;36m<module>\u001b[0;34m\u001b[0m\n\u001b[1;32m      1\u001b[0m \u001b[0mlearn\u001b[0m \u001b[0;34m=\u001b[0m \u001b[0mvision_learner\u001b[0m\u001b[0;34m(\u001b[0m\u001b[0mdls\u001b[0m\u001b[0;34m,\u001b[0m\u001b[0mresnet34\u001b[0m\u001b[0;34m,\u001b[0m\u001b[0mmetrics\u001b[0m\u001b[0;34m=\u001b[0m\u001b[0maccuracy\u001b[0m\u001b[0;34m)\u001b[0m\u001b[0;34m\u001b[0m\u001b[0;34m\u001b[0m\u001b[0m\n\u001b[0;32m----> 2\u001b[0;31m \u001b[0mlearn\u001b[0m\u001b[0;34m.\u001b[0m\u001b[0mfine_tune\u001b[0m\u001b[0;34m(\u001b[0m\u001b[0;36m2\u001b[0m\u001b[0;34m)\u001b[0m\u001b[0;34m\u001b[0m\u001b[0;34m\u001b[0m\u001b[0m\n\u001b[0m",
            "\u001b[0;32m/usr/local/lib/python3.7/dist-packages/fastai/callback/schedule.py\u001b[0m in \u001b[0;36mfine_tune\u001b[0;34m(self, epochs, base_lr, freeze_epochs, lr_mult, pct_start, div, **kwargs)\u001b[0m\n\u001b[1;32m    163\u001b[0m     \u001b[0;34m\"Fine tune with `Learner.freeze` for `freeze_epochs`, then with `Learner.unfreeze` for `epochs`, using discriminative LR.\"\u001b[0m\u001b[0;34m\u001b[0m\u001b[0;34m\u001b[0m\u001b[0m\n\u001b[1;32m    164\u001b[0m     \u001b[0mself\u001b[0m\u001b[0;34m.\u001b[0m\u001b[0mfreeze\u001b[0m\u001b[0;34m(\u001b[0m\u001b[0;34m)\u001b[0m\u001b[0;34m\u001b[0m\u001b[0;34m\u001b[0m\u001b[0m\n\u001b[0;32m--> 165\u001b[0;31m     \u001b[0mself\u001b[0m\u001b[0;34m.\u001b[0m\u001b[0mfit_one_cycle\u001b[0m\u001b[0;34m(\u001b[0m\u001b[0mfreeze_epochs\u001b[0m\u001b[0;34m,\u001b[0m \u001b[0mslice\u001b[0m\u001b[0;34m(\u001b[0m\u001b[0mbase_lr\u001b[0m\u001b[0;34m)\u001b[0m\u001b[0;34m,\u001b[0m \u001b[0mpct_start\u001b[0m\u001b[0;34m=\u001b[0m\u001b[0;36m0.99\u001b[0m\u001b[0;34m,\u001b[0m \u001b[0;34m**\u001b[0m\u001b[0mkwargs\u001b[0m\u001b[0;34m)\u001b[0m\u001b[0;34m\u001b[0m\u001b[0;34m\u001b[0m\u001b[0m\n\u001b[0m\u001b[1;32m    166\u001b[0m     \u001b[0mbase_lr\u001b[0m \u001b[0;34m/=\u001b[0m \u001b[0;36m2\u001b[0m\u001b[0;34m\u001b[0m\u001b[0;34m\u001b[0m\u001b[0m\n\u001b[1;32m    167\u001b[0m     \u001b[0mself\u001b[0m\u001b[0;34m.\u001b[0m\u001b[0munfreeze\u001b[0m\u001b[0;34m(\u001b[0m\u001b[0;34m)\u001b[0m\u001b[0;34m\u001b[0m\u001b[0;34m\u001b[0m\u001b[0m\n",
            "\u001b[0;32m/usr/local/lib/python3.7/dist-packages/fastai/callback/schedule.py\u001b[0m in \u001b[0;36mfit_one_cycle\u001b[0;34m(self, n_epoch, lr_max, div, div_final, pct_start, wd, moms, cbs, reset_opt, start_epoch)\u001b[0m\n\u001b[1;32m    117\u001b[0m     scheds = {'lr': combined_cos(pct_start, lr_max/div, lr_max, lr_max/div_final),\n\u001b[1;32m    118\u001b[0m               'mom': combined_cos(pct_start, *(self.moms if moms is None else moms))}\n\u001b[0;32m--> 119\u001b[0;31m     \u001b[0mself\u001b[0m\u001b[0;34m.\u001b[0m\u001b[0mfit\u001b[0m\u001b[0;34m(\u001b[0m\u001b[0mn_epoch\u001b[0m\u001b[0;34m,\u001b[0m \u001b[0mcbs\u001b[0m\u001b[0;34m=\u001b[0m\u001b[0mParamScheduler\u001b[0m\u001b[0;34m(\u001b[0m\u001b[0mscheds\u001b[0m\u001b[0;34m)\u001b[0m\u001b[0;34m+\u001b[0m\u001b[0mL\u001b[0m\u001b[0;34m(\u001b[0m\u001b[0mcbs\u001b[0m\u001b[0;34m)\u001b[0m\u001b[0;34m,\u001b[0m \u001b[0mreset_opt\u001b[0m\u001b[0;34m=\u001b[0m\u001b[0mreset_opt\u001b[0m\u001b[0;34m,\u001b[0m \u001b[0mwd\u001b[0m\u001b[0;34m=\u001b[0m\u001b[0mwd\u001b[0m\u001b[0;34m,\u001b[0m \u001b[0mstart_epoch\u001b[0m\u001b[0;34m=\u001b[0m\u001b[0mstart_epoch\u001b[0m\u001b[0;34m)\u001b[0m\u001b[0;34m\u001b[0m\u001b[0;34m\u001b[0m\u001b[0m\n\u001b[0m\u001b[1;32m    120\u001b[0m \u001b[0;34m\u001b[0m\u001b[0m\n\u001b[1;32m    121\u001b[0m \u001b[0;31m# %% ../nbs/14_callback.schedule.ipynb 51\u001b[0m\u001b[0;34m\u001b[0m\u001b[0;34m\u001b[0m\u001b[0;34m\u001b[0m\u001b[0m\n",
            "\u001b[0;32m/usr/local/lib/python3.7/dist-packages/fastai/learner.py\u001b[0m in \u001b[0;36mfit\u001b[0;34m(self, n_epoch, lr, wd, cbs, reset_opt, start_epoch)\u001b[0m\n\u001b[1;32m    254\u001b[0m             \u001b[0mself\u001b[0m\u001b[0;34m.\u001b[0m\u001b[0mopt\u001b[0m\u001b[0;34m.\u001b[0m\u001b[0mset_hypers\u001b[0m\u001b[0;34m(\u001b[0m\u001b[0mlr\u001b[0m\u001b[0;34m=\u001b[0m\u001b[0mself\u001b[0m\u001b[0;34m.\u001b[0m\u001b[0mlr\u001b[0m \u001b[0;32mif\u001b[0m \u001b[0mlr\u001b[0m \u001b[0;32mis\u001b[0m \u001b[0;32mNone\u001b[0m \u001b[0;32melse\u001b[0m \u001b[0mlr\u001b[0m\u001b[0;34m)\u001b[0m\u001b[0;34m\u001b[0m\u001b[0;34m\u001b[0m\u001b[0m\n\u001b[1;32m    255\u001b[0m             \u001b[0mself\u001b[0m\u001b[0;34m.\u001b[0m\u001b[0mn_epoch\u001b[0m \u001b[0;34m=\u001b[0m \u001b[0mn_epoch\u001b[0m\u001b[0;34m\u001b[0m\u001b[0;34m\u001b[0m\u001b[0m\n\u001b[0;32m--> 256\u001b[0;31m             \u001b[0mself\u001b[0m\u001b[0;34m.\u001b[0m\u001b[0m_with_events\u001b[0m\u001b[0;34m(\u001b[0m\u001b[0mself\u001b[0m\u001b[0;34m.\u001b[0m\u001b[0m_do_fit\u001b[0m\u001b[0;34m,\u001b[0m \u001b[0;34m'fit'\u001b[0m\u001b[0;34m,\u001b[0m \u001b[0mCancelFitException\u001b[0m\u001b[0;34m,\u001b[0m \u001b[0mself\u001b[0m\u001b[0;34m.\u001b[0m\u001b[0m_end_cleanup\u001b[0m\u001b[0;34m)\u001b[0m\u001b[0;34m\u001b[0m\u001b[0;34m\u001b[0m\u001b[0m\n\u001b[0m\u001b[1;32m    257\u001b[0m \u001b[0;34m\u001b[0m\u001b[0m\n\u001b[1;32m    258\u001b[0m     \u001b[0;32mdef\u001b[0m \u001b[0m_end_cleanup\u001b[0m\u001b[0;34m(\u001b[0m\u001b[0mself\u001b[0m\u001b[0;34m)\u001b[0m\u001b[0;34m:\u001b[0m \u001b[0mself\u001b[0m\u001b[0;34m.\u001b[0m\u001b[0mdl\u001b[0m\u001b[0;34m,\u001b[0m\u001b[0mself\u001b[0m\u001b[0;34m.\u001b[0m\u001b[0mxb\u001b[0m\u001b[0;34m,\u001b[0m\u001b[0mself\u001b[0m\u001b[0;34m.\u001b[0m\u001b[0myb\u001b[0m\u001b[0;34m,\u001b[0m\u001b[0mself\u001b[0m\u001b[0;34m.\u001b[0m\u001b[0mpred\u001b[0m\u001b[0;34m,\u001b[0m\u001b[0mself\u001b[0m\u001b[0;34m.\u001b[0m\u001b[0mloss\u001b[0m \u001b[0;34m=\u001b[0m \u001b[0;32mNone\u001b[0m\u001b[0;34m,\u001b[0m\u001b[0;34m(\u001b[0m\u001b[0;32mNone\u001b[0m\u001b[0;34m,\u001b[0m\u001b[0;34m)\u001b[0m\u001b[0;34m,\u001b[0m\u001b[0;34m(\u001b[0m\u001b[0;32mNone\u001b[0m\u001b[0;34m,\u001b[0m\u001b[0;34m)\u001b[0m\u001b[0;34m,\u001b[0m\u001b[0;32mNone\u001b[0m\u001b[0;34m,\u001b[0m\u001b[0;32mNone\u001b[0m\u001b[0;34m\u001b[0m\u001b[0;34m\u001b[0m\u001b[0m\n",
            "\u001b[0;32m/usr/local/lib/python3.7/dist-packages/fastai/learner.py\u001b[0m in \u001b[0;36m_with_events\u001b[0;34m(self, f, event_type, ex, final)\u001b[0m\n\u001b[1;32m    191\u001b[0m \u001b[0;34m\u001b[0m\u001b[0m\n\u001b[1;32m    192\u001b[0m     \u001b[0;32mdef\u001b[0m \u001b[0m_with_events\u001b[0m\u001b[0;34m(\u001b[0m\u001b[0mself\u001b[0m\u001b[0;34m,\u001b[0m \u001b[0mf\u001b[0m\u001b[0;34m,\u001b[0m \u001b[0mevent_type\u001b[0m\u001b[0;34m,\u001b[0m \u001b[0mex\u001b[0m\u001b[0;34m,\u001b[0m \u001b[0mfinal\u001b[0m\u001b[0;34m=\u001b[0m\u001b[0mnoop\u001b[0m\u001b[0;34m)\u001b[0m\u001b[0;34m:\u001b[0m\u001b[0;34m\u001b[0m\u001b[0;34m\u001b[0m\u001b[0m\n\u001b[0;32m--> 193\u001b[0;31m         \u001b[0;32mtry\u001b[0m\u001b[0;34m:\u001b[0m \u001b[0mself\u001b[0m\u001b[0;34m(\u001b[0m\u001b[0;34mf'before_{event_type}'\u001b[0m\u001b[0;34m)\u001b[0m\u001b[0;34m;\u001b[0m  \u001b[0mf\u001b[0m\u001b[0;34m(\u001b[0m\u001b[0;34m)\u001b[0m\u001b[0;34m\u001b[0m\u001b[0;34m\u001b[0m\u001b[0m\n\u001b[0m\u001b[1;32m    194\u001b[0m         \u001b[0;32mexcept\u001b[0m \u001b[0mex\u001b[0m\u001b[0;34m:\u001b[0m \u001b[0mself\u001b[0m\u001b[0;34m(\u001b[0m\u001b[0;34mf'after_cancel_{event_type}'\u001b[0m\u001b[0;34m)\u001b[0m\u001b[0;34m\u001b[0m\u001b[0;34m\u001b[0m\u001b[0m\n\u001b[1;32m    195\u001b[0m         \u001b[0mself\u001b[0m\u001b[0;34m(\u001b[0m\u001b[0;34mf'after_{event_type}'\u001b[0m\u001b[0;34m)\u001b[0m\u001b[0;34m;\u001b[0m  \u001b[0mfinal\u001b[0m\u001b[0;34m(\u001b[0m\u001b[0;34m)\u001b[0m\u001b[0;34m\u001b[0m\u001b[0;34m\u001b[0m\u001b[0m\n",
            "\u001b[0;32m/usr/local/lib/python3.7/dist-packages/fastai/learner.py\u001b[0m in \u001b[0;36m_do_fit\u001b[0;34m(self)\u001b[0m\n\u001b[1;32m    243\u001b[0m         \u001b[0;32mfor\u001b[0m \u001b[0mepoch\u001b[0m \u001b[0;32min\u001b[0m \u001b[0mrange\u001b[0m\u001b[0;34m(\u001b[0m\u001b[0mself\u001b[0m\u001b[0;34m.\u001b[0m\u001b[0mn_epoch\u001b[0m\u001b[0;34m)\u001b[0m\u001b[0;34m:\u001b[0m\u001b[0;34m\u001b[0m\u001b[0;34m\u001b[0m\u001b[0m\n\u001b[1;32m    244\u001b[0m             \u001b[0mself\u001b[0m\u001b[0;34m.\u001b[0m\u001b[0mepoch\u001b[0m\u001b[0;34m=\u001b[0m\u001b[0mepoch\u001b[0m\u001b[0;34m\u001b[0m\u001b[0;34m\u001b[0m\u001b[0m\n\u001b[0;32m--> 245\u001b[0;31m             \u001b[0mself\u001b[0m\u001b[0;34m.\u001b[0m\u001b[0m_with_events\u001b[0m\u001b[0;34m(\u001b[0m\u001b[0mself\u001b[0m\u001b[0;34m.\u001b[0m\u001b[0m_do_epoch\u001b[0m\u001b[0;34m,\u001b[0m \u001b[0;34m'epoch'\u001b[0m\u001b[0;34m,\u001b[0m \u001b[0mCancelEpochException\u001b[0m\u001b[0;34m)\u001b[0m\u001b[0;34m\u001b[0m\u001b[0;34m\u001b[0m\u001b[0m\n\u001b[0m\u001b[1;32m    246\u001b[0m \u001b[0;34m\u001b[0m\u001b[0m\n\u001b[1;32m    247\u001b[0m     \u001b[0;32mdef\u001b[0m \u001b[0mfit\u001b[0m\u001b[0;34m(\u001b[0m\u001b[0mself\u001b[0m\u001b[0;34m,\u001b[0m \u001b[0mn_epoch\u001b[0m\u001b[0;34m,\u001b[0m \u001b[0mlr\u001b[0m\u001b[0;34m=\u001b[0m\u001b[0;32mNone\u001b[0m\u001b[0;34m,\u001b[0m \u001b[0mwd\u001b[0m\u001b[0;34m=\u001b[0m\u001b[0;32mNone\u001b[0m\u001b[0;34m,\u001b[0m \u001b[0mcbs\u001b[0m\u001b[0;34m=\u001b[0m\u001b[0;32mNone\u001b[0m\u001b[0;34m,\u001b[0m \u001b[0mreset_opt\u001b[0m\u001b[0;34m=\u001b[0m\u001b[0;32mFalse\u001b[0m\u001b[0;34m,\u001b[0m \u001b[0mstart_epoch\u001b[0m\u001b[0;34m=\u001b[0m\u001b[0;36m0\u001b[0m\u001b[0;34m)\u001b[0m\u001b[0;34m:\u001b[0m\u001b[0;34m\u001b[0m\u001b[0;34m\u001b[0m\u001b[0m\n",
            "\u001b[0;32m/usr/local/lib/python3.7/dist-packages/fastai/learner.py\u001b[0m in \u001b[0;36m_with_events\u001b[0;34m(self, f, event_type, ex, final)\u001b[0m\n\u001b[1;32m    191\u001b[0m \u001b[0;34m\u001b[0m\u001b[0m\n\u001b[1;32m    192\u001b[0m     \u001b[0;32mdef\u001b[0m \u001b[0m_with_events\u001b[0m\u001b[0;34m(\u001b[0m\u001b[0mself\u001b[0m\u001b[0;34m,\u001b[0m \u001b[0mf\u001b[0m\u001b[0;34m,\u001b[0m \u001b[0mevent_type\u001b[0m\u001b[0;34m,\u001b[0m \u001b[0mex\u001b[0m\u001b[0;34m,\u001b[0m \u001b[0mfinal\u001b[0m\u001b[0;34m=\u001b[0m\u001b[0mnoop\u001b[0m\u001b[0;34m)\u001b[0m\u001b[0;34m:\u001b[0m\u001b[0;34m\u001b[0m\u001b[0;34m\u001b[0m\u001b[0m\n\u001b[0;32m--> 193\u001b[0;31m         \u001b[0;32mtry\u001b[0m\u001b[0;34m:\u001b[0m \u001b[0mself\u001b[0m\u001b[0;34m(\u001b[0m\u001b[0;34mf'before_{event_type}'\u001b[0m\u001b[0;34m)\u001b[0m\u001b[0;34m;\u001b[0m  \u001b[0mf\u001b[0m\u001b[0;34m(\u001b[0m\u001b[0;34m)\u001b[0m\u001b[0;34m\u001b[0m\u001b[0;34m\u001b[0m\u001b[0m\n\u001b[0m\u001b[1;32m    194\u001b[0m         \u001b[0;32mexcept\u001b[0m \u001b[0mex\u001b[0m\u001b[0;34m:\u001b[0m \u001b[0mself\u001b[0m\u001b[0;34m(\u001b[0m\u001b[0;34mf'after_cancel_{event_type}'\u001b[0m\u001b[0;34m)\u001b[0m\u001b[0;34m\u001b[0m\u001b[0;34m\u001b[0m\u001b[0m\n\u001b[1;32m    195\u001b[0m         \u001b[0mself\u001b[0m\u001b[0;34m(\u001b[0m\u001b[0;34mf'after_{event_type}'\u001b[0m\u001b[0;34m)\u001b[0m\u001b[0;34m;\u001b[0m  \u001b[0mfinal\u001b[0m\u001b[0;34m(\u001b[0m\u001b[0;34m)\u001b[0m\u001b[0;34m\u001b[0m\u001b[0;34m\u001b[0m\u001b[0m\n",
            "\u001b[0;32m/usr/local/lib/python3.7/dist-packages/fastai/learner.py\u001b[0m in \u001b[0;36m_do_epoch\u001b[0;34m(self)\u001b[0m\n\u001b[1;32m    237\u001b[0m \u001b[0;34m\u001b[0m\u001b[0m\n\u001b[1;32m    238\u001b[0m     \u001b[0;32mdef\u001b[0m \u001b[0m_do_epoch\u001b[0m\u001b[0;34m(\u001b[0m\u001b[0mself\u001b[0m\u001b[0;34m)\u001b[0m\u001b[0;34m:\u001b[0m\u001b[0;34m\u001b[0m\u001b[0;34m\u001b[0m\u001b[0m\n\u001b[0;32m--> 239\u001b[0;31m         \u001b[0mself\u001b[0m\u001b[0;34m.\u001b[0m\u001b[0m_do_epoch_train\u001b[0m\u001b[0;34m(\u001b[0m\u001b[0;34m)\u001b[0m\u001b[0;34m\u001b[0m\u001b[0;34m\u001b[0m\u001b[0m\n\u001b[0m\u001b[1;32m    240\u001b[0m         \u001b[0mself\u001b[0m\u001b[0;34m.\u001b[0m\u001b[0m_do_epoch_validate\u001b[0m\u001b[0;34m(\u001b[0m\u001b[0;34m)\u001b[0m\u001b[0;34m\u001b[0m\u001b[0;34m\u001b[0m\u001b[0m\n\u001b[1;32m    241\u001b[0m \u001b[0;34m\u001b[0m\u001b[0m\n",
            "\u001b[0;32m/usr/local/lib/python3.7/dist-packages/fastai/learner.py\u001b[0m in \u001b[0;36m_do_epoch_train\u001b[0;34m(self)\u001b[0m\n\u001b[1;32m    229\u001b[0m     \u001b[0;32mdef\u001b[0m \u001b[0m_do_epoch_train\u001b[0m\u001b[0;34m(\u001b[0m\u001b[0mself\u001b[0m\u001b[0;34m)\u001b[0m\u001b[0;34m:\u001b[0m\u001b[0;34m\u001b[0m\u001b[0;34m\u001b[0m\u001b[0m\n\u001b[1;32m    230\u001b[0m         \u001b[0mself\u001b[0m\u001b[0;34m.\u001b[0m\u001b[0mdl\u001b[0m \u001b[0;34m=\u001b[0m \u001b[0mself\u001b[0m\u001b[0;34m.\u001b[0m\u001b[0mdls\u001b[0m\u001b[0;34m.\u001b[0m\u001b[0mtrain\u001b[0m\u001b[0;34m\u001b[0m\u001b[0;34m\u001b[0m\u001b[0m\n\u001b[0;32m--> 231\u001b[0;31m         \u001b[0mself\u001b[0m\u001b[0;34m.\u001b[0m\u001b[0m_with_events\u001b[0m\u001b[0;34m(\u001b[0m\u001b[0mself\u001b[0m\u001b[0;34m.\u001b[0m\u001b[0mall_batches\u001b[0m\u001b[0;34m,\u001b[0m \u001b[0;34m'train'\u001b[0m\u001b[0;34m,\u001b[0m \u001b[0mCancelTrainException\u001b[0m\u001b[0;34m)\u001b[0m\u001b[0;34m\u001b[0m\u001b[0;34m\u001b[0m\u001b[0m\n\u001b[0m\u001b[1;32m    232\u001b[0m \u001b[0;34m\u001b[0m\u001b[0m\n\u001b[1;32m    233\u001b[0m     \u001b[0;32mdef\u001b[0m \u001b[0m_do_epoch_validate\u001b[0m\u001b[0;34m(\u001b[0m\u001b[0mself\u001b[0m\u001b[0;34m,\u001b[0m \u001b[0mds_idx\u001b[0m\u001b[0;34m=\u001b[0m\u001b[0;36m1\u001b[0m\u001b[0;34m,\u001b[0m \u001b[0mdl\u001b[0m\u001b[0;34m=\u001b[0m\u001b[0;32mNone\u001b[0m\u001b[0;34m)\u001b[0m\u001b[0;34m:\u001b[0m\u001b[0;34m\u001b[0m\u001b[0;34m\u001b[0m\u001b[0m\n",
            "\u001b[0;32m/usr/local/lib/python3.7/dist-packages/fastai/learner.py\u001b[0m in \u001b[0;36m_with_events\u001b[0;34m(self, f, event_type, ex, final)\u001b[0m\n\u001b[1;32m    191\u001b[0m \u001b[0;34m\u001b[0m\u001b[0m\n\u001b[1;32m    192\u001b[0m     \u001b[0;32mdef\u001b[0m \u001b[0m_with_events\u001b[0m\u001b[0;34m(\u001b[0m\u001b[0mself\u001b[0m\u001b[0;34m,\u001b[0m \u001b[0mf\u001b[0m\u001b[0;34m,\u001b[0m \u001b[0mevent_type\u001b[0m\u001b[0;34m,\u001b[0m \u001b[0mex\u001b[0m\u001b[0;34m,\u001b[0m \u001b[0mfinal\u001b[0m\u001b[0;34m=\u001b[0m\u001b[0mnoop\u001b[0m\u001b[0;34m)\u001b[0m\u001b[0;34m:\u001b[0m\u001b[0;34m\u001b[0m\u001b[0;34m\u001b[0m\u001b[0m\n\u001b[0;32m--> 193\u001b[0;31m         \u001b[0;32mtry\u001b[0m\u001b[0;34m:\u001b[0m \u001b[0mself\u001b[0m\u001b[0;34m(\u001b[0m\u001b[0;34mf'before_{event_type}'\u001b[0m\u001b[0;34m)\u001b[0m\u001b[0;34m;\u001b[0m  \u001b[0mf\u001b[0m\u001b[0;34m(\u001b[0m\u001b[0;34m)\u001b[0m\u001b[0;34m\u001b[0m\u001b[0;34m\u001b[0m\u001b[0m\n\u001b[0m\u001b[1;32m    194\u001b[0m         \u001b[0;32mexcept\u001b[0m \u001b[0mex\u001b[0m\u001b[0;34m:\u001b[0m \u001b[0mself\u001b[0m\u001b[0;34m(\u001b[0m\u001b[0;34mf'after_cancel_{event_type}'\u001b[0m\u001b[0;34m)\u001b[0m\u001b[0;34m\u001b[0m\u001b[0;34m\u001b[0m\u001b[0m\n\u001b[1;32m    195\u001b[0m         \u001b[0mself\u001b[0m\u001b[0;34m(\u001b[0m\u001b[0;34mf'after_{event_type}'\u001b[0m\u001b[0;34m)\u001b[0m\u001b[0;34m;\u001b[0m  \u001b[0mfinal\u001b[0m\u001b[0;34m(\u001b[0m\u001b[0;34m)\u001b[0m\u001b[0;34m\u001b[0m\u001b[0;34m\u001b[0m\u001b[0m\n",
            "\u001b[0;32m/usr/local/lib/python3.7/dist-packages/fastai/learner.py\u001b[0m in \u001b[0;36mall_batches\u001b[0;34m(self)\u001b[0m\n\u001b[1;32m    197\u001b[0m     \u001b[0;32mdef\u001b[0m \u001b[0mall_batches\u001b[0m\u001b[0;34m(\u001b[0m\u001b[0mself\u001b[0m\u001b[0;34m)\u001b[0m\u001b[0;34m:\u001b[0m\u001b[0;34m\u001b[0m\u001b[0;34m\u001b[0m\u001b[0m\n\u001b[1;32m    198\u001b[0m         \u001b[0mself\u001b[0m\u001b[0;34m.\u001b[0m\u001b[0mn_iter\u001b[0m \u001b[0;34m=\u001b[0m \u001b[0mlen\u001b[0m\u001b[0;34m(\u001b[0m\u001b[0mself\u001b[0m\u001b[0;34m.\u001b[0m\u001b[0mdl\u001b[0m\u001b[0;34m)\u001b[0m\u001b[0;34m\u001b[0m\u001b[0;34m\u001b[0m\u001b[0m\n\u001b[0;32m--> 199\u001b[0;31m         \u001b[0;32mfor\u001b[0m \u001b[0mo\u001b[0m \u001b[0;32min\u001b[0m \u001b[0menumerate\u001b[0m\u001b[0;34m(\u001b[0m\u001b[0mself\u001b[0m\u001b[0;34m.\u001b[0m\u001b[0mdl\u001b[0m\u001b[0;34m)\u001b[0m\u001b[0;34m:\u001b[0m \u001b[0mself\u001b[0m\u001b[0;34m.\u001b[0m\u001b[0mone_batch\u001b[0m\u001b[0;34m(\u001b[0m\u001b[0;34m*\u001b[0m\u001b[0mo\u001b[0m\u001b[0;34m)\u001b[0m\u001b[0;34m\u001b[0m\u001b[0;34m\u001b[0m\u001b[0m\n\u001b[0m\u001b[1;32m    200\u001b[0m \u001b[0;34m\u001b[0m\u001b[0m\n\u001b[1;32m    201\u001b[0m     \u001b[0;32mdef\u001b[0m \u001b[0m_backward\u001b[0m\u001b[0;34m(\u001b[0m\u001b[0mself\u001b[0m\u001b[0;34m)\u001b[0m\u001b[0;34m:\u001b[0m \u001b[0mself\u001b[0m\u001b[0;34m.\u001b[0m\u001b[0mloss_grad\u001b[0m\u001b[0;34m.\u001b[0m\u001b[0mbackward\u001b[0m\u001b[0;34m(\u001b[0m\u001b[0;34m)\u001b[0m\u001b[0;34m\u001b[0m\u001b[0;34m\u001b[0m\u001b[0m\n",
            "\u001b[0;32m/usr/local/lib/python3.7/dist-packages/fastai/learner.py\u001b[0m in \u001b[0;36mone_batch\u001b[0;34m(self, i, b)\u001b[0m\n\u001b[1;32m    225\u001b[0m         \u001b[0mb\u001b[0m \u001b[0;34m=\u001b[0m \u001b[0mself\u001b[0m\u001b[0;34m.\u001b[0m\u001b[0m_set_device\u001b[0m\u001b[0;34m(\u001b[0m\u001b[0mb\u001b[0m\u001b[0;34m)\u001b[0m\u001b[0;34m\u001b[0m\u001b[0;34m\u001b[0m\u001b[0m\n\u001b[1;32m    226\u001b[0m         \u001b[0mself\u001b[0m\u001b[0;34m.\u001b[0m\u001b[0m_split\u001b[0m\u001b[0;34m(\u001b[0m\u001b[0mb\u001b[0m\u001b[0;34m)\u001b[0m\u001b[0;34m\u001b[0m\u001b[0;34m\u001b[0m\u001b[0m\n\u001b[0;32m--> 227\u001b[0;31m         \u001b[0mself\u001b[0m\u001b[0;34m.\u001b[0m\u001b[0m_with_events\u001b[0m\u001b[0;34m(\u001b[0m\u001b[0mself\u001b[0m\u001b[0;34m.\u001b[0m\u001b[0m_do_one_batch\u001b[0m\u001b[0;34m,\u001b[0m \u001b[0;34m'batch'\u001b[0m\u001b[0;34m,\u001b[0m \u001b[0mCancelBatchException\u001b[0m\u001b[0;34m)\u001b[0m\u001b[0;34m\u001b[0m\u001b[0;34m\u001b[0m\u001b[0m\n\u001b[0m\u001b[1;32m    228\u001b[0m \u001b[0;34m\u001b[0m\u001b[0m\n\u001b[1;32m    229\u001b[0m     \u001b[0;32mdef\u001b[0m \u001b[0m_do_epoch_train\u001b[0m\u001b[0;34m(\u001b[0m\u001b[0mself\u001b[0m\u001b[0;34m)\u001b[0m\u001b[0;34m:\u001b[0m\u001b[0;34m\u001b[0m\u001b[0;34m\u001b[0m\u001b[0m\n",
            "\u001b[0;32m/usr/local/lib/python3.7/dist-packages/fastai/learner.py\u001b[0m in \u001b[0;36m_with_events\u001b[0;34m(self, f, event_type, ex, final)\u001b[0m\n\u001b[1;32m    191\u001b[0m \u001b[0;34m\u001b[0m\u001b[0m\n\u001b[1;32m    192\u001b[0m     \u001b[0;32mdef\u001b[0m \u001b[0m_with_events\u001b[0m\u001b[0;34m(\u001b[0m\u001b[0mself\u001b[0m\u001b[0;34m,\u001b[0m \u001b[0mf\u001b[0m\u001b[0;34m,\u001b[0m \u001b[0mevent_type\u001b[0m\u001b[0;34m,\u001b[0m \u001b[0mex\u001b[0m\u001b[0;34m,\u001b[0m \u001b[0mfinal\u001b[0m\u001b[0;34m=\u001b[0m\u001b[0mnoop\u001b[0m\u001b[0;34m)\u001b[0m\u001b[0;34m:\u001b[0m\u001b[0;34m\u001b[0m\u001b[0;34m\u001b[0m\u001b[0m\n\u001b[0;32m--> 193\u001b[0;31m         \u001b[0;32mtry\u001b[0m\u001b[0;34m:\u001b[0m \u001b[0mself\u001b[0m\u001b[0;34m(\u001b[0m\u001b[0;34mf'before_{event_type}'\u001b[0m\u001b[0;34m)\u001b[0m\u001b[0;34m;\u001b[0m  \u001b[0mf\u001b[0m\u001b[0;34m(\u001b[0m\u001b[0;34m)\u001b[0m\u001b[0;34m\u001b[0m\u001b[0;34m\u001b[0m\u001b[0m\n\u001b[0m\u001b[1;32m    194\u001b[0m         \u001b[0;32mexcept\u001b[0m \u001b[0mex\u001b[0m\u001b[0;34m:\u001b[0m \u001b[0mself\u001b[0m\u001b[0;34m(\u001b[0m\u001b[0;34mf'after_cancel_{event_type}'\u001b[0m\u001b[0;34m)\u001b[0m\u001b[0;34m\u001b[0m\u001b[0;34m\u001b[0m\u001b[0m\n\u001b[1;32m    195\u001b[0m         \u001b[0mself\u001b[0m\u001b[0;34m(\u001b[0m\u001b[0;34mf'after_{event_type}'\u001b[0m\u001b[0;34m)\u001b[0m\u001b[0;34m;\u001b[0m  \u001b[0mfinal\u001b[0m\u001b[0;34m(\u001b[0m\u001b[0;34m)\u001b[0m\u001b[0;34m\u001b[0m\u001b[0;34m\u001b[0m\u001b[0m\n",
            "\u001b[0;32m/usr/local/lib/python3.7/dist-packages/fastai/learner.py\u001b[0m in \u001b[0;36m_do_one_batch\u001b[0;34m(self)\u001b[0m\n\u001b[1;32m    210\u001b[0m         \u001b[0mself\u001b[0m\u001b[0;34m(\u001b[0m\u001b[0;34m'after_loss'\u001b[0m\u001b[0;34m)\u001b[0m\u001b[0;34m\u001b[0m\u001b[0;34m\u001b[0m\u001b[0m\n\u001b[1;32m    211\u001b[0m         \u001b[0;32mif\u001b[0m \u001b[0;32mnot\u001b[0m \u001b[0mself\u001b[0m\u001b[0;34m.\u001b[0m\u001b[0mtraining\u001b[0m \u001b[0;32mor\u001b[0m \u001b[0;32mnot\u001b[0m \u001b[0mlen\u001b[0m\u001b[0;34m(\u001b[0m\u001b[0mself\u001b[0m\u001b[0;34m.\u001b[0m\u001b[0myb\u001b[0m\u001b[0;34m)\u001b[0m\u001b[0;34m:\u001b[0m \u001b[0;32mreturn\u001b[0m\u001b[0;34m\u001b[0m\u001b[0;34m\u001b[0m\u001b[0m\n\u001b[0;32m--> 212\u001b[0;31m         \u001b[0mself\u001b[0m\u001b[0;34m.\u001b[0m\u001b[0m_with_events\u001b[0m\u001b[0;34m(\u001b[0m\u001b[0mself\u001b[0m\u001b[0;34m.\u001b[0m\u001b[0m_backward\u001b[0m\u001b[0;34m,\u001b[0m \u001b[0;34m'backward'\u001b[0m\u001b[0;34m,\u001b[0m \u001b[0mCancelBackwardException\u001b[0m\u001b[0;34m)\u001b[0m\u001b[0;34m\u001b[0m\u001b[0;34m\u001b[0m\u001b[0m\n\u001b[0m\u001b[1;32m    213\u001b[0m         \u001b[0mself\u001b[0m\u001b[0;34m.\u001b[0m\u001b[0m_with_events\u001b[0m\u001b[0;34m(\u001b[0m\u001b[0mself\u001b[0m\u001b[0;34m.\u001b[0m\u001b[0m_step\u001b[0m\u001b[0;34m,\u001b[0m \u001b[0;34m'step'\u001b[0m\u001b[0;34m,\u001b[0m \u001b[0mCancelStepException\u001b[0m\u001b[0;34m)\u001b[0m\u001b[0;34m\u001b[0m\u001b[0;34m\u001b[0m\u001b[0m\n\u001b[1;32m    214\u001b[0m         \u001b[0mself\u001b[0m\u001b[0;34m.\u001b[0m\u001b[0mopt\u001b[0m\u001b[0;34m.\u001b[0m\u001b[0mzero_grad\u001b[0m\u001b[0;34m(\u001b[0m\u001b[0;34m)\u001b[0m\u001b[0;34m\u001b[0m\u001b[0;34m\u001b[0m\u001b[0m\n",
            "\u001b[0;32m/usr/local/lib/python3.7/dist-packages/fastai/learner.py\u001b[0m in \u001b[0;36m_with_events\u001b[0;34m(self, f, event_type, ex, final)\u001b[0m\n\u001b[1;32m    191\u001b[0m \u001b[0;34m\u001b[0m\u001b[0m\n\u001b[1;32m    192\u001b[0m     \u001b[0;32mdef\u001b[0m \u001b[0m_with_events\u001b[0m\u001b[0;34m(\u001b[0m\u001b[0mself\u001b[0m\u001b[0;34m,\u001b[0m \u001b[0mf\u001b[0m\u001b[0;34m,\u001b[0m \u001b[0mevent_type\u001b[0m\u001b[0;34m,\u001b[0m \u001b[0mex\u001b[0m\u001b[0;34m,\u001b[0m \u001b[0mfinal\u001b[0m\u001b[0;34m=\u001b[0m\u001b[0mnoop\u001b[0m\u001b[0;34m)\u001b[0m\u001b[0;34m:\u001b[0m\u001b[0;34m\u001b[0m\u001b[0;34m\u001b[0m\u001b[0m\n\u001b[0;32m--> 193\u001b[0;31m         \u001b[0;32mtry\u001b[0m\u001b[0;34m:\u001b[0m \u001b[0mself\u001b[0m\u001b[0;34m(\u001b[0m\u001b[0;34mf'before_{event_type}'\u001b[0m\u001b[0;34m)\u001b[0m\u001b[0;34m;\u001b[0m  \u001b[0mf\u001b[0m\u001b[0;34m(\u001b[0m\u001b[0;34m)\u001b[0m\u001b[0;34m\u001b[0m\u001b[0;34m\u001b[0m\u001b[0m\n\u001b[0m\u001b[1;32m    194\u001b[0m         \u001b[0;32mexcept\u001b[0m \u001b[0mex\u001b[0m\u001b[0;34m:\u001b[0m \u001b[0mself\u001b[0m\u001b[0;34m(\u001b[0m\u001b[0;34mf'after_cancel_{event_type}'\u001b[0m\u001b[0;34m)\u001b[0m\u001b[0;34m\u001b[0m\u001b[0;34m\u001b[0m\u001b[0m\n\u001b[1;32m    195\u001b[0m         \u001b[0mself\u001b[0m\u001b[0;34m(\u001b[0m\u001b[0;34mf'after_{event_type}'\u001b[0m\u001b[0;34m)\u001b[0m\u001b[0;34m;\u001b[0m  \u001b[0mfinal\u001b[0m\u001b[0;34m(\u001b[0m\u001b[0;34m)\u001b[0m\u001b[0;34m\u001b[0m\u001b[0;34m\u001b[0m\u001b[0m\n",
            "\u001b[0;32m/usr/local/lib/python3.7/dist-packages/fastai/learner.py\u001b[0m in \u001b[0;36m_backward\u001b[0;34m(self)\u001b[0m\n\u001b[1;32m    199\u001b[0m         \u001b[0;32mfor\u001b[0m \u001b[0mo\u001b[0m \u001b[0;32min\u001b[0m \u001b[0menumerate\u001b[0m\u001b[0;34m(\u001b[0m\u001b[0mself\u001b[0m\u001b[0;34m.\u001b[0m\u001b[0mdl\u001b[0m\u001b[0;34m)\u001b[0m\u001b[0;34m:\u001b[0m \u001b[0mself\u001b[0m\u001b[0;34m.\u001b[0m\u001b[0mone_batch\u001b[0m\u001b[0;34m(\u001b[0m\u001b[0;34m*\u001b[0m\u001b[0mo\u001b[0m\u001b[0;34m)\u001b[0m\u001b[0;34m\u001b[0m\u001b[0;34m\u001b[0m\u001b[0m\n\u001b[1;32m    200\u001b[0m \u001b[0;34m\u001b[0m\u001b[0m\n\u001b[0;32m--> 201\u001b[0;31m     \u001b[0;32mdef\u001b[0m \u001b[0m_backward\u001b[0m\u001b[0;34m(\u001b[0m\u001b[0mself\u001b[0m\u001b[0;34m)\u001b[0m\u001b[0;34m:\u001b[0m \u001b[0mself\u001b[0m\u001b[0;34m.\u001b[0m\u001b[0mloss_grad\u001b[0m\u001b[0;34m.\u001b[0m\u001b[0mbackward\u001b[0m\u001b[0;34m(\u001b[0m\u001b[0;34m)\u001b[0m\u001b[0;34m\u001b[0m\u001b[0;34m\u001b[0m\u001b[0m\n\u001b[0m\u001b[1;32m    202\u001b[0m     \u001b[0;32mdef\u001b[0m \u001b[0m_step\u001b[0m\u001b[0;34m(\u001b[0m\u001b[0mself\u001b[0m\u001b[0;34m)\u001b[0m\u001b[0;34m:\u001b[0m \u001b[0mself\u001b[0m\u001b[0;34m.\u001b[0m\u001b[0mopt\u001b[0m\u001b[0;34m.\u001b[0m\u001b[0mstep\u001b[0m\u001b[0;34m(\u001b[0m\u001b[0;34m)\u001b[0m\u001b[0;34m\u001b[0m\u001b[0;34m\u001b[0m\u001b[0m\n\u001b[1;32m    203\u001b[0m \u001b[0;34m\u001b[0m\u001b[0m\n",
            "\u001b[0;32m/usr/local/lib/python3.7/dist-packages/torch/_tensor.py\u001b[0m in \u001b[0;36mbackward\u001b[0;34m(self, gradient, retain_graph, create_graph, inputs)\u001b[0m\n\u001b[1;32m    393\u001b[0m                 \u001b[0mretain_graph\u001b[0m\u001b[0;34m=\u001b[0m\u001b[0mretain_graph\u001b[0m\u001b[0;34m,\u001b[0m\u001b[0;34m\u001b[0m\u001b[0;34m\u001b[0m\u001b[0m\n\u001b[1;32m    394\u001b[0m                 \u001b[0mcreate_graph\u001b[0m\u001b[0;34m=\u001b[0m\u001b[0mcreate_graph\u001b[0m\u001b[0;34m,\u001b[0m\u001b[0;34m\u001b[0m\u001b[0;34m\u001b[0m\u001b[0m\n\u001b[0;32m--> 395\u001b[0;31m                 inputs=inputs)\n\u001b[0m\u001b[1;32m    396\u001b[0m         \u001b[0mtorch\u001b[0m\u001b[0;34m.\u001b[0m\u001b[0mautograd\u001b[0m\u001b[0;34m.\u001b[0m\u001b[0mbackward\u001b[0m\u001b[0;34m(\u001b[0m\u001b[0mself\u001b[0m\u001b[0;34m,\u001b[0m \u001b[0mgradient\u001b[0m\u001b[0;34m,\u001b[0m \u001b[0mretain_graph\u001b[0m\u001b[0;34m,\u001b[0m \u001b[0mcreate_graph\u001b[0m\u001b[0;34m,\u001b[0m \u001b[0minputs\u001b[0m\u001b[0;34m=\u001b[0m\u001b[0minputs\u001b[0m\u001b[0;34m)\u001b[0m\u001b[0;34m\u001b[0m\u001b[0;34m\u001b[0m\u001b[0m\n\u001b[1;32m    397\u001b[0m \u001b[0;34m\u001b[0m\u001b[0m\n",
            "\u001b[0;32m/usr/local/lib/python3.7/dist-packages/torch/overrides.py\u001b[0m in \u001b[0;36mhandle_torch_function\u001b[0;34m(public_api, relevant_args, *args, **kwargs)\u001b[0m\n\u001b[1;32m   1496\u001b[0m         \u001b[0;31m# Use `public_api` instead of `implementation` so __torch_function__\u001b[0m\u001b[0;34m\u001b[0m\u001b[0;34m\u001b[0m\u001b[0;34m\u001b[0m\u001b[0m\n\u001b[1;32m   1497\u001b[0m         \u001b[0;31m# implementations can do equality/identity comparisons.\u001b[0m\u001b[0;34m\u001b[0m\u001b[0;34m\u001b[0m\u001b[0;34m\u001b[0m\u001b[0m\n\u001b[0;32m-> 1498\u001b[0;31m         \u001b[0mresult\u001b[0m \u001b[0;34m=\u001b[0m \u001b[0mtorch_func_method\u001b[0m\u001b[0;34m(\u001b[0m\u001b[0mpublic_api\u001b[0m\u001b[0;34m,\u001b[0m \u001b[0mtypes\u001b[0m\u001b[0;34m,\u001b[0m \u001b[0margs\u001b[0m\u001b[0;34m,\u001b[0m \u001b[0mkwargs\u001b[0m\u001b[0;34m)\u001b[0m\u001b[0;34m\u001b[0m\u001b[0;34m\u001b[0m\u001b[0m\n\u001b[0m\u001b[1;32m   1499\u001b[0m \u001b[0;34m\u001b[0m\u001b[0m\n\u001b[1;32m   1500\u001b[0m         \u001b[0;32mif\u001b[0m \u001b[0mresult\u001b[0m \u001b[0;32mis\u001b[0m \u001b[0;32mnot\u001b[0m \u001b[0mNotImplemented\u001b[0m\u001b[0;34m:\u001b[0m\u001b[0;34m\u001b[0m\u001b[0;34m\u001b[0m\u001b[0m\n",
            "\u001b[0;32m/usr/local/lib/python3.7/dist-packages/fastai/torch_core.py\u001b[0m in \u001b[0;36m__torch_function__\u001b[0;34m(cls, func, types, args, kwargs)\u001b[0m\n\u001b[1;32m    374\u001b[0m         \u001b[0;32mif\u001b[0m \u001b[0mcls\u001b[0m\u001b[0;34m.\u001b[0m\u001b[0mdebug\u001b[0m \u001b[0;32mand\u001b[0m \u001b[0mfunc\u001b[0m\u001b[0;34m.\u001b[0m\u001b[0m__name__\u001b[0m \u001b[0;32mnot\u001b[0m \u001b[0;32min\u001b[0m \u001b[0;34m(\u001b[0m\u001b[0;34m'__str__'\u001b[0m\u001b[0;34m,\u001b[0m\u001b[0;34m'__repr__'\u001b[0m\u001b[0;34m)\u001b[0m\u001b[0;34m:\u001b[0m \u001b[0mprint\u001b[0m\u001b[0;34m(\u001b[0m\u001b[0mfunc\u001b[0m\u001b[0;34m,\u001b[0m \u001b[0mtypes\u001b[0m\u001b[0;34m,\u001b[0m \u001b[0margs\u001b[0m\u001b[0;34m,\u001b[0m \u001b[0mkwargs\u001b[0m\u001b[0;34m)\u001b[0m\u001b[0;34m\u001b[0m\u001b[0;34m\u001b[0m\u001b[0m\n\u001b[1;32m    375\u001b[0m         \u001b[0;32mif\u001b[0m \u001b[0m_torch_handled\u001b[0m\u001b[0;34m(\u001b[0m\u001b[0margs\u001b[0m\u001b[0;34m,\u001b[0m \u001b[0mcls\u001b[0m\u001b[0;34m.\u001b[0m\u001b[0m_opt\u001b[0m\u001b[0;34m,\u001b[0m \u001b[0mfunc\u001b[0m\u001b[0;34m)\u001b[0m\u001b[0;34m:\u001b[0m \u001b[0mtypes\u001b[0m \u001b[0;34m=\u001b[0m \u001b[0;34m(\u001b[0m\u001b[0mtorch\u001b[0m\u001b[0;34m.\u001b[0m\u001b[0mTensor\u001b[0m\u001b[0;34m,\u001b[0m\u001b[0;34m)\u001b[0m\u001b[0;34m\u001b[0m\u001b[0;34m\u001b[0m\u001b[0m\n\u001b[0;32m--> 376\u001b[0;31m         \u001b[0mres\u001b[0m \u001b[0;34m=\u001b[0m \u001b[0msuper\u001b[0m\u001b[0;34m(\u001b[0m\u001b[0;34m)\u001b[0m\u001b[0;34m.\u001b[0m\u001b[0m__torch_function__\u001b[0m\u001b[0;34m(\u001b[0m\u001b[0mfunc\u001b[0m\u001b[0;34m,\u001b[0m \u001b[0mtypes\u001b[0m\u001b[0;34m,\u001b[0m \u001b[0margs\u001b[0m\u001b[0;34m,\u001b[0m \u001b[0mifnone\u001b[0m\u001b[0;34m(\u001b[0m\u001b[0mkwargs\u001b[0m\u001b[0;34m,\u001b[0m \u001b[0;34m{\u001b[0m\u001b[0;34m}\u001b[0m\u001b[0;34m)\u001b[0m\u001b[0;34m)\u001b[0m\u001b[0;34m\u001b[0m\u001b[0;34m\u001b[0m\u001b[0m\n\u001b[0m\u001b[1;32m    377\u001b[0m         \u001b[0mdict_objs\u001b[0m \u001b[0;34m=\u001b[0m \u001b[0m_find_args\u001b[0m\u001b[0;34m(\u001b[0m\u001b[0margs\u001b[0m\u001b[0;34m)\u001b[0m \u001b[0;32mif\u001b[0m \u001b[0margs\u001b[0m \u001b[0;32melse\u001b[0m \u001b[0m_find_args\u001b[0m\u001b[0;34m(\u001b[0m\u001b[0mlist\u001b[0m\u001b[0;34m(\u001b[0m\u001b[0mkwargs\u001b[0m\u001b[0;34m.\u001b[0m\u001b[0mvalues\u001b[0m\u001b[0;34m(\u001b[0m\u001b[0;34m)\u001b[0m\u001b[0;34m)\u001b[0m\u001b[0;34m)\u001b[0m\u001b[0;34m\u001b[0m\u001b[0;34m\u001b[0m\u001b[0m\n\u001b[1;32m    378\u001b[0m         \u001b[0;32mif\u001b[0m \u001b[0missubclass\u001b[0m\u001b[0;34m(\u001b[0m\u001b[0mtype\u001b[0m\u001b[0;34m(\u001b[0m\u001b[0mres\u001b[0m\u001b[0;34m)\u001b[0m\u001b[0;34m,\u001b[0m\u001b[0mTensorBase\u001b[0m\u001b[0;34m)\u001b[0m \u001b[0;32mand\u001b[0m \u001b[0mdict_objs\u001b[0m\u001b[0;34m:\u001b[0m \u001b[0mres\u001b[0m\u001b[0;34m.\u001b[0m\u001b[0mset_meta\u001b[0m\u001b[0;34m(\u001b[0m\u001b[0mdict_objs\u001b[0m\u001b[0;34m[\u001b[0m\u001b[0;36m0\u001b[0m\u001b[0;34m]\u001b[0m\u001b[0;34m,\u001b[0m\u001b[0mas_copy\u001b[0m\u001b[0;34m=\u001b[0m\u001b[0;32mTrue\u001b[0m\u001b[0;34m)\u001b[0m\u001b[0;34m\u001b[0m\u001b[0;34m\u001b[0m\u001b[0m\n",
            "\u001b[0;32m/usr/local/lib/python3.7/dist-packages/torch/_tensor.py\u001b[0m in \u001b[0;36m__torch_function__\u001b[0;34m(cls, func, types, args, kwargs)\u001b[0m\n\u001b[1;32m   1119\u001b[0m \u001b[0;34m\u001b[0m\u001b[0m\n\u001b[1;32m   1120\u001b[0m         \u001b[0;32mwith\u001b[0m \u001b[0m_C\u001b[0m\u001b[0;34m.\u001b[0m\u001b[0mDisableTorchFunction\u001b[0m\u001b[0;34m(\u001b[0m\u001b[0;34m)\u001b[0m\u001b[0;34m:\u001b[0m\u001b[0;34m\u001b[0m\u001b[0;34m\u001b[0m\u001b[0m\n\u001b[0;32m-> 1121\u001b[0;31m             \u001b[0mret\u001b[0m \u001b[0;34m=\u001b[0m \u001b[0mfunc\u001b[0m\u001b[0;34m(\u001b[0m\u001b[0;34m*\u001b[0m\u001b[0margs\u001b[0m\u001b[0;34m,\u001b[0m \u001b[0;34m**\u001b[0m\u001b[0mkwargs\u001b[0m\u001b[0;34m)\u001b[0m\u001b[0;34m\u001b[0m\u001b[0;34m\u001b[0m\u001b[0m\n\u001b[0m\u001b[1;32m   1122\u001b[0m             \u001b[0;32mif\u001b[0m \u001b[0mfunc\u001b[0m \u001b[0;32min\u001b[0m \u001b[0mget_default_nowrap_functions\u001b[0m\u001b[0;34m(\u001b[0m\u001b[0;34m)\u001b[0m\u001b[0;34m:\u001b[0m\u001b[0;34m\u001b[0m\u001b[0;34m\u001b[0m\u001b[0m\n\u001b[1;32m   1123\u001b[0m                 \u001b[0;32mreturn\u001b[0m \u001b[0mret\u001b[0m\u001b[0;34m\u001b[0m\u001b[0;34m\u001b[0m\u001b[0m\n",
            "\u001b[0;32m/usr/local/lib/python3.7/dist-packages/torch/_tensor.py\u001b[0m in \u001b[0;36mbackward\u001b[0;34m(self, gradient, retain_graph, create_graph, inputs)\u001b[0m\n\u001b[1;32m    394\u001b[0m                 \u001b[0mcreate_graph\u001b[0m\u001b[0;34m=\u001b[0m\u001b[0mcreate_graph\u001b[0m\u001b[0;34m,\u001b[0m\u001b[0;34m\u001b[0m\u001b[0;34m\u001b[0m\u001b[0m\n\u001b[1;32m    395\u001b[0m                 inputs=inputs)\n\u001b[0;32m--> 396\u001b[0;31m         \u001b[0mtorch\u001b[0m\u001b[0;34m.\u001b[0m\u001b[0mautograd\u001b[0m\u001b[0;34m.\u001b[0m\u001b[0mbackward\u001b[0m\u001b[0;34m(\u001b[0m\u001b[0mself\u001b[0m\u001b[0;34m,\u001b[0m \u001b[0mgradient\u001b[0m\u001b[0;34m,\u001b[0m \u001b[0mretain_graph\u001b[0m\u001b[0;34m,\u001b[0m \u001b[0mcreate_graph\u001b[0m\u001b[0;34m,\u001b[0m \u001b[0minputs\u001b[0m\u001b[0;34m=\u001b[0m\u001b[0minputs\u001b[0m\u001b[0;34m)\u001b[0m\u001b[0;34m\u001b[0m\u001b[0;34m\u001b[0m\u001b[0m\n\u001b[0m\u001b[1;32m    397\u001b[0m \u001b[0;34m\u001b[0m\u001b[0m\n\u001b[1;32m    398\u001b[0m     \u001b[0;32mdef\u001b[0m \u001b[0mregister_hook\u001b[0m\u001b[0;34m(\u001b[0m\u001b[0mself\u001b[0m\u001b[0;34m,\u001b[0m \u001b[0mhook\u001b[0m\u001b[0;34m)\u001b[0m\u001b[0;34m:\u001b[0m\u001b[0;34m\u001b[0m\u001b[0;34m\u001b[0m\u001b[0m\n",
            "\u001b[0;32m/usr/local/lib/python3.7/dist-packages/torch/autograd/__init__.py\u001b[0m in \u001b[0;36mbackward\u001b[0;34m(tensors, grad_tensors, retain_graph, create_graph, grad_variables, inputs)\u001b[0m\n\u001b[1;32m    173\u001b[0m     Variable._execution_engine.run_backward(  # Calls into the C++ engine to run the backward pass\n\u001b[1;32m    174\u001b[0m         \u001b[0mtensors\u001b[0m\u001b[0;34m,\u001b[0m \u001b[0mgrad_tensors_\u001b[0m\u001b[0;34m,\u001b[0m \u001b[0mretain_graph\u001b[0m\u001b[0;34m,\u001b[0m \u001b[0mcreate_graph\u001b[0m\u001b[0;34m,\u001b[0m \u001b[0minputs\u001b[0m\u001b[0;34m,\u001b[0m\u001b[0;34m\u001b[0m\u001b[0;34m\u001b[0m\u001b[0m\n\u001b[0;32m--> 175\u001b[0;31m         allow_unreachable=True, accumulate_grad=True)  # Calls into the C++ engine to run the backward pass\n\u001b[0m\u001b[1;32m    176\u001b[0m \u001b[0;34m\u001b[0m\u001b[0m\n\u001b[1;32m    177\u001b[0m def grad(\n",
            "\u001b[0;31mKeyboardInterrupt\u001b[0m: "
          ]
        }
      ]
    },
    {
      "cell_type": "code",
      "source": [
        "import torch"
      ],
      "metadata": {
        "id": "2wzgPnC0Hvl6"
      },
      "execution_count": null,
      "outputs": []
    },
    {
      "cell_type": "code",
      "source": [
        "aa = np.linspace(0.1,0.9,12)\n",
        "aa = aa.reshape(2,2,3)\n",
        "aa"
      ],
      "metadata": {
        "colab": {
          "base_uri": "https://localhost:8080/"
        },
        "id": "JA6Nhcg9I7ai",
        "outputId": "548e4dfa-768b-4dbd-d169-d093b433b0f4"
      },
      "execution_count": null,
      "outputs": [
        {
          "output_type": "execute_result",
          "data": {
            "text/plain": [
              "array([[[0.1       , 0.17272727, 0.24545455],\n",
              "        [0.31818182, 0.39090909, 0.46363636]],\n",
              "\n",
              "       [[0.53636364, 0.60909091, 0.68181818],\n",
              "        [0.75454545, 0.82727273, 0.9       ]]])"
            ]
          },
          "metadata": {},
          "execution_count": 40
        }
      ]
    },
    {
      "cell_type": "code",
      "source": [
        "t = torch.FloatTensor(aa)\n",
        "t.shape"
      ],
      "metadata": {
        "colab": {
          "base_uri": "https://localhost:8080/"
        },
        "id": "J9l4CLeSInN5",
        "outputId": "0d47c66e-935a-49b6-a6cf-491b264d3212"
      },
      "execution_count": null,
      "outputs": [
        {
          "output_type": "execute_result",
          "data": {
            "text/plain": [
              "torch.Size([2, 2, 3])"
            ]
          },
          "metadata": {},
          "execution_count": 41
        }
      ]
    },
    {
      "cell_type": "code",
      "source": [
        "t = t.view(-1,3)"
      ],
      "metadata": {
        "id": "mGFJD4zjJcE-"
      },
      "execution_count": null,
      "outputs": []
    },
    {
      "cell_type": "code",
      "source": [
        "t.shape"
      ],
      "metadata": {
        "colab": {
          "base_uri": "https://localhost:8080/"
        },
        "id": "uVxw319OJiU0",
        "outputId": "64567b0f-f584-4e07-f642-0e5cc2ccbdd2"
      },
      "execution_count": null,
      "outputs": [
        {
          "output_type": "execute_result",
          "data": {
            "text/plain": [
              "torch.Size([4, 3])"
            ]
          },
          "metadata": {},
          "execution_count": 43
        }
      ]
    },
    {
      "cell_type": "code",
      "source": [
        "t = t.view(4,3,1)"
      ],
      "metadata": {
        "id": "cDX3FSxLQJjr"
      },
      "execution_count": null,
      "outputs": []
    },
    {
      "cell_type": "code",
      "source": [
        "t"
      ],
      "metadata": {
        "colab": {
          "base_uri": "https://localhost:8080/"
        },
        "id": "X89rwkOEQSES",
        "outputId": "02592d83-d2e1-4e94-c0bd-112c3cc09f9c"
      },
      "execution_count": null,
      "outputs": [
        {
          "output_type": "execute_result",
          "data": {
            "text/plain": [
              "tensor([[[0.1000],\n",
              "         [0.1727],\n",
              "         [0.2455]],\n",
              "\n",
              "        [[0.3182],\n",
              "         [0.3909],\n",
              "         [0.4636]],\n",
              "\n",
              "        [[0.5364],\n",
              "         [0.6091],\n",
              "         [0.6818]],\n",
              "\n",
              "        [[0.7545],\n",
              "         [0.8273],\n",
              "         [0.9000]]])"
            ]
          },
          "metadata": {},
          "execution_count": 48
        }
      ]
    },
    {
      "cell_type": "code",
      "source": [
        "t.squeeze().shape"
      ],
      "metadata": {
        "colab": {
          "base_uri": "https://localhost:8080/"
        },
        "id": "5OimW4dyJxiN",
        "outputId": "6d53c52f-fafd-4a1c-b574-39bda92626da"
      },
      "execution_count": null,
      "outputs": [
        {
          "output_type": "execute_result",
          "data": {
            "text/plain": [
              "torch.Size([4, 3])"
            ]
          },
          "metadata": {},
          "execution_count": 49
        }
      ]
    },
    {
      "cell_type": "code",
      "source": [
        "dm1 = torch.IntTensor([i for i in range(1,10)])\n",
        "dm2 = torch.IntTensor([i for i in range(11,20)])\n",
        "dm1 = dm1.view(3,3)\n",
        "dm2 = dm2.view(3,3)"
      ],
      "metadata": {
        "id": "3LilDwlhSP9l"
      },
      "execution_count": null,
      "outputs": []
    },
    {
      "cell_type": "code",
      "source": [
        "torch.concat([dm1, dm2], dim=1)"
      ],
      "metadata": {
        "colab": {
          "base_uri": "https://localhost:8080/"
        },
        "id": "UA244NwbWwQe",
        "outputId": "1b6a366d-1aba-4c56-f74b-e67157158718"
      },
      "execution_count": null,
      "outputs": [
        {
          "output_type": "execute_result",
          "data": {
            "text/plain": [
              "tensor([[ 1,  2,  3, 11, 12, 13],\n",
              "        [ 4,  5,  6, 14, 15, 16],\n",
              "        [ 7,  8,  9, 17, 18, 19]], dtype=torch.int32)"
            ]
          },
          "metadata": {},
          "execution_count": 56
        }
      ]
    },
    {
      "cell_type": "code",
      "source": [
        "torch.cat([dm1, dm2], dim=1)"
      ],
      "metadata": {
        "colab": {
          "base_uri": "https://localhost:8080/"
        },
        "id": "U8X_LVZBd-YR",
        "outputId": "a70a58da-5759-4049-c80c-e3716a04bde4"
      },
      "execution_count": null,
      "outputs": [
        {
          "output_type": "execute_result",
          "data": {
            "text/plain": [
              "tensor([[ 1,  2,  3, 11, 12, 13],\n",
              "        [ 4,  5,  6, 14, 15, 16],\n",
              "        [ 7,  8,  9, 17, 18, 19]], dtype=torch.int32)"
            ]
          },
          "metadata": {},
          "execution_count": 57
        }
      ]
    },
    {
      "cell_type": "code",
      "source": [
        "a.view(-1,2)"
      ],
      "metadata": {
        "colab": {
          "base_uri": "https://localhost:8080/"
        },
        "id": "wt90A4QFfGJ5",
        "outputId": "b61ecddd-1c05-4527-9a62-d2d4bc9b3dd3"
      },
      "execution_count": null,
      "outputs": [
        {
          "output_type": "execute_result",
          "data": {
            "text/plain": [
              "tensor([[ 1, 11],\n",
              "        [ 2, 12],\n",
              "        [ 3, 13],\n",
              "        [ 4, 14],\n",
              "        [ 5, 15],\n",
              "        [ 6, 16],\n",
              "        [ 7, 17],\n",
              "        [ 8, 18],\n",
              "        [ 9, 19]], dtype=torch.int32)"
            ]
          },
          "metadata": {},
          "execution_count": 71
        }
      ]
    },
    {
      "cell_type": "code",
      "source": [
        "x = torch.FloatTensor([[1,2],[3,4]])\n",
        "print(x.mul_(2))"
      ],
      "metadata": {
        "colab": {
          "base_uri": "https://localhost:8080/"
        },
        "id": "7ouSBktMfg49",
        "outputId": "68644426-025e-4d2b-c55f-0b07cfdd8f6b"
      },
      "execution_count": null,
      "outputs": [
        {
          "output_type": "stream",
          "name": "stdout",
          "text": [
            "tensor([[2., 4.],\n",
            "        [6., 8.]])\n"
          ]
        }
      ]
    },
    {
      "cell_type": "code",
      "source": [
        "x"
      ],
      "metadata": {
        "colab": {
          "base_uri": "https://localhost:8080/"
        },
        "id": "MjJLXWCYmA_z",
        "outputId": "ba67ea13-a678-4a00-ace0-9452544809c0"
      },
      "execution_count": null,
      "outputs": [
        {
          "output_type": "execute_result",
          "data": {
            "text/plain": [
              "tensor([[2., 4.],\n",
              "        [6., 8.]])"
            ]
          },
          "metadata": {},
          "execution_count": 81
        }
      ]
    },
    {
      "cell_type": "code",
      "source": [
        "x_train = torch.FloatTensor([[1],[2],[3]])\n",
        "y_train = torch.FloatTensor([[2],[4],[6]])"
      ],
      "metadata": {
        "id": "PgMwubvJn78a"
      },
      "execution_count": null,
      "outputs": []
    },
    {
      "cell_type": "code",
      "source": [
        "w = torch.zeros(1, requires_grad=True)\n",
        "b = torch.zeros(1, requires_grad=True)\n",
        "w, b"
      ],
      "metadata": {
        "colab": {
          "base_uri": "https://localhost:8080/"
        },
        "id": "qoHpD_N-qUrD",
        "outputId": "5aa8d38a-e850-498d-be5c-2000221f21b6"
      },
      "execution_count": null,
      "outputs": [
        {
          "output_type": "execute_result",
          "data": {
            "text/plain": [
              "(tensor([0.], requires_grad=True), tensor([0.], requires_grad=True))"
            ]
          },
          "metadata": {},
          "execution_count": 105
        }
      ]
    },
    {
      "cell_type": "code",
      "source": [
        "hypo = x_train * w + b"
      ],
      "metadata": {
        "id": "6jYHi4YWqrH6"
      },
      "execution_count": null,
      "outputs": []
    },
    {
      "cell_type": "code",
      "source": [
        "cost = torch.mean((hypo - y_train)**2)\n",
        "cost"
      ],
      "metadata": {
        "colab": {
          "base_uri": "https://localhost:8080/"
        },
        "id": "m1mnygM0q_MG",
        "outputId": "6dd235f3-cce2-40ca-db07-cb86ff3491a0"
      },
      "execution_count": null,
      "outputs": [
        {
          "output_type": "execute_result",
          "data": {
            "text/plain": [
              "tensor(18.6667, grad_fn=<MeanBackward0>)"
            ]
          },
          "metadata": {},
          "execution_count": 88
        }
      ]
    },
    {
      "cell_type": "code",
      "source": [
        "optimizer = torch.optim.SGD([w,b], lr=0.01)"
      ],
      "metadata": {
        "id": "Tb2PL2zCrbFK"
      },
      "execution_count": null,
      "outputs": []
    },
    {
      "cell_type": "code",
      "source": [
        "optimizer.zero_grad"
      ],
      "metadata": {
        "colab": {
          "base_uri": "https://localhost:8080/"
        },
        "id": "uRnK8HHJr24D",
        "outputId": "a48d82ad-9f6c-4da6-bd1a-1b6cb7e4c5fb"
      },
      "execution_count": null,
      "outputs": [
        {
          "output_type": "execute_result",
          "data": {
            "text/plain": [
              "<bound method Optimizer.zero_grad of SGD (\n",
              "Parameter Group 0\n",
              "    dampening: 0\n",
              "    foreach: None\n",
              "    lr: 0.01\n",
              "    maximize: False\n",
              "    momentum: 0\n",
              "    nesterov: False\n",
              "    weight_decay: 0\n",
              ")>"
            ]
          },
          "metadata": {},
          "execution_count": 102
        }
      ]
    },
    {
      "cell_type": "code",
      "source": [
        "epochs = 2000\n",
        "for epoch in range(epochs):\n",
        "    hypo = x_train * w + b\n",
        "    cost = torch.mean((hypo - y_train) ** 2)\n",
        "    optimizer.zero_grad()\n",
        "    cost.backward()\n",
        "    optimizer.step()\n",
        "    if epoch % 100 == 0:\n",
        "        print(f'epoch : {epoch}, w : {w.item():.3f}, b : {b.item():.3f}, cost : {cost.item():.6f}')"
      ],
      "metadata": {
        "colab": {
          "base_uri": "https://localhost:8080/"
        },
        "id": "B6ZKmWKcsFsj",
        "outputId": "8e944deb-4dc6-46b0-e62e-1c116f479f25"
      },
      "execution_count": null,
      "outputs": [
        {
          "output_type": "stream",
          "name": "stdout",
          "text": [
            "epoch : 0, w : 0.187, b : 0.080, cost : 18.666666\n",
            "epoch : 100, w : 1.746, b : 0.578, cost : 0.048171\n",
            "epoch : 200, w : 1.800, b : 0.454, cost : 0.029767\n",
            "epoch : 300, w : 1.843, b : 0.357, cost : 0.018394\n",
            "epoch : 400, w : 1.876, b : 0.281, cost : 0.011366\n",
            "epoch : 500, w : 1.903, b : 0.221, cost : 0.007024\n",
            "epoch : 600, w : 1.924, b : 0.174, cost : 0.004340\n",
            "epoch : 700, w : 1.940, b : 0.136, cost : 0.002682\n",
            "epoch : 800, w : 1.953, b : 0.107, cost : 0.001657\n",
            "epoch : 900, w : 1.963, b : 0.084, cost : 0.001024\n",
            "epoch : 1000, w : 1.971, b : 0.066, cost : 0.000633\n",
            "epoch : 1100, w : 1.977, b : 0.052, cost : 0.000391\n",
            "epoch : 1200, w : 1.982, b : 0.041, cost : 0.000242\n",
            "epoch : 1300, w : 1.986, b : 0.032, cost : 0.000149\n",
            "epoch : 1400, w : 1.989, b : 0.025, cost : 0.000092\n",
            "epoch : 1500, w : 1.991, b : 0.020, cost : 0.000057\n",
            "epoch : 1600, w : 1.993, b : 0.016, cost : 0.000035\n",
            "epoch : 1700, w : 1.995, b : 0.012, cost : 0.000022\n",
            "epoch : 1800, w : 1.996, b : 0.010, cost : 0.000013\n",
            "epoch : 1900, w : 1.997, b : 0.008, cost : 0.000008\n"
          ]
        }
      ]
    },
    {
      "cell_type": "code",
      "source": [
        "w = torch.tensor(2.0,requires_grad=True)"
      ],
      "metadata": {
        "id": "lP22B09fvN_d"
      },
      "execution_count": null,
      "outputs": []
    },
    {
      "cell_type": "code",
      "source": [
        "y = w**2\n",
        "z = 2*y + 5"
      ],
      "metadata": {
        "id": "Jd83sSmQveun"
      },
      "execution_count": null,
      "outputs": []
    },
    {
      "cell_type": "code",
      "source": [
        "z.backward()"
      ],
      "metadata": {
        "id": "sIZfuh8evlIT"
      },
      "execution_count": null,
      "outputs": []
    },
    {
      "cell_type": "code",
      "source": [
        "x1_train = torch.FloatTensor([[73], [93], [89], [96], [73]])\n",
        "x2_train = torch.FloatTensor([[80], [88], [91], [98], [66]])\n",
        "x3_train = torch.FloatTensor([[75], [93], [90], [100], [70]])\n",
        "y_train = torch.FloatTensor([[152], [185], [180], [196], [142]])"
      ],
      "metadata": {
        "id": "bSyFe8WJvzq9"
      },
      "execution_count": null,
      "outputs": []
    },
    {
      "cell_type": "code",
      "source": [
        "w1 = torch.zeros(1, requires_grad=True)\n",
        "w2 = torch.zeros(1, requires_grad=True)\n",
        "w3 = torch.zeros(1, requires_grad=True)\n",
        "b = torch.zeros(1, requires_grad=True)"
      ],
      "metadata": {
        "id": "rwXy_6_axYOc"
      },
      "execution_count": null,
      "outputs": []
    },
    {
      "cell_type": "code",
      "source": [
        "optimizer = torch.optim.SGD([w1, w2, w3, b], lr =1e-5)"
      ],
      "metadata": {
        "id": "lm_KxX-4yLF2"
      },
      "execution_count": null,
      "outputs": []
    },
    {
      "cell_type": "code",
      "source": [
        "for epoch in range(2000):\n",
        "    pre = x1_train * w1 + x2_train * w2 + x3_train * w3 +b\n",
        "    cost = torch.mean((pre-y_train) ** 2)\n",
        "    optimizer.zero_grad()\n",
        "    cost.backward()\n",
        "    optimizer.step()\n",
        "    if epoch % 100 == 0:\n",
        "        print(f'epoch : {epoch}, w1 : {w1.item():.3f}, w2 : {w2.item():.3f}, w3 : {w3.item():.3f}, b : {b.item():.3f}, cost : {cost.item():.6f}')\n"
      ],
      "metadata": {
        "colab": {
          "base_uri": "https://localhost:8080/"
        },
        "id": "EMfy33ulx8uW",
        "outputId": "6d912239-9fbb-4983-90e6-9effc55a40d5"
      },
      "execution_count": null,
      "outputs": [
        {
          "output_type": "stream",
          "name": "stdout",
          "text": [
            "epoch : 0, w1 : 0.294, w2 : 0.294, w3 : 0.297, b : 0.003, cost : 29661.800781\n",
            "epoch : 100, w1 : 0.674, w2 : 0.661, w3 : 0.676, b : 0.008, cost : 1.563628\n",
            "epoch : 200, w1 : 0.679, w2 : 0.655, w3 : 0.677, b : 0.008, cost : 1.497595\n",
            "epoch : 300, w1 : 0.684, w2 : 0.649, w3 : 0.677, b : 0.008, cost : 1.435044\n",
            "epoch : 400, w1 : 0.689, w2 : 0.643, w3 : 0.678, b : 0.008, cost : 1.375726\n",
            "epoch : 500, w1 : 0.694, w2 : 0.638, w3 : 0.678, b : 0.009, cost : 1.319507\n",
            "epoch : 600, w1 : 0.699, w2 : 0.633, w3 : 0.679, b : 0.009, cost : 1.266222\n",
            "epoch : 700, w1 : 0.704, w2 : 0.627, w3 : 0.679, b : 0.009, cost : 1.215703\n",
            "epoch : 800, w1 : 0.709, w2 : 0.622, w3 : 0.679, b : 0.009, cost : 1.167810\n",
            "epoch : 900, w1 : 0.713, w2 : 0.617, w3 : 0.680, b : 0.009, cost : 1.122429\n",
            "epoch : 1000, w1 : 0.718, w2 : 0.613, w3 : 0.680, b : 0.009, cost : 1.079390\n",
            "epoch : 1100, w1 : 0.722, w2 : 0.608, w3 : 0.680, b : 0.009, cost : 1.038574\n",
            "epoch : 1200, w1 : 0.727, w2 : 0.603, w3 : 0.681, b : 0.010, cost : 0.999884\n",
            "epoch : 1300, w1 : 0.731, w2 : 0.599, w3 : 0.681, b : 0.010, cost : 0.963217\n",
            "epoch : 1400, w1 : 0.735, w2 : 0.595, w3 : 0.681, b : 0.010, cost : 0.928427\n",
            "epoch : 1500, w1 : 0.739, w2 : 0.591, w3 : 0.681, b : 0.010, cost : 0.895448\n",
            "epoch : 1600, w1 : 0.743, w2 : 0.586, w3 : 0.682, b : 0.010, cost : 0.864169\n",
            "epoch : 1700, w1 : 0.746, w2 : 0.583, w3 : 0.682, b : 0.010, cost : 0.834509\n",
            "epoch : 1800, w1 : 0.750, w2 : 0.579, w3 : 0.682, b : 0.010, cost : 0.806380\n",
            "epoch : 1900, w1 : 0.754, w2 : 0.575, w3 : 0.682, b : 0.010, cost : 0.779696\n"
          ]
        }
      ]
    },
    {
      "cell_type": "code",
      "source": [
        "x_train  =  torch.FloatTensor([[73,  80,  75], \n",
        "                               [93,  88,  93], \n",
        "                               [89,  91,  80], \n",
        "                               [96,  98,  100],   \n",
        "                               [73,  66,  70]])  \n",
        "y_train  =  torch.FloatTensor([[152],  [185],  [180],  [196],  [142]])"
      ],
      "metadata": {
        "id": "y-5ei6RY0MvS"
      },
      "execution_count": null,
      "outputs": []
    },
    {
      "cell_type": "code",
      "source": [
        "w = torch.zeros([3,1], requires_grad=True)\n",
        "b = torch.zeros(1, requires_grad=True)"
      ],
      "metadata": {
        "id": "LinmfXSC0NvH"
      },
      "execution_count": null,
      "outputs": []
    },
    {
      "cell_type": "code",
      "source": [
        "optimizer = torch.optim.SGD([w,b], lr=1e-5)"
      ],
      "metadata": {
        "id": "ehHX1V8n1MNv"
      },
      "execution_count": null,
      "outputs": []
    },
    {
      "cell_type": "code",
      "source": [
        "for epoch in range(2000):\n",
        "    pre = x_train.matmul(w) + b\n",
        "    cost = torch.mean((pre-y_train) ** 2)\n",
        "    optimizer.zero_grad()\n",
        "    cost.backward()\n",
        "    optimizer.step()\n",
        "    if epoch % 100 == 0:\n",
        "        print(f'epoch : {epoch}, pre : {pre.squeeze().detach()}, b : {b.item():.3f}, cost : {cost.item():.3f}')\n"
      ],
      "metadata": {
        "colab": {
          "base_uri": "https://localhost:8080/"
        },
        "id": "_hD61tdT1AJP",
        "outputId": "c801f481-941b-486d-ec49-2f88ff75dcff"
      },
      "execution_count": null,
      "outputs": [
        {
          "output_type": "stream",
          "name": "stdout",
          "text": [
            "epoch : 0, pre : tensor([104.5421, 125.6208, 119.2478, 134.7862,  95.8280]), b : 0.006, cost : 3069.590\n",
            "epoch : 100, pre : tensor([154.0430, 185.0920, 175.8333, 198.5690, 141.2222]), b : 0.008, cost : 5.750\n",
            "epoch : 200, pre : tensor([154.0275, 185.0643, 175.9356, 198.5117, 141.2286]), b : 0.008, cost : 5.508\n",
            "epoch : 300, pre : tensor([154.0117, 185.0380, 176.0349, 198.4558, 141.2354]), b : 0.008, cost : 5.277\n",
            "epoch : 400, pre : tensor([153.9957, 185.0128, 176.1314, 198.4011, 141.2427]), b : 0.008, cost : 5.058\n",
            "epoch : 500, pre : tensor([153.9794, 184.9887, 176.2251, 198.3478, 141.2505]), b : 0.008, cost : 4.848\n",
            "epoch : 600, pre : tensor([153.9629, 184.9657, 176.3161, 198.2956, 141.2588]), b : 0.008, cost : 4.649\n",
            "epoch : 700, pre : tensor([153.9462, 184.9438, 176.4046, 198.2446, 141.2674]), b : 0.009, cost : 4.459\n",
            "epoch : 800, pre : tensor([153.9293, 184.9228, 176.4905, 198.1948, 141.2764]), b : 0.009, cost : 4.277\n",
            "epoch : 900, pre : tensor([153.9123, 184.9028, 176.5741, 198.1461, 141.2857]), b : 0.009, cost : 4.104\n",
            "epoch : 1000, pre : tensor([153.8951, 184.8838, 176.6552, 198.0986, 141.2953]), b : 0.009, cost : 3.939\n",
            "epoch : 1100, pre : tensor([153.8779, 184.8656, 176.7341, 198.0520, 141.3053]), b : 0.009, cost : 3.781\n",
            "epoch : 1200, pre : tensor([153.8605, 184.8483, 176.8108, 198.0066, 141.3155]), b : 0.009, cost : 3.630\n",
            "epoch : 1300, pre : tensor([153.8430, 184.8317, 176.8853, 197.9621, 141.3260]), b : 0.009, cost : 3.486\n",
            "epoch : 1400, pre : tensor([153.8255, 184.8160, 176.9577, 197.9187, 141.3367]), b : 0.009, cost : 3.349\n",
            "epoch : 1500, pre : tensor([153.8080, 184.8010, 177.0282, 197.8762, 141.3475]), b : 0.009, cost : 3.217\n",
            "epoch : 1600, pre : tensor([153.7904, 184.7867, 177.0967, 197.8346, 141.3586]), b : 0.009, cost : 3.091\n",
            "epoch : 1700, pre : tensor([153.7728, 184.7731, 177.1633, 197.7940, 141.3699]), b : 0.009, cost : 2.971\n",
            "epoch : 1800, pre : tensor([153.7552, 184.7602, 177.2281, 197.7543, 141.3813]), b : 0.009, cost : 2.856\n",
            "epoch : 1900, pre : tensor([153.7376, 184.7479, 177.2911, 197.7155, 141.3929]), b : 0.009, cost : 2.746\n"
          ]
        }
      ]
    },
    {
      "cell_type": "code",
      "source": [
        "model = torch.nn.Linear(1, 1)\n",
        "cost = torch.functional.mse_loss()"
      ],
      "metadata": {
        "colab": {
          "base_uri": "https://localhost:8080/",
          "height": 193
        },
        "id": "RYW-sZrP3VOf",
        "outputId": "14ad2d60-e245-4c71-ff8f-c418f064d86b"
      },
      "execution_count": null,
      "outputs": [
        {
          "output_type": "error",
          "ename": "AttributeError",
          "evalue": "ignored",
          "traceback": [
            "\u001b[0;31m---------------------------------------------------------------------------\u001b[0m",
            "\u001b[0;31mAttributeError\u001b[0m                            Traceback (most recent call last)",
            "\u001b[0;32m<ipython-input-149-5f154562976f>\u001b[0m in \u001b[0;36m<module>\u001b[0;34m\u001b[0m\n\u001b[1;32m      1\u001b[0m \u001b[0mmodel\u001b[0m \u001b[0;34m=\u001b[0m \u001b[0mtorch\u001b[0m\u001b[0;34m.\u001b[0m\u001b[0mnn\u001b[0m\u001b[0;34m.\u001b[0m\u001b[0mLinear\u001b[0m\u001b[0;34m(\u001b[0m\u001b[0;36m1\u001b[0m\u001b[0;34m,\u001b[0m \u001b[0;36m1\u001b[0m\u001b[0;34m)\u001b[0m\u001b[0;34m\u001b[0m\u001b[0;34m\u001b[0m\u001b[0m\n\u001b[0;32m----> 2\u001b[0;31m \u001b[0mcost\u001b[0m \u001b[0;34m=\u001b[0m \u001b[0mtorch\u001b[0m\u001b[0;34m.\u001b[0m\u001b[0mfunctional\u001b[0m\u001b[0;34m.\u001b[0m\u001b[0mmse_loss\u001b[0m\u001b[0;34m(\u001b[0m\u001b[0;34m)\u001b[0m\u001b[0;34m\u001b[0m\u001b[0;34m\u001b[0m\u001b[0m\n\u001b[0m",
            "\u001b[0;31mAttributeError\u001b[0m: module 'torch.functional' has no attribute 'mse_loss'"
          ]
        }
      ]
    },
    {
      "cell_type": "code",
      "source": [
        "x_train = torch.FloatTensor([[1],[2],[3]])\n",
        "y_train = torch.FloatTensor([[2],[4],[6]])"
      ],
      "metadata": {
        "id": "8_onXbyx4HIn"
      },
      "execution_count": null,
      "outputs": []
    },
    {
      "cell_type": "code",
      "source": [
        "model = torch.nn.Linear(1, 1)"
      ],
      "metadata": {
        "id": "kzgGg8zw4W3S"
      },
      "execution_count": null,
      "outputs": []
    },
    {
      "cell_type": "code",
      "source": [
        "optimizer = torch.optim.SGD(model.parameters(), lr = 0.01)"
      ],
      "metadata": {
        "id": "OVleux0y4uT1"
      },
      "execution_count": null,
      "outputs": []
    },
    {
      "cell_type": "code",
      "source": [
        "epochs = 2000\n",
        "for epoch in range(epochs):\n",
        "    pre = model(x_train)\n",
        "    cost = torch.nn.functional.mse_loss(pre, y_train)\n",
        "    optimizer.zero_grad()\n",
        "    cost.backward()\n",
        "    optimizer.step()\n",
        "    if epoch % 100 == 0:\n",
        "        print(f'epoch : {epoch}/{epochs}, cost : {cost:.6f}')"
      ],
      "metadata": {
        "colab": {
          "base_uri": "https://localhost:8080/"
        },
        "id": "tckWGr455U5u",
        "outputId": "9e0ba289-32c4-4c8a-f868-307fd06b4234"
      },
      "execution_count": null,
      "outputs": [
        {
          "output_type": "stream",
          "name": "stdout",
          "text": [
            "epoch : 0/2000, cost : 9.631135\n",
            "epoch : 100/2000, cost : 0.031815\n",
            "epoch : 200/2000, cost : 0.019659\n",
            "epoch : 300/2000, cost : 0.012148\n",
            "epoch : 400/2000, cost : 0.007507\n",
            "epoch : 500/2000, cost : 0.004639\n",
            "epoch : 600/2000, cost : 0.002867\n",
            "epoch : 700/2000, cost : 0.001771\n",
            "epoch : 800/2000, cost : 0.001095\n",
            "epoch : 900/2000, cost : 0.000676\n",
            "epoch : 1000/2000, cost : 0.000418\n",
            "epoch : 1100/2000, cost : 0.000258\n",
            "epoch : 1200/2000, cost : 0.000160\n",
            "epoch : 1300/2000, cost : 0.000099\n",
            "epoch : 1400/2000, cost : 0.000061\n",
            "epoch : 1500/2000, cost : 0.000038\n",
            "epoch : 1600/2000, cost : 0.000023\n",
            "epoch : 1700/2000, cost : 0.000014\n",
            "epoch : 1800/2000, cost : 0.000009\n",
            "epoch : 1900/2000, cost : 0.000005\n"
          ]
        }
      ]
    },
    {
      "cell_type": "code",
      "source": [
        "var = torch.FloatTensor([[4]])\n",
        "model(var)"
      ],
      "metadata": {
        "colab": {
          "base_uri": "https://localhost:8080/"
        },
        "id": "-Sz9mWxK6QVH",
        "outputId": "eb7549c0-c6da-4de4-f921-bb548ad9dfd4"
      },
      "execution_count": null,
      "outputs": [
        {
          "output_type": "execute_result",
          "data": {
            "text/plain": [
              "tensor([[7.9963]], grad_fn=<AddmmBackward0>)"
            ]
          },
          "metadata": {},
          "execution_count": 157
        }
      ]
    },
    {
      "cell_type": "code",
      "source": [
        "list(model.parameters())"
      ],
      "metadata": {
        "colab": {
          "base_uri": "https://localhost:8080/"
        },
        "id": "nvzht-EL6dal",
        "outputId": "4dee2755-07d8-417d-cbf4-bd56f56c34c6"
      },
      "execution_count": null,
      "outputs": [
        {
          "output_type": "execute_result",
          "data": {
            "text/plain": [
              "[Parameter containing:\n",
              " tensor([[1.9979]], requires_grad=True), Parameter containing:\n",
              " tensor([0.0049], requires_grad=True)]"
            ]
          },
          "metadata": {},
          "execution_count": 158
        }
      ]
    },
    {
      "cell_type": "code",
      "source": [
        "x_train = torch.FloatTensor([[73, 80, 75],\n",
        "                             [93, 88, 93],\n",
        "                             [89, 91, 90],\n",
        "                             [96, 98, 100],\n",
        "                             [73, 66, 70]])\n",
        "y_train = torch.FloatTensor([[152], [185], [180], [196], [142]])"
      ],
      "metadata": {
        "id": "a98ck1t_-YK9"
      },
      "execution_count": null,
      "outputs": []
    },
    {
      "cell_type": "code",
      "source": [
        "model = torch.nn.Linear(3,1)"
      ],
      "metadata": {
        "id": "ON3zGmaB-Y3T"
      },
      "execution_count": null,
      "outputs": []
    },
    {
      "cell_type": "code",
      "source": [
        "optimizer = torch.optim.SGD(model.parameters(),lr=1e-5)"
      ],
      "metadata": {
        "id": "i54jVQOl-lnR"
      },
      "execution_count": null,
      "outputs": []
    },
    {
      "cell_type": "code",
      "source": [
        "epochs = 1000\n",
        "for epoch in range(epochs):\n",
        "    pre = model(x_train)\n",
        "    cost = torch.nn.functional.mse_loss(y_train, pre)\n",
        "    optimizer.zero_grad()\n",
        "    cost.backward()\n",
        "    optimizer.step()\n",
        "    if epoch % 100 == 0:\n",
        "        print(f'epoch : {epoch}/{epochs}, cost : {cost:.6f}')"
      ],
      "metadata": {
        "colab": {
          "base_uri": "https://localhost:8080/"
        },
        "id": "a1p8oV4E-iYn",
        "outputId": "470672ce-386e-4e21-c2de-c9be1c874f0c"
      },
      "execution_count": null,
      "outputs": [
        {
          "output_type": "stream",
          "name": "stdout",
          "text": [
            "epoch : 0/1000, cost : 31402.947266\n",
            "epoch : 100/1000, cost : 6.015189\n",
            "epoch : 200/1000, cost : 5.705954\n",
            "epoch : 300/1000, cost : 5.413043\n",
            "epoch : 400/1000, cost : 5.135574\n",
            "epoch : 500/1000, cost : 4.872722\n",
            "epoch : 600/1000, cost : 4.623765\n",
            "epoch : 700/1000, cost : 4.387917\n",
            "epoch : 800/1000, cost : 4.164495\n",
            "epoch : 900/1000, cost : 3.952893\n"
          ]
        }
      ]
    },
    {
      "cell_type": "code",
      "source": [
        "list(model.parameters())"
      ],
      "metadata": {
        "colab": {
          "base_uri": "https://localhost:8080/"
        },
        "id": "VoGHcnNA_tox",
        "outputId": "1731e1c6-693c-4ccb-daf2-a52d3f46df36"
      },
      "execution_count": null,
      "outputs": [
        {
          "output_type": "execute_result",
          "data": {
            "text/plain": [
              "[Parameter containing:\n",
              " tensor([[0.6907, 0.9015, 0.4155]], requires_grad=True), Parameter containing:\n",
              " tensor([0.5477], requires_grad=True)]"
            ]
          },
          "metadata": {},
          "execution_count": 163
        }
      ]
    },
    {
      "cell_type": "code",
      "source": [
        "new_var =  torch.FloatTensor([[73, 80, 75]]) \n",
        "model(new_var)"
      ],
      "metadata": {
        "colab": {
          "base_uri": "https://localhost:8080/"
        },
        "id": "oxWUEi3U_5x6",
        "outputId": "4e20e8e6-892f-4743-cc0b-c4439a1f88af"
      },
      "execution_count": null,
      "outputs": [
        {
          "output_type": "execute_result",
          "data": {
            "text/plain": [
              "tensor([[154.2513]], grad_fn=<AddmmBackward0>)"
            ]
          },
          "metadata": {},
          "execution_count": 164
        }
      ]
    },
    {
      "cell_type": "code",
      "source": [
        "class linearmodel(torch.nn.Module):\n",
        "    def __init__(self):\n",
        "        super().__init__()\n",
        "        self.linear = torch.nn.Linear(1,1)\n",
        "    def forward(self,x):\n",
        "        y = self.linear(x)\n",
        "        return y"
      ],
      "metadata": {
        "id": "4hcyLDzIBq4L"
      },
      "execution_count": null,
      "outputs": []
    },
    {
      "cell_type": "code",
      "source": [
        "mdoel = linearmodel()"
      ],
      "metadata": {
        "id": "NZnC-6_RCa0m"
      },
      "execution_count": null,
      "outputs": []
    },
    {
      "cell_type": "code",
      "source": [
        "x = torch.FloatTensor([[3]])"
      ],
      "metadata": {
        "id": "wVcClD1dCj4I"
      },
      "execution_count": null,
      "outputs": []
    },
    {
      "cell_type": "code",
      "source": [
        "class mullinear(torch.nn.Module):\n",
        "    def __init__(self):\n",
        "        super().__init__()\n",
        "        self.linear = torch.nn.Linear(1,1)\n",
        "    def forward(self, x):\n",
        "        return self.linear(x)"
      ],
      "metadata": {
        "id": "j17c9PczDwxa"
      },
      "execution_count": null,
      "outputs": []
    },
    {
      "cell_type": "code",
      "source": [
        "model = mullinear()"
      ],
      "metadata": {
        "id": "wiGXX0D-EoJK"
      },
      "execution_count": null,
      "outputs": []
    },
    {
      "cell_type": "code",
      "source": [
        "x_train = torch.FloatTensor([[1], [2], [3]])\n",
        "y_train = torch.FloatTensor([[2], [4], [6]])"
      ],
      "metadata": {
        "id": "8ogleLxBFF-p"
      },
      "execution_count": null,
      "outputs": []
    },
    {
      "cell_type": "code",
      "source": [
        "optimizer = torch.optim.SGD(model.parameters(), lr = 1e-2)\n",
        "epochs = 2000\n",
        "for epoch in range(epochs):\n",
        "    pre = model(x_train)\n",
        "    cost = torch.nn.functional.mse_loss(y_train, pre)\n",
        "    optimizer.zero_grad()\n",
        "    cost.backward()\n",
        "    optimizer.step()\n",
        "    if epochs % 100 == 0:\n",
        "        print(f'epoch : {epoch}/{epochs}, loss : {cost.item():.3f}')\n"
      ],
      "metadata": {
        "id": "xzslgGivEZ41"
      },
      "execution_count": null,
      "outputs": []
    },
    {
      "cell_type": "code",
      "source": [
        "val = torch.FloatTensor([[3]])\n",
        "model(val)"
      ],
      "metadata": {
        "colab": {
          "base_uri": "https://localhost:8080/"
        },
        "id": "QCbeNZvPGRLz",
        "outputId": "30958aa1-e339-4777-9193-f05795630901"
      },
      "execution_count": null,
      "outputs": [
        {
          "output_type": "execute_result",
          "data": {
            "text/plain": [
              "tensor([[5.9994]], grad_fn=<AddmmBackward0>)"
            ]
          },
          "metadata": {},
          "execution_count": 189
        }
      ]
    },
    {
      "cell_type": "code",
      "source": [
        "class multilinear(torch.nn.Module):\n",
        "    def __init__(self):\n",
        "        super().__init__()\n",
        "        self.linear = torch.nn.Linear(3,1)\n",
        "    def forward(self, x):\n",
        "        return self.linear(x)"
      ],
      "metadata": {
        "id": "Iaw1fMRlHL_o"
      },
      "execution_count": null,
      "outputs": []
    },
    {
      "cell_type": "code",
      "source": [
        "x_train = torch.FloatTensor([[73, 80, 75],\n",
        "                             [93, 88, 93],\n",
        "                             [89, 91, 90],\n",
        "                             [96, 98, 100],\n",
        "                             [73, 66, 70]])\n",
        "y_train = torch.FloatTensor([[152], [185], [180], [196], [142]])"
      ],
      "metadata": {
        "id": "-55_yO5PJQJU"
      },
      "execution_count": null,
      "outputs": []
    },
    {
      "cell_type": "code",
      "source": [
        "model = multilinear()\n",
        "optimizer = torch.optim.SGD(model.parameters(), lr = 1e-5)\n",
        "epochs = 2000\n",
        "for epoch in range(epochs):\n",
        "    pre = model(x_train)\n",
        "    loss = torch.nn.functional.mse_loss(y_train, pre)\n",
        "    optimizer.zero_grad()\n",
        "    loss.backward()\n",
        "    optimizer.step()\n",
        "    if epoch % 100 ==0:\n",
        "        print(f'epoch : {epoch}/{epochs}, loss : {loss.item():.3f}')"
      ],
      "metadata": {
        "colab": {
          "base_uri": "https://localhost:8080/"
        },
        "id": "sgtOIWrZHu3s",
        "outputId": "b7152154-7ef2-4a41-b647-463ae04eef7c"
      },
      "execution_count": null,
      "outputs": [
        {
          "output_type": "stream",
          "name": "stdout",
          "text": [
            "epoch : 0/2000, loss : 81734.734\n",
            "epoch : 100/2000, loss : 1.884\n",
            "epoch : 200/2000, loss : 1.795\n",
            "epoch : 300/2000, loss : 1.712\n",
            "epoch : 400/2000, loss : 1.632\n",
            "epoch : 500/2000, loss : 1.557\n",
            "epoch : 600/2000, loss : 1.486\n",
            "epoch : 700/2000, loss : 1.419\n",
            "epoch : 800/2000, loss : 1.355\n",
            "epoch : 900/2000, loss : 1.294\n",
            "epoch : 1000/2000, loss : 1.237\n",
            "epoch : 1100/2000, loss : 1.182\n",
            "epoch : 1200/2000, loss : 1.131\n",
            "epoch : 1300/2000, loss : 1.082\n",
            "epoch : 1400/2000, loss : 1.036\n",
            "epoch : 1500/2000, loss : 0.992\n",
            "epoch : 1600/2000, loss : 0.950\n",
            "epoch : 1700/2000, loss : 0.911\n",
            "epoch : 1800/2000, loss : 0.874\n",
            "epoch : 1900/2000, loss : 0.838\n"
          ]
        }
      ]
    },
    {
      "cell_type": "code",
      "source": [
        "list(model.parameters())"
      ],
      "metadata": {
        "colab": {
          "base_uri": "https://localhost:8080/"
        },
        "id": "dvYeUVqOJVmE",
        "outputId": "3422ada9-8190-4c55-902e-ebceef4b09f1"
      },
      "execution_count": null,
      "outputs": [
        {
          "output_type": "execute_result",
          "data": {
            "text/plain": [
              "[Parameter containing:\n",
              " tensor([[0.8032, 0.6268, 0.5788]], requires_grad=True), Parameter containing:\n",
              " tensor([0.2655], requires_grad=True)]"
            ]
          },
          "metadata": {},
          "execution_count": 206
        }
      ]
    },
    {
      "cell_type": "code",
      "source": [
        "x_train  =  torch.FloatTensor([[73,  80,  75], \n",
        "                               [93,  88,  93], \n",
        "                               [89,  91,  90], \n",
        "                               [96,  98,  100],   \n",
        "                               [73,  66,  70]])  \n",
        "y_train  =  torch.FloatTensor([[152],  [185],  [180],  [196],  [142]])"
      ],
      "metadata": {
        "id": "Iqj4kLrrMZcq"
      },
      "execution_count": null,
      "outputs": []
    },
    {
      "cell_type": "code",
      "source": [
        "dataset = torch.utils.data.TensorDataset(x_train, y_train)"
      ],
      "metadata": {
        "id": "iHwj1b8SMcmP"
      },
      "execution_count": null,
      "outputs": []
    },
    {
      "cell_type": "code",
      "source": [
        "dataloder = torch.utils.data.DataLoader(dataset, batch_size=2, shuffle=True)"
      ],
      "metadata": {
        "id": "MIWQhd8qOuF7"
      },
      "execution_count": null,
      "outputs": []
    },
    {
      "cell_type": "code",
      "source": [
        "model = torch.nn.Linear(3,1)\n",
        "optimizer = torch.optim.SGD(model.parameters(), lr = 1e-5)\n",
        "epochs = 2000\n",
        "for epoch in range(epochs):\n",
        "    for i, j in enumerate(dataloder):\n",
        "        x_train, y_train = j\n",
        "        pre = model(x_train)\n",
        "        loss = torch.nn.functional.mse_loss(y_train, pre)\n",
        "        optimizer.zero_grad()\n",
        "        loss.backward()\n",
        "        optimizer.step()\n",
        "        if epoch % 100 == 0:\n",
        "            print(f'epoch : {epoch}/{epochs}, batch : {i+1}/{len(dataloder)}, loss : {loss.item():.3f}')"
      ],
      "metadata": {
        "id": "q3B18GN8Q8iX"
      },
      "execution_count": null,
      "outputs": []
    },
    {
      "cell_type": "code",
      "source": [
        "optimizer = torch.optim.SGD()"
      ],
      "metadata": {
        "colab": {
          "base_uri": "https://localhost:8080/"
        },
        "id": "a4uO-JNBPI5N",
        "outputId": "6d3def47-0688-4cae-901e-812cb46c8b8f"
      },
      "execution_count": null,
      "outputs": [
        {
          "output_type": "stream",
          "name": "stdout",
          "text": [
            "[tensor([[89., 91., 90.],\n",
            "        [93., 88., 93.]]), tensor([[180.],\n",
            "        [185.]])]\n",
            "[tensor([[ 96.,  98., 100.],\n",
            "        [ 73.,  66.,  70.]]), tensor([[196.],\n",
            "        [142.]])]\n",
            "[tensor([[73., 80., 75.]]), tensor([[152.]])]\n"
          ]
        }
      ]
    },
    {
      "cell_type": "code",
      "source": [
        "class customdataset(torch.utils.data.Dataset):\n",
        "    def __init__(self):\n",
        "        self.x_train = torch.FloatTensor([[73,  80,  75], \n",
        "                               [93,  88,  93], \n",
        "                               [89,  91,  90], \n",
        "                               [96,  98,  100],   \n",
        "                               [73,  66,  70]])\n",
        "        self.y_train = torch.FloatTensor([[152],  [185],  [180],  [196],  [142]])\n",
        "    def __version__(self):\n",
        "        return '2.44'\n",
        "    def __len__(self):\n",
        "        return len(self.x_train)\n",
        "    def __getitem__(self, idx):\n",
        "        x = torch.FloatTensor(self.x_train[idx])\n",
        "        y = torch.FloatTensor(self.y_train[idx])\n",
        "        return x, y\n"
      ],
      "metadata": {
        "id": "o2pXdW-XV1QP"
      },
      "execution_count": null,
      "outputs": []
    },
    {
      "cell_type": "code",
      "source": [
        "datasets = customdataset()\n",
        "len(datasets)"
      ],
      "metadata": {
        "colab": {
          "base_uri": "https://localhost:8080/"
        },
        "id": "nyw-UPSsXCEr",
        "outputId": "1fec4e3e-cd1d-4fbc-d201-d116f6ddbd03"
      },
      "execution_count": null,
      "outputs": [
        {
          "output_type": "execute_result",
          "data": {
            "text/plain": [
              "5"
            ]
          },
          "metadata": {},
          "execution_count": 234
        }
      ]
    },
    {
      "cell_type": "code",
      "source": [
        "dataloder = torch.utils.data.DataLoader(datasets, batch_size=2, shuffle=True)\n",
        "for i in dataloder:\n",
        "    print(i)"
      ],
      "metadata": {
        "colab": {
          "base_uri": "https://localhost:8080/"
        },
        "id": "XKy0B7RcZFan",
        "outputId": "bf2fb50b-cc5f-4ad0-b606-716cb5f19ae0"
      },
      "execution_count": null,
      "outputs": [
        {
          "output_type": "stream",
          "name": "stdout",
          "text": [
            "[tensor([[73., 80., 75.],\n",
            "        [73., 66., 70.]]), tensor([[152.],\n",
            "        [142.]])]\n",
            "[tensor([[ 96.,  98., 100.],\n",
            "        [ 89.,  91.,  90.]]), tensor([[196.],\n",
            "        [180.]])]\n",
            "[tensor([[93., 88., 93.]]), tensor([[185.]])]\n"
          ]
        }
      ]
    },
    {
      "cell_type": "code",
      "source": [
        "import numpy as np\n",
        "def sigmoid(x):\n",
        "    return 1/(1+np.exp(-x))"
      ],
      "metadata": {
        "colab": {
          "base_uri": "https://localhost:8080/"
        },
        "id": "V-uQbvb7bvFm",
        "outputId": "75fd20c8-721c-48d5-c484-7136ad9e2da5"
      },
      "execution_count": null,
      "outputs": [
        {
          "output_type": "execute_result",
          "data": {
            "text/plain": [
              "0.6681877721681662"
            ]
          },
          "metadata": {},
          "execution_count": 239
        }
      ]
    },
    {
      "cell_type": "code",
      "source": [
        "import matplotlib.pyplot as plt\n",
        "x = np.arange(-5,5,0.1)\n",
        "plt.plot(x, sigmoid(x))\n",
        "plt.plot([-5,5],[0.5,0.5])\n",
        "plt.grid(True)\n",
        "plt.show()"
      ],
      "metadata": {
        "colab": {
          "base_uri": "https://localhost:8080/",
          "height": 265
        },
        "id": "lKv21umpci7_",
        "outputId": "aa532957-d4a9-4f00-a891-a487c414649c"
      },
      "execution_count": null,
      "outputs": [
        {
          "output_type": "display_data",
          "data": {
            "text/plain": [
              "<Figure size 432x288 with 1 Axes>"
            ],
            "image/png": "[encoded data removed]"
          },
          "metadata": {
            "needs_background": "light"
          }
        }
      ]
    },
    {
      "cell_type": "code",
      "source": [
        "x_train = torch.FloatTensor([[1, 2], [2, 3], [3, 1], [4, 3], [5, 3], [6, 2]])\n",
        "y_train = torch.FloatTensor([[0], [0], [0], [1], [1], [1]])\n",
        "w = torch.zeros((2,1), requires_grad=True)\n",
        "b = torch.zeros(1, requires_grad=True)"
      ],
      "metadata": {
        "id": "lMzGuE4GgQjJ"
      },
      "execution_count": null,
      "outputs": []
    },
    {
      "cell_type": "code",
      "source": [
        "pre = 1/(1+torch.exp(-(x_train.matmul(w)+b)))\n",
        "pre"
      ],
      "metadata": {
        "colab": {
          "base_uri": "https://localhost:8080/"
        },
        "id": "h0QlIvRNg5mJ",
        "outputId": "49a42594-268a-4a54-deb8-924892a22b9d"
      },
      "execution_count": null,
      "outputs": [
        {
          "output_type": "execute_result",
          "data": {
            "text/plain": [
              "tensor([[0.5000],\n",
              "        [0.5000],\n",
              "        [0.5000],\n",
              "        [0.5000],\n",
              "        [0.5000],\n",
              "        [0.5000]], grad_fn=<MulBackward0>)"
            ]
          },
          "metadata": {},
          "execution_count": 259
        }
      ]
    },
    {
      "cell_type": "code",
      "source": [
        "optimizer = torch.optim.SGD([w,b], lr=1)"
      ],
      "metadata": {
        "id": "sJcqgITUivPj"
      },
      "execution_count": null,
      "outputs": []
    },
    {
      "cell_type": "code",
      "source": [
        "epochs = 1000\n",
        "for epoch in range(epochs):\n",
        "    pre = torch.sigmoid(x_train.matmul(w)+b)\n",
        "    loss = torch.nn.functional.binary_cross_entropy(pre, y_train)\n",
        "    # .binary_cross_entropy(hypothesis, y_train)\n",
        "    # loss = -(y_train * torch.log(pre) + \n",
        "    #          (1 - y_train) * torch.log(1 - pre)).mean()\n",
        "    optimizer.zero_grad()\n",
        "    loss.backward()\n",
        "    optimizer.step()\n",
        "    if epoch % 100 ==0:\n",
        "        print(f'epoch : {epoch}/{epochs}, loss : {loss.item():.3f}')"
      ],
      "metadata": {
        "colab": {
          "base_uri": "https://localhost:8080/"
        },
        "id": "sD2ozcDsjRKK",
        "outputId": "062f0582-e78c-4877-cced-f4e3ce340a87"
      },
      "execution_count": null,
      "outputs": [
        {
          "output_type": "stream",
          "name": "stdout",
          "text": [
            "epoch : 0/1000, loss : 0.693\n",
            "epoch : 100/1000, loss : 0.135\n",
            "epoch : 200/1000, loss : 0.081\n",
            "epoch : 300/1000, loss : 0.058\n",
            "epoch : 400/1000, loss : 0.045\n",
            "epoch : 500/1000, loss : 0.037\n",
            "epoch : 600/1000, loss : 0.032\n",
            "epoch : 700/1000, loss : 0.028\n",
            "epoch : 800/1000, loss : 0.024\n",
            "epoch : 900/1000, loss : 0.022\n"
          ]
        }
      ]
    },
    {
      "cell_type": "code",
      "source": [
        "pre"
      ],
      "metadata": {
        "colab": {
          "base_uri": "https://localhost:8080/"
        },
        "id": "r-rYYkTQl5hM",
        "outputId": "bb1fa88a-0844-41a4-f2d8-cccb651038d1"
      },
      "execution_count": null,
      "outputs": [
        {
          "output_type": "execute_result",
          "data": {
            "text/plain": [
              "tensor([[2.7775e-04],\n",
              "        [3.1664e-02],\n",
              "        [3.9050e-02],\n",
              "        [9.5614e-01],\n",
              "        [9.9823e-01],\n",
              "        [9.9969e-01]], grad_fn=<SigmoidBackward0>)"
            ]
          },
          "metadata": {},
          "execution_count": 284
        }
      ]
    },
    {
      "cell_type": "code",
      "source": [
        "x_train[3:,1],"
      ],
      "metadata": {
        "colab": {
          "base_uri": "https://localhost:8080/"
        },
        "id": "PplQeGkjmZgg",
        "outputId": "2dd9d8d6-28d6-469d-a48c-db96013ed470"
      },
      "execution_count": null,
      "outputs": [
        {
          "output_type": "execute_result",
          "data": {
            "text/plain": [
              "(tensor([3., 3., 2.]),)"
            ]
          },
          "metadata": {},
          "execution_count": 291
        }
      ]
    },
    {
      "cell_type": "code",
      "source": [
        "plt.scatter(x_train[:3,0], x_train[:3,1])\n",
        "plt.scatter(x_train[3:,0], x_train[3:,1],c='r')\n",
        "plt.show()"
      ],
      "metadata": {
        "colab": {
          "base_uri": "https://localhost:8080/",
          "height": 265
        },
        "id": "hPlgyPRjmSJj",
        "outputId": "a1cb7dc9-5663-4564-de0b-52a26215950a"
      },
      "execution_count": null,
      "outputs": [
        {
          "output_type": "display_data",
          "data": {
            "text/plain": [
              "<Figure size 432x288 with 1 Axes>"
            ],
            "image/png": "[encoded data removed]"
          },
          "metadata": {
            "needs_background": "light"
          }
        }
      ]
    },
    {
      "cell_type": "code",
      "source": [
        "model = torch.nn.Sequential(\n",
        "    torch.nn.Linear(2,1),\n",
        "    torch.nn.Sigmoid()\n",
        ")"
      ],
      "metadata": {
        "id": "14YihrF3ncvr"
      },
      "execution_count": null,
      "outputs": []
    },
    {
      "cell_type": "code",
      "source": [
        "optimizer = torch.optim.SGD(model.parameters(), lr=1)"
      ],
      "metadata": {
        "id": "8NJpSANXsPHs"
      },
      "execution_count": null,
      "outputs": []
    },
    {
      "cell_type": "code",
      "source": [
        "epochs = 1000\n",
        "for epoch in range(epochs):\n",
        "    pre = model(x_train)\n",
        "    loss = torch.nn.functional.binary_cross_entropy(pre, y_train)\n",
        "    # .binary_cross_entropy(hypothesis, y_train)\n",
        "    # loss = -(y_train * torch.log(pre) + \n",
        "    #          (1 - y_train) * torch.log(1 - pre)).mean()\n",
        "    optimizer.zero_grad()\n",
        "    loss.backward()\n",
        "    optimizer.step()\n",
        "    if epoch % 20 ==0:\n",
        "        pree = pre >= torch.FloatTensor([[0.5]])\n",
        "        acc = pree.float() == y_train\n",
        "        accuracy = acc.sum().item()/len(y_train)\n",
        "        print(f'epoch : {epoch}/{epochs}, loss : {loss.item():.3f}, accuracy : {accuracy}')"
      ],
      "metadata": {
        "colab": {
          "base_uri": "https://localhost:8080/"
        },
        "id": "fcDYofYHr11E",
        "outputId": "d5ff488d-6bdd-4bad-9d04-1a375556a5b8"
      },
      "execution_count": null,
      "outputs": [
        {
          "output_type": "stream",
          "name": "stdout",
          "text": [
            "epoch : 0/1000, loss : 0.868, accuracy : 0.5\n",
            "epoch : 20/1000, loss : 0.572, accuracy : 0.8333333333333334\n",
            "epoch : 40/1000, loss : 0.386, accuracy : 0.8333333333333334\n",
            "epoch : 60/1000, loss : 0.234, accuracy : 0.8333333333333334\n",
            "epoch : 80/1000, loss : 0.155, accuracy : 1.0\n",
            "epoch : 100/1000, loss : 0.133, accuracy : 1.0\n",
            "epoch : 120/1000, loss : 0.117, accuracy : 1.0\n",
            "epoch : 140/1000, loss : 0.105, accuracy : 1.0\n",
            "epoch : 160/1000, loss : 0.095, accuracy : 1.0\n",
            "epoch : 180/1000, loss : 0.087, accuracy : 1.0\n",
            "epoch : 200/1000, loss : 0.080, accuracy : 1.0\n",
            "epoch : 220/1000, loss : 0.074, accuracy : 1.0\n",
            "epoch : 240/1000, loss : 0.069, accuracy : 1.0\n",
            "epoch : 260/1000, loss : 0.065, accuracy : 1.0\n",
            "epoch : 280/1000, loss : 0.061, accuracy : 1.0\n",
            "epoch : 300/1000, loss : 0.058, accuracy : 1.0\n",
            "epoch : 320/1000, loss : 0.055, accuracy : 1.0\n",
            "epoch : 340/1000, loss : 0.052, accuracy : 1.0\n",
            "epoch : 360/1000, loss : 0.049, accuracy : 1.0\n",
            "epoch : 380/1000, loss : 0.047, accuracy : 1.0\n",
            "epoch : 400/1000, loss : 0.045, accuracy : 1.0\n",
            "epoch : 420/1000, loss : 0.043, accuracy : 1.0\n",
            "epoch : 440/1000, loss : 0.042, accuracy : 1.0\n",
            "epoch : 460/1000, loss : 0.040, accuracy : 1.0\n",
            "epoch : 480/1000, loss : 0.039, accuracy : 1.0\n",
            "epoch : 500/1000, loss : 0.037, accuracy : 1.0\n",
            "epoch : 520/1000, loss : 0.036, accuracy : 1.0\n",
            "epoch : 540/1000, loss : 0.035, accuracy : 1.0\n",
            "epoch : 560/1000, loss : 0.034, accuracy : 1.0\n",
            "epoch : 580/1000, loss : 0.033, accuracy : 1.0\n",
            "epoch : 600/1000, loss : 0.032, accuracy : 1.0\n",
            "epoch : 620/1000, loss : 0.031, accuracy : 1.0\n",
            "epoch : 640/1000, loss : 0.030, accuracy : 1.0\n",
            "epoch : 660/1000, loss : 0.029, accuracy : 1.0\n",
            "epoch : 680/1000, loss : 0.028, accuracy : 1.0\n",
            "epoch : 700/1000, loss : 0.027, accuracy : 1.0\n",
            "epoch : 720/1000, loss : 0.027, accuracy : 1.0\n",
            "epoch : 740/1000, loss : 0.026, accuracy : 1.0\n",
            "epoch : 760/1000, loss : 0.026, accuracy : 1.0\n",
            "epoch : 780/1000, loss : 0.025, accuracy : 1.0\n",
            "epoch : 800/1000, loss : 0.024, accuracy : 1.0\n",
            "epoch : 820/1000, loss : 0.024, accuracy : 1.0\n",
            "epoch : 840/1000, loss : 0.023, accuracy : 1.0\n",
            "epoch : 860/1000, loss : 0.023, accuracy : 1.0\n",
            "epoch : 880/1000, loss : 0.022, accuracy : 1.0\n",
            "epoch : 900/1000, loss : 0.022, accuracy : 1.0\n",
            "epoch : 920/1000, loss : 0.021, accuracy : 1.0\n",
            "epoch : 940/1000, loss : 0.021, accuracy : 1.0\n",
            "epoch : 960/1000, loss : 0.021, accuracy : 1.0\n",
            "epoch : 980/1000, loss : 0.020, accuracy : 1.0\n"
          ]
        }
      ]
    },
    {
      "cell_type": "code",
      "source": [
        "class binaryclass(torch.nn.Module):\n",
        "    def __init__(self):\n",
        "        super().__init__()\n",
        "        self.linear = torch.nn.Linear(2,1)\n",
        "        self.sig = torch.nn.Sigmoid()\n",
        "    def forward(self,x):\n",
        "        return self.sig(self.linear(x))\n",
        "\n",
        "model = binaryclass()"
      ],
      "metadata": {
        "id": "f0HFLebLrBDe"
      },
      "execution_count": null,
      "outputs": []
    },
    {
      "cell_type": "code",
      "source": [
        "optimizer = torch.optim.SGD(model.parameters(), lr=1)"
      ],
      "metadata": {
        "id": "xjutpQS6xHhe"
      },
      "execution_count": null,
      "outputs": []
    },
    {
      "cell_type": "code",
      "source": [
        "epochs = 1000\n",
        "for epoch in range(epochs):\n",
        "    pre = model(x_train)\n",
        "    loss = torch.nn.functional.binary_cross_entropy(pre, y_train)\n",
        "    optimizer.zero_grad()\n",
        "    loss.backward()\n",
        "    optimizer.step()\n",
        "    if epoch % 20 == 0:\n",
        "        pree = pre >= torch.FloatTensor([[0.5]])\n",
        "        acc = ((pree == y_train).sum() / len(pre))*100\n",
        "        print(f'epoch : {epoch}/{epochs}, loss : {loss:.3f}, accuracy : {acc}%')"
      ],
      "metadata": {
        "colab": {
          "base_uri": "https://localhost:8080/"
        },
        "id": "q02L4cX2xZJb",
        "outputId": "b1fcf540-7f3b-4e74-980d-65f34a502a0f"
      },
      "execution_count": null,
      "outputs": [
        {
          "output_type": "stream",
          "name": "stdout",
          "text": [
            "epoch : 0/1000, loss : 0.786, accuracy : 50.0%\n",
            "epoch : 20/1000, loss : 0.598, accuracy : 83.33332824707031%\n",
            "epoch : 40/1000, loss : 0.396, accuracy : 83.33332824707031%\n",
            "epoch : 60/1000, loss : 0.241, accuracy : 83.33332824707031%\n",
            "epoch : 80/1000, loss : 0.157, accuracy : 100.0%\n",
            "epoch : 100/1000, loss : 0.134, accuracy : 100.0%\n",
            "epoch : 120/1000, loss : 0.118, accuracy : 100.0%\n",
            "epoch : 140/1000, loss : 0.106, accuracy : 100.0%\n",
            "epoch : 160/1000, loss : 0.096, accuracy : 100.0%\n",
            "epoch : 180/1000, loss : 0.087, accuracy : 100.0%\n",
            "epoch : 200/1000, loss : 0.080, accuracy : 100.0%\n",
            "epoch : 220/1000, loss : 0.075, accuracy : 100.0%\n",
            "epoch : 240/1000, loss : 0.069, accuracy : 100.0%\n",
            "epoch : 260/1000, loss : 0.065, accuracy : 100.0%\n",
            "epoch : 280/1000, loss : 0.061, accuracy : 100.0%\n",
            "epoch : 300/1000, loss : 0.058, accuracy : 100.0%\n",
            "epoch : 320/1000, loss : 0.055, accuracy : 100.0%\n",
            "epoch : 340/1000, loss : 0.052, accuracy : 100.0%\n",
            "epoch : 360/1000, loss : 0.050, accuracy : 100.0%\n",
            "epoch : 380/1000, loss : 0.047, accuracy : 100.0%\n",
            "epoch : 400/1000, loss : 0.045, accuracy : 100.0%\n",
            "epoch : 420/1000, loss : 0.043, accuracy : 100.0%\n",
            "epoch : 440/1000, loss : 0.042, accuracy : 100.0%\n",
            "epoch : 460/1000, loss : 0.040, accuracy : 100.0%\n",
            "epoch : 480/1000, loss : 0.039, accuracy : 100.0%\n",
            "epoch : 500/1000, loss : 0.037, accuracy : 100.0%\n",
            "epoch : 520/1000, loss : 0.036, accuracy : 100.0%\n",
            "epoch : 540/1000, loss : 0.035, accuracy : 100.0%\n",
            "epoch : 560/1000, loss : 0.034, accuracy : 100.0%\n",
            "epoch : 580/1000, loss : 0.033, accuracy : 100.0%\n",
            "epoch : 600/1000, loss : 0.032, accuracy : 100.0%\n",
            "epoch : 620/1000, loss : 0.031, accuracy : 100.0%\n",
            "epoch : 640/1000, loss : 0.030, accuracy : 100.0%\n",
            "epoch : 660/1000, loss : 0.029, accuracy : 100.0%\n",
            "epoch : 680/1000, loss : 0.028, accuracy : 100.0%\n",
            "epoch : 700/1000, loss : 0.028, accuracy : 100.0%\n",
            "epoch : 720/1000, loss : 0.027, accuracy : 100.0%\n",
            "epoch : 740/1000, loss : 0.026, accuracy : 100.0%\n",
            "epoch : 760/1000, loss : 0.026, accuracy : 100.0%\n",
            "epoch : 780/1000, loss : 0.025, accuracy : 100.0%\n",
            "epoch : 800/1000, loss : 0.024, accuracy : 100.0%\n",
            "epoch : 820/1000, loss : 0.024, accuracy : 100.0%\n",
            "epoch : 840/1000, loss : 0.023, accuracy : 100.0%\n",
            "epoch : 860/1000, loss : 0.023, accuracy : 100.0%\n",
            "epoch : 880/1000, loss : 0.022, accuracy : 100.0%\n",
            "epoch : 900/1000, loss : 0.022, accuracy : 100.0%\n",
            "epoch : 920/1000, loss : 0.021, accuracy : 100.0%\n",
            "epoch : 940/1000, loss : 0.021, accuracy : 100.0%\n",
            "epoch : 960/1000, loss : 0.021, accuracy : 100.0%\n",
            "epoch : 980/1000, loss : 0.020, accuracy : 100.0%\n"
          ]
        }
      ]
    },
    {
      "cell_type": "code",
      "source": [
        "f = np.random.randint(0,30,(3,30))"
      ],
      "metadata": {
        "id": "5rw_-BEO_OxN"
      },
      "execution_count": null,
      "outputs": []
    },
    {
      "cell_type": "code",
      "source": [
        "f"
      ],
      "metadata": {
        "colab": {
          "base_uri": "https://localhost:8080/"
        },
        "id": "Q2opAhC61LKs",
        "outputId": "dc47362f-4c80-43fb-eaf5-c534b1fcca96"
      },
      "execution_count": null,
      "outputs": [
        {
          "output_type": "execute_result",
          "data": {
            "text/plain": [
              "array([[19, 29,  3, 14, 29, 12, 10, 15,  1, 16,  9, 26, 29,  7,  5,  9,\n",
              "        21,  5,  1, 24, 25,  4, 20, 10,  6,  5, 20,  3, 10, 23],\n",
              "       [ 6, 13, 16,  5, 14,  5, 28, 24, 13, 26,  7,  1, 12,  2, 28, 27,\n",
              "         0,  8, 20, 11, 11,  3,  9, 20, 15, 26, 27, 28, 23,  2],\n",
              "       [22, 18, 14,  2,  8, 25,  2, 21, 11,  2, 28, 17,  2, 12, 28,  9,\n",
              "        21, 18,  5,  3, 20, 25, 15, 25, 22, 25, 13,  0,  3,  3]])"
            ]
          },
          "metadata": {},
          "execution_count": 366
        }
      ]
    },
    {
      "cell_type": "code",
      "source": [
        "def dsp(a,x):\n",
        "    print(f[a,x])\n",
        "    if f[a,x] == 21:\n",
        "        return 1\n",
        "    elif a == 2:\n",
        "        return\n",
        "    else:\n",
        "        return dsp(a+1,x)\n",
        "\n",
        "for i in range(f.shape[1]):\n",
        "    if dsp(0,i):\n",
        "        print(i+1)\n",
        "        break\n",
        "    if i == f.shape[1]-1:\n",
        "        print('out')\n"
      ],
      "metadata": {
        "colab": {
          "base_uri": "https://localhost:8080/"
        },
        "id": "Pp8On93573YO",
        "outputId": "15a0f640-6840-4e8a-92fd-ddf88608e759"
      },
      "execution_count": null,
      "outputs": [
        {
          "output_type": "stream",
          "name": "stdout",
          "text": [
            "19\n",
            "6\n",
            "22\n",
            "29\n",
            "13\n",
            "18\n",
            "3\n",
            "16\n",
            "14\n",
            "14\n",
            "5\n",
            "2\n",
            "29\n",
            "14\n",
            "8\n",
            "12\n",
            "5\n",
            "25\n",
            "10\n",
            "28\n",
            "2\n",
            "15\n",
            "24\n",
            "21\n",
            "8\n"
          ]
        }
      ]
    },
    {
      "cell_type": "code",
      "source": [
        "import torch"
      ],
      "metadata": {
        "id": "4xNBuYs3d81d"
      },
      "execution_count": null,
      "outputs": []
    },
    {
      "cell_type": "code",
      "source": [
        "z = torch.FloatTensor([1,2,3])"
      ],
      "metadata": {
        "id": "HOjphfJud-iS"
      },
      "execution_count": null,
      "outputs": []
    },
    {
      "cell_type": "code",
      "source": [
        "pre = torch.nn.functional.softmax(z, dim=0)"
      ],
      "metadata": {
        "id": "bz8gEc67eHEx"
      },
      "execution_count": null,
      "outputs": []
    },
    {
      "cell_type": "code",
      "source": [
        "pre.sum()"
      ],
      "metadata": {
        "colab": {
          "base_uri": "https://localhost:8080/"
        },
        "id": "nTLuY6xzeTH7",
        "outputId": "c89915bc-d940-4855-aef9-02599d9c9766"
      },
      "execution_count": null,
      "outputs": [
        {
          "output_type": "execute_result",
          "data": {
            "text/plain": [
              "tensor(1.)"
            ]
          },
          "metadata": {},
          "execution_count": 8
        }
      ]
    },
    {
      "cell_type": "code",
      "source": [
        "z = torch.rand(3,5,requires_grad=True)"
      ],
      "metadata": {
        "id": "2EOREUAKe0HE"
      },
      "execution_count": null,
      "outputs": []
    },
    {
      "cell_type": "code",
      "source": [
        "pre = torch.nn.functional.softmax(z, dim=1)\n",
        "pre.sum(dim=1)"
      ],
      "metadata": {
        "colab": {
          "base_uri": "https://localhost:8080/"
        },
        "id": "xQhmNrd4fHtD",
        "outputId": "bdc74a38-df5e-474b-bb09-66eeb0a1a7a9"
      },
      "execution_count": null,
      "outputs": [
        {
          "output_type": "execute_result",
          "data": {
            "text/plain": [
              "tensor([1.0000, 1.0000, 1.0000], grad_fn=<SumBackward1>)"
            ]
          },
          "metadata": {},
          "execution_count": 13
        }
      ]
    },
    {
      "cell_type": "code",
      "source": [
        "y = torch.randint(5,(3,))\n",
        "y"
      ],
      "metadata": {
        "colab": {
          "base_uri": "https://localhost:8080/"
        },
        "id": "8CeNPNVAfgsm",
        "outputId": "42c2e310-0204-4294-a76f-88c38f86b3a2"
      },
      "execution_count": null,
      "outputs": [
        {
          "output_type": "execute_result",
          "data": {
            "text/plain": [
              "tensor([4, 1, 1])"
            ]
          },
          "metadata": {},
          "execution_count": 18
        }
      ]
    },
    {
      "cell_type": "code",
      "source": [
        "y_one_hot = torch.zeros_like(pre)\n",
        "y_one_hot = y_one_hot.scatter_(1, y.unsqueeze(1),1)\n",
        "y_one_hot"
      ],
      "metadata": {
        "colab": {
          "base_uri": "https://localhost:8080/"
        },
        "id": "BCTycy-AgNl7",
        "outputId": "c9734dc0-c642-40cf-edc5-1a21bbbd016d"
      },
      "execution_count": null,
      "outputs": [
        {
          "output_type": "execute_result",
          "data": {
            "text/plain": [
              "tensor([[0., 0., 0., 0., 1.],\n",
              "        [0., 1., 0., 0., 0.],\n",
              "        [0., 1., 0., 0., 0.]])"
            ]
          },
          "metadata": {},
          "execution_count": 21
        }
      ]
    },
    {
      "cell_type": "code",
      "source": [
        "torch.nn.functional.log_softmax(z, dim=1)"
      ],
      "metadata": {
        "colab": {
          "base_uri": "https://localhost:8080/"
        },
        "id": "bhOq--6-iDDQ",
        "outputId": "94d84f1b-ae91-44ea-a8ff-d88adeea4c3f"
      },
      "execution_count": null,
      "outputs": [
        {
          "output_type": "execute_result",
          "data": {
            "text/plain": [
              "tensor([[-1.3063, -1.7426, -1.6915, -1.6878, -1.6875],\n",
              "        [-1.5118, -1.9845, -1.1541, -1.7691, -1.8564],\n",
              "        [-1.5712, -1.6936, -1.9854, -1.6111, -1.3044]],\n",
              "       grad_fn=<LogSoftmaxBackward0>)"
            ]
          },
          "metadata": {},
          "execution_count": 23
        }
      ]
    },
    {
      "cell_type": "code",
      "source": [
        "torch.nn.functional.cross_entropy(z, y)"
      ],
      "metadata": {
        "colab": {
          "base_uri": "https://localhost:8080/"
        },
        "id": "DpJZ8ssfjiu9",
        "outputId": "1f4c5103-804e-4ec5-ca0a-be958000fdf7"
      },
      "execution_count": null,
      "outputs": [
        {
          "output_type": "execute_result",
          "data": {
            "text/plain": [
              "tensor(1.7885, grad_fn=<NllLossBackward0>)"
            ]
          },
          "metadata": {},
          "execution_count": 25
        }
      ]
    },
    {
      "cell_type": "code",
      "source": [
        "x_train = [[1, 2, 1, 1],\n",
        "           [2, 1, 3, 2],\n",
        "           [3, 1, 3, 4],\n",
        "           [4, 1, 5, 5],\n",
        "           [1, 7, 5, 5],\n",
        "           [1, 2, 5, 6],\n",
        "           [1, 6, 6, 6],\n",
        "           [1, 7, 7, 7]]\n",
        "y_train = [2, 2, 2, 1, 1, 1, 0, 0]\n",
        "x_train = torch.FloatTensor(x_train)\n",
        "y_train = torch.LongTensor(y_train)"
      ],
      "metadata": {
        "id": "zqYeR9mQjyoU"
      },
      "execution_count": null,
      "outputs": []
    },
    {
      "cell_type": "code",
      "source": [
        "torch.nn.functional.one_hot(y_train, 3)"
      ],
      "metadata": {
        "colab": {
          "base_uri": "https://localhost:8080/"
        },
        "id": "6a-kyYNsj2VF",
        "outputId": "bcca3f4f-1190-4ed0-cd0e-7f9ba8889f20"
      },
      "execution_count": null,
      "outputs": [
        {
          "output_type": "execute_result",
          "data": {
            "text/plain": [
              "tensor([[0, 0, 1],\n",
              "        [0, 0, 1],\n",
              "        [0, 0, 1],\n",
              "        [0, 1, 0],\n",
              "        [0, 1, 0],\n",
              "        [0, 1, 0],\n",
              "        [1, 0, 0],\n",
              "        [1, 0, 0]])"
            ]
          },
          "metadata": {},
          "execution_count": 27
        }
      ]
    },
    {
      "cell_type": "code",
      "source": [
        "y_one_hot = torch.zeros(8,3)\n",
        "y_one_hot = y_one_hot.scatter(1,y_train.unsqueeze(1),1)\n",
        "y_one_hot"
      ],
      "metadata": {
        "colab": {
          "base_uri": "https://localhost:8080/"
        },
        "id": "yeMfSmXjko0G",
        "outputId": "74a3c7f8-e18f-4a71-829a-4b3953bce6df"
      },
      "execution_count": null,
      "outputs": [
        {
          "output_type": "execute_result",
          "data": {
            "text/plain": [
              "tensor([[0., 0., 1.],\n",
              "        [0., 0., 1.],\n",
              "        [0., 0., 1.],\n",
              "        [0., 1., 0.],\n",
              "        [0., 1., 0.],\n",
              "        [0., 1., 0.],\n",
              "        [1., 0., 0.],\n",
              "        [1., 0., 0.]])"
            ]
          },
          "metadata": {},
          "execution_count": 29
        }
      ]
    },
    {
      "cell_type": "code",
      "source": [
        "w = torch.zeros((4,3),requires_grad=True)\n",
        "b = torch.zeros(1, requires_grad=True)\n",
        "optimizer = torch.optim.SGD([w,b],lr=0.1)"
      ],
      "metadata": {
        "id": "4bAySZC1lR1k"
      },
      "execution_count": null,
      "outputs": []
    },
    {
      "cell_type": "code",
      "source": [
        "epochs = 1000\n",
        "for epoch in range(epochs):\n",
        "    pre = torch.nn.functional.softmax(x_train.matmul(w)+b, dim=1)\n",
        "    loss = (y_one_hot * -torch.log(pre)).sum(dim=1).mean()\n",
        "\n",
        "    optimizer.zero_grad()\n",
        "    loss.backward()\n",
        "    optimizer.step()\n",
        "\n",
        "    if epoch % 100 == 0:\n",
        "        print(f'epoch : {epoch}/{epochs} loss : {loss:.6f}')"
      ],
      "metadata": {
        "colab": {
          "base_uri": "https://localhost:8080/"
        },
        "id": "gQ4DA-Jel0Xu",
        "outputId": "5f15f16d-6449-44b1-ce91-aadbcfc733ba"
      },
      "execution_count": null,
      "outputs": [
        {
          "output_type": "stream",
          "name": "stdout",
          "text": [
            "epoch : 0/1000 loss : 1.098612\n",
            "epoch : 100/1000 loss : 0.761050\n",
            "epoch : 200/1000 loss : 0.689991\n",
            "epoch : 300/1000 loss : 0.643229\n",
            "epoch : 400/1000 loss : 0.604117\n",
            "epoch : 500/1000 loss : 0.568255\n",
            "epoch : 600/1000 loss : 0.533922\n",
            "epoch : 700/1000 loss : 0.500291\n",
            "epoch : 800/1000 loss : 0.466908\n",
            "epoch : 900/1000 loss : 0.433507\n"
          ]
        }
      ]
    },
    {
      "cell_type": "code",
      "source": [
        "w = torch.zeros((4,3),requires_grad=True)\n",
        "b = torch.zeros(1, requires_grad=True)\n",
        "optimizer = torch.optim.SGD([w,b],lr=0.1)"
      ],
      "metadata": {
        "id": "uphGWmZAnrYD"
      },
      "execution_count": null,
      "outputs": []
    },
    {
      "cell_type": "code",
      "source": [
        "epochs = 2000\n",
        "for epoch in range(epochs):\n",
        "    z = x_train.matmul(w)+b\n",
        "    loss = torch.nn.functional.cross_entropy(z, y_train)\n",
        "\n",
        "    optimizer.zero_grad()\n",
        "    loss.backward()\n",
        "    optimizer.step()\n",
        "\n",
        "    if epoch % 100 == 0:\n",
        "        accuracy = (z.argmax(dim=1) == y_train).sum() / len(y_train)\n",
        "        print(f'epoch : {epoch}/{epochs} loss : {loss:.6f}, accuracy : {accuracy}')"
      ],
      "metadata": {
        "colab": {
          "base_uri": "https://localhost:8080/"
        },
        "id": "N4QJhaPXnpjb",
        "outputId": "5252c3e7-0a0f-4496-be3d-dc21daa7f7c8"
      },
      "execution_count": null,
      "outputs": [
        {
          "output_type": "stream",
          "name": "stdout",
          "text": [
            "epoch : 0/2000 loss : 1.098612, accuracy : 0.25\n",
            "epoch : 100/2000 loss : 0.761050, accuracy : 0.75\n",
            "epoch : 200/2000 loss : 0.689991, accuracy : 0.75\n",
            "epoch : 300/2000 loss : 0.643229, accuracy : 0.75\n",
            "epoch : 400/2000 loss : 0.604117, accuracy : 0.75\n",
            "epoch : 500/2000 loss : 0.568256, accuracy : 0.75\n",
            "epoch : 600/2000 loss : 0.533922, accuracy : 0.75\n",
            "epoch : 700/2000 loss : 0.500291, accuracy : 0.75\n",
            "epoch : 800/2000 loss : 0.466908, accuracy : 0.75\n",
            "epoch : 900/2000 loss : 0.433507, accuracy : 0.75\n",
            "epoch : 1000/2000 loss : 0.399962, accuracy : 0.875\n",
            "epoch : 1100/2000 loss : 0.366378, accuracy : 0.875\n",
            "epoch : 1200/2000 loss : 0.333642, accuracy : 0.875\n",
            "epoch : 1300/2000 loss : 0.307042, accuracy : 1.0\n",
            "epoch : 1400/2000 loss : 0.294653, accuracy : 1.0\n",
            "epoch : 1500/2000 loss : 0.285279, accuracy : 1.0\n",
            "epoch : 1600/2000 loss : 0.276488, accuracy : 1.0\n",
            "epoch : 1700/2000 loss : 0.268222, accuracy : 1.0\n",
            "epoch : 1800/2000 loss : 0.260429, accuracy : 1.0\n",
            "epoch : 1900/2000 loss : 0.253066, accuracy : 1.0\n"
          ]
        }
      ]
    },
    {
      "cell_type": "code",
      "source": [
        "(z.argmax(dim=1) == y_train).sum()"
      ],
      "metadata": {
        "colab": {
          "base_uri": "https://localhost:8080/"
        },
        "id": "AEPMUhEloH_I",
        "outputId": "b9b588a1-40d0-4c1a-a5e2-b238d043c688"
      },
      "execution_count": null,
      "outputs": [
        {
          "output_type": "execute_result",
          "data": {
            "text/plain": [
              "tensor(7)"
            ]
          },
          "metadata": {},
          "execution_count": 45
        }
      ]
    },
    {
      "cell_type": "code",
      "source": [
        "y_train"
      ],
      "metadata": {
        "colab": {
          "base_uri": "https://localhost:8080/"
        },
        "id": "OmYxyY1uoKb3",
        "outputId": "19971a48-280a-4f7b-d4b0-1fb742cf73fa"
      },
      "execution_count": null,
      "outputs": [
        {
          "output_type": "execute_result",
          "data": {
            "text/plain": [
              "tensor([2, 2, 2, 1, 1, 1, 0, 0])"
            ]
          },
          "metadata": {},
          "execution_count": 41
        }
      ]
    },
    {
      "cell_type": "code",
      "source": [
        "model = torch.nn.Linear(4,3)\n",
        "optimizer = torch.optim.SGD(model.parameters(), lr=0.1)"
      ],
      "metadata": {
        "id": "UNSZIx6bsQXI"
      },
      "execution_count": null,
      "outputs": []
    },
    {
      "cell_type": "code",
      "source": [
        "epochs = 2000\n",
        "for epoch in range(epochs):\n",
        "    z = model(x_train)\n",
        "    loss = torch.nn.functional.cross_entropy(z, y_train)\n",
        "\n",
        "    optimizer.zero_grad()\n",
        "    loss.backward()\n",
        "    optimizer.step()\n",
        "\n",
        "    if epoch % 100 == 0:\n",
        "        accuracy = (z.argmax(dim=1) == y_train).sum() / len(y_train)\n",
        "        print(f'epoch : {epoch}/{epochs} loss : {loss:.6f}, accuracy : {accuracy}')"
      ],
      "metadata": {
        "colab": {
          "base_uri": "https://localhost:8080/"
        },
        "id": "IhGKpn51slAR",
        "outputId": "ec145044-36cd-40c7-a8eb-a0e07d55b0d0"
      },
      "execution_count": null,
      "outputs": [
        {
          "output_type": "stream",
          "name": "stdout",
          "text": [
            "epoch : 0/2000 loss : 1.938370, accuracy : 0.375\n",
            "epoch : 100/2000 loss : 0.661021, accuracy : 0.625\n",
            "epoch : 200/2000 loss : 0.580357, accuracy : 0.625\n",
            "epoch : 300/2000 loss : 0.525825, accuracy : 0.625\n",
            "epoch : 400/2000 loss : 0.480945, accuracy : 0.625\n",
            "epoch : 500/2000 loss : 0.441045, accuracy : 0.75\n",
            "epoch : 600/2000 loss : 0.403965, accuracy : 0.75\n",
            "epoch : 700/2000 loss : 0.368289, accuracy : 0.875\n",
            "epoch : 800/2000 loss : 0.332875, accuracy : 0.875\n",
            "epoch : 900/2000 loss : 0.296850, accuracy : 0.875\n",
            "epoch : 1000/2000 loss : 0.261104, accuracy : 1.0\n",
            "epoch : 1100/2000 loss : 0.238568, accuracy : 1.0\n",
            "epoch : 1200/2000 loss : 0.226776, accuracy : 1.0\n",
            "epoch : 1300/2000 loss : 0.216113, accuracy : 1.0\n",
            "epoch : 1400/2000 loss : 0.206367, accuracy : 1.0\n",
            "epoch : 1500/2000 loss : 0.197427, accuracy : 1.0\n",
            "epoch : 1600/2000 loss : 0.189197, accuracy : 1.0\n",
            "epoch : 1700/2000 loss : 0.181597, accuracy : 1.0\n",
            "epoch : 1800/2000 loss : 0.174559, accuracy : 1.0\n",
            "epoch : 1900/2000 loss : 0.168025, accuracy : 1.0\n"
          ]
        }
      ]
    },
    {
      "cell_type": "code",
      "source": [
        "class softmaxclassifier(torch.nn.Module):\n",
        "    def __init__(self):\n",
        "        super().__init__()\n",
        "        self.linear = torch.nn.Linear(4,3)\n",
        "    \n",
        "    def forward(self,x):\n",
        "        return self.linear(x)"
      ],
      "metadata": {
        "id": "fLvy7Q-zs2lQ"
      },
      "execution_count": null,
      "outputs": []
    },
    {
      "cell_type": "code",
      "source": [
        "model = softmaxclassifier()\n",
        "optimizer = torch.optim.SGD(model.parameters(), lr=0.1)"
      ],
      "metadata": {
        "id": "9YJekghptXvz"
      },
      "execution_count": null,
      "outputs": []
    },
    {
      "cell_type": "code",
      "source": [
        "epochs = 2000\n",
        "for epoch in range(epochs):\n",
        "    z = model(x_train)\n",
        "    loss = torch.nn.functional.cross_entropy(z, y_train)\n",
        "\n",
        "    optimizer.zero_grad()\n",
        "    loss.backward()\n",
        "    optimizer.step()\n",
        "\n",
        "    if epoch % 100 == 0:\n",
        "        accuracy = (z.argmax(dim=1) == y_train).sum() / len(y_train)\n",
        "        print(f'epoch : {epoch}/{epochs} loss : {loss:.6f}, accuracy : {accuracy}')"
      ],
      "metadata": {
        "colab": {
          "base_uri": "https://localhost:8080/"
        },
        "id": "TRUpIPrGthFy",
        "outputId": "3e6c109e-b06e-4065-e453-bc934db7a79d"
      },
      "execution_count": null,
      "outputs": [
        {
          "output_type": "stream",
          "name": "stdout",
          "text": [
            "epoch : 0/2000 loss : 0.158306, accuracy : 1.0\n",
            "epoch : 100/2000 loss : 0.152846, accuracy : 1.0\n",
            "epoch : 200/2000 loss : 0.147738, accuracy : 1.0\n",
            "epoch : 300/2000 loss : 0.142948, accuracy : 1.0\n",
            "epoch : 400/2000 loss : 0.138449, accuracy : 1.0\n",
            "epoch : 500/2000 loss : 0.134216, accuracy : 1.0\n",
            "epoch : 600/2000 loss : 0.130226, accuracy : 1.0\n",
            "epoch : 700/2000 loss : 0.126459, accuracy : 1.0\n",
            "epoch : 800/2000 loss : 0.122897, accuracy : 1.0\n",
            "epoch : 900/2000 loss : 0.119525, accuracy : 1.0\n",
            "epoch : 1000/2000 loss : 0.116328, accuracy : 1.0\n",
            "epoch : 1100/2000 loss : 0.113293, accuracy : 1.0\n",
            "epoch : 1200/2000 loss : 0.110407, accuracy : 1.0\n",
            "epoch : 1300/2000 loss : 0.107662, accuracy : 1.0\n",
            "epoch : 1400/2000 loss : 0.105046, accuracy : 1.0\n",
            "epoch : 1500/2000 loss : 0.102550, accuracy : 1.0\n",
            "epoch : 1600/2000 loss : 0.100168, accuracy : 1.0\n",
            "epoch : 1700/2000 loss : 0.097891, accuracy : 1.0\n",
            "epoch : 1800/2000 loss : 0.095713, accuracy : 1.0\n",
            "epoch : 1900/2000 loss : 0.093628, accuracy : 1.0\n"
          ]
        }
      ]
    },
    {
      "cell_type": "code",
      "source": [
        "USE_CUDA = torch.cuda.is_available()"
      ],
      "metadata": {
        "id": "frCeQGyHuLQI"
      },
      "execution_count": null,
      "outputs": []
    },
    {
      "cell_type": "code",
      "source": [
        "use_cuda = torch.cuda.is_available()"
      ],
      "metadata": {
        "id": "DO-5i3znuZ9K"
      },
      "execution_count": null,
      "outputs": []
    },
    {
      "cell_type": "code",
      "source": [
        "torch.device('cpu')"
      ],
      "metadata": {
        "colab": {
          "base_uri": "https://localhost:8080/"
        },
        "id": "2Vc_6G9Duw2O",
        "outputId": "5ec27711-958b-4c0c-9766-fd4e8a5adcc4"
      },
      "execution_count": null,
      "outputs": [
        {
          "output_type": "execute_result",
          "data": {
            "text/plain": [
              "device(type='cpu')"
            ]
          },
          "metadata": {},
          "execution_count": 70
        }
      ]
    },
    {
      "cell_type": "code",
      "source": [
        "torch.manual_seed(42)"
      ],
      "metadata": {
        "colab": {
          "base_uri": "https://localhost:8080/"
        },
        "id": "IQRI9jMLvIlo",
        "outputId": "30059d29-74f8-4ea6-a385-b3b57f814f84"
      },
      "execution_count": null,
      "outputs": [
        {
          "output_type": "execute_result",
          "data": {
            "text/plain": [
              "<torch._C.Generator at 0x7f028dceea50>"
            ]
          },
          "metadata": {},
          "execution_count": 71
        }
      ]
    },
    {
      "cell_type": "code",
      "source": [
        "import torchvision"
      ],
      "metadata": {
        "id": "5bjmWOSCvZH5"
      },
      "execution_count": null,
      "outputs": []
    },
    {
      "cell_type": "code",
      "source": [
        "mnist_train = torchvision.datasets.MNIST(root='/mnist',\n",
        "                                         train=True,\n",
        "                                         transform=torchvision.transforms.ToTensor(),\n",
        "                                         download=True)"
      ],
      "metadata": {
        "colab": {
          "base_uri": "https://localhost:8080/",
          "height": 439,
          "referenced_widgets": [
            "b0d465cba2c2428ba80e8e371b4fbf81",
            "114b1765c73b45b19b6f7c9a6f641477",
            "7d25e8e3ccdb4380b0b2d9229fed2f6e",
            "aa85a47567db4df89e21b3b064ee16bd",
            "f50412aae2da435d9e85aee19fb4295e",
            "027706fab39a486382740942ee631c26",
            "56cfdadc6e2a4d83b3d3e197cca3adf1",
            "456f261b4725439baee818fd78c84075",
            "35edc54cd59f437ea585a1dbc14a8112",
            "5b0ed205c0c444cdaa16cb1ab822611a",
            "4e5e0118dbb04ef4adef25914a95e3b4",
            "a9d81d0acceb433b84b0b1a46110ebe5",
            "449ccfabf1cf4eef97163a31a1dd8726",
            "66272136aed641029ac594ef527a81c4",
            "1ddee3459a2c46d290244c717d9e357a",
            "ce27d6f339d6469495e5e892204a1d61",
            "6cd04a19272f46c4bef5a2daea116aee",
            "96d5969186a2454191c8187a71197574",
            "d4c8dd2eb58042da837795a811177594",
            "7c1390884d404ce7bbbf9e1774132e10",
            "7082c4e866b74cb0b5ac6962d2cea7c9",
            "a3dfc639ae1141b5a6261529b5ed2bd1",
            "07fa1733325144b6a10eb37ece3b1aca",
            "94a3ee0dea344581ac93547dc8d78c72",
            "f27ed307a4374171803df04547aa892d",
            "1fddc5b103db49349abca7b299f4c6d2",
            "0a7eaea2c5a54288a72aaa6cf6f20252",
            "87f8be1586be4385a6a4cddc78aab43d",
            "38798444a2a048de8d53c7611dd10827",
            "37fd3a4409cd44b3be8b2412bb25b3eb",
            "87441a2d266a406da04130609cfdd572",
            "0a11e9638d6e414386f3abbe77f4c1ce",
            "078f97d9595841ca9e21f8bba2e2ed38",
            "0c2d0edb19c94c2da39c4bfdceb503b8",
            "e5aa1a2408f245e99adc797779c18666",
            "118cd491d83f44b38e2b88f154dc6cbd",
            "718503f665944939b4e857189d750e74",
            "f5fda6617d50492ebfcdb97e99c52d37",
            "45a2029f9d5d42dc9b2d5f341d110d66",
            "f77c5ddc3d6a4bbd81512ebf318ffbb7",
            "53ef4fe77c7f4fcebae4ac7692258776",
            "3d633dda15a04795923ff8b68ebb170b",
            "ec26c92fe72645298ac7b25ab97d232f",
            "52895036831e460aaef13d9052057f3a"
          ]
        },
        "id": "4yy0XeCXvWoB",
        "outputId": "98f30bb7-368a-4d44-c08b-9ecf19051917"
      },
      "execution_count": null,
      "outputs": [
        {
          "output_type": "stream",
          "name": "stdout",
          "text": [
            "Downloading http://yann.lecun.com/exdb/mnist/train-images-idx3-ubyte.gz\n",
            "Downloading http://yann.lecun.com/exdb/mnist/train-images-idx3-ubyte.gz to /mnist/MNIST/raw/train-images-idx3-ubyte.gz\n"
          ]
        },
        {
          "output_type": "display_data",
          "data": {
            "text/plain": [
              "  0%|          | 0/9912422 [00:00<?, ?it/s]"
            ],
            "application/vnd.jupyter.widget-view+json": {
              "version_major": 2,
              "version_minor": 0,
              "model_id": "b0d465cba2c2428ba80e8e371b4fbf81"
            }
          },
          "metadata": {}
        },
        {
          "output_type": "stream",
          "name": "stdout",
          "text": [
            "Extracting /mnist/MNIST/raw/train-images-idx3-ubyte.gz to /mnist/MNIST/raw\n",
            "\n",
            "Downloading http://yann.lecun.com/exdb/mnist/train-labels-idx1-ubyte.gz\n",
            "Downloading http://yann.lecun.com/exdb/mnist/train-labels-idx1-ubyte.gz to /mnist/MNIST/raw/train-labels-idx1-ubyte.gz\n"
          ]
        },
        {
          "output_type": "display_data",
          "data": {
            "text/plain": [
              "  0%|          | 0/28881 [00:00<?, ?it/s]"
            ],
            "application/vnd.jupyter.widget-view+json": {
              "version_major": 2,
              "version_minor": 0,
              "model_id": "a9d81d0acceb433b84b0b1a46110ebe5"
            }
          },
          "metadata": {}
        },
        {
          "output_type": "stream",
          "name": "stdout",
          "text": [
            "Extracting /mnist/MNIST/raw/train-labels-idx1-ubyte.gz to /mnist/MNIST/raw\n",
            "\n",
            "Downloading http://yann.lecun.com/exdb/mnist/t10k-images-idx3-ubyte.gz\n",
            "Downloading http://yann.lecun.com/exdb/mnist/t10k-images-idx3-ubyte.gz to /mnist/MNIST/raw/t10k-images-idx3-ubyte.gz\n"
          ]
        },
        {
          "output_type": "display_data",
          "data": {
            "text/plain": [
              "  0%|          | 0/1648877 [00:00<?, ?it/s]"
            ],
            "application/vnd.jupyter.widget-view+json": {
              "version_major": 2,
              "version_minor": 0,
              "model_id": "07fa1733325144b6a10eb37ece3b1aca"
            }
          },
          "metadata": {}
        },
        {
          "output_type": "stream",
          "name": "stdout",
          "text": [
            "Extracting /mnist/MNIST/raw/t10k-images-idx3-ubyte.gz to /mnist/MNIST/raw\n",
            "\n",
            "Downloading http://yann.lecun.com/exdb/mnist/t10k-labels-idx1-ubyte.gz\n",
            "Downloading http://yann.lecun.com/exdb/mnist/t10k-labels-idx1-ubyte.gz to /mnist/MNIST/raw/t10k-labels-idx1-ubyte.gz\n"
          ]
        },
        {
          "output_type": "display_data",
          "data": {
            "text/plain": [
              "  0%|          | 0/4542 [00:00<?, ?it/s]"
            ],
            "application/vnd.jupyter.widget-view+json": {
              "version_major": 2,
              "version_minor": 0,
              "model_id": "0c2d0edb19c94c2da39c4bfdceb503b8"
            }
          },
          "metadata": {}
        },
        {
          "output_type": "stream",
          "name": "stdout",
          "text": [
            "Extracting /mnist/MNIST/raw/t10k-labels-idx1-ubyte.gz to /mnist/MNIST/raw\n",
            "\n"
          ]
        }
      ]
    },
    {
      "cell_type": "code",
      "source": [
        "mnist_test = torchvision.datasets.MNIST(root='/mnist',\n",
        "                                        train=False,\n",
        "                                        transform=torchvision.transforms.ToTensor(),\n",
        "                                        download=True)"
      ],
      "metadata": {
        "id": "qjtcnF2Ywkq0"
      },
      "execution_count": null,
      "outputs": []
    },
    {
      "cell_type": "code",
      "source": [
        "dataloder = torch.utils.data.DataLoader(mnist_train, batch_size=100, shuffle=True, drop_last=True)"
      ],
      "metadata": {
        "id": "ZXzFxp1Pw_ER"
      },
      "execution_count": null,
      "outputs": []
    },
    {
      "cell_type": "code",
      "source": [
        "linear = torch.nn.Linear(784,10, bias=True).to('cpu')\n",
        "loss = torch.nn.CrossEntropyLoss().to('cpu')\n",
        "optimizer = torch.optim.SGD(linear.parameters(),lr=0.1)"
      ],
      "metadata": {
        "id": "ayOiABtryQg5"
      },
      "execution_count": null,
      "outputs": []
    },
    {
      "cell_type": "code",
      "source": [
        "epochs = 15\n",
        "for epoch in range(epochs):\n",
        "    avg = 0\n",
        "    le = len(dataloder)\n",
        "    acc = 0\n",
        "    for x, y in dataloder:\n",
        "        x = x.view(-1,28*28)\n",
        "        pre = linear(x)\n",
        "        losses = loss(pre, y)\n",
        "\n",
        "        optimizer.zero_grad()\n",
        "        losses.backward()\n",
        "        optimizer.step()\n",
        "\n",
        "        avg += losses/le\n",
        "\n",
        "        acc += (torch.argmax(pre, dim=1) == y).sum().float()/le\n",
        "    print(f'epochs : {epoch:4d}, loss : {avg:.6f}, accuracy : {acc}') \n"
      ],
      "metadata": {
        "colab": {
          "base_uri": "https://localhost:8080/"
        },
        "id": "qxkj8e0Tzgbx",
        "outputId": "c7a7b614-01ac-4998-c8ca-8c34cd32c7ff"
      },
      "execution_count": null,
      "outputs": [
        {
          "output_type": "stream",
          "name": "stdout",
          "text": [
            "epochs :    0, loss : 0.535730, accuracy : 86.66842651367188\n",
            "epochs :    1, loss : 0.359377, accuracy : 90.11339569091797\n",
            "epochs :    2, loss : 0.331252, accuracy : 90.71842193603516\n",
            "epochs :    3, loss : 0.316613, accuracy : 91.13674926757812\n",
            "epochs :    4, loss : 0.307127, accuracy : 91.42507934570312\n",
            "epochs :    5, loss : 0.300254, accuracy : 91.55172729492188\n",
            "epochs :    6, loss : 0.295011, accuracy : 91.78837585449219\n",
            "epochs :    7, loss : 0.290828, accuracy : 91.92668151855469\n",
            "epochs :    8, loss : 0.287512, accuracy : 91.99838256835938\n",
            "epochs :    9, loss : 0.284349, accuracy : 92.03504180908203\n",
            "epochs :   10, loss : 0.281873, accuracy : 92.1817398071289\n",
            "epochs :   11, loss : 0.279557, accuracy : 92.26506042480469\n",
            "epochs :   12, loss : 0.277769, accuracy : 92.26512145996094\n",
            "epochs :   13, loss : 0.276210, accuracy : 92.32839965820312\n",
            "epochs :   14, loss : 0.274532, accuracy : 92.35839080810547\n"
          ]
        }
      ]
    },
    {
      "cell_type": "code",
      "source": [
        "with torch.no_grad():\n",
        "    x_test = mnist_test.data.view(-1,28*28).float()\n",
        "    pre = linear(x_test)\n",
        "    y_test = mnist_test.targets\n",
        "    accuracy = (torch.argmax(pre, dim=1) == y_test).float().mean()\n",
        "    print(accuracy.item())\n",
        "\n",
        "    x = torch.randint(0,len(y_test),(1,))\n",
        "    x = x.item()\n",
        "    xx = x_test[x]\n",
        "    yy = y_test[x]\n",
        "    pre = linear(xx)\n",
        "    pree = torch.argmax(pre)\n",
        "    print(f'pre : {pree}, ansear : {yy.item()}')\n"
      ],
      "metadata": {
        "colab": {
          "base_uri": "https://localhost:8080/"
        },
        "id": "jPPxtsJj1_MV",
        "outputId": "bb4142fc-577c-4296-ade1-9d674f4eb89c"
      },
      "execution_count": null,
      "outputs": [
        {
          "output_type": "stream",
          "name": "stdout",
          "text": [
            "0.8865000009536743\n",
            "pre : 5, ansear : 5\n"
          ]
        }
      ]
    },
    {
      "cell_type": "code",
      "source": [
        "x = 3\n",
        "a = 1 if x == 3 else 4\n",
        "print(a)"
      ],
      "metadata": {
        "colab": {
          "base_uri": "https://localhost:8080/"
        },
        "id": "tQrcufsT_kVh",
        "outputId": "f877891d-1e71-4ee6-ffda-3d142287e8bc"
      },
      "execution_count": null,
      "outputs": [
        {
          "output_type": "stream",
          "name": "stdout",
          "text": [
            "1\n"
          ]
        }
      ]
    },
    {
      "cell_type": "code",
      "source": [
        "x = torch.tensor([[0,0],[0,1],[1,0],[1,1]]).float()\n",
        "y = torch.tensor([[0],[1],[1],[0]]).float()"
      ],
      "metadata": {
        "id": "9hQFFo3nAnHG"
      },
      "execution_count": null,
      "outputs": []
    },
    {
      "cell_type": "code",
      "source": [
        "model = torch.nn.Sequential(torch.nn.Linear(2,10),\n",
        "                            torch.nn.ReLU(),\n",
        "                            torch.nn.Linear(10,10),\n",
        "                            torch.nn.ReLU(),\n",
        "                            torch.nn.Linear(10,10),\n",
        "                            torch.nn.ReLU(),\n",
        "                            torch.nn.Linear(10,1),\n",
        "                            torch.nn.Sigmoid())\n",
        "print(model(x))\n",
        "print(list(model.parameters()))"
      ],
      "metadata": {
        "colab": {
          "base_uri": "https://localhost:8080/"
        },
        "id": "TyLkhwBrA8qW",
        "outputId": "5fd51d18-881d-410f-f910-dc66bfe10822"
      },
      "execution_count": null,
      "outputs": [
        {
          "output_type": "stream",
          "name": "stdout",
          "text": [
            "tensor([[0.5251],\n",
            "        [0.5296],\n",
            "        [0.5352],\n",
            "        [0.5415]], grad_fn=<SigmoidBackward0>)\n",
            "[Parameter containing:\n",
            "tensor([[ 0.5401, -0.4970],\n",
            "        [ 0.3971,  0.6058],\n",
            "        [-0.6589,  0.2857],\n",
            "        [-0.6207,  0.3771],\n",
            "        [-0.4464, -0.2085],\n",
            "        [-0.3499,  0.3257],\n",
            "        [-0.0545, -0.5671],\n",
            "        [-0.5282, -0.0612],\n",
            "        [-0.4380,  0.0798],\n",
            "        [ 0.5050,  0.3466]], requires_grad=True), Parameter containing:\n",
            "tensor([ 0.1433,  0.6859,  0.2150, -0.1086, -0.5291,  0.1135, -0.5236, -0.0537,\n",
            "        -0.5605, -0.3441], requires_grad=True), Parameter containing:\n",
            "tensor([[-0.1310,  0.0318,  0.0583, -0.0218, -0.1568, -0.2963,  0.0974,  0.2954,\n",
            "          0.2129, -0.2123],\n",
            "        [-0.2727, -0.2738, -0.2213, -0.2081,  0.2922, -0.0858,  0.1631,  0.1303,\n",
            "          0.1176, -0.3088],\n",
            "        [ 0.3080,  0.1954, -0.2947, -0.2079,  0.1317, -0.0651, -0.2224,  0.0582,\n",
            "         -0.2971,  0.2545],\n",
            "        [ 0.2630,  0.1655,  0.1471, -0.1965, -0.0320,  0.1568,  0.0774,  0.2599,\n",
            "          0.0713, -0.2518],\n",
            "        [-0.2012,  0.2243,  0.1960,  0.0792,  0.0459,  0.1849, -0.3093, -0.3045,\n",
            "         -0.1564, -0.1510],\n",
            "        [-0.0363,  0.1370, -0.0850,  0.0063, -0.2432, -0.1314,  0.2476,  0.2517,\n",
            "         -0.0798,  0.1240],\n",
            "        [ 0.2614,  0.2334, -0.0065, -0.2042, -0.0943,  0.1706, -0.1445,  0.1616,\n",
            "         -0.2279,  0.1382],\n",
            "        [ 0.1980, -0.0558,  0.3134,  0.1925,  0.0069, -0.0692,  0.0238, -0.1769,\n",
            "         -0.0460, -0.2922],\n",
            "        [ 0.1063,  0.0371, -0.2468, -0.0713,  0.1109, -0.2000,  0.1276, -0.2292,\n",
            "          0.0168, -0.0423],\n",
            "        [-0.2329, -0.0506, -0.1504, -0.0570,  0.0360, -0.0500, -0.0359,  0.2528,\n",
            "          0.2441, -0.1634]], requires_grad=True), Parameter containing:\n",
            "tensor([ 0.0418,  0.1188,  0.0212,  0.0248, -0.1214,  0.0578, -0.1835, -0.0673,\n",
            "        -0.1387,  0.1082], requires_grad=True), Parameter containing:\n",
            "tensor([[ 0.1104, -0.2710, -0.2494,  0.0059,  0.0951, -0.3029,  0.0247, -0.1891,\n",
            "         -0.2729,  0.2774],\n",
            "        [-0.2028, -0.1508,  0.3056, -0.1892, -0.1290, -0.1911, -0.1660,  0.0371,\n",
            "          0.1649,  0.1032],\n",
            "        [-0.0913,  0.0837, -0.2325,  0.2380, -0.2260,  0.1452, -0.2439, -0.1344,\n",
            "         -0.2877,  0.0470],\n",
            "        [ 0.1572, -0.2192,  0.1162, -0.0738,  0.0653, -0.2161, -0.2344, -0.0460,\n",
            "          0.1262, -0.3082],\n",
            "        [-0.2071, -0.2399, -0.0540, -0.2270, -0.1704, -0.1453, -0.2146, -0.1857,\n",
            "         -0.1381, -0.0853],\n",
            "        [ 0.2555, -0.0131,  0.2686,  0.0290,  0.1480,  0.1127, -0.0184,  0.2979,\n",
            "         -0.1827, -0.0864],\n",
            "        [ 0.0563,  0.0251, -0.1200,  0.1764, -0.2878,  0.2895,  0.0804, -0.0462,\n",
            "          0.2848, -0.1190],\n",
            "        [-0.3101, -0.2257,  0.2562, -0.1687,  0.0907, -0.0913,  0.2029, -0.1324,\n",
            "          0.2702,  0.2803],\n",
            "        [ 0.0189, -0.2407,  0.0463, -0.1497, -0.2338, -0.0777, -0.0507,  0.0577,\n",
            "         -0.0403,  0.0553],\n",
            "        [-0.0457, -0.3141,  0.0136,  0.0845,  0.2467, -0.2792, -0.1382, -0.1951,\n",
            "         -0.0852, -0.1471]], requires_grad=True), Parameter containing:\n",
            "tensor([ 0.2852, -0.2318, -0.2185, -0.0323,  0.0749,  0.2877,  0.0675,  0.2738,\n",
            "         0.0812, -0.2910], requires_grad=True), Parameter containing:\n",
            "tensor([[ 0.0841,  0.0511, -0.0729,  0.1018, -0.1843,  0.2860, -0.2145,  0.3109,\n",
            "          0.2308,  0.2248]], requires_grad=True), Parameter containing:\n",
            "tensor([-0.0861], requires_grad=True)]\n"
          ]
        }
      ]
    },
    {
      "cell_type": "code",
      "source": [
        "optimizer = torch.optim.SGD(model.parameters(), lr=1)"
      ],
      "metadata": {
        "id": "EyU5Rq9AB3II"
      },
      "execution_count": null,
      "outputs": []
    },
    {
      "cell_type": "code",
      "source": [
        "epochs =10000\n",
        "for epoch in range(epochs):\n",
        "    pre = model(x)\n",
        "    loss = torch.nn.BCELoss()(pre, y)\n",
        "\n",
        "    optimizer.zero_grad()\n",
        "    loss.backward()\n",
        "    optimizer.step()\n",
        "    if epoch % 1000 == 0:\n",
        "        print(f'epoch : {epoch}/{epochs}, loss : {loss}')"
      ],
      "metadata": {
        "colab": {
          "base_uri": "https://localhost:8080/"
        },
        "id": "253AxcbNCNc8",
        "outputId": "fec49439-338b-421e-8eac-b7634aeda597"
      },
      "execution_count": null,
      "outputs": [
        {
          "output_type": "stream",
          "name": "stdout",
          "text": [
            "epoch : 0/10000, loss : 0.7007156610488892\n",
            "epoch : 1000/10000, loss : 0.6931254863739014\n",
            "epoch : 2000/10000, loss : 0.6930925846099854\n",
            "epoch : 3000/10000, loss : 0.6929733753204346\n",
            "epoch : 4000/10000, loss : 0.6899243593215942\n",
            "epoch : 5000/10000, loss : 0.001807117834687233\n",
            "epoch : 6000/10000, loss : 0.000547640083823353\n",
            "epoch : 7000/10000, loss : 0.0003117382584605366\n",
            "epoch : 8000/10000, loss : 0.00021522669703699648\n",
            "epoch : 9000/10000, loss : 0.00016333060921169817\n"
          ]
        }
      ]
    },
    {
      "cell_type": "code",
      "source": [
        "epochs =10000\n",
        "for epoch in range(epochs):\n",
        "    pre = model(x)\n",
        "    loss = torch.nn.BCELoss()(pre, y)\n",
        "\n",
        "    optimizer.zero_grad()\n",
        "    loss.backward()\n",
        "    optimizer.step()\n",
        "    if epoch % 1000 == 0:\n",
        "        print(f'epoch : {epoch}/{epochs}, loss : {loss}')"
      ],
      "metadata": {
        "colab": {
          "base_uri": "https://localhost:8080/"
        },
        "id": "yExrIdgqL4LN",
        "outputId": "833116a5-1f0d-4619-87a2-8a3501b182aa"
      },
      "execution_count": null,
      "outputs": [
        {
          "output_type": "stream",
          "name": "stdout",
          "text": [
            "epoch : 0/10000, loss : 0.6963142156600952\n",
            "epoch : 1000/10000, loss : 3.548074892023578e-05\n",
            "epoch : 2000/10000, loss : 1.524408708064584e-05\n",
            "epoch : 3000/10000, loss : 9.372905878990423e-06\n",
            "epoch : 4000/10000, loss : 6.6757584136212245e-06\n",
            "epoch : 5000/10000, loss : 5.126022188051138e-06\n",
            "epoch : 6000/10000, loss : 4.127636202611029e-06\n",
            "epoch : 7000/10000, loss : 3.457079628788051e-06\n",
            "epoch : 8000/10000, loss : 2.980239742100821e-06\n",
            "epoch : 9000/10000, loss : 2.5928077320713783e-06\n"
          ]
        }
      ]
    },
    {
      "cell_type": "code",
      "source": [
        "model(x)"
      ],
      "metadata": {
        "colab": {
          "base_uri": "https://localhost:8080/"
        },
        "id": "I9yf_dpECypB",
        "outputId": "279988e8-db84-4d34-ee6d-8c87f23b3484"
      },
      "execution_count": null,
      "outputs": [
        {
          "output_type": "execute_result",
          "data": {
            "text/plain": [
              "tensor([[5.4873e-06],\n",
              "        [1.0000e+00],\n",
              "        [1.0000e+00],\n",
              "        [6.1565e-07]], grad_fn=<SigmoidBackward0>)"
            ]
          },
          "metadata": {},
          "execution_count": 169
        }
      ]
    },
    {
      "cell_type": "code",
      "source": [
        "from sklearn.datasets import load_digits"
      ],
      "metadata": {
        "id": "L72N5BNpQB-m"
      },
      "execution_count": null,
      "outputs": []
    },
    {
      "cell_type": "code",
      "source": [
        "digits = load_digits()"
      ],
      "metadata": {
        "colab": {
          "base_uri": "https://localhost:8080/"
        },
        "id": "pSVIiUPGUk1D",
        "outputId": "eba83437-7bff-4c03-fc14-935100fc18bf"
      },
      "execution_count": null,
      "outputs": [
        {
          "output_type": "execute_result",
          "data": {
            "text/plain": [
              "array([[ 0.,  0.,  5., 13.,  9.,  1.,  0.,  0.],\n",
              "       [ 0.,  0., 13., 15., 10., 15.,  5.,  0.],\n",
              "       [ 0.,  3., 15.,  2.,  0., 11.,  8.,  0.],\n",
              "       [ 0.,  4., 12.,  0.,  0.,  8.,  8.,  0.],\n",
              "       [ 0.,  5.,  8.,  0.,  0.,  9.,  8.,  0.],\n",
              "       [ 0.,  4., 11.,  0.,  1., 12.,  7.,  0.],\n",
              "       [ 0.,  2., 14.,  5., 10., 12.,  0.,  0.],\n",
              "       [ 0.,  0.,  6., 13., 10.,  0.,  0.,  0.]])"
            ]
          },
          "metadata": {},
          "execution_count": 172
        }
      ]
    },
    {
      "cell_type": "code",
      "source": [
        "import matplotlib.pyplot as plt\n",
        "for i in range(4):\n",
        "    plt.subplot(2,2,i+1)\n",
        "    plt.title(digits.target[i])\n",
        "    plt.imshow(digits.images[i],cmap='jet')\n",
        "    plt.axis(False)\n",
        "plt.show()"
      ],
      "metadata": {
        "colab": {
          "base_uri": "https://localhost:8080/",
          "height": 264
        },
        "id": "8kcxcrD9Xrzk",
        "outputId": "678ad2de-12b2-41e4-84fc-a3a0e58f1c40"
      },
      "execution_count": null,
      "outputs": [
        {
          "output_type": "display_data",
          "data": {
            "text/plain": [
              "<Figure size 432x288 with 4 Axes>"
            ],
            "image/png": "[encoded data removed]"
          },
          "metadata": {
            "needs_background": "light"
          }
        }
      ]
    },
    {
      "cell_type": "code",
      "source": [
        "xxx = tf.keras.layers.experimental.preprocessing.Resizing(16,16)(xx)"
      ],
      "metadata": {
        "id": "YG4Q4-KvVmvU"
      },
      "execution_count": null,
      "outputs": []
    },
    {
      "cell_type": "code",
      "source": [
        "import matplotlib.pyplot as plt\n",
        "for i in range(4):\n",
        "    plt.subplot(2,2,i+1)\n",
        "    plt.title(digits.target[i])\n",
        "    plt.imshow(xxx[i].numpy().reshape(16,16),cmap='jet')\n",
        "    plt.axis(False)\n",
        "plt.show()"
      ],
      "metadata": {
        "colab": {
          "base_uri": "https://localhost:8080/",
          "height": 264
        },
        "id": "Hrek39WvUvxB",
        "outputId": "7d5755bd-b0b8-46ff-9053-3c9790c3ece9"
      },
      "execution_count": null,
      "outputs": [
        {
          "output_type": "display_data",
          "data": {
            "text/plain": [
              "<Figure size 432x288 with 4 Axes>"
            ],
            "image/png": "[encoded data removed]"
          },
          "metadata": {
            "needs_background": "light"
          }
        }
      ]
    },
    {
      "cell_type": "code",
      "source": [
        "xxxx = tf.keras.layers.experimental.preprocessing.Resizing(32,32)(xxx)"
      ],
      "metadata": {
        "id": "Lwoc2WejYB8s"
      },
      "execution_count": null,
      "outputs": []
    },
    {
      "cell_type": "code",
      "source": [
        "import matplotlib.pyplot as plt\n",
        "for i in range(4):\n",
        "    plt.subplot(2,2,i+1)\n",
        "    plt.title(digits.target[i])\n",
        "    plt.imshow(xxxx[i].numpy().reshape(32,32),cmap='jet')\n",
        "    plt.axis(False)\n",
        "plt.show()"
      ],
      "metadata": {
        "colab": {
          "base_uri": "https://localhost:8080/",
          "height": 264
        },
        "id": "IIZUghoRYO30",
        "outputId": "224ad5a0-b0db-4a8a-aca8-a0c7c44bb7a1"
      },
      "execution_count": null,
      "outputs": [
        {
          "output_type": "display_data",
          "data": {
            "text/plain": [
              "<Figure size 432x288 with 4 Axes>"
            ],
            "image/png": "[encoded data removed]"
          },
          "metadata": {
            "needs_background": "light"
          }
        }
      ]
    },
    {
      "cell_type": "code",
      "source": [
        "xxxxx = tf.keras.layers.experimental.preprocessing.Resizing(64,64)(xxxx)"
      ],
      "metadata": {
        "id": "rmvaU467YS7e"
      },
      "execution_count": null,
      "outputs": []
    },
    {
      "cell_type": "code",
      "source": [
        "import matplotlib.pyplot as plt\n",
        "for i in range(4):\n",
        "    plt.subplot(2,2,i+1)\n",
        "    plt.title(digits.target[i])\n",
        "    plt.imshow(xxxxx[i].numpy().reshape(64,64),cmap='jet')\n",
        "    plt.axis(False)\n",
        "plt.show()"
      ],
      "metadata": {
        "colab": {
          "base_uri": "https://localhost:8080/",
          "height": 264
        },
        "id": "W2kQktnnYX1c",
        "outputId": "7547134e-b5f4-4df3-efda-19d4c7c86569"
      },
      "execution_count": null,
      "outputs": [
        {
          "output_type": "display_data",
          "data": {
            "text/plain": [
              "<Figure size 432x288 with 4 Axes>"
            ],
            "image/png": "[encoded data removed]"
          },
          "metadata": {
            "needs_background": "light"
          }
        }
      ]
    },
    {
      "cell_type": "code",
      "source": [
        "x = torch.FloatTensor(digits.images)\n",
        "y = torch.LongTensor(digits.target)"
      ],
      "metadata": {
        "id": "EkPNR3RGahz1"
      },
      "execution_count": null,
      "outputs": []
    },
    {
      "cell_type": "code",
      "source": [
        "x = x.view(-1,64)"
      ],
      "metadata": {
        "id": "_mSHnMxYb3S5"
      },
      "execution_count": null,
      "outputs": []
    },
    {
      "cell_type": "code",
      "source": [
        "model= torch.nn.Sequential(torch.nn.Linear(64,32),\n",
        "                           torch.nn.ReLU(),\n",
        "                           torch.nn.Linear(32,16),\n",
        "                           torch.nn.ReLU(),\n",
        "                           torch.nn.Linear(16,10)\n",
        "                           )"
      ],
      "metadata": {
        "id": "kljuh5gQYlJm"
      },
      "execution_count": null,
      "outputs": []
    },
    {
      "cell_type": "code",
      "source": [
        "optimizer = torch.optim.Adam(model.parameters())"
      ],
      "metadata": {
        "id": "tsHfiZgzZ6uN"
      },
      "execution_count": null,
      "outputs": []
    },
    {
      "cell_type": "code",
      "source": [
        "epochs = 100\n",
        "losses = []\n",
        "acc = []\n",
        "for epoch in range(epochs):\n",
        "    pre = model(x)\n",
        "    loss = torch.nn.CrossEntropyLoss()(pre, y)\n",
        "\n",
        "    optimizer.zero_grad()\n",
        "    loss.backward()\n",
        "    optimizer.step()\n",
        "\n",
        "    acce = (torch.argmax(pre, dim=1) == y).sum()/len(y)\n",
        "    acc.append(acce)\n",
        "    if epoch % 10 == 0:\n",
        "        accuracy = (torch.argmax(pre, dim=1) == y).sum()/len(y)\n",
        "        print((f'epoch : {epoch:3d}/{epochs}, loss : {loss:.6f}, accuracy : {accuracy}'))\n",
        "    losses.append(loss.item())"
      ],
      "metadata": {
        "colab": {
          "base_uri": "https://localhost:8080/"
        },
        "id": "dcDHFAgeaFFA",
        "outputId": "a76732f7-c388-4ded-acf8-07953bfe9d19"
      },
      "execution_count": null,
      "outputs": [
        {
          "output_type": "stream",
          "name": "stdout",
          "text": [
            "epoch :   0/100, loss : 2.619969, accuracy : 0.08069004118442535\n",
            "epoch :  10/100, loss : 2.081036, accuracy : 0.23761825263500214\n",
            "epoch :  20/100, loss : 1.740134, accuracy : 0.4513077437877655\n",
            "epoch :  30/100, loss : 1.405931, accuracy : 0.6505286693572998\n",
            "epoch :  40/100, loss : 1.079746, accuracy : 0.7735114097595215\n",
            "epoch :  50/100, loss : 0.800510, accuracy : 0.8308291435241699\n",
            "epoch :  60/100, loss : 0.593377, accuracy : 0.8759042620658875\n",
            "epoch :  70/100, loss : 0.450670, accuracy : 0.9087367653846741\n",
            "epoch :  80/100, loss : 0.352274, accuracy : 0.9193099737167358\n",
            "epoch :  90/100, loss : 0.283945, accuracy : 0.9371173977851868\n"
          ]
        }
      ]
    },
    {
      "cell_type": "code",
      "source": [
        "plt.subplot(1,2,1)\n",
        "plt.plot(losses)\n",
        "plt.subplot(1,2,2)\n",
        "plt.plot(acc)\n",
        "plt.show()"
      ],
      "metadata": {
        "colab": {
          "base_uri": "https://localhost:8080/",
          "height": 265
        },
        "id": "Gmno84uMcRzn",
        "outputId": "5765af6b-d0aa-445d-9ccd-2308c3cdae52"
      },
      "execution_count": null,
      "outputs": [
        {
          "output_type": "display_data",
          "data": {
            "text/plain": [
              "<Figure size 432x288 with 2 Axes>"
            ],
            "image/png": "[encoded data removed]"
          },
          "metadata": {
            "needs_background": "light"
          }
        }
      ]
    },
    {
      "cell_type": "code",
      "source": [
        "xx = torch.FloatTensor(tf.squeeze(xxxxx).numpy()).view(-1,4096)\n",
        "xx.shape"
      ],
      "metadata": {
        "colab": {
          "base_uri": "https://localhost:8080/"
        },
        "id": "TWoJgk3ycnhZ",
        "outputId": "755353e7-79fb-44dd-8771-8ced390c2836"
      },
      "execution_count": null,
      "outputs": [
        {
          "output_type": "execute_result",
          "data": {
            "text/plain": [
              "torch.Size([1797, 4096])"
            ]
          },
          "metadata": {},
          "execution_count": 240
        }
      ]
    },
    {
      "cell_type": "code",
      "source": [
        "model= torch.nn.Sequential(torch.nn.Linear(4096,64),\n",
        "                           torch.nn.ReLU(),\n",
        "                           torch.nn.Linear(64,32),\n",
        "                           torch.nn.ReLU(),\n",
        "                           torch.nn.Linear(32,16),\n",
        "                           torch.nn.ReLU(),\n",
        "                           torch.nn.Linear(16,10)\n",
        "                           )"
      ],
      "metadata": {
        "id": "CxfJ8zJweEkO"
      },
      "execution_count": null,
      "outputs": []
    },
    {
      "cell_type": "code",
      "source": [
        "optimizer = torch.optim.Adam(model.parameters())"
      ],
      "metadata": {
        "id": "PAP336lTePoE"
      },
      "execution_count": null,
      "outputs": []
    },
    {
      "cell_type": "code",
      "source": [
        "epochs = 100\n",
        "losses = []\n",
        "acc = []\n",
        "for epoch in range(epochs):\n",
        "    pre = model(xx)\n",
        "    loss = torch.nn.CrossEntropyLoss()(pre, y)\n",
        "\n",
        "    optimizer.zero_grad()\n",
        "    loss.backward()\n",
        "    optimizer.step()\n",
        "\n",
        "    acce = (torch.argmax(pre, dim=1) == y).sum()/len(y)\n",
        "    acc.append(acce)\n",
        "    if epoch % 10 == 0:\n",
        "        accuracy = (torch.argmax(pre, dim=1) == y).sum()/len(y)\n",
        "        print((f'epoch : {epoch:3d}/{epochs}, loss : {loss:.6f}, accuracy : {accuracy}'))\n",
        "    losses.append(loss.item())"
      ],
      "metadata": {
        "colab": {
          "base_uri": "https://localhost:8080/"
        },
        "id": "eE7tv5aPeR2V",
        "outputId": "3b8c56ca-86f7-4a19-ce2f-bf4a170b2cd8"
      },
      "execution_count": null,
      "outputs": [
        {
          "output_type": "stream",
          "name": "stdout",
          "text": [
            "epoch :   0/100, loss : 2.417038, accuracy : 0.11352253705263138\n",
            "epoch :  10/100, loss : 1.629515, accuracy : 0.40066778659820557\n",
            "epoch :  20/100, loss : 0.947760, accuracy : 0.6928213834762573\n",
            "epoch :  30/100, loss : 0.576365, accuracy : 0.8569838404655457\n",
            "epoch :  40/100, loss : 0.375192, accuracy : 0.8992765545845032\n",
            "epoch :  50/100, loss : 0.265711, accuracy : 0.9226488471031189\n",
            "epoch :  60/100, loss : 0.200474, accuracy : 0.9460211396217346\n",
            "epoch :  70/100, loss : 0.158072, accuracy : 0.9616026878356934\n",
            "epoch :  80/100, loss : 0.129841, accuracy : 0.9693934321403503\n",
            "epoch :  90/100, loss : 0.109089, accuracy : 0.9771841764450073\n"
          ]
        }
      ]
    },
    {
      "cell_type": "code",
      "source": [
        "plt.subplot(1,2,1)\n",
        "plt.plot(losses)\n",
        "plt.subplot(1,2,2)\n",
        "plt.plot(acc)\n",
        "plt.show()"
      ],
      "metadata": {
        "colab": {
          "base_uri": "https://localhost:8080/",
          "height": 267
        },
        "id": "nYMM3I3feZx2",
        "outputId": "c1aa0288-3bd0-46a5-aec5-8c44ba89fbee"
      },
      "execution_count": null,
      "outputs": [
        {
          "output_type": "display_data",
          "data": {
            "text/plain": [
              "<Figure size 432x288 with 2 Axes>"
            ],
            "image/png": "[encoded data removed]"
          },
          "metadata": {
            "needs_background": "light"
          }
        }
      ]
    },
    {
      "cell_type": "code",
      "source": [
        "from sklearn.datasets import fetch_openml\n",
        "mnist = fetch_openml('mnist_784', version=1, cache=True)"
      ],
      "metadata": {
        "id": "izoJUpYshjpP"
      },
      "execution_count": null,
      "outputs": []
    },
    {
      "cell_type": "code",
      "source": [
        "x = np.array(mnist.data)/255\n",
        "y = mnist.target.astype('int64')"
      ],
      "metadata": {
        "id": "NIRXH_v0iRNd"
      },
      "execution_count": null,
      "outputs": []
    },
    {
      "cell_type": "code",
      "source": [
        "x.shape"
      ],
      "metadata": {
        "colab": {
          "base_uri": "https://localhost:8080/"
        },
        "id": "GukxCFB_jrB4",
        "outputId": "f16cbef4-7271-4ee3-ae9d-f270bfab7817"
      },
      "execution_count": null,
      "outputs": [
        {
          "output_type": "execute_result",
          "data": {
            "text/plain": [
              "(70000, 784)"
            ]
          },
          "metadata": {},
          "execution_count": 275
        }
      ]
    },
    {
      "cell_type": "code",
      "source": [
        "for i in range(4):\n",
        "    plt.subplot(2,2,i+1)\n",
        "    plt.title(y[i])\n",
        "    plt.imshow(x[i].reshape(28,28), cmap='jet')\n",
        "    plt.axis(False)\n",
        "plt.show()"
      ],
      "metadata": {
        "colab": {
          "base_uri": "https://localhost:8080/",
          "height": 264
        },
        "id": "2dky7Nh9jE5P",
        "outputId": "fd0ec513-2ecc-4cf0-d87b-eb3af5b7664c"
      },
      "execution_count": null,
      "outputs": [
        {
          "output_type": "display_data",
          "data": {
            "text/plain": [
              "<Figure size 432x288 with 4 Axes>"
            ],
            "image/png": "[encoded data removed]"
          },
          "metadata": {
            "needs_background": "light"
          }
        }
      ]
    },
    {
      "cell_type": "code",
      "source": [
        "from sklearn.model_selection import train_test_split\n",
        "x_train, x_test, y_train, y_test = train_test_split(x,y,test_size=0.2,stratify=y)"
      ],
      "metadata": {
        "id": "L_pa8d_8kQ1v"
      },
      "execution_count": null,
      "outputs": []
    },
    {
      "cell_type": "code",
      "source": [
        "y_train"
      ],
      "metadata": {
        "colab": {
          "base_uri": "https://localhost:8080/"
        },
        "id": "SwzmBxy-ltMa",
        "outputId": "0233f6fd-5a8a-4ca7-f4a8-d5afaa63d0a5"
      },
      "execution_count": null,
      "outputs": [
        {
          "output_type": "execute_result",
          "data": {
            "text/plain": [
              "53462    8\n",
              "43695    8\n",
              "31212    6\n",
              "6133     0\n",
              "42170    0\n",
              "        ..\n",
              "10409    1\n",
              "24263    9\n",
              "31643    7\n",
              "52331    2\n",
              "22223    9\n",
              "Name: class, Length: 56000, dtype: int64"
            ]
          },
          "metadata": {},
          "execution_count": 293
        }
      ]
    },
    {
      "cell_type": "code",
      "source": [
        "x_train = torch.tensor(x_train).float()\n",
        "y_train = torch.tensor(y_train.values)\n",
        "x_test = torch.tensor(x_test).float()\n",
        "y_test = torch.tensor(y_test.values)"
      ],
      "metadata": {
        "id": "K9uLqrOJk_cL"
      },
      "execution_count": null,
      "outputs": []
    },
    {
      "cell_type": "code",
      "source": [
        "ds_train = torch.utils.data.TensorDataset(x_train, y_train)\n",
        "ds_test = torch.utils.data.TensorDataset(x_test, y_test)\n",
        "dl_train = torch.utils.data.DataLoader(ds_train, batch_size=64, shuffle=True)\n",
        "dl_test = torch.utils.data.DataLoader(ds_test, batch_size=64, shuffle=False)"
      ],
      "metadata": {
        "id": "_QZaxWWFmMlt"
      },
      "execution_count": null,
      "outputs": []
    },
    {
      "cell_type": "code",
      "source": [
        "model = torch.nn.Sequential(torch.nn.Linear(784,100),\n",
        "                            torch.nn.ReLU(),\n",
        "                            torch.nn.Linear(100,100),\n",
        "                            torch.nn.ReLU(),\n",
        "                            torch.nn.Linear(100,10),\n",
        "                            torch.nn.ReLU())\n",
        "print(model)"
      ],
      "metadata": {
        "colab": {
          "base_uri": "https://localhost:8080/"
        },
        "id": "TIAXLjMrqfKR",
        "outputId": "f060d989-a81d-49e4-dbed-b7044433fc6b"
      },
      "execution_count": null,
      "outputs": [
        {
          "output_type": "stream",
          "name": "stdout",
          "text": [
            "Sequential(\n",
            "  (0): Linear(in_features=784, out_features=100, bias=True)\n",
            "  (1): ReLU()\n",
            "  (2): Linear(in_features=100, out_features=100, bias=True)\n",
            "  (3): ReLU()\n",
            "  (4): Linear(in_features=100, out_features=10, bias=True)\n",
            "  (5): ReLU()\n",
            ")\n"
          ]
        }
      ]
    },
    {
      "cell_type": "code",
      "source": [
        "optimizer = torch.optim.Adam(model.parameters(), lr=0.01)"
      ],
      "metadata": {
        "id": "rQhZT9U1sf-i"
      },
      "execution_count": null,
      "outputs": []
    },
    {
      "cell_type": "code",
      "source": [
        "def train(epochs):\n",
        "    for epoch in range(epochs):\n",
        "        for x, y in dl_train:\n",
        "            pre = model(x)\n",
        "            loss = torch.nn.CrossEntropyLoss()(pre, y)\n",
        "\n",
        "            optimizer.zero_grad()\n",
        "            loss.backward()\n",
        "            optimizer.step()\n",
        "        print(f'{epoch:3d}/{epochs}, loss : {loss}')"
      ],
      "metadata": {
        "id": "6fcKJg0Ss345"
      },
      "execution_count": null,
      "outputs": []
    },
    {
      "cell_type": "code",
      "source": [
        "def test():\n",
        "    model.eval()\n",
        "    ok = 0\n",
        "    with torch.no_grad():\n",
        "        for x, y in dl_test:\n",
        "            pre = model(x)\n",
        "            ok += (torch.argmax(pre,1) == y).sum().item()\n",
        "    acc = ok/len(dl_test.dataset)\n",
        "    print(f'{ok}/{len(dl_test.dataset)} 정확도는 {acc*100:.2f}%입니다')"
      ],
      "metadata": {
        "id": "mYH0y9XcuxAo"
      },
      "execution_count": null,
      "outputs": []
    },
    {
      "cell_type": "code",
      "source": [
        "train(100)"
      ],
      "metadata": {
        "colab": {
          "base_uri": "https://localhost:8080/"
        },
        "id": "ts1XGUZFtlFw",
        "outputId": "136a67c2-c456-4141-8ad0-4c95e02f7eb9"
      },
      "execution_count": null,
      "outputs": [
        {
          "output_type": "stream",
          "name": "stdout",
          "text": [
            "  0/100, loss : 0.6536769866943359\n",
            "  1/100, loss : 0.722026526927948\n",
            "  2/100, loss : 0.8944869637489319\n",
            "  3/100, loss : 0.4333781599998474\n",
            "  4/100, loss : 0.7529574632644653\n",
            "  5/100, loss : 0.4328386187553406\n",
            "  6/100, loss : 0.7631946206092834\n",
            "  7/100, loss : 0.440801203250885\n",
            "  8/100, loss : 0.6300809383392334\n",
            "  9/100, loss : 0.342622309923172\n",
            " 10/100, loss : 0.5281822085380554\n",
            " 11/100, loss : 0.32862603664398193\n",
            " 12/100, loss : 0.28149348497390747\n",
            " 13/100, loss : 0.5220369696617126\n",
            " 14/100, loss : 0.5502476692199707\n",
            " 15/100, loss : 0.4908599555492401\n",
            " 16/100, loss : 0.29008349776268005\n",
            " 17/100, loss : 0.392861008644104\n",
            " 18/100, loss : 0.3511636257171631\n",
            " 19/100, loss : 0.47223711013793945\n",
            " 20/100, loss : 0.30995917320251465\n",
            " 21/100, loss : 0.1501132845878601\n",
            " 22/100, loss : 0.5410689115524292\n",
            " 23/100, loss : 0.25675174593925476\n",
            " 24/100, loss : 0.14651980996131897\n",
            " 25/100, loss : 0.18047523498535156\n",
            " 26/100, loss : 0.18431472778320312\n",
            " 27/100, loss : 0.3550880551338196\n",
            " 28/100, loss : 0.14736369252204895\n",
            " 29/100, loss : 0.2608928084373474\n",
            " 30/100, loss : 0.29090240597724915\n",
            " 31/100, loss : 0.3611375689506531\n",
            " 32/100, loss : 0.1713360846042633\n",
            " 33/100, loss : 0.32766902446746826\n",
            " 34/100, loss : 0.323918879032135\n",
            " 35/100, loss : 0.09734275937080383\n",
            " 36/100, loss : 0.39409139752388\n",
            " 37/100, loss : 0.3385716676712036\n",
            " 38/100, loss : 0.22956041991710663\n",
            " 39/100, loss : 0.27763891220092773\n",
            " 40/100, loss : 0.12713798880577087\n",
            " 41/100, loss : 0.48407337069511414\n",
            " 42/100, loss : 0.18036705255508423\n",
            " 43/100, loss : 0.36253952980041504\n",
            " 44/100, loss : 0.3957769572734833\n",
            " 45/100, loss : 0.15962599217891693\n",
            " 46/100, loss : 0.17994984984397888\n",
            " 47/100, loss : 0.46847349405288696\n",
            " 48/100, loss : 0.2527337968349457\n",
            " 49/100, loss : 0.4680365025997162\n",
            " 50/100, loss : 0.338056743144989\n",
            " 51/100, loss : 0.2884206175804138\n",
            " 52/100, loss : 0.2879409193992615\n",
            " 53/100, loss : 0.2518656849861145\n",
            " 54/100, loss : 0.1798902153968811\n",
            " 55/100, loss : 0.17989683151245117\n",
            " 56/100, loss : 0.2852363586425781\n",
            " 57/100, loss : 0.1855357587337494\n",
            " 58/100, loss : 0.22152680158615112\n",
            " 59/100, loss : 0.17991378903388977\n",
            " 60/100, loss : 0.28884196281433105\n",
            " 61/100, loss : 0.2880706191062927\n",
            " 62/100, loss : 0.2878401279449463\n",
            " 63/100, loss : 0.2880057096481323\n",
            " 64/100, loss : 0.39593490958213806\n",
            " 65/100, loss : 0.3325246274471283\n",
            " 66/100, loss : 0.32423141598701477\n",
            " 67/100, loss : 0.3596026301383972\n",
            " 68/100, loss : 0.1457221657037735\n",
            " 69/100, loss : 0.2893128991127014\n",
            " 70/100, loss : 0.14425301551818848\n",
            " 71/100, loss : 0.21596553921699524\n",
            " 72/100, loss : 0.42045891284942627\n",
            " 73/100, loss : 0.3247719705104828\n",
            " 74/100, loss : 0.2300708293914795\n",
            " 75/100, loss : 0.26842284202575684\n",
            " 76/100, loss : 0.39582449197769165\n",
            " 77/100, loss : 0.22650110721588135\n",
            " 78/100, loss : 0.3719804584980011\n",
            " 79/100, loss : 0.6629365086555481\n",
            " 80/100, loss : 0.18009990453720093\n",
            " 81/100, loss : 0.14406158030033112\n",
            " 82/100, loss : 0.2890673875808716\n",
            " 83/100, loss : 0.14466336369514465\n",
            " 84/100, loss : 0.22819271683692932\n",
            " 85/100, loss : 0.21597126126289368\n",
            " 86/100, loss : 0.2642739415168762\n",
            " 87/100, loss : 0.18142861127853394\n",
            " 88/100, loss : 0.3268733620643616\n",
            " 89/100, loss : 0.28795409202575684\n",
            " 90/100, loss : 0.18000908195972443\n",
            " 91/100, loss : 0.5228205323219299\n",
            " 92/100, loss : 0.18109241127967834\n",
            " 93/100, loss : 0.2884717285633087\n",
            " 94/100, loss : 0.18001437187194824\n",
            " 95/100, loss : 0.2518712878227234\n",
            " 96/100, loss : 0.17988961935043335\n",
            " 97/100, loss : 0.5829429626464844\n",
            " 98/100, loss : 0.25184664130210876\n",
            " 99/100, loss : 0.2525758445262909\n"
          ]
        }
      ]
    },
    {
      "cell_type": "code",
      "source": [
        "test()"
      ],
      "metadata": {
        "colab": {
          "base_uri": "https://localhost:8080/"
        },
        "id": "EO0Bu0t4vU1w",
        "outputId": "687f551b-0819-4aa6-de84-762a637252bd"
      },
      "execution_count": null,
      "outputs": [
        {
          "output_type": "stream",
          "name": "stdout",
          "text": [
            "12228/14000 정확도는 87.34%입니다\n"
          ]
        }
      ]
    },
    {
      "cell_type": "code",
      "source": [
        "import tensorflow as tf\n",
        "import torch"
      ],
      "metadata": {
        "id": "GVpeqzrlh_us"
      },
      "execution_count": null,
      "outputs": []
    },
    {
      "cell_type": "code",
      "source": [
        "a = tf.constant([1,2,3,4,5,6])\n",
        "a"
      ],
      "metadata": {
        "colab": {
          "base_uri": "https://localhost:8080/"
        },
        "id": "15irGvMgHMCj",
        "outputId": "fe104aff-7ee9-466c-db53-6f738effb32b"
      },
      "execution_count": null,
      "outputs": [
        {
          "output_type": "execute_result",
          "data": {
            "text/plain": [
              "<tf.Tensor: shape=(6,), dtype=int32, numpy=array([1, 2, 3, 4, 5, 6], dtype=int32)>"
            ]
          },
          "metadata": {},
          "execution_count": 2
        }
      ]
    },
    {
      "cell_type": "code",
      "source": [
        "from sklearn.datasets import load_iris\n",
        "iris = load_iris()"
      ],
      "metadata": {
        "id": "oiDMVxhOkmSb"
      },
      "execution_count": null,
      "outputs": []
    },
    {
      "cell_type": "code",
      "source": [
        "import numpy as np\n",
        "a = iris.data\n",
        "a = a[:,:2]\n",
        "a.shape"
      ],
      "metadata": {
        "colab": {
          "base_uri": "https://localhost:8080/"
        },
        "id": "eOxcbR9pkz6o",
        "outputId": "1e0f7094-3224-4440-9dc7-a138dc496246"
      },
      "execution_count": null,
      "outputs": [
        {
          "output_type": "execute_result",
          "data": {
            "text/plain": [
              "(150, 2)"
            ]
          },
          "metadata": {},
          "execution_count": 8
        }
      ]
    },
    {
      "cell_type": "code",
      "source": [
        "import matplotlib.pyplot as plt\n",
        "plt.scatter(a[:,0],a[:,1],c=c[:,2])\n",
        "plt.show()"
      ],
      "metadata": {
        "colab": {
          "base_uri": "https://localhost:8080/",
          "height": 268
        },
        "id": "SxnB3KsWlO3f",
        "outputId": "8449b2ef-e064-4c13-a4d2-f4118f6e00a9"
      },
      "execution_count": null,
      "outputs": [
        {
          "output_type": "display_data",
          "data": {
            "text/plain": [
              "<Figure size 432x288 with 1 Axes>"
            ],
            "image/png": "[encoded data removed]"
          },
          "metadata": {
            "needs_background": "light"
          }
        }
      ]
    },
    {
      "cell_type": "code",
      "source": [
        "b = iris.target"
      ],
      "metadata": {
        "id": "JFGTjnMTlo2V"
      },
      "execution_count": null,
      "outputs": []
    },
    {
      "cell_type": "code",
      "source": [
        "a.shape"
      ],
      "metadata": {
        "colab": {
          "base_uri": "https://localhost:8080/"
        },
        "id": "AaxM-E1LnNvH",
        "outputId": "0494c038-73b4-425e-a9a0-9aac4e853bc3"
      },
      "execution_count": null,
      "outputs": [
        {
          "output_type": "execute_result",
          "data": {
            "text/plain": [
              "(150, 2)"
            ]
          },
          "metadata": {},
          "execution_count": 19
        }
      ]
    },
    {
      "cell_type": "code",
      "source": [
        "b=b.reshape(-1,1)"
      ],
      "metadata": {
        "id": "bfELIuz_nMVV"
      },
      "execution_count": null,
      "outputs": []
    },
    {
      "cell_type": "code",
      "source": [
        "b.shape"
      ],
      "metadata": {
        "colab": {
          "base_uri": "https://localhost:8080/"
        },
        "id": "lATUlSibnWbH",
        "outputId": "9bf13df2-f7dc-47b0-f560-74e5571fe010"
      },
      "execution_count": null,
      "outputs": [
        {
          "output_type": "execute_result",
          "data": {
            "text/plain": [
              "(150, 1)"
            ]
          },
          "metadata": {},
          "execution_count": 24
        }
      ]
    },
    {
      "cell_type": "code",
      "source": [
        "inputs = torch.Tensor(1, 1, 28, 28)\n",
        "inputs.shape"
      ],
      "metadata": {
        "colab": {
          "base_uri": "https://localhost:8080/"
        },
        "id": "GQtvDwvyw8cG",
        "outputId": "0aaf7eef-a816-463b-e71c-cf9d0a6d4d5b"
      },
      "execution_count": null,
      "outputs": [
        {
          "output_type": "execute_result",
          "data": {
            "text/plain": [
              "torch.Size([1, 1, 28, 28])"
            ]
          },
          "metadata": {},
          "execution_count": 29
        }
      ]
    },
    {
      "cell_type": "code",
      "source": [
        "conv1 = torch.nn.Conv2d(1,32,3,1,1)\n",
        "print(conv1)"
      ],
      "metadata": {
        "colab": {
          "base_uri": "https://localhost:8080/"
        },
        "id": "-ISeCrWnwrEd",
        "outputId": "bb46334b-fd18-4848-c162-93a7d2fcf3e1"
      },
      "execution_count": null,
      "outputs": [
        {
          "output_type": "stream",
          "name": "stdout",
          "text": [
            "Conv2d(1, 32, kernel_size=(3, 3), stride=(1, 1), padding=(1, 1))\n"
          ]
        }
      ]
    },
    {
      "cell_type": "code",
      "source": [
        "conv2 = torch.nn.Conv2d(32,64,3,1,1)\n",
        "print(conv2)"
      ],
      "metadata": {
        "colab": {
          "base_uri": "https://localhost:8080/"
        },
        "id": "ysDbjnZlxkh-",
        "outputId": "97749ced-df6a-4c87-8320-247a60a26505"
      },
      "execution_count": null,
      "outputs": [
        {
          "output_type": "stream",
          "name": "stdout",
          "text": [
            "Conv2d(32, 64, kernel_size=(3, 3), stride=(1, 1), padding=(1, 1))\n"
          ]
        }
      ]
    },
    {
      "cell_type": "code",
      "source": [
        "pool = torch.nn.MaxPool2d(2)\n",
        "print(pool)"
      ],
      "metadata": {
        "colab": {
          "base_uri": "https://localhost:8080/"
        },
        "id": "fhsO_aZFx98O",
        "outputId": "d836ecb3-8c5c-4624-e32e-f229deede414"
      },
      "execution_count": null,
      "outputs": [
        {
          "output_type": "stream",
          "name": "stdout",
          "text": [
            "MaxPool2d(kernel_size=2, stride=2, padding=0, dilation=1, ceil_mode=False)\n"
          ]
        }
      ]
    },
    {
      "cell_type": "code",
      "source": [
        "pool(conv1(inputs)).shape"
      ],
      "metadata": {
        "colab": {
          "base_uri": "https://localhost:8080/"
        },
        "id": "xuLDFwsjyH_l",
        "outputId": "665056fd-eeed-401c-e65f-5d0e95b166ea"
      },
      "execution_count": null,
      "outputs": [
        {
          "output_type": "execute_result",
          "data": {
            "text/plain": [
              "torch.Size([1, 32, 14, 14])"
            ]
          },
          "metadata": {},
          "execution_count": 40
        }
      ]
    },
    {
      "cell_type": "code",
      "source": [
        "import torch\n",
        "import torchvision.datasets as dsets\n",
        "import torchvision.transforms as transforms\n",
        "import torch.nn.init"
      ],
      "metadata": {
        "id": "etv11m2Wz4ih"
      },
      "execution_count": null,
      "outputs": []
    },
    {
      "cell_type": "code",
      "source": [
        "mnist_train = torchvision.datasets.MNIST('MNIST_data/',True,torchvision.transforms.ToTensor(), download=True)\n",
        "mnist_test = torchvision.datasets.MNIST('MNIST_data/',False,torchvision.transforms.ToTensor(),download=True)"
      ],
      "metadata": {
        "id": "iYV7lRh2zt9g"
      },
      "execution_count": null,
      "outputs": []
    },
    {
      "cell_type": "code",
      "source": [
        "ld_train = torch.utils.data.DataLoader(mnist_train,batch_size = 100,shuffle=True,drop_last=True)"
      ],
      "metadata": {
        "id": "uoIn2u8U2pG7"
      },
      "execution_count": null,
      "outputs": []
    },
    {
      "cell_type": "code",
      "source": [
        "class CNN(torch.nn.Module):\n",
        "    def __init__(self):\n",
        "        super(CNN, self).__init__()\n",
        "        self.layer1 = torch.nn.Sequential(\n",
        "            torch.nn.Conv2d(1,32,3,1,1),\n",
        "            torch.nn.ReLU(),\n",
        "            torch.nn.MaxPool2d(2,2))\n",
        "        \n",
        "        self.layer2 = torch.nn.Sequential(\n",
        "            torch.nn.Conv2d(32,64,3,1,1),\n",
        "            torch.nn.ReLU(),\n",
        "            torch.nn.MaxPool2d(2,2))\n",
        "        \n",
        "        self.fc = torch.nn.Linear(64*7*7, 10)\n",
        "\n",
        "        torch.nn.init.xavier_uniform_(self.fc.weight)\n",
        "\n",
        "    def forward(self, x):\n",
        "        outputs = self.layer1(x)\n",
        "        outputs = self.layer2(outputs)\n",
        "        outputs = outputs.view(outputs.size(0),-1)\n",
        "        outputs = self.fc(outputs)\n",
        "        return outputs"
      ],
      "metadata": {
        "id": "YYBvLsQt32VR"
      },
      "execution_count": null,
      "outputs": []
    },
    {
      "cell_type": "code",
      "source": [
        "model = CNN()\n",
        "print(model)"
      ],
      "metadata": {
        "colab": {
          "base_uri": "https://localhost:8080/"
        },
        "id": "jvJVKycG8hX6",
        "outputId": "4776923a-cd8e-48bb-9eb2-8426affa5d77"
      },
      "execution_count": null,
      "outputs": [
        {
          "output_type": "stream",
          "name": "stdout",
          "text": [
            "CNN(\n",
            "  (layer1): Sequential(\n",
            "    (0): Conv2d(1, 32, kernel_size=(3, 3), stride=(1, 1), padding=(1, 1))\n",
            "    (1): ReLU()\n",
            "    (2): MaxPool2d(kernel_size=2, stride=2, padding=0, dilation=1, ceil_mode=False)\n",
            "  )\n",
            "  (layer2): Sequential(\n",
            "    (0): Conv2d(32, 64, kernel_size=(3, 3), stride=(1, 1), padding=(1, 1))\n",
            "    (1): ReLU()\n",
            "    (2): MaxPool2d(kernel_size=2, stride=2, padding=0, dilation=1, ceil_mode=False)\n",
            "  )\n",
            "  (fc): Linear(in_features=3136, out_features=10, bias=True)\n",
            ")\n"
          ]
        }
      ]
    },
    {
      "cell_type": "code",
      "source": [
        "losser = torch.nn.CrossEntropyLoss()\n",
        "optimizer = torch.optim.Adam(model.parameters(), lr=0.001)"
      ],
      "metadata": {
        "id": "P9KTaHTx82jZ"
      },
      "execution_count": null,
      "outputs": []
    },
    {
      "cell_type": "code",
      "source": [
        "total_batch = len(ld_train)\n",
        "total_batch"
      ],
      "metadata": {
        "colab": {
          "base_uri": "https://localhost:8080/"
        },
        "id": "huNIZYut9UY7",
        "outputId": "62039976-009c-458c-e366-717161f02bb0"
      },
      "execution_count": null,
      "outputs": [
        {
          "output_type": "execute_result",
          "data": {
            "text/plain": [
              "600"
            ]
          },
          "metadata": {},
          "execution_count": 60
        }
      ]
    },
    {
      "cell_type": "code",
      "source": [
        "epochs = 15\n",
        "for epoch in range(epochs):\n",
        "    losses = 0\n",
        "    for x, y in ld_train:\n",
        "\n",
        "        optimizer.zero_grad()\n",
        "        pre = model(x)\n",
        "        loss = losser(pre, y)\n",
        "        loss.backward()\n",
        "        optimizer.step()\n",
        "\n",
        "        losses += loss/total_batch\n",
        "    print(f'{epoch:2d}/{epochs} === loss : {losses}')"
      ],
      "metadata": {
        "colab": {
          "base_uri": "https://localhost:8080/"
        },
        "id": "cMF6ycnA9wEk",
        "outputId": "efbe1cc1-5a90-4275-cb34-1ac682c79901"
      },
      "execution_count": null,
      "outputs": [
        {
          "output_type": "stream",
          "name": "stdout",
          "text": [
            " 0/15 === loss : 0.2255171686410904\n",
            " 1/15 === loss : 0.06285768747329712\n",
            " 2/15 === loss : 0.04605796933174133\n",
            " 3/15 === loss : 0.03660194203257561\n",
            " 4/15 === loss : 0.030237434431910515\n",
            " 5/15 === loss : 0.024526236578822136\n",
            " 6/15 === loss : 0.02195775881409645\n",
            " 7/15 === loss : 0.018666375428438187\n",
            " 8/15 === loss : 0.016168061643838882\n",
            " 9/15 === loss : 0.013431670144200325\n",
            "10/15 === loss : 0.011145579628646374\n",
            "11/15 === loss : 0.00941498950123787\n",
            "12/15 === loss : 0.008132342249155045\n",
            "13/15 === loss : 0.008429302833974361\n",
            "14/15 === loss : 0.0061691454611718655\n"
          ]
        }
      ]
    },
    {
      "cell_type": "code",
      "source": [
        "with torch.no_grad():\n",
        "    x_test = mnist_test.data.view(-1,1,28,28).float()\n",
        "    y_test = mnist_test.targets\n",
        "    pre = model(x_test)\n",
        "    sc = (torch.argmax(pre,dim=1) == y_test).sum()/len(y_test)\n",
        "    print(f'{sc*100}%')"
      ],
      "metadata": {
        "colab": {
          "base_uri": "https://localhost:8080/"
        },
        "id": "IG6450WvHRpk",
        "outputId": "9980829c-1e60-458b-c1e3-8ef9e725fe24"
      },
      "execution_count": null,
      "outputs": [
        {
          "output_type": "stream",
          "name": "stdout",
          "text": [
            "98.52999877929688%\n"
          ]
        }
      ]
    },
    {
      "cell_type": "code",
      "source": [
        "class CNN2(torch.nn.Module):\n",
        "    def __init__(self):\n",
        "        super(CNN2,self).__init__()\n",
        "        self.keep_prob = 0.5\n",
        "        self.layer1 = torch.nn.Sequential(torch.nn.Conv2d(1,32,3,1,1),\n",
        "                                     torch.nn.ReLU(),\n",
        "                                     torch.nn.MaxPool2d(2,2))\n",
        "        self.layer2 = torch.nn.Sequential(torch.nn.Conv2d(32,64,3,1,1),\n",
        "                                     torch.nn.ReLU(),\n",
        "                                     torch.nn.MaxPool2d(2,2))\n",
        "        self.layer3 = torch.nn.Sequential(torch.nn.Conv2d(64,128,3,1,1),\n",
        "                                     torch.nn.ReLU(),\n",
        "                                     torch.nn.MaxPool2d(2,2,1))\n",
        "        \n",
        "        self.fc1 = torch.nn.Linear(4*4*128,625)\n",
        "        torch.nn.init.xavier_uniform_(self.fc1.weight)\n",
        "        self.layer4 = torch.nn.Sequential(self.fc1,\n",
        "                                          torch.nn.ReLU(),\n",
        "                                          torch.nn.Dropout(1-self.keep_prob))\n",
        "        self.fc2 = torch.nn.Linear(625,10)\n",
        "        torch.nn.init.xavier_uniform_(self.fc2.weight)\n",
        "\n",
        "    def forward(self, x):\n",
        "        x = self.layer1(x)\n",
        "        x = self.layer2(x)\n",
        "        x = self.layer3(x)\n",
        "        x = x.view(x.size(0),-1)\n",
        "        x = self.layer4(x)\n",
        "        outputs = self.fc2(x)\n",
        "        return outputs"
      ],
      "metadata": {
        "id": "TA6C0CxoVbx_"
      },
      "execution_count": null,
      "outputs": []
    },
    {
      "cell_type": "code",
      "source": [
        "model = CNN2()\n",
        "print(model)"
      ],
      "metadata": {
        "colab": {
          "base_uri": "https://localhost:8080/"
        },
        "id": "9Aqjet2rdt3x",
        "outputId": "17127068-bf07-46bb-8003-843bf06cebef"
      },
      "execution_count": null,
      "outputs": [
        {
          "output_type": "stream",
          "name": "stdout",
          "text": [
            "CNN2(\n",
            "  (layer1): Sequential(\n",
            "    (0): Conv2d(1, 32, kernel_size=(3, 3), stride=(1, 1), padding=(1, 1))\n",
            "    (1): ReLU()\n",
            "    (2): MaxPool2d(kernel_size=2, stride=2, padding=0, dilation=1, ceil_mode=False)\n",
            "  )\n",
            "  (layer2): Sequential(\n",
            "    (0): Conv2d(32, 64, kernel_size=(3, 3), stride=(1, 1), padding=(1, 1))\n",
            "    (1): ReLU()\n",
            "    (2): MaxPool2d(kernel_size=2, stride=2, padding=0, dilation=1, ceil_mode=False)\n",
            "  )\n",
            "  (layer3): Sequential(\n",
            "    (0): Conv2d(64, 128, kernel_size=(3, 3), stride=(1, 1), padding=(1, 1))\n",
            "    (1): ReLU()\n",
            "    (2): MaxPool2d(kernel_size=2, stride=2, padding=1, dilation=1, ceil_mode=False)\n",
            "  )\n",
            "  (fc1): Linear(in_features=2048, out_features=625, bias=True)\n",
            "  (layer4): Sequential(\n",
            "    (0): Linear(in_features=2048, out_features=625, bias=True)\n",
            "    (1): ReLU()\n",
            "    (2): Dropout(p=0.5, inplace=False)\n",
            "  )\n",
            "  (fc2): Linear(in_features=625, out_features=10, bias=True)\n",
            ")\n"
          ]
        }
      ]
    },
    {
      "cell_type": "code",
      "source": [
        "loss = torch.nn.CrossEntropyLoss()\n",
        "optimizer = torch.optim.Adam(model.parameters(), lr=0.001)"
      ],
      "metadata": {
        "id": "2-tQcpzveK9T"
      },
      "execution_count": null,
      "outputs": []
    },
    {
      "cell_type": "code",
      "source": [
        "epochs = 15\n",
        "for epoch in range(epochs):\n",
        "    losses = 0\n",
        "    for x, y in ld_train:\n",
        "        optimizer.zero_grad()\n",
        "        pre = model(x)\n",
        "        lossed = loss(pre, y)\n",
        "        lossed.backward()\n",
        "        optimizer.step()\n",
        "        losses += lossed/len(ld_train)\n",
        "    print(f'{epoch:2d}/{epochs}, loss : {losses}')"
      ],
      "metadata": {
        "colab": {
          "base_uri": "https://localhost:8080/"
        },
        "id": "GaM1kpkhek2f",
        "outputId": "1628c517-d620-49f2-e3b0-5e8db9e07e92"
      },
      "execution_count": null,
      "outputs": [
        {
          "output_type": "stream",
          "name": "stdout",
          "text": [
            " 0/15, loss : 0.04953400790691376\n",
            " 1/15, loss : 0.034696999937295914\n",
            " 2/15, loss : 0.028762249276041985\n",
            " 3/15, loss : 0.023492716252803802\n",
            " 4/15, loss : 0.01836540922522545\n",
            " 5/15, loss : 0.015755750238895416\n",
            " 6/15, loss : 0.012656194157898426\n",
            " 7/15, loss : 0.011843334883451462\n",
            " 8/15, loss : 0.011664371937513351\n",
            " 9/15, loss : 0.010157269425690174\n",
            "10/15, loss : 0.009082646109163761\n",
            "11/15, loss : 0.008361446671187878\n",
            "12/15, loss : 0.0077851009555161\n",
            "13/15, loss : 0.006484462413936853\n",
            "14/15, loss : 0.007963800802826881\n"
          ]
        }
      ]
    },
    {
      "cell_type": "code",
      "source": [
        "with torch.no_grad():\n",
        "    x_test = mnist_test.data.view(-1,1,28,28).float()\n",
        "    y_test = mnist_test.targets\n",
        "    pre = model(x_test)\n",
        "    accuracy = ((torch.argmax(pre, dim=1) == y_test).sum()/len(y_test)).item()\n",
        "    print(f'{accuracy*100}%')"
      ],
      "metadata": {
        "colab": {
          "base_uri": "https://localhost:8080/"
        },
        "id": "VmqodAFkr8wK",
        "outputId": "f6f2d7ec-5009-4f93-8077-862844101133"
      },
      "execution_count": null,
      "outputs": [
        {
          "output_type": "stream",
          "name": "stdout",
          "text": [
            "97.54999876022339%\n"
          ]
        }
      ]
    },
    {
      "cell_type": "code",
      "source": [
        "mm = torchvision.models.resnet50(pretrained=True)"
      ],
      "metadata": {
        "colab": {
          "base_uri": "https://localhost:8080/",
          "height": 161,
          "referenced_widgets": [
            "58b67dacb05f46ce858f162d03d26ae5",
            "c2cf692c3bd04ba588dfc0891a1a612c",
            "c9ed7a495b614b4cbce28f465b2ec364",
            "782ff5b15ab3435ca83d3f1f5d4d1336",
            "26a356b98fba407dbfc0f7fb2117d6d4",
            "2934e2bd6c3a4f46a81204038299f760",
            "7cd7b6ec231347599e5ca4e91a52bfe0",
            "3da02a060e604e0bbabd0fd0f1ca7f4d",
            "0bc57f24f910462f833d4ffc7a591134",
            "5d8bfda8670a4c1a8b8919e3bfee3f04",
            "a4e212c61a55428da3180cb724762a44"
          ]
        },
        "id": "XcH0hdpixz4t",
        "outputId": "df5e2a3b-77b1-4956-a21c-d711f3bd7b0e"
      },
      "execution_count": null,
      "outputs": [
        {
          "output_type": "stream",
          "name": "stderr",
          "text": [
            "/usr/local/lib/python3.7/dist-packages/torchvision/models/_utils.py:209: UserWarning: The parameter 'pretrained' is deprecated since 0.13 and will be removed in 0.15, please use 'weights' instead.\n",
            "  f\"The parameter '{pretrained_param}' is deprecated since 0.13 and will be removed in 0.15, \"\n",
            "/usr/local/lib/python3.7/dist-packages/torchvision/models/_utils.py:223: UserWarning: Arguments other than a weight enum or `None` for 'weights' are deprecated since 0.13 and will be removed in 0.15. The current behavior is equivalent to passing `weights=ResNet50_Weights.IMAGENET1K_V1`. You can also use `weights=ResNet50_Weights.DEFAULT` to get the most up-to-date weights.\n",
            "  warnings.warn(msg)\n",
            "Downloading: \"https://download.pytorch.org/models/resnet50-0676ba61.pth\" to /root/.cache/torch/hub/checkpoints/resnet50-0676ba61.pth\n"
          ]
        },
        {
          "output_type": "display_data",
          "data": {
            "text/plain": [
              "  0%|          | 0.00/97.8M [00:00<?, ?B/s]"
            ],
            "application/vnd.jupyter.widget-view+json": {
              "version_major": 2,
              "version_minor": 0,
              "model_id": "58b67dacb05f46ce858f162d03d26ae5"
            }
          },
          "metadata": {}
        }
      ]
    },
    {
      "cell_type": "code",
      "source": [
        "mm(1,28,28)"
      ],
      "metadata": {
        "colab": {
          "base_uri": "https://localhost:8080/",
          "height": 303
        },
        "id": "LmOkqWWj01vt",
        "outputId": "ade03978-98ea-44d2-dc52-8fe60eb94af6"
      },
      "execution_count": null,
      "outputs": [
        {
          "output_type": "error",
          "ename": "TypeError",
          "evalue": "ignored",
          "traceback": [
            "\u001b[0;31m---------------------------------------------------------------------------\u001b[0m",
            "\u001b[0;31mTypeError\u001b[0m                                 Traceback (most recent call last)",
            "\u001b[0;32m<ipython-input-149-249b974ff2b2>\u001b[0m in \u001b[0;36m<module>\u001b[0;34m\u001b[0m\n\u001b[0;32m----> 1\u001b[0;31m \u001b[0mmm\u001b[0m\u001b[0;34m(\u001b[0m\u001b[0;36m1\u001b[0m\u001b[0;34m,\u001b[0m\u001b[0;36m28\u001b[0m\u001b[0;34m,\u001b[0m\u001b[0;36m28\u001b[0m\u001b[0;34m)\u001b[0m\u001b[0;34m\u001b[0m\u001b[0;34m\u001b[0m\u001b[0m\n\u001b[0m",
            "\u001b[0;32m/usr/local/lib/python3.7/dist-packages/torch/nn/modules/module.py\u001b[0m in \u001b[0;36m_call_impl\u001b[0;34m(self, *input, **kwargs)\u001b[0m\n\u001b[1;32m   1128\u001b[0m         if not (self._backward_hooks or self._forward_hooks or self._forward_pre_hooks or _global_backward_hooks\n\u001b[1;32m   1129\u001b[0m                 or _global_forward_hooks or _global_forward_pre_hooks):\n\u001b[0;32m-> 1130\u001b[0;31m             \u001b[0;32mreturn\u001b[0m \u001b[0mforward_call\u001b[0m\u001b[0;34m(\u001b[0m\u001b[0;34m*\u001b[0m\u001b[0minput\u001b[0m\u001b[0;34m,\u001b[0m \u001b[0;34m**\u001b[0m\u001b[0mkwargs\u001b[0m\u001b[0;34m)\u001b[0m\u001b[0;34m\u001b[0m\u001b[0;34m\u001b[0m\u001b[0m\n\u001b[0m\u001b[1;32m   1131\u001b[0m         \u001b[0;31m# Do not call functions when jit is used\u001b[0m\u001b[0;34m\u001b[0m\u001b[0;34m\u001b[0m\u001b[0;34m\u001b[0m\u001b[0m\n\u001b[1;32m   1132\u001b[0m         \u001b[0mfull_backward_hooks\u001b[0m\u001b[0;34m,\u001b[0m \u001b[0mnon_full_backward_hooks\u001b[0m \u001b[0;34m=\u001b[0m \u001b[0;34m[\u001b[0m\u001b[0;34m]\u001b[0m\u001b[0;34m,\u001b[0m \u001b[0;34m[\u001b[0m\u001b[0;34m]\u001b[0m\u001b[0;34m\u001b[0m\u001b[0;34m\u001b[0m\u001b[0m\n",
            "\u001b[0;31mTypeError\u001b[0m: forward() takes 2 positional arguments but 4 were given"
          ]
        }
      ]
    },
    {
      "cell_type": "code",
      "source": [
        "from torchsummary import summary\n",
        "summary(mm,(3,28,28))"
      ],
      "metadata": {
        "colab": {
          "base_uri": "https://localhost:8080/"
        },
        "id": "Fonzfzc4yfsi",
        "outputId": "f740ac50-9e39-441f-c0b5-b1d2c1b530a6"
      },
      "execution_count": null,
      "outputs": [
        {
          "output_type": "stream",
          "name": "stdout",
          "text": [
            "----------------------------------------------------------------\n",
            "        Layer (type)               Output Shape         Param #\n",
            "================================================================\n",
            "            Conv2d-1           [-1, 64, 14, 14]           9,408\n",
            "       BatchNorm2d-2           [-1, 64, 14, 14]             128\n",
            "              ReLU-3           [-1, 64, 14, 14]               0\n",
            "         MaxPool2d-4             [-1, 64, 7, 7]               0\n",
            "            Conv2d-5             [-1, 64, 7, 7]           4,096\n",
            "       BatchNorm2d-6             [-1, 64, 7, 7]             128\n",
            "              ReLU-7             [-1, 64, 7, 7]               0\n",
            "            Conv2d-8             [-1, 64, 7, 7]          36,864\n",
            "       BatchNorm2d-9             [-1, 64, 7, 7]             128\n",
            "             ReLU-10             [-1, 64, 7, 7]               0\n",
            "           Conv2d-11            [-1, 256, 7, 7]          16,384\n",
            "      BatchNorm2d-12            [-1, 256, 7, 7]             512\n",
            "           Conv2d-13            [-1, 256, 7, 7]          16,384\n",
            "      BatchNorm2d-14            [-1, 256, 7, 7]             512\n",
            "             ReLU-15            [-1, 256, 7, 7]               0\n",
            "       Bottleneck-16            [-1, 256, 7, 7]               0\n",
            "           Conv2d-17             [-1, 64, 7, 7]          16,384\n",
            "      BatchNorm2d-18             [-1, 64, 7, 7]             128\n",
            "             ReLU-19             [-1, 64, 7, 7]               0\n",
            "           Conv2d-20             [-1, 64, 7, 7]          36,864\n",
            "      BatchNorm2d-21             [-1, 64, 7, 7]             128\n",
            "             ReLU-22             [-1, 64, 7, 7]               0\n",
            "           Conv2d-23            [-1, 256, 7, 7]          16,384\n",
            "      BatchNorm2d-24            [-1, 256, 7, 7]             512\n",
            "             ReLU-25            [-1, 256, 7, 7]               0\n",
            "       Bottleneck-26            [-1, 256, 7, 7]               0\n",
            "           Conv2d-27             [-1, 64, 7, 7]          16,384\n",
            "      BatchNorm2d-28             [-1, 64, 7, 7]             128\n",
            "             ReLU-29             [-1, 64, 7, 7]               0\n",
            "           Conv2d-30             [-1, 64, 7, 7]          36,864\n",
            "      BatchNorm2d-31             [-1, 64, 7, 7]             128\n",
            "             ReLU-32             [-1, 64, 7, 7]               0\n",
            "           Conv2d-33            [-1, 256, 7, 7]          16,384\n",
            "      BatchNorm2d-34            [-1, 256, 7, 7]             512\n",
            "             ReLU-35            [-1, 256, 7, 7]               0\n",
            "       Bottleneck-36            [-1, 256, 7, 7]               0\n",
            "           Conv2d-37            [-1, 128, 7, 7]          32,768\n",
            "      BatchNorm2d-38            [-1, 128, 7, 7]             256\n",
            "             ReLU-39            [-1, 128, 7, 7]               0\n",
            "           Conv2d-40            [-1, 128, 4, 4]         147,456\n",
            "      BatchNorm2d-41            [-1, 128, 4, 4]             256\n",
            "             ReLU-42            [-1, 128, 4, 4]               0\n",
            "           Conv2d-43            [-1, 512, 4, 4]          65,536\n",
            "      BatchNorm2d-44            [-1, 512, 4, 4]           1,024\n",
            "           Conv2d-45            [-1, 512, 4, 4]         131,072\n",
            "      BatchNorm2d-46            [-1, 512, 4, 4]           1,024\n",
            "             ReLU-47            [-1, 512, 4, 4]               0\n",
            "       Bottleneck-48            [-1, 512, 4, 4]               0\n",
            "           Conv2d-49            [-1, 128, 4, 4]          65,536\n",
            "      BatchNorm2d-50            [-1, 128, 4, 4]             256\n",
            "             ReLU-51            [-1, 128, 4, 4]               0\n",
            "           Conv2d-52            [-1, 128, 4, 4]         147,456\n",
            "      BatchNorm2d-53            [-1, 128, 4, 4]             256\n",
            "             ReLU-54            [-1, 128, 4, 4]               0\n",
            "           Conv2d-55            [-1, 512, 4, 4]          65,536\n",
            "      BatchNorm2d-56            [-1, 512, 4, 4]           1,024\n",
            "             ReLU-57            [-1, 512, 4, 4]               0\n",
            "       Bottleneck-58            [-1, 512, 4, 4]               0\n",
            "           Conv2d-59            [-1, 128, 4, 4]          65,536\n",
            "      BatchNorm2d-60            [-1, 128, 4, 4]             256\n",
            "             ReLU-61            [-1, 128, 4, 4]               0\n",
            "           Conv2d-62            [-1, 128, 4, 4]         147,456\n",
            "      BatchNorm2d-63            [-1, 128, 4, 4]             256\n",
            "             ReLU-64            [-1, 128, 4, 4]               0\n",
            "           Conv2d-65            [-1, 512, 4, 4]          65,536\n",
            "      BatchNorm2d-66            [-1, 512, 4, 4]           1,024\n",
            "             ReLU-67            [-1, 512, 4, 4]               0\n",
            "       Bottleneck-68            [-1, 512, 4, 4]               0\n",
            "           Conv2d-69            [-1, 128, 4, 4]          65,536\n",
            "      BatchNorm2d-70            [-1, 128, 4, 4]             256\n",
            "             ReLU-71            [-1, 128, 4, 4]               0\n",
            "           Conv2d-72            [-1, 128, 4, 4]         147,456\n",
            "      BatchNorm2d-73            [-1, 128, 4, 4]             256\n",
            "             ReLU-74            [-1, 128, 4, 4]               0\n",
            "           Conv2d-75            [-1, 512, 4, 4]          65,536\n",
            "      BatchNorm2d-76            [-1, 512, 4, 4]           1,024\n",
            "             ReLU-77            [-1, 512, 4, 4]               0\n",
            "       Bottleneck-78            [-1, 512, 4, 4]               0\n",
            "           Conv2d-79            [-1, 256, 4, 4]         131,072\n",
            "      BatchNorm2d-80            [-1, 256, 4, 4]             512\n",
            "             ReLU-81            [-1, 256, 4, 4]               0\n",
            "           Conv2d-82            [-1, 256, 2, 2]         589,824\n",
            "      BatchNorm2d-83            [-1, 256, 2, 2]             512\n",
            "             ReLU-84            [-1, 256, 2, 2]               0\n",
            "           Conv2d-85           [-1, 1024, 2, 2]         262,144\n",
            "      BatchNorm2d-86           [-1, 1024, 2, 2]           2,048\n",
            "           Conv2d-87           [-1, 1024, 2, 2]         524,288\n",
            "      BatchNorm2d-88           [-1, 1024, 2, 2]           2,048\n",
            "             ReLU-89           [-1, 1024, 2, 2]               0\n",
            "       Bottleneck-90           [-1, 1024, 2, 2]               0\n",
            "           Conv2d-91            [-1, 256, 2, 2]         262,144\n",
            "      BatchNorm2d-92            [-1, 256, 2, 2]             512\n",
            "             ReLU-93            [-1, 256, 2, 2]               0\n",
            "           Conv2d-94            [-1, 256, 2, 2]         589,824\n",
            "      BatchNorm2d-95            [-1, 256, 2, 2]             512\n",
            "             ReLU-96            [-1, 256, 2, 2]               0\n",
            "           Conv2d-97           [-1, 1024, 2, 2]         262,144\n",
            "      BatchNorm2d-98           [-1, 1024, 2, 2]           2,048\n",
            "             ReLU-99           [-1, 1024, 2, 2]               0\n",
            "      Bottleneck-100           [-1, 1024, 2, 2]               0\n",
            "          Conv2d-101            [-1, 256, 2, 2]         262,144\n",
            "     BatchNorm2d-102            [-1, 256, 2, 2]             512\n",
            "            ReLU-103            [-1, 256, 2, 2]               0\n",
            "          Conv2d-104            [-1, 256, 2, 2]         589,824\n",
            "     BatchNorm2d-105            [-1, 256, 2, 2]             512\n",
            "            ReLU-106            [-1, 256, 2, 2]               0\n",
            "          Conv2d-107           [-1, 1024, 2, 2]         262,144\n",
            "     BatchNorm2d-108           [-1, 1024, 2, 2]           2,048\n",
            "            ReLU-109           [-1, 1024, 2, 2]               0\n",
            "      Bottleneck-110           [-1, 1024, 2, 2]               0\n",
            "          Conv2d-111            [-1, 256, 2, 2]         262,144\n",
            "     BatchNorm2d-112            [-1, 256, 2, 2]             512\n",
            "            ReLU-113            [-1, 256, 2, 2]               0\n",
            "          Conv2d-114            [-1, 256, 2, 2]         589,824\n",
            "     BatchNorm2d-115            [-1, 256, 2, 2]             512\n",
            "            ReLU-116            [-1, 256, 2, 2]               0\n",
            "          Conv2d-117           [-1, 1024, 2, 2]         262,144\n",
            "     BatchNorm2d-118           [-1, 1024, 2, 2]           2,048\n",
            "            ReLU-119           [-1, 1024, 2, 2]               0\n",
            "      Bottleneck-120           [-1, 1024, 2, 2]               0\n",
            "          Conv2d-121            [-1, 256, 2, 2]         262,144\n",
            "     BatchNorm2d-122            [-1, 256, 2, 2]             512\n",
            "            ReLU-123            [-1, 256, 2, 2]               0\n",
            "          Conv2d-124            [-1, 256, 2, 2]         589,824\n",
            "     BatchNorm2d-125            [-1, 256, 2, 2]             512\n",
            "            ReLU-126            [-1, 256, 2, 2]               0\n",
            "          Conv2d-127           [-1, 1024, 2, 2]         262,144\n",
            "     BatchNorm2d-128           [-1, 1024, 2, 2]           2,048\n",
            "            ReLU-129           [-1, 1024, 2, 2]               0\n",
            "      Bottleneck-130           [-1, 1024, 2, 2]               0\n",
            "          Conv2d-131            [-1, 256, 2, 2]         262,144\n",
            "     BatchNorm2d-132            [-1, 256, 2, 2]             512\n",
            "            ReLU-133            [-1, 256, 2, 2]               0\n",
            "          Conv2d-134            [-1, 256, 2, 2]         589,824\n",
            "     BatchNorm2d-135            [-1, 256, 2, 2]             512\n",
            "            ReLU-136            [-1, 256, 2, 2]               0\n",
            "          Conv2d-137           [-1, 1024, 2, 2]         262,144\n",
            "     BatchNorm2d-138           [-1, 1024, 2, 2]           2,048\n",
            "            ReLU-139           [-1, 1024, 2, 2]               0\n",
            "      Bottleneck-140           [-1, 1024, 2, 2]               0\n",
            "          Conv2d-141            [-1, 512, 2, 2]         524,288\n",
            "     BatchNorm2d-142            [-1, 512, 2, 2]           1,024\n",
            "            ReLU-143            [-1, 512, 2, 2]               0\n",
            "          Conv2d-144            [-1, 512, 1, 1]       2,359,296\n",
            "     BatchNorm2d-145            [-1, 512, 1, 1]           1,024\n",
            "            ReLU-146            [-1, 512, 1, 1]               0\n",
            "          Conv2d-147           [-1, 2048, 1, 1]       1,048,576\n",
            "     BatchNorm2d-148           [-1, 2048, 1, 1]           4,096\n",
            "          Conv2d-149           [-1, 2048, 1, 1]       2,097,152\n",
            "     BatchNorm2d-150           [-1, 2048, 1, 1]           4,096\n",
            "            ReLU-151           [-1, 2048, 1, 1]               0\n",
            "      Bottleneck-152           [-1, 2048, 1, 1]               0\n",
            "          Conv2d-153            [-1, 512, 1, 1]       1,048,576\n",
            "     BatchNorm2d-154            [-1, 512, 1, 1]           1,024\n",
            "            ReLU-155            [-1, 512, 1, 1]               0\n",
            "          Conv2d-156            [-1, 512, 1, 1]       2,359,296\n",
            "     BatchNorm2d-157            [-1, 512, 1, 1]           1,024\n",
            "            ReLU-158            [-1, 512, 1, 1]               0\n",
            "          Conv2d-159           [-1, 2048, 1, 1]       1,048,576\n",
            "     BatchNorm2d-160           [-1, 2048, 1, 1]           4,096\n",
            "            ReLU-161           [-1, 2048, 1, 1]               0\n",
            "      Bottleneck-162           [-1, 2048, 1, 1]               0\n",
            "          Conv2d-163            [-1, 512, 1, 1]       1,048,576\n",
            "     BatchNorm2d-164            [-1, 512, 1, 1]           1,024\n",
            "            ReLU-165            [-1, 512, 1, 1]               0\n",
            "          Conv2d-166            [-1, 512, 1, 1]       2,359,296\n",
            "     BatchNorm2d-167            [-1, 512, 1, 1]           1,024\n",
            "            ReLU-168            [-1, 512, 1, 1]               0\n",
            "          Conv2d-169           [-1, 2048, 1, 1]       1,048,576\n",
            "     BatchNorm2d-170           [-1, 2048, 1, 1]           4,096\n",
            "            ReLU-171           [-1, 2048, 1, 1]               0\n",
            "      Bottleneck-172           [-1, 2048, 1, 1]               0\n",
            "AdaptiveAvgPool2d-173           [-1, 2048, 1, 1]               0\n",
            "          Linear-174                 [-1, 1000]       2,049,000\n",
            "================================================================\n",
            "Total params: 25,557,032\n",
            "Trainable params: 25,557,032\n",
            "Non-trainable params: 0\n",
            "----------------------------------------------------------------\n",
            "Input size (MB): 0.01\n",
            "Forward/backward pass size (MB): 5.19\n",
            "Params size (MB): 97.49\n",
            "Estimated Total Size (MB): 102.69\n",
            "----------------------------------------------------------------\n"
          ]
        }
      ]
    },
    {
      "cell_type": "code",
      "source": [
        "aa= tf.keras.layers.Conv2D(6,3,1,'same')"
      ],
      "metadata": {
        "id": "KLLP_HG34tV8"
      },
      "execution_count": null,
      "outputs": []
    },
    {
      "cell_type": "code",
      "source": [
        "import PIL"
      ],
      "metadata": {
        "id": "Mi-e37nu8MDF"
      },
      "execution_count": null,
      "outputs": []
    },
    {
      "cell_type": "code",
      "source": [
        "image = PIL.Image.open('/content/20220819_082754.jpg')\n",
        "image = np.array(image)/255\n",
        "image.shape"
      ],
      "metadata": {
        "colab": {
          "base_uri": "https://localhost:8080/"
        },
        "id": "S4-NpyXm8c8t",
        "outputId": "2a86416e-de12-4aaa-bd12-c70bd0165fca"
      },
      "execution_count": null,
      "outputs": [
        {
          "output_type": "execute_result",
          "data": {
            "text/plain": [
              "(600, 800, 3)"
            ]
          },
          "metadata": {},
          "execution_count": 209
        }
      ]
    },
    {
      "cell_type": "code",
      "source": [
        "a = tf.constant([1,2,3])"
      ],
      "metadata": {
        "id": "iHiJH9WOGUVS"
      },
      "execution_count": null,
      "outputs": []
    },
    {
      "cell_type": "code",
      "source": [
        "b  = tf.cast(a,tf.float32)"
      ],
      "metadata": {
        "id": "0kEqzZgQGePg"
      },
      "execution_count": null,
      "outputs": []
    },
    {
      "cell_type": "code",
      "source": [
        "tf.keras.optimizers.schedules.CosineDecay()"
      ],
      "metadata": {
        "colab": {
          "base_uri": "https://localhost:8080/"
        },
        "id": "oZNeY02VHkZc",
        "outputId": "cfe7e427-395f-43a4-b01b-75c398e07dde"
      },
      "execution_count": null,
      "outputs": [
        {
          "output_type": "execute_result",
          "data": {
            "text/plain": [
              "<tf.Tensor: shape=(3,), dtype=float32, numpy=array([1., 2., 3.], dtype=float32)>"
            ]
          },
          "metadata": {},
          "execution_count": 226
        }
      ]
    },
    {
      "cell_type": "code",
      "source": [
        "import cv2"
      ],
      "metadata": {
        "id": "xOsnhrbkLZHh"
      },
      "execution_count": null,
      "outputs": []
    },
    {
      "cell_type": "code",
      "source": [
        "cv2.__version__"
      ],
      "metadata": {
        "colab": {
          "base_uri": "https://localhost:8080/",
          "height": 35
        },
        "id": "HPtIdjihLtpQ",
        "outputId": "c08329e4-e952-49c1-ec4b-ce9c11750449"
      },
      "execution_count": null,
      "outputs": [
        {
          "output_type": "execute_result",
          "data": {
            "text/plain": [
              "'4.6.0'"
            ],
            "application/vnd.google.colaboratory.intrinsic+json": {
              "type": "string"
            }
          },
          "metadata": {},
          "execution_count": 230
        }
      ]
    },
    {
      "cell_type": "code",
      "source": [
        "image = cv2.imread('/content/20220819_082754.jpg')"
      ],
      "metadata": {
        "id": "tl9UYb4IM-Lz"
      },
      "execution_count": null,
      "outputs": []
    },
    {
      "cell_type": "code",
      "source": [
        "cv2.rgb"
      ],
      "metadata": {
        "id": "eMKx360CNI-S"
      },
      "execution_count": null,
      "outputs": []
    },
    {
      "cell_type": "code",
      "source": [
        "import torch\n",
        "import torchtext"
      ],
      "metadata": {
        "id": "5ZrVllg-VRb1"
      },
      "execution_count": null,
      "outputs": []
    },
    {
      "cell_type": "code",
      "source": [
        "import urllib.request\n",
        "import pandas as pd"
      ],
      "metadata": {
        "id": "mF80LxY6VneR"
      },
      "execution_count": null,
      "outputs": []
    },
    {
      "cell_type": "code",
      "source": [
        "urllib.request.urlretrieve(\"https://raw.githubusercontent.com/LawrenceDuan/IMDb-Review-Analysis/master/IMDb_Reviews.csv\", filename=\"IMDb_Reviews.csv\")"
      ],
      "metadata": {
        "colab": {
          "base_uri": "https://localhost:8080/"
        },
        "id": "Iug1ZAcxVpAj",
        "outputId": "eb926d69-a847-4107-d826-6288e2222c56"
      },
      "execution_count": null,
      "outputs": [
        {
          "output_type": "execute_result",
          "data": {
            "text/plain": [
              "('IMDb_Reviews.csv', <http.client.HTTPMessage at 0x7fdf6f8d0050>)"
            ]
          },
          "metadata": {},
          "execution_count": 3
        }
      ]
    },
    {
      "cell_type": "code",
      "source": [
        "df = pd.read_csv('IMDb_Reviews.csv', encoding='latin1')\n",
        "df.head()"
      ],
      "metadata": {
        "colab": {
          "base_uri": "https://localhost:8080/",
          "height": 206
        },
        "id": "WjTHnLY5VqOc",
        "outputId": "908f933a-db6e-4a58-eedb-58319cd0753e"
      },
      "execution_count": null,
      "outputs": [
        {
          "output_type": "execute_result",
          "data": {
            "text/plain": [
              "                                              review  sentiment\n",
              "0  My family and I normally do not watch local mo...          1\n",
              "1  Believe it or not, this was at one time the wo...          0\n",
              "2  After some internet surfing, I found the \"Home...          0\n",
              "3  One of the most unheralded great works of anim...          1\n",
              "4  It was the Sixties, and anyone with long hair ...          0"
            ],
            "text/html": [
              "\n",
              "  <div id=\"df-74cbac19-0ded-46dd-8854-18657891d96e\">\n",
              "    <div class=\"colab-df-container\">\n",
              "      <div>\n",
              "<style scoped>\n",
              "    .dataframe tbody tr th:only-of-type {\n",
              "        vertical-align: middle;\n",
              "    }\n",
              "\n",
              "    .dataframe tbody tr th {\n",
              "        vertical-align: top;\n",
              "    }\n",
              "\n",
              "    .dataframe thead th {\n",
              "        text-align: right;\n",
              "    }\n",
              "</style>\n",
              "<table border=\"1\" class=\"dataframe\">\n",
              "  <thead>\n",
              "    <tr style=\"text-align: right;\">\n",
              "      <th></th>\n",
              "      <th>review</th>\n",
              "      <th>sentiment</th>\n",
              "    </tr>\n",
              "  </thead>\n",
              "  <tbody>\n",
              "    <tr>\n",
              "      <th>0</th>\n",
              "      <td>My family and I normally do not watch local mo...</td>\n",
              "      <td>1</td>\n",
              "    </tr>\n",
              "    <tr>\n",
              "      <th>1</th>\n",
              "      <td>Believe it or not, this was at one time the wo...</td>\n",
              "      <td>0</td>\n",
              "    </tr>\n",
              "    <tr>\n",
              "      <th>2</th>\n",
              "      <td>After some internet surfing, I found the \"Home...</td>\n",
              "      <td>0</td>\n",
              "    </tr>\n",
              "    <tr>\n",
              "      <th>3</th>\n",
              "      <td>One of the most unheralded great works of anim...</td>\n",
              "      <td>1</td>\n",
              "    </tr>\n",
              "    <tr>\n",
              "      <th>4</th>\n",
              "      <td>It was the Sixties, and anyone with long hair ...</td>\n",
              "      <td>0</td>\n",
              "    </tr>\n",
              "  </tbody>\n",
              "</table>\n",
              "</div>\n",
              "      <button class=\"colab-df-convert\" onclick=\"convertToInteractive('df-74cbac19-0ded-46dd-8854-18657891d96e')\"\n",
              "              title=\"Convert this dataframe to an interactive table.\"\n",
              "              style=\"display:none;\">\n",
              "        \n",
              "  <svg xmlns=\"http://www.w3.org/2000/svg\" height=\"24px\"viewBox=\"0 0 24 24\"\n",
              "       width=\"24px\">\n",
              "    <path d=\"M0 0h24v24H0V0z\" fill=\"none\"/>\n",
              "    <path d=\"M18.56 5.44l.94 2.06.94-2.06 2.06-.94-2.06-.94-.94-2.06-.94 2.06-2.06.94zm-11 1L8.5 8.5l.94-2.06 2.06-.94-2.06-.94L8.5 2.5l-.94 2.06-2.06.94zm10 10l.94 2.06.94-2.06 2.06-.94-2.06-.94-.94-2.06-.94 2.06-2.06.94z\"/><path d=\"M17.41 7.96l-1.37-1.37c-.4-.4-.92-.59-1.43-.59-.52 0-1.04.2-1.43.59L10.3 9.45l-7.72 7.72c-.78.78-.78 2.05 0 2.83L4 21.41c.39.39.9.59 1.41.59.51 0 1.02-.2 1.41-.59l7.78-7.78 2.81-2.81c.8-.78.8-2.07 0-2.86zM5.41 20L4 18.59l7.72-7.72 1.47 1.35L5.41 20z\"/>\n",
              "  </svg>\n",
              "      </button>\n",
              "      \n",
              "  <style>\n",
              "    .colab-df-container {\n",
              "      display:flex;\n",
              "      flex-wrap:wrap;\n",
              "      gap: 12px;\n",
              "    }\n",
              "\n",
              "    .colab-df-convert {\n",
              "      background-color: #E8F0FE;\n",
              "      border: none;\n",
              "      border-radius: 50%;\n",
              "      cursor: pointer;\n",
              "      display: none;\n",
              "      fill: #1967D2;\n",
              "      height: 32px;\n",
              "      padding: 0 0 0 0;\n",
              "      width: 32px;\n",
              "    }\n",
              "\n",
              "    .colab-df-convert:hover {\n",
              "      background-color: #E2EBFA;\n",
              "      box-shadow: 0px 1px 2px rgba(60, 64, 67, 0.3), 0px 1px 3px 1px rgba(60, 64, 67, 0.15);\n",
              "      fill: #174EA6;\n",
              "    }\n",
              "\n",
              "    [theme=dark] .colab-df-convert {\n",
              "      background-color: #3B4455;\n",
              "      fill: #D2E3FC;\n",
              "    }\n",
              "\n",
              "    [theme=dark] .colab-df-convert:hover {\n",
              "      background-color: #434B5C;\n",
              "      box-shadow: 0px 1px 3px 1px rgba(0, 0, 0, 0.15);\n",
              "      filter: drop-shadow(0px 1px 2px rgba(0, 0, 0, 0.3));\n",
              "      fill: #FFFFFF;\n",
              "    }\n",
              "  </style>\n",
              "\n",
              "      <script>\n",
              "        const buttonEl =\n",
              "          document.querySelector('#df-74cbac19-0ded-46dd-8854-18657891d96e button.colab-df-convert');\n",
              "        buttonEl.style.display =\n",
              "          google.colab.kernel.accessAllowed ? 'block' : 'none';\n",
              "\n",
              "        async function convertToInteractive(key) {\n",
              "          const element = document.querySelector('#df-74cbac19-0ded-46dd-8854-18657891d96e');\n",
              "          const dataTable =\n",
              "            await google.colab.kernel.invokeFunction('convertToInteractive',\n",
              "                                                     [key], {});\n",
              "          if (!dataTable) return;\n",
              "\n",
              "          const docLinkHtml = 'Like what you see? Visit the ' +\n",
              "            '<a target=\"_blank\" href=https://colab.research.google.com/notebooks/data_table.ipynb>data table notebook</a>'\n",
              "            + ' to learn more about interactive tables.';\n",
              "          element.innerHTML = '';\n",
              "          dataTable['output_type'] = 'display_data';\n",
              "          await google.colab.output.renderOutput(dataTable, element);\n",
              "          const docLink = document.createElement('div');\n",
              "          docLink.innerHTML = docLinkHtml;\n",
              "          element.appendChild(docLink);\n",
              "        }\n",
              "      </script>\n",
              "    </div>\n",
              "  </div>\n",
              "  "
            ]
          },
          "metadata": {},
          "execution_count": 4
        }
      ]
    },
    {
      "cell_type": "code",
      "source": [
        "df.shape"
      ],
      "metadata": {
        "colab": {
          "base_uri": "https://localhost:8080/"
        },
        "id": "JfyylarRVwLm",
        "outputId": "5b95c0ba-c808-4959-8a6e-e6307497bd9d"
      },
      "execution_count": null,
      "outputs": [
        {
          "output_type": "execute_result",
          "data": {
            "text/plain": [
              "(50000, 2)"
            ]
          },
          "metadata": {},
          "execution_count": 6
        }
      ]
    },
    {
      "cell_type": "code",
      "source": [
        "train_ds = df[:25000]\n",
        "test_ds = df[25000:]"
      ],
      "metadata": {
        "id": "tLUOmPU6X4gP"
      },
      "execution_count": null,
      "outputs": []
    },
    {
      "cell_type": "code",
      "source": [
        "import tensorflow as tf\n",
        "import numpy as np"
      ],
      "metadata": {
        "id": "LPfbhYgiTe63"
      },
      "execution_count": null,
      "outputs": []
    },
    {
      "cell_type": "code",
      "source": [
        "import tensorflow as tf\n",
        "class what(tf.keras.layers.Layer):\n",
        "    def __init__(self):\n",
        "        super().__init__()\n",
        "        self.dence = tf.keras.layers.Dense(2, activation='sigmoid')\n",
        "    def __call__(self, x):\n",
        "        a = x * 2\n",
        "        a = self.dence(a)\n",
        "        return a"
      ],
      "metadata": {
        "id": "rFYovZgLKBRD"
      },
      "execution_count": null,
      "outputs": []
    },
    {
      "cell_type": "code",
      "source": [
        "aaa = what()\n",
        "aaa(np.array([[1],[2]]))"
      ],
      "metadata": {
        "colab": {
          "base_uri": "https://localhost:8080/"
        },
        "id": "4g55NK8_Tbyt",
        "outputId": "c760bb46-0a10-4ed2-8c27-711d2dcdd763"
      },
      "execution_count": null,
      "outputs": [
        {
          "output_type": "execute_result",
          "data": {
            "text/plain": [
              "<tf.Tensor: shape=(2, 2), dtype=float32, numpy=\n",
              "array([[0.2561605 , 0.09088054],\n",
              "       [0.10602123, 0.00989428]], dtype=float32)>"
            ]
          },
          "metadata": {},
          "execution_count": 18
        }
      ]
    },
    {
      "cell_type": "code",
      "source": [
        "aaa.weights"
      ],
      "metadata": {
        "colab": {
          "base_uri": "https://localhost:8080/"
        },
        "id": "3LcVzByiU0rW",
        "outputId": "bbbee247-fb7e-4fe5-a987-235681d2995f"
      },
      "execution_count": null,
      "outputs": [
        {
          "output_type": "execute_result",
          "data": {
            "text/plain": [
              "[<tf.Variable 'dense_7/kernel:0' shape=(1, 2) dtype=float32, numpy=array([[-0.5330106, -1.151465 ]], dtype=float32)>,\n",
              " <tf.Variable 'dense_7/bias:0' shape=(2,) dtype=float32, numpy=array([0., 0.], dtype=float32)>]"
            ]
          },
          "metadata": {},
          "execution_count": 19
        }
      ]
    },
    {
      "cell_type": "code",
      "source": [
        "a = tf.random.uniform((3,3))\n",
        "print(a)\n",
        "print(tf.matmul(a,a))"
      ],
      "metadata": {
        "colab": {
          "base_uri": "https://localhost:8080/"
        },
        "id": "k3a4TehYWH1E",
        "outputId": "5d9fd8cb-52be-43e6-e751-717c11a46bb4"
      },
      "execution_count": null,
      "outputs": [
        {
          "output_type": "stream",
          "name": "stdout",
          "text": [
            "tf.Tensor(\n",
            "[[0.42194366 0.39175212 0.28979182]\n",
            " [0.83867323 0.93672633 0.8218167 ]\n",
            " [0.24439967 0.19947195 0.20953822]], shape=(3, 3), dtype=float32)\n",
            "tf.Tensor(\n",
            "[[0.5774135  0.5900672  0.5049467 ]\n",
            " [1.3403318  1.3699375  1.18506   ]\n",
            " [0.32162574 0.32439172 0.27866066]], shape=(3, 3), dtype=float32)\n"
          ]
        }
      ]
    },
    {
      "cell_type": "code",
      "source": [
        "import numpy as np\n",
        "import PIL\n",
        "import matplotlib.pyplot as plt"
      ],
      "metadata": {
        "id": "mMrUzuqrXm07"
      },
      "execution_count": null,
      "outputs": []
    },
    {
      "cell_type": "code",
      "source": [
        "image = PIL.Image.open('/content/001.PNG')\n",
        "image = np.array(image)"
      ],
      "metadata": {
        "id": "LzdZZbqWXqIQ"
      },
      "execution_count": null,
      "outputs": []
    },
    {
      "cell_type": "code",
      "source": [
        "model = tf.keras.Sequential()\n",
        "model.add(tf.keras.layers.Input((540,960,3)))\n",
        "model.add(tf.keras.layers.experimental.preprocessing.Rescaling(1./255))\n",
        "model.add(tf.keras.layers.experimental.preprocessing.Resizing(500,500))\n",
        "model.add(tf.keras.layers.experimental.preprocessing.RandomZoom(0.1))\n",
        "model.add(tf.keras.layers.experimental.preprocessing.RandomRotation(0.1))\n",
        "model.add(tf.keras.layers.experimental.preprocessing.RandomFlip('horizontal'))"
      ],
      "metadata": {
        "id": "gqTQr4rUWjH1"
      },
      "execution_count": null,
      "outputs": []
    },
    {
      "cell_type": "code",
      "source": [
        "model.summary()"
      ],
      "metadata": {
        "colab": {
          "base_uri": "https://localhost:8080/"
        },
        "id": "hedCtKPxXS4u",
        "outputId": "fc389ada-aeeb-4d66-a67f-425bfc564cc2"
      },
      "execution_count": null,
      "outputs": [
        {
          "output_type": "stream",
          "name": "stdout",
          "text": [
            "Model: \"sequential_30\"\n",
            "_________________________________________________________________\n",
            " Layer (type)                Output Shape              Param #   \n",
            "=================================================================\n",
            " rescaling_28 (Rescaling)    (None, 540, 960, 3)       0         \n",
            "                                                                 \n",
            " resizing_11 (Resizing)      (None, 500, 500, 3)       0         \n",
            "                                                                 \n",
            " random_zoom_16 (RandomZoom)  (None, 500, 500, 3)      0         \n",
            "                                                                 \n",
            " random_rotation_10 (RandomR  (None, 500, 500, 3)      0         \n",
            " otation)                                                        \n",
            "                                                                 \n",
            " random_flip_4 (RandomFlip)  (None, 500, 500, 3)       0         \n",
            "                                                                 \n",
            "=================================================================\n",
            "Total params: 0\n",
            "Trainable params: 0\n",
            "Non-trainable params: 0\n",
            "_________________________________________________________________\n"
          ]
        }
      ]
    },
    {
      "cell_type": "code",
      "source": [
        "image1 = image.reshape(1,540,960,3)\n",
        "for i in range(4):\n",
        "    plt.subplot(2,2,i+1)\n",
        "    if i == 0:\n",
        "        plt.imshow(tf.reshape(image1,(540,960,3)))\n",
        "    else:\n",
        "        image2 = model(image1)\n",
        "        plt.imshow(tf.reshape(image2,(500,500,3)))\n",
        "plt.show()\n"
      ],
      "metadata": {
        "id": "U69_fMsiYUkQ"
      },
      "execution_count": null,
      "outputs": []
    },
    {
      "cell_type": "code",
      "source": [
        "import pandas as pd\n",
        "import datetime"
      ],
      "metadata": {
        "id": "FhVvVMLxDCsV"
      },
      "execution_count": null,
      "outputs": []
    },
    {
      "cell_type": "code",
      "source": [
        "class ggg():\n",
        "    def __init__(self, name, pw, money_f):\n",
        "        self.name = name\n",
        "        self.pw = pw\n",
        "        self.money_f = money_f\n",
        "        self.account = pd.DataFrame([[datetime.datetime.now(),self.money_f, 0, self.money_f, 'first']],columns=['time', 'in', 'out', 'total','etc'])\n",
        "\n",
        "    def __getitem__(self, index):\n",
        "        return self.account.iloc[:index,:]\n",
        "\n",
        "    def in_money(self):\n",
        "        pass_ = int(input('pass'))\n",
        "        if self.pw == pass_:\n",
        "            money = int(input('money'))\n",
        "            messge = input('messge')\n",
        "            account_add = pd.DataFrame([[datetime.datetime.now(),money, 0, self.money_f, messge]],columns=['time', 'in', 'out', 'total','etc'])\n",
        "            self.account = pd.concat([self.account, account_add])\n",
        "            aa = self.account['total'].values[-2] + money\n",
        "            self.account.iloc[-1,3] = aa\n",
        "        else :\n",
        "            print('wrong pass')\n",
        "    \n",
        "    def out_money(self):\n",
        "        pass_ = int(input('pass'))\n",
        "        if self.pw == pass_:\n",
        "            money = int(input('money'))\n",
        "            messge = input('messge')\n",
        "            account_add = pd.DataFrame([[datetime.datetime.now(),0, money, self.money_f, messge]],columns=['time', 'in', 'out', 'total','etc'])\n",
        "            self.account = pd.concat([self.account, account_add])\n",
        "            aa = self.account['total'].values[-2] - money\n",
        "            self.account.iloc[-1,3] = aa\n",
        "        else :\n",
        "            print('wrong pass')\n",
        "\n",
        "a = ggg('kim',2,100)\n",
        "a[1]"
      ],
      "metadata": {
        "colab": {
          "base_uri": "https://localhost:8080/",
          "height": 81
        },
        "id": "a5AxupwiDGYd",
        "outputId": "49af493e-707b-45c9-a672-008079497637"
      },
      "execution_count": 90,
      "outputs": [
        {
          "output_type": "execute_result",
          "data": {
            "text/plain": [
              "                        time   in  out  total    etc\n",
              "0 2022-08-24 06:39:27.718393  100    0    100  first"
            ],
            "text/html": [
              "\n",
              "  <div id=\"df-ffdc4094-5187-48cc-8e06-1f10f16c2bb6\">\n",
              "    <div class=\"colab-df-container\">\n",
              "      <div>\n",
              "<style scoped>\n",
              "    .dataframe tbody tr th:only-of-type {\n",
              "        vertical-align: middle;\n",
              "    }\n",
              "\n",
              "    .dataframe tbody tr th {\n",
              "        vertical-align: top;\n",
              "    }\n",
              "\n",
              "    .dataframe thead th {\n",
              "        text-align: right;\n",
              "    }\n",
              "</style>\n",
              "<table border=\"1\" class=\"dataframe\">\n",
              "  <thead>\n",
              "    <tr style=\"text-align: right;\">\n",
              "      <th></th>\n",
              "      <th>time</th>\n",
              "      <th>in</th>\n",
              "      <th>out</th>\n",
              "      <th>total</th>\n",
              "      <th>etc</th>\n",
              "    </tr>\n",
              "  </thead>\n",
              "  <tbody>\n",
              "    <tr>\n",
              "      <th>0</th>\n",
              "      <td>2022-08-24 06:39:27.718393</td>\n",
              "      <td>100</td>\n",
              "      <td>0</td>\n",
              "      <td>100</td>\n",
              "      <td>first</td>\n",
              "    </tr>\n",
              "  </tbody>\n",
              "</table>\n",
              "</div>\n",
              "      <button class=\"colab-df-convert\" onclick=\"convertToInteractive('df-ffdc4094-5187-48cc-8e06-1f10f16c2bb6')\"\n",
              "              title=\"Convert this dataframe to an interactive table.\"\n",
              "              style=\"display:none;\">\n",
              "        \n",
              "  <svg xmlns=\"http://www.w3.org/2000/svg\" height=\"24px\"viewBox=\"0 0 24 24\"\n",
              "       width=\"24px\">\n",
              "    <path d=\"M0 0h24v24H0V0z\" fill=\"none\"/>\n",
              "    <path d=\"M18.56 5.44l.94 2.06.94-2.06 2.06-.94-2.06-.94-.94-2.06-.94 2.06-2.06.94zm-11 1L8.5 8.5l.94-2.06 2.06-.94-2.06-.94L8.5 2.5l-.94 2.06-2.06.94zm10 10l.94 2.06.94-2.06 2.06-.94-2.06-.94-.94-2.06-.94 2.06-2.06.94z\"/><path d=\"M17.41 7.96l-1.37-1.37c-.4-.4-.92-.59-1.43-.59-.52 0-1.04.2-1.43.59L10.3 9.45l-7.72 7.72c-.78.78-.78 2.05 0 2.83L4 21.41c.39.39.9.59 1.41.59.51 0 1.02-.2 1.41-.59l7.78-7.78 2.81-2.81c.8-.78.8-2.07 0-2.86zM5.41 20L4 18.59l7.72-7.72 1.47 1.35L5.41 20z\"/>\n",
              "  </svg>\n",
              "      </button>\n",
              "      \n",
              "  <style>\n",
              "    .colab-df-container {\n",
              "      display:flex;\n",
              "      flex-wrap:wrap;\n",
              "      gap: 12px;\n",
              "    }\n",
              "\n",
              "    .colab-df-convert {\n",
              "      background-color: #E8F0FE;\n",
              "      border: none;\n",
              "      border-radius: 50%;\n",
              "      cursor: pointer;\n",
              "      display: none;\n",
              "      fill: #1967D2;\n",
              "      height: 32px;\n",
              "      padding: 0 0 0 0;\n",
              "      width: 32px;\n",
              "    }\n",
              "\n",
              "    .colab-df-convert:hover {\n",
              "      background-color: #E2EBFA;\n",
              "      box-shadow: 0px 1px 2px rgba(60, 64, 67, 0.3), 0px 1px 3px 1px rgba(60, 64, 67, 0.15);\n",
              "      fill: #174EA6;\n",
              "    }\n",
              "\n",
              "    [theme=dark] .colab-df-convert {\n",
              "      background-color: #3B4455;\n",
              "      fill: #D2E3FC;\n",
              "    }\n",
              "\n",
              "    [theme=dark] .colab-df-convert:hover {\n",
              "      background-color: #434B5C;\n",
              "      box-shadow: 0px 1px 3px 1px rgba(0, 0, 0, 0.15);\n",
              "      filter: drop-shadow(0px 1px 2px rgba(0, 0, 0, 0.3));\n",
              "      fill: #FFFFFF;\n",
              "    }\n",
              "  </style>\n",
              "\n",
              "      <script>\n",
              "        const buttonEl =\n",
              "          document.querySelector('#df-ffdc4094-5187-48cc-8e06-1f10f16c2bb6 button.colab-df-convert');\n",
              "        buttonEl.style.display =\n",
              "          google.colab.kernel.accessAllowed ? 'block' : 'none';\n",
              "\n",
              "        async function convertToInteractive(key) {\n",
              "          const element = document.querySelector('#df-ffdc4094-5187-48cc-8e06-1f10f16c2bb6');\n",
              "          const dataTable =\n",
              "            await google.colab.kernel.invokeFunction('convertToInteractive',\n",
              "                                                     [key], {});\n",
              "          if (!dataTable) return;\n",
              "\n",
              "          const docLinkHtml = 'Like what you see? Visit the ' +\n",
              "            '<a target=\"_blank\" href=https://colab.research.google.com/notebooks/data_table.ipynb>data table notebook</a>'\n",
              "            + ' to learn more about interactive tables.';\n",
              "          element.innerHTML = '';\n",
              "          dataTable['output_type'] = 'display_data';\n",
              "          await google.colab.output.renderOutput(dataTable, element);\n",
              "          const docLink = document.createElement('div');\n",
              "          docLink.innerHTML = docLinkHtml;\n",
              "          element.appendChild(docLink);\n",
              "        }\n",
              "      </script>\n",
              "    </div>\n",
              "  </div>\n",
              "  "
            ]
          },
          "metadata": {},
          "execution_count": 90
        }
      ]
    },
    {
      "cell_type": "code",
      "source": [
        "a.in_money()"
      ],
      "metadata": {
        "colab": {
          "base_uri": "https://localhost:8080/"
        },
        "id": "7oSyosPXK8Ns",
        "outputId": "a620e53e-f9e2-4d56-b96c-ed24b525dbba"
      },
      "execution_count": null,
      "outputs": [
        {
          "name": "stdout",
          "output_type": "stream",
          "text": [
            "pass2\n",
            "2\n",
            "2\n",
            "money10000000\n",
            "messge111\n"
          ]
        }
      ]
    },
    {
      "cell_type": "code",
      "source": [
        "a.out_money()"
      ],
      "metadata": {
        "colab": {
          "base_uri": "https://localhost:8080/"
        },
        "id": "29zh94hkLQTQ",
        "outputId": "bf525a7b-13f2-441c-bd65-7fb15bf75a9d"
      },
      "execution_count": null,
      "outputs": [
        {
          "name": "stdout",
          "output_type": "stream",
          "text": [
            "pass2\n",
            "2\n",
            "2\n",
            "money47\n",
            "messge1\n"
          ]
        }
      ]
    },
    {
      "cell_type": "code",
      "source": [
        "a[4]"
      ],
      "metadata": {
        "colab": {
          "base_uri": "https://localhost:8080/",
          "height": 143
        },
        "id": "tfLTf6xWYDER",
        "outputId": "dcbdaac7-1856-432d-87ee-1a05e4dd8168"
      },
      "execution_count": null,
      "outputs": [
        {
          "output_type": "execute_result",
          "data": {
            "text/plain": [
              "                        time        in  out     total    etc\n",
              "0 2022-08-24 05:43:46.926068       100    0       100  first\n",
              "0 2022-08-24 05:43:53.851231         0   47        53      1\n",
              "0 2022-08-24 05:44:46.301490  10000000    0  10000053    111"
            ],
            "text/html": [
              "\n",
              "  <div id=\"df-5511ab00-0a03-4328-a192-df0c72a215eb\">\n",
              "    <div class=\"colab-df-container\">\n",
              "      <div>\n",
              "<style scoped>\n",
              "    .dataframe tbody tr th:only-of-type {\n",
              "        vertical-align: middle;\n",
              "    }\n",
              "\n",
              "    .dataframe tbody tr th {\n",
              "        vertical-align: top;\n",
              "    }\n",
              "\n",
              "    .dataframe thead th {\n",
              "        text-align: right;\n",
              "    }\n",
              "</style>\n",
              "<table border=\"1\" class=\"dataframe\">\n",
              "  <thead>\n",
              "    <tr style=\"text-align: right;\">\n",
              "      <th></th>\n",
              "      <th>time</th>\n",
              "      <th>in</th>\n",
              "      <th>out</th>\n",
              "      <th>total</th>\n",
              "      <th>etc</th>\n",
              "    </tr>\n",
              "  </thead>\n",
              "  <tbody>\n",
              "    <tr>\n",
              "      <th>0</th>\n",
              "      <td>2022-08-24 05:43:46.926068</td>\n",
              "      <td>100</td>\n",
              "      <td>0</td>\n",
              "      <td>100</td>\n",
              "      <td>first</td>\n",
              "    </tr>\n",
              "    <tr>\n",
              "      <th>0</th>\n",
              "      <td>2022-08-24 05:43:53.851231</td>\n",
              "      <td>0</td>\n",
              "      <td>47</td>\n",
              "      <td>53</td>\n",
              "      <td>1</td>\n",
              "    </tr>\n",
              "    <tr>\n",
              "      <th>0</th>\n",
              "      <td>2022-08-24 05:44:46.301490</td>\n",
              "      <td>10000000</td>\n",
              "      <td>0</td>\n",
              "      <td>10000053</td>\n",
              "      <td>111</td>\n",
              "    </tr>\n",
              "  </tbody>\n",
              "</table>\n",
              "</div>\n",
              "      <button class=\"colab-df-convert\" onclick=\"convertToInteractive('df-5511ab00-0a03-4328-a192-df0c72a215eb')\"\n",
              "              title=\"Convert this dataframe to an interactive table.\"\n",
              "              style=\"display:none;\">\n",
              "        \n",
              "  <svg xmlns=\"http://www.w3.org/2000/svg\" height=\"24px\"viewBox=\"0 0 24 24\"\n",
              "       width=\"24px\">\n",
              "    <path d=\"M0 0h24v24H0V0z\" fill=\"none\"/>\n",
              "    <path d=\"M18.56 5.44l.94 2.06.94-2.06 2.06-.94-2.06-.94-.94-2.06-.94 2.06-2.06.94zm-11 1L8.5 8.5l.94-2.06 2.06-.94-2.06-.94L8.5 2.5l-.94 2.06-2.06.94zm10 10l.94 2.06.94-2.06 2.06-.94-2.06-.94-.94-2.06-.94 2.06-2.06.94z\"/><path d=\"M17.41 7.96l-1.37-1.37c-.4-.4-.92-.59-1.43-.59-.52 0-1.04.2-1.43.59L10.3 9.45l-7.72 7.72c-.78.78-.78 2.05 0 2.83L4 21.41c.39.39.9.59 1.41.59.51 0 1.02-.2 1.41-.59l7.78-7.78 2.81-2.81c.8-.78.8-2.07 0-2.86zM5.41 20L4 18.59l7.72-7.72 1.47 1.35L5.41 20z\"/>\n",
              "  </svg>\n",
              "      </button>\n",
              "      \n",
              "  <style>\n",
              "    .colab-df-container {\n",
              "      display:flex;\n",
              "      flex-wrap:wrap;\n",
              "      gap: 12px;\n",
              "    }\n",
              "\n",
              "    .colab-df-convert {\n",
              "      background-color: #E8F0FE;\n",
              "      border: none;\n",
              "      border-radius: 50%;\n",
              "      cursor: pointer;\n",
              "      display: none;\n",
              "      fill: #1967D2;\n",
              "      height: 32px;\n",
              "      padding: 0 0 0 0;\n",
              "      width: 32px;\n",
              "    }\n",
              "\n",
              "    .colab-df-convert:hover {\n",
              "      background-color: #E2EBFA;\n",
              "      box-shadow: 0px 1px 2px rgba(60, 64, 67, 0.3), 0px 1px 3px 1px rgba(60, 64, 67, 0.15);\n",
              "      fill: #174EA6;\n",
              "    }\n",
              "\n",
              "    [theme=dark] .colab-df-convert {\n",
              "      background-color: #3B4455;\n",
              "      fill: #D2E3FC;\n",
              "    }\n",
              "\n",
              "    [theme=dark] .colab-df-convert:hover {\n",
              "      background-color: #434B5C;\n",
              "      box-shadow: 0px 1px 3px 1px rgba(0, 0, 0, 0.15);\n",
              "      filter: drop-shadow(0px 1px 2px rgba(0, 0, 0, 0.3));\n",
              "      fill: #FFFFFF;\n",
              "    }\n",
              "  </style>\n",
              "\n",
              "      <script>\n",
              "        const buttonEl =\n",
              "          document.querySelector('#df-5511ab00-0a03-4328-a192-df0c72a215eb button.colab-df-convert');\n",
              "        buttonEl.style.display =\n",
              "          google.colab.kernel.accessAllowed ? 'block' : 'none';\n",
              "\n",
              "        async function convertToInteractive(key) {\n",
              "          const element = document.querySelector('#df-5511ab00-0a03-4328-a192-df0c72a215eb');\n",
              "          const dataTable =\n",
              "            await google.colab.kernel.invokeFunction('convertToInteractive',\n",
              "                                                     [key], {});\n",
              "          if (!dataTable) return;\n",
              "\n",
              "          const docLinkHtml = 'Like what you see? Visit the ' +\n",
              "            '<a target=\"_blank\" href=https://colab.research.google.com/notebooks/data_table.ipynb>data table notebook</a>'\n",
              "            + ' to learn more about interactive tables.';\n",
              "          element.innerHTML = '';\n",
              "          dataTable['output_type'] = 'display_data';\n",
              "          await google.colab.output.renderOutput(dataTable, element);\n",
              "          const docLink = document.createElement('div');\n",
              "          docLink.innerHTML = docLinkHtml;\n",
              "          element.appendChild(docLink);\n",
              "        }\n",
              "      </script>\n",
              "    </div>\n",
              "  </div>\n",
              "  "
            ]
          },
          "metadata": {},
          "execution_count": 85
        }
      ]
    },
    {
      "cell_type": "code",
      "source": [
        "a.pw"
      ],
      "metadata": {
        "colab": {
          "base_uri": "https://localhost:8080/"
        },
        "id": "ykiOL91kYiZS",
        "outputId": "d77a0a83-5d51-4406-a121-af10ee125a65"
      },
      "execution_count": null,
      "outputs": [
        {
          "output_type": "execute_result",
          "data": {
            "text/plain": [
              "2"
            ]
          },
          "metadata": {},
          "execution_count": 87
        }
      ]
    }
  ]
}