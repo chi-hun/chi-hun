{
  "nbformat": 4,
  "nbformat_minor": 0,
  "metadata": {
    "colab": {
      "name": "Untitled4.ipynb",
      "provenance": [],
      "authorship_tag": "ABX9TyMm/qbo+FRe9MJqXulMhV8O",
      "include_colab_link": true
    },
    "kernelspec": {
      "name": "python3",
      "display_name": "Python 3"
    },
    "language_info": {
      "name": "python"
    },
    "widgets": {
      "application/vnd.jupyter.widget-state+json": {
        "b0d465cba2c2428ba80e8e371b4fbf81": {
          "model_module": "@jupyter-widgets/controls",
          "model_name": "HBoxModel",
          "model_module_version": "1.5.0",
          "state": {
            "_dom_classes": [],
            "_model_module": "@jupyter-widgets/controls",
            "_model_module_version": "1.5.0",
            "_model_name": "HBoxModel",
            "_view_count": null,
            "_view_module": "@jupyter-widgets/controls",
            "_view_module_version": "1.5.0",
            "_view_name": "HBoxView",
            "box_style": "",
            "children": [
              "IPY_MODEL_114b1765c73b45b19b6f7c9a6f641477",
              "IPY_MODEL_7d25e8e3ccdb4380b0b2d9229fed2f6e",
              "IPY_MODEL_aa85a47567db4df89e21b3b064ee16bd"
            ],
            "layout": "IPY_MODEL_f50412aae2da435d9e85aee19fb4295e"
          }
        },
        "114b1765c73b45b19b6f7c9a6f641477": {
          "model_module": "@jupyter-widgets/controls",
          "model_name": "HTMLModel",
          "model_module_version": "1.5.0",
          "state": {
            "_dom_classes": [],
            "_model_module": "@jupyter-widgets/controls",
            "_model_module_version": "1.5.0",
            "_model_name": "HTMLModel",
            "_view_count": null,
            "_view_module": "@jupyter-widgets/controls",
            "_view_module_version": "1.5.0",
            "_view_name": "HTMLView",
            "description": "",
            "description_tooltip": null,
            "layout": "IPY_MODEL_027706fab39a486382740942ee631c26",
            "placeholder": "​",
            "style": "IPY_MODEL_56cfdadc6e2a4d83b3d3e197cca3adf1",
            "value": "100%"
          }
        },
        "7d25e8e3ccdb4380b0b2d9229fed2f6e": {
          "model_module": "@jupyter-widgets/controls",
          "model_name": "FloatProgressModel",
          "model_module_version": "1.5.0",
          "state": {
            "_dom_classes": [],
            "_model_module": "@jupyter-widgets/controls",
            "_model_module_version": "1.5.0",
            "_model_name": "FloatProgressModel",
            "_view_count": null,
            "_view_module": "@jupyter-widgets/controls",
            "_view_module_version": "1.5.0",
            "_view_name": "ProgressView",
            "bar_style": "success",
            "description": "",
            "description_tooltip": null,
            "layout": "IPY_MODEL_456f261b4725439baee818fd78c84075",
            "max": 9912422,
            "min": 0,
            "orientation": "horizontal",
            "style": "IPY_MODEL_35edc54cd59f437ea585a1dbc14a8112",
            "value": 9912422
          }
        },
        "aa85a47567db4df89e21b3b064ee16bd": {
          "model_module": "@jupyter-widgets/controls",
          "model_name": "HTMLModel",
          "model_module_version": "1.5.0",
          "state": {
            "_dom_classes": [],
            "_model_module": "@jupyter-widgets/controls",
            "_model_module_version": "1.5.0",
            "_model_name": "HTMLModel",
            "_view_count": null,
            "_view_module": "@jupyter-widgets/controls",
            "_view_module_version": "1.5.0",
            "_view_name": "HTMLView",
            "description": "",
            "description_tooltip": null,
            "layout": "IPY_MODEL_5b0ed205c0c444cdaa16cb1ab822611a",
            "placeholder": "​",
            "style": "IPY_MODEL_4e5e0118dbb04ef4adef25914a95e3b4",
            "value": " 9912422/9912422 [00:01&lt;00:00, 15821598.14it/s]"
          }
        },
        "f50412aae2da435d9e85aee19fb4295e": {
          "model_module": "@jupyter-widgets/base",
          "model_name": "LayoutModel",
          "model_module_version": "1.2.0",
          "state": {
            "_model_module": "@jupyter-widgets/base",
            "_model_module_version": "1.2.0",
            "_model_name": "LayoutModel",
            "_view_count": null,
            "_view_module": "@jupyter-widgets/base",
            "_view_module_version": "1.2.0",
            "_view_name": "LayoutView",
            "align_content": null,
            "align_items": null,
            "align_self": null,
            "border": null,
            "bottom": null,
            "display": null,
            "flex": null,
            "flex_flow": null,
            "grid_area": null,
            "grid_auto_columns": null,
            "grid_auto_flow": null,
            "grid_auto_rows": null,
            "grid_column": null,
            "grid_gap": null,
            "grid_row": null,
            "grid_template_areas": null,
            "grid_template_columns": null,
            "grid_template_rows": null,
            "height": null,
            "justify_content": null,
            "justify_items": null,
            "left": null,
            "margin": null,
            "max_height": null,
            "max_width": null,
            "min_height": null,
            "min_width": null,
            "object_fit": null,
            "object_position": null,
            "order": null,
            "overflow": null,
            "overflow_x": null,
            "overflow_y": null,
            "padding": null,
            "right": null,
            "top": null,
            "visibility": null,
            "width": null
          }
        },
        "027706fab39a486382740942ee631c26": {
          "model_module": "@jupyter-widgets/base",
          "model_name": "LayoutModel",
          "model_module_version": "1.2.0",
          "state": {
            "_model_module": "@jupyter-widgets/base",
            "_model_module_version": "1.2.0",
            "_model_name": "LayoutModel",
            "_view_count": null,
            "_view_module": "@jupyter-widgets/base",
            "_view_module_version": "1.2.0",
            "_view_name": "LayoutView",
            "align_content": null,
            "align_items": null,
            "align_self": null,
            "border": null,
            "bottom": null,
            "display": null,
            "flex": null,
            "flex_flow": null,
            "grid_area": null,
            "grid_auto_columns": null,
            "grid_auto_flow": null,
            "grid_auto_rows": null,
            "grid_column": null,
            "grid_gap": null,
            "grid_row": null,
            "grid_template_areas": null,
            "grid_template_columns": null,
            "grid_template_rows": null,
            "height": null,
            "justify_content": null,
            "justify_items": null,
            "left": null,
            "margin": null,
            "max_height": null,
            "max_width": null,
            "min_height": null,
            "min_width": null,
            "object_fit": null,
            "object_position": null,
            "order": null,
            "overflow": null,
            "overflow_x": null,
            "overflow_y": null,
            "padding": null,
            "right": null,
            "top": null,
            "visibility": null,
            "width": null
          }
        },
        "56cfdadc6e2a4d83b3d3e197cca3adf1": {
          "model_module": "@jupyter-widgets/controls",
          "model_name": "DescriptionStyleModel",
          "model_module_version": "1.5.0",
          "state": {
            "_model_module": "@jupyter-widgets/controls",
            "_model_module_version": "1.5.0",
            "_model_name": "DescriptionStyleModel",
            "_view_count": null,
            "_view_module": "@jupyter-widgets/base",
            "_view_module_version": "1.2.0",
            "_view_name": "StyleView",
            "description_width": ""
          }
        },
        "456f261b4725439baee818fd78c84075": {
          "model_module": "@jupyter-widgets/base",
          "model_name": "LayoutModel",
          "model_module_version": "1.2.0",
          "state": {
            "_model_module": "@jupyter-widgets/base",
            "_model_module_version": "1.2.0",
            "_model_name": "LayoutModel",
            "_view_count": null,
            "_view_module": "@jupyter-widgets/base",
            "_view_module_version": "1.2.0",
            "_view_name": "LayoutView",
            "align_content": null,
            "align_items": null,
            "align_self": null,
            "border": null,
            "bottom": null,
            "display": null,
            "flex": null,
            "flex_flow": null,
            "grid_area": null,
            "grid_auto_columns": null,
            "grid_auto_flow": null,
            "grid_auto_rows": null,
            "grid_column": null,
            "grid_gap": null,
            "grid_row": null,
            "grid_template_areas": null,
            "grid_template_columns": null,
            "grid_template_rows": null,
            "height": null,
            "justify_content": null,
            "justify_items": null,
            "left": null,
            "margin": null,
            "max_height": null,
            "max_width": null,
            "min_height": null,
            "min_width": null,
            "object_fit": null,
            "object_position": null,
            "order": null,
            "overflow": null,
            "overflow_x": null,
            "overflow_y": null,
            "padding": null,
            "right": null,
            "top": null,
            "visibility": null,
            "width": null
          }
        },
        "35edc54cd59f437ea585a1dbc14a8112": {
          "model_module": "@jupyter-widgets/controls",
          "model_name": "ProgressStyleModel",
          "model_module_version": "1.5.0",
          "state": {
            "_model_module": "@jupyter-widgets/controls",
            "_model_module_version": "1.5.0",
            "_model_name": "ProgressStyleModel",
            "_view_count": null,
            "_view_module": "@jupyter-widgets/base",
            "_view_module_version": "1.2.0",
            "_view_name": "StyleView",
            "bar_color": null,
            "description_width": ""
          }
        },
        "5b0ed205c0c444cdaa16cb1ab822611a": {
          "model_module": "@jupyter-widgets/base",
          "model_name": "LayoutModel",
          "model_module_version": "1.2.0",
          "state": {
            "_model_module": "@jupyter-widgets/base",
            "_model_module_version": "1.2.0",
            "_model_name": "LayoutModel",
            "_view_count": null,
            "_view_module": "@jupyter-widgets/base",
            "_view_module_version": "1.2.0",
            "_view_name": "LayoutView",
            "align_content": null,
            "align_items": null,
            "align_self": null,
            "border": null,
            "bottom": null,
            "display": null,
            "flex": null,
            "flex_flow": null,
            "grid_area": null,
            "grid_auto_columns": null,
            "grid_auto_flow": null,
            "grid_auto_rows": null,
            "grid_column": null,
            "grid_gap": null,
            "grid_row": null,
            "grid_template_areas": null,
            "grid_template_columns": null,
            "grid_template_rows": null,
            "height": null,
            "justify_content": null,
            "justify_items": null,
            "left": null,
            "margin": null,
            "max_height": null,
            "max_width": null,
            "min_height": null,
            "min_width": null,
            "object_fit": null,
            "object_position": null,
            "order": null,
            "overflow": null,
            "overflow_x": null,
            "overflow_y": null,
            "padding": null,
            "right": null,
            "top": null,
            "visibility": null,
            "width": null
          }
        },
        "4e5e0118dbb04ef4adef25914a95e3b4": {
          "model_module": "@jupyter-widgets/controls",
          "model_name": "DescriptionStyleModel",
          "model_module_version": "1.5.0",
          "state": {
            "_model_module": "@jupyter-widgets/controls",
            "_model_module_version": "1.5.0",
            "_model_name": "DescriptionStyleModel",
            "_view_count": null,
            "_view_module": "@jupyter-widgets/base",
            "_view_module_version": "1.2.0",
            "_view_name": "StyleView",
            "description_width": ""
          }
        },
        "a9d81d0acceb433b84b0b1a46110ebe5": {
          "model_module": "@jupyter-widgets/controls",
          "model_name": "HBoxModel",
          "model_module_version": "1.5.0",
          "state": {
            "_dom_classes": [],
            "_model_module": "@jupyter-widgets/controls",
            "_model_module_version": "1.5.0",
            "_model_name": "HBoxModel",
            "_view_count": null,
            "_view_module": "@jupyter-widgets/controls",
            "_view_module_version": "1.5.0",
            "_view_name": "HBoxView",
            "box_style": "",
            "children": [
              "IPY_MODEL_449ccfabf1cf4eef97163a31a1dd8726",
              "IPY_MODEL_66272136aed641029ac594ef527a81c4",
              "IPY_MODEL_1ddee3459a2c46d290244c717d9e357a"
            ],
            "layout": "IPY_MODEL_ce27d6f339d6469495e5e892204a1d61"
          }
        },
        "449ccfabf1cf4eef97163a31a1dd8726": {
          "model_module": "@jupyter-widgets/controls",
          "model_name": "HTMLModel",
          "model_module_version": "1.5.0",
          "state": {
            "_dom_classes": [],
            "_model_module": "@jupyter-widgets/controls",
            "_model_module_version": "1.5.0",
            "_model_name": "HTMLModel",
            "_view_count": null,
            "_view_module": "@jupyter-widgets/controls",
            "_view_module_version": "1.5.0",
            "_view_name": "HTMLView",
            "description": "",
            "description_tooltip": null,
            "layout": "IPY_MODEL_6cd04a19272f46c4bef5a2daea116aee",
            "placeholder": "​",
            "style": "IPY_MODEL_96d5969186a2454191c8187a71197574",
            "value": "100%"
          }
        },
        "66272136aed641029ac594ef527a81c4": {
          "model_module": "@jupyter-widgets/controls",
          "model_name": "FloatProgressModel",
          "model_module_version": "1.5.0",
          "state": {
            "_dom_classes": [],
            "_model_module": "@jupyter-widgets/controls",
            "_model_module_version": "1.5.0",
            "_model_name": "FloatProgressModel",
            "_view_count": null,
            "_view_module": "@jupyter-widgets/controls",
            "_view_module_version": "1.5.0",
            "_view_name": "ProgressView",
            "bar_style": "success",
            "description": "",
            "description_tooltip": null,
            "layout": "IPY_MODEL_d4c8dd2eb58042da837795a811177594",
            "max": 28881,
            "min": 0,
            "orientation": "horizontal",
            "style": "IPY_MODEL_7c1390884d404ce7bbbf9e1774132e10",
            "value": 28881
          }
        },
        "1ddee3459a2c46d290244c717d9e357a": {
          "model_module": "@jupyter-widgets/controls",
          "model_name": "HTMLModel",
          "model_module_version": "1.5.0",
          "state": {
            "_dom_classes": [],
            "_model_module": "@jupyter-widgets/controls",
            "_model_module_version": "1.5.0",
            "_model_name": "HTMLModel",
            "_view_count": null,
            "_view_module": "@jupyter-widgets/controls",
            "_view_module_version": "1.5.0",
            "_view_name": "HTMLView",
            "description": "",
            "description_tooltip": null,
            "layout": "IPY_MODEL_7082c4e866b74cb0b5ac6962d2cea7c9",
            "placeholder": "​",
            "style": "IPY_MODEL_a3dfc639ae1141b5a6261529b5ed2bd1",
            "value": " 28881/28881 [00:00&lt;00:00, 514702.27it/s]"
          }
        },
        "ce27d6f339d6469495e5e892204a1d61": {
          "model_module": "@jupyter-widgets/base",
          "model_name": "LayoutModel",
          "model_module_version": "1.2.0",
          "state": {
            "_model_module": "@jupyter-widgets/base",
            "_model_module_version": "1.2.0",
            "_model_name": "LayoutModel",
            "_view_count": null,
            "_view_module": "@jupyter-widgets/base",
            "_view_module_version": "1.2.0",
            "_view_name": "LayoutView",
            "align_content": null,
            "align_items": null,
            "align_self": null,
            "border": null,
            "bottom": null,
            "display": null,
            "flex": null,
            "flex_flow": null,
            "grid_area": null,
            "grid_auto_columns": null,
            "grid_auto_flow": null,
            "grid_auto_rows": null,
            "grid_column": null,
            "grid_gap": null,
            "grid_row": null,
            "grid_template_areas": null,
            "grid_template_columns": null,
            "grid_template_rows": null,
            "height": null,
            "justify_content": null,
            "justify_items": null,
            "left": null,
            "margin": null,
            "max_height": null,
            "max_width": null,
            "min_height": null,
            "min_width": null,
            "object_fit": null,
            "object_position": null,
            "order": null,
            "overflow": null,
            "overflow_x": null,
            "overflow_y": null,
            "padding": null,
            "right": null,
            "top": null,
            "visibility": null,
            "width": null
          }
        },
        "6cd04a19272f46c4bef5a2daea116aee": {
          "model_module": "@jupyter-widgets/base",
          "model_name": "LayoutModel",
          "model_module_version": "1.2.0",
          "state": {
            "_model_module": "@jupyter-widgets/base",
            "_model_module_version": "1.2.0",
            "_model_name": "LayoutModel",
            "_view_count": null,
            "_view_module": "@jupyter-widgets/base",
            "_view_module_version": "1.2.0",
            "_view_name": "LayoutView",
            "align_content": null,
            "align_items": null,
            "align_self": null,
            "border": null,
            "bottom": null,
            "display": null,
            "flex": null,
            "flex_flow": null,
            "grid_area": null,
            "grid_auto_columns": null,
            "grid_auto_flow": null,
            "grid_auto_rows": null,
            "grid_column": null,
            "grid_gap": null,
            "grid_row": null,
            "grid_template_areas": null,
            "grid_template_columns": null,
            "grid_template_rows": null,
            "height": null,
            "justify_content": null,
            "justify_items": null,
            "left": null,
            "margin": null,
            "max_height": null,
            "max_width": null,
            "min_height": null,
            "min_width": null,
            "object_fit": null,
            "object_position": null,
            "order": null,
            "overflow": null,
            "overflow_x": null,
            "overflow_y": null,
            "padding": null,
            "right": null,
            "top": null,
            "visibility": null,
            "width": null
          }
        },
        "96d5969186a2454191c8187a71197574": {
          "model_module": "@jupyter-widgets/controls",
          "model_name": "DescriptionStyleModel",
          "model_module_version": "1.5.0",
          "state": {
            "_model_module": "@jupyter-widgets/controls",
            "_model_module_version": "1.5.0",
            "_model_name": "DescriptionStyleModel",
            "_view_count": null,
            "_view_module": "@jupyter-widgets/base",
            "_view_module_version": "1.2.0",
            "_view_name": "StyleView",
            "description_width": ""
          }
        },
        "d4c8dd2eb58042da837795a811177594": {
          "model_module": "@jupyter-widgets/base",
          "model_name": "LayoutModel",
          "model_module_version": "1.2.0",
          "state": {
            "_model_module": "@jupyter-widgets/base",
            "_model_module_version": "1.2.0",
            "_model_name": "LayoutModel",
            "_view_count": null,
            "_view_module": "@jupyter-widgets/base",
            "_view_module_version": "1.2.0",
            "_view_name": "LayoutView",
            "align_content": null,
            "align_items": null,
            "align_self": null,
            "border": null,
            "bottom": null,
            "display": null,
            "flex": null,
            "flex_flow": null,
            "grid_area": null,
            "grid_auto_columns": null,
            "grid_auto_flow": null,
            "grid_auto_rows": null,
            "grid_column": null,
            "grid_gap": null,
            "grid_row": null,
            "grid_template_areas": null,
            "grid_template_columns": null,
            "grid_template_rows": null,
            "height": null,
            "justify_content": null,
            "justify_items": null,
            "left": null,
            "margin": null,
            "max_height": null,
            "max_width": null,
            "min_height": null,
            "min_width": null,
            "object_fit": null,
            "object_position": null,
            "order": null,
            "overflow": null,
            "overflow_x": null,
            "overflow_y": null,
            "padding": null,
            "right": null,
            "top": null,
            "visibility": null,
            "width": null
          }
        },
        "7c1390884d404ce7bbbf9e1774132e10": {
          "model_module": "@jupyter-widgets/controls",
          "model_name": "ProgressStyleModel",
          "model_module_version": "1.5.0",
          "state": {
            "_model_module": "@jupyter-widgets/controls",
            "_model_module_version": "1.5.0",
            "_model_name": "ProgressStyleModel",
            "_view_count": null,
            "_view_module": "@jupyter-widgets/base",
            "_view_module_version": "1.2.0",
            "_view_name": "StyleView",
            "bar_color": null,
            "description_width": ""
          }
        },
        "7082c4e866b74cb0b5ac6962d2cea7c9": {
          "model_module": "@jupyter-widgets/base",
          "model_name": "LayoutModel",
          "model_module_version": "1.2.0",
          "state": {
            "_model_module": "@jupyter-widgets/base",
            "_model_module_version": "1.2.0",
            "_model_name": "LayoutModel",
            "_view_count": null,
            "_view_module": "@jupyter-widgets/base",
            "_view_module_version": "1.2.0",
            "_view_name": "LayoutView",
            "align_content": null,
            "align_items": null,
            "align_self": null,
            "border": null,
            "bottom": null,
            "display": null,
            "flex": null,
            "flex_flow": null,
            "grid_area": null,
            "grid_auto_columns": null,
            "grid_auto_flow": null,
            "grid_auto_rows": null,
            "grid_column": null,
            "grid_gap": null,
            "grid_row": null,
            "grid_template_areas": null,
            "grid_template_columns": null,
            "grid_template_rows": null,
            "height": null,
            "justify_content": null,
            "justify_items": null,
            "left": null,
            "margin": null,
            "max_height": null,
            "max_width": null,
            "min_height": null,
            "min_width": null,
            "object_fit": null,
            "object_position": null,
            "order": null,
            "overflow": null,
            "overflow_x": null,
            "overflow_y": null,
            "padding": null,
            "right": null,
            "top": null,
            "visibility": null,
            "width": null
          }
        },
        "a3dfc639ae1141b5a6261529b5ed2bd1": {
          "model_module": "@jupyter-widgets/controls",
          "model_name": "DescriptionStyleModel",
          "model_module_version": "1.5.0",
          "state": {
            "_model_module": "@jupyter-widgets/controls",
            "_model_module_version": "1.5.0",
            "_model_name": "DescriptionStyleModel",
            "_view_count": null,
            "_view_module": "@jupyter-widgets/base",
            "_view_module_version": "1.2.0",
            "_view_name": "StyleView",
            "description_width": ""
          }
        },
        "07fa1733325144b6a10eb37ece3b1aca": {
          "model_module": "@jupyter-widgets/controls",
          "model_name": "HBoxModel",
          "model_module_version": "1.5.0",
          "state": {
            "_dom_classes": [],
            "_model_module": "@jupyter-widgets/controls",
            "_model_module_version": "1.5.0",
            "_model_name": "HBoxModel",
            "_view_count": null,
            "_view_module": "@jupyter-widgets/controls",
            "_view_module_version": "1.5.0",
            "_view_name": "HBoxView",
            "box_style": "",
            "children": [
              "IPY_MODEL_94a3ee0dea344581ac93547dc8d78c72",
              "IPY_MODEL_f27ed307a4374171803df04547aa892d",
              "IPY_MODEL_1fddc5b103db49349abca7b299f4c6d2"
            ],
            "layout": "IPY_MODEL_0a7eaea2c5a54288a72aaa6cf6f20252"
          }
        },
        "94a3ee0dea344581ac93547dc8d78c72": {
          "model_module": "@jupyter-widgets/controls",
          "model_name": "HTMLModel",
          "model_module_version": "1.5.0",
          "state": {
            "_dom_classes": [],
            "_model_module": "@jupyter-widgets/controls",
            "_model_module_version": "1.5.0",
            "_model_name": "HTMLModel",
            "_view_count": null,
            "_view_module": "@jupyter-widgets/controls",
            "_view_module_version": "1.5.0",
            "_view_name": "HTMLView",
            "description": "",
            "description_tooltip": null,
            "layout": "IPY_MODEL_87f8be1586be4385a6a4cddc78aab43d",
            "placeholder": "​",
            "style": "IPY_MODEL_38798444a2a048de8d53c7611dd10827",
            "value": "100%"
          }
        },
        "f27ed307a4374171803df04547aa892d": {
          "model_module": "@jupyter-widgets/controls",
          "model_name": "FloatProgressModel",
          "model_module_version": "1.5.0",
          "state": {
            "_dom_classes": [],
            "_model_module": "@jupyter-widgets/controls",
            "_model_module_version": "1.5.0",
            "_model_name": "FloatProgressModel",
            "_view_count": null,
            "_view_module": "@jupyter-widgets/controls",
            "_view_module_version": "1.5.0",
            "_view_name": "ProgressView",
            "bar_style": "success",
            "description": "",
            "description_tooltip": null,
            "layout": "IPY_MODEL_37fd3a4409cd44b3be8b2412bb25b3eb",
            "max": 1648877,
            "min": 0,
            "orientation": "horizontal",
            "style": "IPY_MODEL_87441a2d266a406da04130609cfdd572",
            "value": 1648877
          }
        },
        "1fddc5b103db49349abca7b299f4c6d2": {
          "model_module": "@jupyter-widgets/controls",
          "model_name": "HTMLModel",
          "model_module_version": "1.5.0",
          "state": {
            "_dom_classes": [],
            "_model_module": "@jupyter-widgets/controls",
            "_model_module_version": "1.5.0",
            "_model_name": "HTMLModel",
            "_view_count": null,
            "_view_module": "@jupyter-widgets/controls",
            "_view_module_version": "1.5.0",
            "_view_name": "HTMLView",
            "description": "",
            "description_tooltip": null,
            "layout": "IPY_MODEL_0a11e9638d6e414386f3abbe77f4c1ce",
            "placeholder": "​",
            "style": "IPY_MODEL_078f97d9595841ca9e21f8bba2e2ed38",
            "value": " 1648877/1648877 [00:00&lt;00:00, 2936918.04it/s]"
          }
        },
        "0a7eaea2c5a54288a72aaa6cf6f20252": {
          "model_module": "@jupyter-widgets/base",
          "model_name": "LayoutModel",
          "model_module_version": "1.2.0",
          "state": {
            "_model_module": "@jupyter-widgets/base",
            "_model_module_version": "1.2.0",
            "_model_name": "LayoutModel",
            "_view_count": null,
            "_view_module": "@jupyter-widgets/base",
            "_view_module_version": "1.2.0",
            "_view_name": "LayoutView",
            "align_content": null,
            "align_items": null,
            "align_self": null,
            "border": null,
            "bottom": null,
            "display": null,
            "flex": null,
            "flex_flow": null,
            "grid_area": null,
            "grid_auto_columns": null,
            "grid_auto_flow": null,
            "grid_auto_rows": null,
            "grid_column": null,
            "grid_gap": null,
            "grid_row": null,
            "grid_template_areas": null,
            "grid_template_columns": null,
            "grid_template_rows": null,
            "height": null,
            "justify_content": null,
            "justify_items": null,
            "left": null,
            "margin": null,
            "max_height": null,
            "max_width": null,
            "min_height": null,
            "min_width": null,
            "object_fit": null,
            "object_position": null,
            "order": null,
            "overflow": null,
            "overflow_x": null,
            "overflow_y": null,
            "padding": null,
            "right": null,
            "top": null,
            "visibility": null,
            "width": null
          }
        },
        "87f8be1586be4385a6a4cddc78aab43d": {
          "model_module": "@jupyter-widgets/base",
          "model_name": "LayoutModel",
          "model_module_version": "1.2.0",
          "state": {
            "_model_module": "@jupyter-widgets/base",
            "_model_module_version": "1.2.0",
            "_model_name": "LayoutModel",
            "_view_count": null,
            "_view_module": "@jupyter-widgets/base",
            "_view_module_version": "1.2.0",
            "_view_name": "LayoutView",
            "align_content": null,
            "align_items": null,
            "align_self": null,
            "border": null,
            "bottom": null,
            "display": null,
            "flex": null,
            "flex_flow": null,
            "grid_area": null,
            "grid_auto_columns": null,
            "grid_auto_flow": null,
            "grid_auto_rows": null,
            "grid_column": null,
            "grid_gap": null,
            "grid_row": null,
            "grid_template_areas": null,
            "grid_template_columns": null,
            "grid_template_rows": null,
            "height": null,
            "justify_content": null,
            "justify_items": null,
            "left": null,
            "margin": null,
            "max_height": null,
            "max_width": null,
            "min_height": null,
            "min_width": null,
            "object_fit": null,
            "object_position": null,
            "order": null,
            "overflow": null,
            "overflow_x": null,
            "overflow_y": null,
            "padding": null,
            "right": null,
            "top": null,
            "visibility": null,
            "width": null
          }
        },
        "38798444a2a048de8d53c7611dd10827": {
          "model_module": "@jupyter-widgets/controls",
          "model_name": "DescriptionStyleModel",
          "model_module_version": "1.5.0",
          "state": {
            "_model_module": "@jupyter-widgets/controls",
            "_model_module_version": "1.5.0",
            "_model_name": "DescriptionStyleModel",
            "_view_count": null,
            "_view_module": "@jupyter-widgets/base",
            "_view_module_version": "1.2.0",
            "_view_name": "StyleView",
            "description_width": ""
          }
        },
        "37fd3a4409cd44b3be8b2412bb25b3eb": {
          "model_module": "@jupyter-widgets/base",
          "model_name": "LayoutModel",
          "model_module_version": "1.2.0",
          "state": {
            "_model_module": "@jupyter-widgets/base",
            "_model_module_version": "1.2.0",
            "_model_name": "LayoutModel",
            "_view_count": null,
            "_view_module": "@jupyter-widgets/base",
            "_view_module_version": "1.2.0",
            "_view_name": "LayoutView",
            "align_content": null,
            "align_items": null,
            "align_self": null,
            "border": null,
            "bottom": null,
            "display": null,
            "flex": null,
            "flex_flow": null,
            "grid_area": null,
            "grid_auto_columns": null,
            "grid_auto_flow": null,
            "grid_auto_rows": null,
            "grid_column": null,
            "grid_gap": null,
            "grid_row": null,
            "grid_template_areas": null,
            "grid_template_columns": null,
            "grid_template_rows": null,
            "height": null,
            "justify_content": null,
            "justify_items": null,
            "left": null,
            "margin": null,
            "max_height": null,
            "max_width": null,
            "min_height": null,
            "min_width": null,
            "object_fit": null,
            "object_position": null,
            "order": null,
            "overflow": null,
            "overflow_x": null,
            "overflow_y": null,
            "padding": null,
            "right": null,
            "top": null,
            "visibility": null,
            "width": null
          }
        },
        "87441a2d266a406da04130609cfdd572": {
          "model_module": "@jupyter-widgets/controls",
          "model_name": "ProgressStyleModel",
          "model_module_version": "1.5.0",
          "state": {
            "_model_module": "@jupyter-widgets/controls",
            "_model_module_version": "1.5.0",
            "_model_name": "ProgressStyleModel",
            "_view_count": null,
            "_view_module": "@jupyter-widgets/base",
            "_view_module_version": "1.2.0",
            "_view_name": "StyleView",
            "bar_color": null,
            "description_width": ""
          }
        },
        "0a11e9638d6e414386f3abbe77f4c1ce": {
          "model_module": "@jupyter-widgets/base",
          "model_name": "LayoutModel",
          "model_module_version": "1.2.0",
          "state": {
            "_model_module": "@jupyter-widgets/base",
            "_model_module_version": "1.2.0",
            "_model_name": "LayoutModel",
            "_view_count": null,
            "_view_module": "@jupyter-widgets/base",
            "_view_module_version": "1.2.0",
            "_view_name": "LayoutView",
            "align_content": null,
            "align_items": null,
            "align_self": null,
            "border": null,
            "bottom": null,
            "display": null,
            "flex": null,
            "flex_flow": null,
            "grid_area": null,
            "grid_auto_columns": null,
            "grid_auto_flow": null,
            "grid_auto_rows": null,
            "grid_column": null,
            "grid_gap": null,
            "grid_row": null,
            "grid_template_areas": null,
            "grid_template_columns": null,
            "grid_template_rows": null,
            "height": null,
            "justify_content": null,
            "justify_items": null,
            "left": null,
            "margin": null,
            "max_height": null,
            "max_width": null,
            "min_height": null,
            "min_width": null,
            "object_fit": null,
            "object_position": null,
            "order": null,
            "overflow": null,
            "overflow_x": null,
            "overflow_y": null,
            "padding": null,
            "right": null,
            "top": null,
            "visibility": null,
            "width": null
          }
        },
        "078f97d9595841ca9e21f8bba2e2ed38": {
          "model_module": "@jupyter-widgets/controls",
          "model_name": "DescriptionStyleModel",
          "model_module_version": "1.5.0",
          "state": {
            "_model_module": "@jupyter-widgets/controls",
            "_model_module_version": "1.5.0",
            "_model_name": "DescriptionStyleModel",
            "_view_count": null,
            "_view_module": "@jupyter-widgets/base",
            "_view_module_version": "1.2.0",
            "_view_name": "StyleView",
            "description_width": ""
          }
        },
        "0c2d0edb19c94c2da39c4bfdceb503b8": {
          "model_module": "@jupyter-widgets/controls",
          "model_name": "HBoxModel",
          "model_module_version": "1.5.0",
          "state": {
            "_dom_classes": [],
            "_model_module": "@jupyter-widgets/controls",
            "_model_module_version": "1.5.0",
            "_model_name": "HBoxModel",
            "_view_count": null,
            "_view_module": "@jupyter-widgets/controls",
            "_view_module_version": "1.5.0",
            "_view_name": "HBoxView",
            "box_style": "",
            "children": [
              "IPY_MODEL_e5aa1a2408f245e99adc797779c18666",
              "IPY_MODEL_118cd491d83f44b38e2b88f154dc6cbd",
              "IPY_MODEL_718503f665944939b4e857189d750e74"
            ],
            "layout": "IPY_MODEL_f5fda6617d50492ebfcdb97e99c52d37"
          }
        },
        "e5aa1a2408f245e99adc797779c18666": {
          "model_module": "@jupyter-widgets/controls",
          "model_name": "HTMLModel",
          "model_module_version": "1.5.0",
          "state": {
            "_dom_classes": [],
            "_model_module": "@jupyter-widgets/controls",
            "_model_module_version": "1.5.0",
            "_model_name": "HTMLModel",
            "_view_count": null,
            "_view_module": "@jupyter-widgets/controls",
            "_view_module_version": "1.5.0",
            "_view_name": "HTMLView",
            "description": "",
            "description_tooltip": null,
            "layout": "IPY_MODEL_45a2029f9d5d42dc9b2d5f341d110d66",
            "placeholder": "​",
            "style": "IPY_MODEL_f77c5ddc3d6a4bbd81512ebf318ffbb7",
            "value": "100%"
          }
        },
        "118cd491d83f44b38e2b88f154dc6cbd": {
          "model_module": "@jupyter-widgets/controls",
          "model_name": "FloatProgressModel",
          "model_module_version": "1.5.0",
          "state": {
            "_dom_classes": [],
            "_model_module": "@jupyter-widgets/controls",
            "_model_module_version": "1.5.0",
            "_model_name": "FloatProgressModel",
            "_view_count": null,
            "_view_module": "@jupyter-widgets/controls",
            "_view_module_version": "1.5.0",
            "_view_name": "ProgressView",
            "bar_style": "success",
            "description": "",
            "description_tooltip": null,
            "layout": "IPY_MODEL_53ef4fe77c7f4fcebae4ac7692258776",
            "max": 4542,
            "min": 0,
            "orientation": "horizontal",
            "style": "IPY_MODEL_3d633dda15a04795923ff8b68ebb170b",
            "value": 4542
          }
        },
        "718503f665944939b4e857189d750e74": {
          "model_module": "@jupyter-widgets/controls",
          "model_name": "HTMLModel",
          "model_module_version": "1.5.0",
          "state": {
            "_dom_classes": [],
            "_model_module": "@jupyter-widgets/controls",
            "_model_module_version": "1.5.0",
            "_model_name": "HTMLModel",
            "_view_count": null,
            "_view_module": "@jupyter-widgets/controls",
            "_view_module_version": "1.5.0",
            "_view_name": "HTMLView",
            "description": "",
            "description_tooltip": null,
            "layout": "IPY_MODEL_ec26c92fe72645298ac7b25ab97d232f",
            "placeholder": "​",
            "style": "IPY_MODEL_52895036831e460aaef13d9052057f3a",
            "value": " 4542/4542 [00:00&lt;00:00, 108229.96it/s]"
          }
        },
        "f5fda6617d50492ebfcdb97e99c52d37": {
          "model_module": "@jupyter-widgets/base",
          "model_name": "LayoutModel",
          "model_module_version": "1.2.0",
          "state": {
            "_model_module": "@jupyter-widgets/base",
            "_model_module_version": "1.2.0",
            "_model_name": "LayoutModel",
            "_view_count": null,
            "_view_module": "@jupyter-widgets/base",
            "_view_module_version": "1.2.0",
            "_view_name": "LayoutView",
            "align_content": null,
            "align_items": null,
            "align_self": null,
            "border": null,
            "bottom": null,
            "display": null,
            "flex": null,
            "flex_flow": null,
            "grid_area": null,
            "grid_auto_columns": null,
            "grid_auto_flow": null,
            "grid_auto_rows": null,
            "grid_column": null,
            "grid_gap": null,
            "grid_row": null,
            "grid_template_areas": null,
            "grid_template_columns": null,
            "grid_template_rows": null,
            "height": null,
            "justify_content": null,
            "justify_items": null,
            "left": null,
            "margin": null,
            "max_height": null,
            "max_width": null,
            "min_height": null,
            "min_width": null,
            "object_fit": null,
            "object_position": null,
            "order": null,
            "overflow": null,
            "overflow_x": null,
            "overflow_y": null,
            "padding": null,
            "right": null,
            "top": null,
            "visibility": null,
            "width": null
          }
        },
        "45a2029f9d5d42dc9b2d5f341d110d66": {
          "model_module": "@jupyter-widgets/base",
          "model_name": "LayoutModel",
          "model_module_version": "1.2.0",
          "state": {
            "_model_module": "@jupyter-widgets/base",
            "_model_module_version": "1.2.0",
            "_model_name": "LayoutModel",
            "_view_count": null,
            "_view_module": "@jupyter-widgets/base",
            "_view_module_version": "1.2.0",
            "_view_name": "LayoutView",
            "align_content": null,
            "align_items": null,
            "align_self": null,
            "border": null,
            "bottom": null,
            "display": null,
            "flex": null,
            "flex_flow": null,
            "grid_area": null,
            "grid_auto_columns": null,
            "grid_auto_flow": null,
            "grid_auto_rows": null,
            "grid_column": null,
            "grid_gap": null,
            "grid_row": null,
            "grid_template_areas": null,
            "grid_template_columns": null,
            "grid_template_rows": null,
            "height": null,
            "justify_content": null,
            "justify_items": null,
            "left": null,
            "margin": null,
            "max_height": null,
            "max_width": null,
            "min_height": null,
            "min_width": null,
            "object_fit": null,
            "object_position": null,
            "order": null,
            "overflow": null,
            "overflow_x": null,
            "overflow_y": null,
            "padding": null,
            "right": null,
            "top": null,
            "visibility": null,
            "width": null
          }
        },
        "f77c5ddc3d6a4bbd81512ebf318ffbb7": {
          "model_module": "@jupyter-widgets/controls",
          "model_name": "DescriptionStyleModel",
          "model_module_version": "1.5.0",
          "state": {
            "_model_module": "@jupyter-widgets/controls",
            "_model_module_version": "1.5.0",
            "_model_name": "DescriptionStyleModel",
            "_view_count": null,
            "_view_module": "@jupyter-widgets/base",
            "_view_module_version": "1.2.0",
            "_view_name": "StyleView",
            "description_width": ""
          }
        },
        "53ef4fe77c7f4fcebae4ac7692258776": {
          "model_module": "@jupyter-widgets/base",
          "model_name": "LayoutModel",
          "model_module_version": "1.2.0",
          "state": {
            "_model_module": "@jupyter-widgets/base",
            "_model_module_version": "1.2.0",
            "_model_name": "LayoutModel",
            "_view_count": null,
            "_view_module": "@jupyter-widgets/base",
            "_view_module_version": "1.2.0",
            "_view_name": "LayoutView",
            "align_content": null,
            "align_items": null,
            "align_self": null,
            "border": null,
            "bottom": null,
            "display": null,
            "flex": null,
            "flex_flow": null,
            "grid_area": null,
            "grid_auto_columns": null,
            "grid_auto_flow": null,
            "grid_auto_rows": null,
            "grid_column": null,
            "grid_gap": null,
            "grid_row": null,
            "grid_template_areas": null,
            "grid_template_columns": null,
            "grid_template_rows": null,
            "height": null,
            "justify_content": null,
            "justify_items": null,
            "left": null,
            "margin": null,
            "max_height": null,
            "max_width": null,
            "min_height": null,
            "min_width": null,
            "object_fit": null,
            "object_position": null,
            "order": null,
            "overflow": null,
            "overflow_x": null,
            "overflow_y": null,
            "padding": null,
            "right": null,
            "top": null,
            "visibility": null,
            "width": null
          }
        },
        "3d633dda15a04795923ff8b68ebb170b": {
          "model_module": "@jupyter-widgets/controls",
          "model_name": "ProgressStyleModel",
          "model_module_version": "1.5.0",
          "state": {
            "_model_module": "@jupyter-widgets/controls",
            "_model_module_version": "1.5.0",
            "_model_name": "ProgressStyleModel",
            "_view_count": null,
            "_view_module": "@jupyter-widgets/base",
            "_view_module_version": "1.2.0",
            "_view_name": "StyleView",
            "bar_color": null,
            "description_width": ""
          }
        },
        "ec26c92fe72645298ac7b25ab97d232f": {
          "model_module": "@jupyter-widgets/base",
          "model_name": "LayoutModel",
          "model_module_version": "1.2.0",
          "state": {
            "_model_module": "@jupyter-widgets/base",
            "_model_module_version": "1.2.0",
            "_model_name": "LayoutModel",
            "_view_count": null,
            "_view_module": "@jupyter-widgets/base",
            "_view_module_version": "1.2.0",
            "_view_name": "LayoutView",
            "align_content": null,
            "align_items": null,
            "align_self": null,
            "border": null,
            "bottom": null,
            "display": null,
            "flex": null,
            "flex_flow": null,
            "grid_area": null,
            "grid_auto_columns": null,
            "grid_auto_flow": null,
            "grid_auto_rows": null,
            "grid_column": null,
            "grid_gap": null,
            "grid_row": null,
            "grid_template_areas": null,
            "grid_template_columns": null,
            "grid_template_rows": null,
            "height": null,
            "justify_content": null,
            "justify_items": null,
            "left": null,
            "margin": null,
            "max_height": null,
            "max_width": null,
            "min_height": null,
            "min_width": null,
            "object_fit": null,
            "object_position": null,
            "order": null,
            "overflow": null,
            "overflow_x": null,
            "overflow_y": null,
            "padding": null,
            "right": null,
            "top": null,
            "visibility": null,
            "width": null
          }
        },
        "52895036831e460aaef13d9052057f3a": {
          "model_module": "@jupyter-widgets/controls",
          "model_name": "DescriptionStyleModel",
          "model_module_version": "1.5.0",
          "state": {
            "_model_module": "@jupyter-widgets/controls",
            "_model_module_version": "1.5.0",
            "_model_name": "DescriptionStyleModel",
            "_view_count": null,
            "_view_module": "@jupyter-widgets/base",
            "_view_module_version": "1.2.0",
            "_view_name": "StyleView",
            "description_width": ""
          }
        }
      }
    }
  },
  "cells": [
    {
      "cell_type": "markdown",
      "metadata": {
        "id": "view-in-github",
        "colab_type": "text"
      },
      "source": [
        "<a href=\"https://colab.research.google.com/github/chi-hun/chi-hun/blob/main/Untitled4.ipynb\" target=\"_parent\"><img src=\"https://colab.research.google.com/assets/colab-badge.svg\" alt=\"Open In Colab\"/></a>"
      ]
    },
    {
      "cell_type": "code",
      "execution_count": null,
      "metadata": {
        "id": "M-28ouZqB9Fz"
      },
      "outputs": [],
      "source": [
        "from fastai.vision.all import *"
      ]
    },
    {
      "cell_type": "code",
      "source": [
        "import fastai\n",
        "fastai.__version__"
      ],
      "metadata": {
        "id": "KdAAY9c1fs7O",
        "outputId": "849ee6ce-e511-48ca-cef9-ca7ef2e19d26",
        "colab": {
          "base_uri": "https://localhost:8080/",
          "height": 35
        }
      },
      "execution_count": null,
      "outputs": [
        {
          "output_type": "execute_result",
          "data": {
            "text/plain": [
              "'2.7.9'"
            ],
            "application/vnd.google.colaboratory.intrinsic+json": {
              "type": "string"
            }
          },
          "metadata": {},
          "execution_count": 19
        }
      ]
    },
    {
      "cell_type": "code",
      "source": [
        "path = untar_data(URLs.PETS)"
      ],
      "metadata": {
        "id": "Uhd_cW3UCGmg",
        "colab": {
          "base_uri": "https://localhost:8080/",
          "height": 56
        },
        "outputId": "f0a4db25-97eb-4f74-97cc-01fb1d9b9643"
      },
      "execution_count": null,
      "outputs": [
        {
          "output_type": "stream",
          "name": "stdout",
          "text": [
            "Downloading a new version of this dataset...\n"
          ]
        },
        {
          "output_type": "display_data",
          "data": {
            "text/plain": [
              "<IPython.core.display.HTML object>"
            ],
            "text/html": [
              "\n",
              "<style>\n",
              "    /* Turns off some styling */\n",
              "    progress {\n",
              "        /* gets rid of default border in Firefox and Opera. */\n",
              "        border: none;\n",
              "        /* Needs to be in here for Safari polyfill so background images work as expected. */\n",
              "        background-size: auto;\n",
              "    }\n",
              "    progress:not([value]), progress:not([value])::-webkit-progress-bar {\n",
              "        background: repeating-linear-gradient(45deg, #7e7e7e, #7e7e7e 10px, #5c5c5c 10px, #5c5c5c 20px);\n",
              "    }\n",
              "    .progress-bar-interrupted, .progress-bar-interrupted::-webkit-progress-bar {\n",
              "        background: #F44336;\n",
              "    }\n",
              "</style>\n"
            ]
          },
          "metadata": {}
        },
        {
          "output_type": "display_data",
          "data": {
            "text/plain": [
              "<IPython.core.display.HTML object>"
            ],
            "text/html": [
              "\n",
              "    <div>\n",
              "      <progress value='811712512' class='' max='811706944' style='width:300px; height:20px; vertical-align: middle;'></progress>\n",
              "      100.00% [811712512/811706944 00:09&lt;00:00]\n",
              "    </div>\n",
              "    "
            ]
          },
          "metadata": {}
        }
      ]
    },
    {
      "cell_type": "code",
      "source": [
        "path.ls()"
      ],
      "metadata": {
        "colab": {
          "base_uri": "https://localhost:8080/"
        },
        "id": "5osON6SRmB2z",
        "outputId": "6eb14ccc-346c-4bbf-85bb-a0e243a7c3c3"
      },
      "execution_count": null,
      "outputs": [
        {
          "output_type": "execute_result",
          "data": {
            "text/plain": [
              "(#2) [Path('/root/.fastai/data/oxford-iiit-pet/annotations'),Path('/root/.fastai/data/oxford-iiit-pet/images')]"
            ]
          },
          "metadata": {},
          "execution_count": 25
        }
      ]
    },
    {
      "cell_type": "code",
      "source": [
        "files = get_image_files(path/\"images\")\n",
        "len(files)"
      ],
      "metadata": {
        "colab": {
          "base_uri": "https://localhost:8080/"
        },
        "id": "zxFw6kgqmxs_",
        "outputId": "58438b92-cd9b-4a95-aa10-a0f2f347045f"
      },
      "execution_count": null,
      "outputs": [
        {
          "output_type": "execute_result",
          "data": {
            "text/plain": [
              "7390"
            ]
          },
          "metadata": {},
          "execution_count": 26
        }
      ]
    },
    {
      "cell_type": "code",
      "source": [
        "def label_func(f):\n",
        "    return f[0].isupper()"
      ],
      "metadata": {
        "id": "m51wmygHnHMU"
      },
      "execution_count": null,
      "outputs": []
    },
    {
      "cell_type": "code",
      "source": [
        "dls = ImageDataLoaders.from_name_func(path,files,label_func,item_tfms=Resize(224))"
      ],
      "metadata": {
        "id": "JQVHx91Ln8gR"
      },
      "execution_count": null,
      "outputs": []
    },
    {
      "cell_type": "code",
      "source": [
        "dls.show_batch()"
      ],
      "metadata": {
        "id": "RH58LVVxodIp"
      },
      "execution_count": null,
      "outputs": []
    },
    {
      "cell_type": "code",
      "source": [
        "learn = vision_learner(dls,resnet34,metrics=accuracy)\n",
        "learn.fine_tune(2)"
      ],
      "metadata": {
        "colab": {
          "base_uri": "https://localhost:8080/",
          "height": 536
        },
        "id": "YeH7GMMao4jV",
        "outputId": "20186356-6da5-400e-e8c2-a8d460fa7385"
      },
      "execution_count": null,
      "outputs": [
        {
          "output_type": "stream",
          "name": "stderr",
          "text": [
            "/usr/local/lib/python3.7/dist-packages/torchvision/models/_utils.py:209: UserWarning: The parameter 'pretrained' is deprecated since 0.13 and will be removed in 0.15, please use 'weights' instead.\n",
            "  f\"The parameter '{pretrained_param}' is deprecated since 0.13 and will be removed in 0.15, \"\n",
            "/usr/local/lib/python3.7/dist-packages/torchvision/models/_utils.py:223: UserWarning: Arguments other than a weight enum or `None` for 'weights' are deprecated since 0.13 and will be removed in 0.15. The current behavior is equivalent to passing `weights=ResNet34_Weights.IMAGENET1K_V1`. You can also use `weights=ResNet34_Weights.DEFAULT` to get the most up-to-date weights.\n",
            "  warnings.warn(msg)\n"
          ]
        },
        {
          "output_type": "display_data",
          "data": {
            "text/plain": [
              "<IPython.core.display.HTML object>"
            ],
            "text/html": [
              "\n",
              "<style>\n",
              "    /* Turns off some styling */\n",
              "    progress {\n",
              "        /* gets rid of default border in Firefox and Opera. */\n",
              "        border: none;\n",
              "        /* Needs to be in here for Safari polyfill so background images work as expected. */\n",
              "        background-size: auto;\n",
              "    }\n",
              "    progress:not([value]), progress:not([value])::-webkit-progress-bar {\n",
              "        background: repeating-linear-gradient(45deg, #7e7e7e, #7e7e7e 10px, #5c5c5c 10px, #5c5c5c 20px);\n",
              "    }\n",
              "    .progress-bar-interrupted, .progress-bar-interrupted::-webkit-progress-bar {\n",
              "        background: #F44336;\n",
              "    }\n",
              "</style>\n"
            ]
          },
          "metadata": {}
        },
        {
          "output_type": "display_data",
          "data": {
            "text/plain": [
              "<IPython.core.display.HTML object>"
            ],
            "text/html": [
              "\n",
              "    <div>\n",
              "      <progress value='0' class='' max='1' style='width:300px; height:20px; vertical-align: middle;'></progress>\n",
              "      0.00% [0/1 00:00&lt;?]\n",
              "    </div>\n",
              "    \n",
              "<table border=\"1\" class=\"dataframe\">\n",
              "  <thead>\n",
              "    <tr style=\"text-align: left;\">\n",
              "      <th>epoch</th>\n",
              "      <th>train_loss</th>\n",
              "      <th>valid_loss</th>\n",
              "      <th>accuracy</th>\n",
              "      <th>time</th>\n",
              "    </tr>\n",
              "  </thead>\n",
              "  <tbody>\n",
              "  </tbody>\n",
              "</table><p>\n",
              "\n",
              "    <div>\n",
              "      <progress value='35' class='' max='92' style='width:300px; height:20px; vertical-align: middle;'></progress>\n",
              "      38.04% [35/92 11:05&lt;18:04 0.5090]\n",
              "    </div>\n",
              "    "
            ]
          },
          "metadata": {}
        },
        {
          "output_type": "error",
          "ename": "KeyboardInterrupt",
          "evalue": "ignored",
          "traceback": [
            "\u001b[0;31m---------------------------------------------------------------------------\u001b[0m",
            "\u001b[0;31mKeyboardInterrupt\u001b[0m                         Traceback (most recent call last)",
            "\u001b[0;32m<ipython-input-39-092a4e92eb98>\u001b[0m in \u001b[0;36m<module>\u001b[0;34m\u001b[0m\n\u001b[1;32m      1\u001b[0m \u001b[0mlearn\u001b[0m \u001b[0;34m=\u001b[0m \u001b[0mvision_learner\u001b[0m\u001b[0;34m(\u001b[0m\u001b[0mdls\u001b[0m\u001b[0;34m,\u001b[0m\u001b[0mresnet34\u001b[0m\u001b[0;34m,\u001b[0m\u001b[0mmetrics\u001b[0m\u001b[0;34m=\u001b[0m\u001b[0maccuracy\u001b[0m\u001b[0;34m)\u001b[0m\u001b[0;34m\u001b[0m\u001b[0;34m\u001b[0m\u001b[0m\n\u001b[0;32m----> 2\u001b[0;31m \u001b[0mlearn\u001b[0m\u001b[0;34m.\u001b[0m\u001b[0mfine_tune\u001b[0m\u001b[0;34m(\u001b[0m\u001b[0;36m2\u001b[0m\u001b[0;34m)\u001b[0m\u001b[0;34m\u001b[0m\u001b[0;34m\u001b[0m\u001b[0m\n\u001b[0m",
            "\u001b[0;32m/usr/local/lib/python3.7/dist-packages/fastai/callback/schedule.py\u001b[0m in \u001b[0;36mfine_tune\u001b[0;34m(self, epochs, base_lr, freeze_epochs, lr_mult, pct_start, div, **kwargs)\u001b[0m\n\u001b[1;32m    163\u001b[0m     \u001b[0;34m\"Fine tune with `Learner.freeze` for `freeze_epochs`, then with `Learner.unfreeze` for `epochs`, using discriminative LR.\"\u001b[0m\u001b[0;34m\u001b[0m\u001b[0;34m\u001b[0m\u001b[0m\n\u001b[1;32m    164\u001b[0m     \u001b[0mself\u001b[0m\u001b[0;34m.\u001b[0m\u001b[0mfreeze\u001b[0m\u001b[0;34m(\u001b[0m\u001b[0;34m)\u001b[0m\u001b[0;34m\u001b[0m\u001b[0;34m\u001b[0m\u001b[0m\n\u001b[0;32m--> 165\u001b[0;31m     \u001b[0mself\u001b[0m\u001b[0;34m.\u001b[0m\u001b[0mfit_one_cycle\u001b[0m\u001b[0;34m(\u001b[0m\u001b[0mfreeze_epochs\u001b[0m\u001b[0;34m,\u001b[0m \u001b[0mslice\u001b[0m\u001b[0;34m(\u001b[0m\u001b[0mbase_lr\u001b[0m\u001b[0;34m)\u001b[0m\u001b[0;34m,\u001b[0m \u001b[0mpct_start\u001b[0m\u001b[0;34m=\u001b[0m\u001b[0;36m0.99\u001b[0m\u001b[0;34m,\u001b[0m \u001b[0;34m**\u001b[0m\u001b[0mkwargs\u001b[0m\u001b[0;34m)\u001b[0m\u001b[0;34m\u001b[0m\u001b[0;34m\u001b[0m\u001b[0m\n\u001b[0m\u001b[1;32m    166\u001b[0m     \u001b[0mbase_lr\u001b[0m \u001b[0;34m/=\u001b[0m \u001b[0;36m2\u001b[0m\u001b[0;34m\u001b[0m\u001b[0;34m\u001b[0m\u001b[0m\n\u001b[1;32m    167\u001b[0m     \u001b[0mself\u001b[0m\u001b[0;34m.\u001b[0m\u001b[0munfreeze\u001b[0m\u001b[0;34m(\u001b[0m\u001b[0;34m)\u001b[0m\u001b[0;34m\u001b[0m\u001b[0;34m\u001b[0m\u001b[0m\n",
            "\u001b[0;32m/usr/local/lib/python3.7/dist-packages/fastai/callback/schedule.py\u001b[0m in \u001b[0;36mfit_one_cycle\u001b[0;34m(self, n_epoch, lr_max, div, div_final, pct_start, wd, moms, cbs, reset_opt, start_epoch)\u001b[0m\n\u001b[1;32m    117\u001b[0m     scheds = {'lr': combined_cos(pct_start, lr_max/div, lr_max, lr_max/div_final),\n\u001b[1;32m    118\u001b[0m               'mom': combined_cos(pct_start, *(self.moms if moms is None else moms))}\n\u001b[0;32m--> 119\u001b[0;31m     \u001b[0mself\u001b[0m\u001b[0;34m.\u001b[0m\u001b[0mfit\u001b[0m\u001b[0;34m(\u001b[0m\u001b[0mn_epoch\u001b[0m\u001b[0;34m,\u001b[0m \u001b[0mcbs\u001b[0m\u001b[0;34m=\u001b[0m\u001b[0mParamScheduler\u001b[0m\u001b[0;34m(\u001b[0m\u001b[0mscheds\u001b[0m\u001b[0;34m)\u001b[0m\u001b[0;34m+\u001b[0m\u001b[0mL\u001b[0m\u001b[0;34m(\u001b[0m\u001b[0mcbs\u001b[0m\u001b[0;34m)\u001b[0m\u001b[0;34m,\u001b[0m \u001b[0mreset_opt\u001b[0m\u001b[0;34m=\u001b[0m\u001b[0mreset_opt\u001b[0m\u001b[0;34m,\u001b[0m \u001b[0mwd\u001b[0m\u001b[0;34m=\u001b[0m\u001b[0mwd\u001b[0m\u001b[0;34m,\u001b[0m \u001b[0mstart_epoch\u001b[0m\u001b[0;34m=\u001b[0m\u001b[0mstart_epoch\u001b[0m\u001b[0;34m)\u001b[0m\u001b[0;34m\u001b[0m\u001b[0;34m\u001b[0m\u001b[0m\n\u001b[0m\u001b[1;32m    120\u001b[0m \u001b[0;34m\u001b[0m\u001b[0m\n\u001b[1;32m    121\u001b[0m \u001b[0;31m# %% ../nbs/14_callback.schedule.ipynb 51\u001b[0m\u001b[0;34m\u001b[0m\u001b[0;34m\u001b[0m\u001b[0;34m\u001b[0m\u001b[0m\n",
            "\u001b[0;32m/usr/local/lib/python3.7/dist-packages/fastai/learner.py\u001b[0m in \u001b[0;36mfit\u001b[0;34m(self, n_epoch, lr, wd, cbs, reset_opt, start_epoch)\u001b[0m\n\u001b[1;32m    254\u001b[0m             \u001b[0mself\u001b[0m\u001b[0;34m.\u001b[0m\u001b[0mopt\u001b[0m\u001b[0;34m.\u001b[0m\u001b[0mset_hypers\u001b[0m\u001b[0;34m(\u001b[0m\u001b[0mlr\u001b[0m\u001b[0;34m=\u001b[0m\u001b[0mself\u001b[0m\u001b[0;34m.\u001b[0m\u001b[0mlr\u001b[0m \u001b[0;32mif\u001b[0m \u001b[0mlr\u001b[0m \u001b[0;32mis\u001b[0m \u001b[0;32mNone\u001b[0m \u001b[0;32melse\u001b[0m \u001b[0mlr\u001b[0m\u001b[0;34m)\u001b[0m\u001b[0;34m\u001b[0m\u001b[0;34m\u001b[0m\u001b[0m\n\u001b[1;32m    255\u001b[0m             \u001b[0mself\u001b[0m\u001b[0;34m.\u001b[0m\u001b[0mn_epoch\u001b[0m \u001b[0;34m=\u001b[0m \u001b[0mn_epoch\u001b[0m\u001b[0;34m\u001b[0m\u001b[0;34m\u001b[0m\u001b[0m\n\u001b[0;32m--> 256\u001b[0;31m             \u001b[0mself\u001b[0m\u001b[0;34m.\u001b[0m\u001b[0m_with_events\u001b[0m\u001b[0;34m(\u001b[0m\u001b[0mself\u001b[0m\u001b[0;34m.\u001b[0m\u001b[0m_do_fit\u001b[0m\u001b[0;34m,\u001b[0m \u001b[0;34m'fit'\u001b[0m\u001b[0;34m,\u001b[0m \u001b[0mCancelFitException\u001b[0m\u001b[0;34m,\u001b[0m \u001b[0mself\u001b[0m\u001b[0;34m.\u001b[0m\u001b[0m_end_cleanup\u001b[0m\u001b[0;34m)\u001b[0m\u001b[0;34m\u001b[0m\u001b[0;34m\u001b[0m\u001b[0m\n\u001b[0m\u001b[1;32m    257\u001b[0m \u001b[0;34m\u001b[0m\u001b[0m\n\u001b[1;32m    258\u001b[0m     \u001b[0;32mdef\u001b[0m \u001b[0m_end_cleanup\u001b[0m\u001b[0;34m(\u001b[0m\u001b[0mself\u001b[0m\u001b[0;34m)\u001b[0m\u001b[0;34m:\u001b[0m \u001b[0mself\u001b[0m\u001b[0;34m.\u001b[0m\u001b[0mdl\u001b[0m\u001b[0;34m,\u001b[0m\u001b[0mself\u001b[0m\u001b[0;34m.\u001b[0m\u001b[0mxb\u001b[0m\u001b[0;34m,\u001b[0m\u001b[0mself\u001b[0m\u001b[0;34m.\u001b[0m\u001b[0myb\u001b[0m\u001b[0;34m,\u001b[0m\u001b[0mself\u001b[0m\u001b[0;34m.\u001b[0m\u001b[0mpred\u001b[0m\u001b[0;34m,\u001b[0m\u001b[0mself\u001b[0m\u001b[0;34m.\u001b[0m\u001b[0mloss\u001b[0m \u001b[0;34m=\u001b[0m \u001b[0;32mNone\u001b[0m\u001b[0;34m,\u001b[0m\u001b[0;34m(\u001b[0m\u001b[0;32mNone\u001b[0m\u001b[0;34m,\u001b[0m\u001b[0;34m)\u001b[0m\u001b[0;34m,\u001b[0m\u001b[0;34m(\u001b[0m\u001b[0;32mNone\u001b[0m\u001b[0;34m,\u001b[0m\u001b[0;34m)\u001b[0m\u001b[0;34m,\u001b[0m\u001b[0;32mNone\u001b[0m\u001b[0;34m,\u001b[0m\u001b[0;32mNone\u001b[0m\u001b[0;34m\u001b[0m\u001b[0;34m\u001b[0m\u001b[0m\n",
            "\u001b[0;32m/usr/local/lib/python3.7/dist-packages/fastai/learner.py\u001b[0m in \u001b[0;36m_with_events\u001b[0;34m(self, f, event_type, ex, final)\u001b[0m\n\u001b[1;32m    191\u001b[0m \u001b[0;34m\u001b[0m\u001b[0m\n\u001b[1;32m    192\u001b[0m     \u001b[0;32mdef\u001b[0m \u001b[0m_with_events\u001b[0m\u001b[0;34m(\u001b[0m\u001b[0mself\u001b[0m\u001b[0;34m,\u001b[0m \u001b[0mf\u001b[0m\u001b[0;34m,\u001b[0m \u001b[0mevent_type\u001b[0m\u001b[0;34m,\u001b[0m \u001b[0mex\u001b[0m\u001b[0;34m,\u001b[0m \u001b[0mfinal\u001b[0m\u001b[0;34m=\u001b[0m\u001b[0mnoop\u001b[0m\u001b[0;34m)\u001b[0m\u001b[0;34m:\u001b[0m\u001b[0;34m\u001b[0m\u001b[0;34m\u001b[0m\u001b[0m\n\u001b[0;32m--> 193\u001b[0;31m         \u001b[0;32mtry\u001b[0m\u001b[0;34m:\u001b[0m \u001b[0mself\u001b[0m\u001b[0;34m(\u001b[0m\u001b[0;34mf'before_{event_type}'\u001b[0m\u001b[0;34m)\u001b[0m\u001b[0;34m;\u001b[0m  \u001b[0mf\u001b[0m\u001b[0;34m(\u001b[0m\u001b[0;34m)\u001b[0m\u001b[0;34m\u001b[0m\u001b[0;34m\u001b[0m\u001b[0m\n\u001b[0m\u001b[1;32m    194\u001b[0m         \u001b[0;32mexcept\u001b[0m \u001b[0mex\u001b[0m\u001b[0;34m:\u001b[0m \u001b[0mself\u001b[0m\u001b[0;34m(\u001b[0m\u001b[0;34mf'after_cancel_{event_type}'\u001b[0m\u001b[0;34m)\u001b[0m\u001b[0;34m\u001b[0m\u001b[0;34m\u001b[0m\u001b[0m\n\u001b[1;32m    195\u001b[0m         \u001b[0mself\u001b[0m\u001b[0;34m(\u001b[0m\u001b[0;34mf'after_{event_type}'\u001b[0m\u001b[0;34m)\u001b[0m\u001b[0;34m;\u001b[0m  \u001b[0mfinal\u001b[0m\u001b[0;34m(\u001b[0m\u001b[0;34m)\u001b[0m\u001b[0;34m\u001b[0m\u001b[0;34m\u001b[0m\u001b[0m\n",
            "\u001b[0;32m/usr/local/lib/python3.7/dist-packages/fastai/learner.py\u001b[0m in \u001b[0;36m_do_fit\u001b[0;34m(self)\u001b[0m\n\u001b[1;32m    243\u001b[0m         \u001b[0;32mfor\u001b[0m \u001b[0mepoch\u001b[0m \u001b[0;32min\u001b[0m \u001b[0mrange\u001b[0m\u001b[0;34m(\u001b[0m\u001b[0mself\u001b[0m\u001b[0;34m.\u001b[0m\u001b[0mn_epoch\u001b[0m\u001b[0;34m)\u001b[0m\u001b[0;34m:\u001b[0m\u001b[0;34m\u001b[0m\u001b[0;34m\u001b[0m\u001b[0m\n\u001b[1;32m    244\u001b[0m             \u001b[0mself\u001b[0m\u001b[0;34m.\u001b[0m\u001b[0mepoch\u001b[0m\u001b[0;34m=\u001b[0m\u001b[0mepoch\u001b[0m\u001b[0;34m\u001b[0m\u001b[0;34m\u001b[0m\u001b[0m\n\u001b[0;32m--> 245\u001b[0;31m             \u001b[0mself\u001b[0m\u001b[0;34m.\u001b[0m\u001b[0m_with_events\u001b[0m\u001b[0;34m(\u001b[0m\u001b[0mself\u001b[0m\u001b[0;34m.\u001b[0m\u001b[0m_do_epoch\u001b[0m\u001b[0;34m,\u001b[0m \u001b[0;34m'epoch'\u001b[0m\u001b[0;34m,\u001b[0m \u001b[0mCancelEpochException\u001b[0m\u001b[0;34m)\u001b[0m\u001b[0;34m\u001b[0m\u001b[0;34m\u001b[0m\u001b[0m\n\u001b[0m\u001b[1;32m    246\u001b[0m \u001b[0;34m\u001b[0m\u001b[0m\n\u001b[1;32m    247\u001b[0m     \u001b[0;32mdef\u001b[0m \u001b[0mfit\u001b[0m\u001b[0;34m(\u001b[0m\u001b[0mself\u001b[0m\u001b[0;34m,\u001b[0m \u001b[0mn_epoch\u001b[0m\u001b[0;34m,\u001b[0m \u001b[0mlr\u001b[0m\u001b[0;34m=\u001b[0m\u001b[0;32mNone\u001b[0m\u001b[0;34m,\u001b[0m \u001b[0mwd\u001b[0m\u001b[0;34m=\u001b[0m\u001b[0;32mNone\u001b[0m\u001b[0;34m,\u001b[0m \u001b[0mcbs\u001b[0m\u001b[0;34m=\u001b[0m\u001b[0;32mNone\u001b[0m\u001b[0;34m,\u001b[0m \u001b[0mreset_opt\u001b[0m\u001b[0;34m=\u001b[0m\u001b[0;32mFalse\u001b[0m\u001b[0;34m,\u001b[0m \u001b[0mstart_epoch\u001b[0m\u001b[0;34m=\u001b[0m\u001b[0;36m0\u001b[0m\u001b[0;34m)\u001b[0m\u001b[0;34m:\u001b[0m\u001b[0;34m\u001b[0m\u001b[0;34m\u001b[0m\u001b[0m\n",
            "\u001b[0;32m/usr/local/lib/python3.7/dist-packages/fastai/learner.py\u001b[0m in \u001b[0;36m_with_events\u001b[0;34m(self, f, event_type, ex, final)\u001b[0m\n\u001b[1;32m    191\u001b[0m \u001b[0;34m\u001b[0m\u001b[0m\n\u001b[1;32m    192\u001b[0m     \u001b[0;32mdef\u001b[0m \u001b[0m_with_events\u001b[0m\u001b[0;34m(\u001b[0m\u001b[0mself\u001b[0m\u001b[0;34m,\u001b[0m \u001b[0mf\u001b[0m\u001b[0;34m,\u001b[0m \u001b[0mevent_type\u001b[0m\u001b[0;34m,\u001b[0m \u001b[0mex\u001b[0m\u001b[0;34m,\u001b[0m \u001b[0mfinal\u001b[0m\u001b[0;34m=\u001b[0m\u001b[0mnoop\u001b[0m\u001b[0;34m)\u001b[0m\u001b[0;34m:\u001b[0m\u001b[0;34m\u001b[0m\u001b[0;34m\u001b[0m\u001b[0m\n\u001b[0;32m--> 193\u001b[0;31m         \u001b[0;32mtry\u001b[0m\u001b[0;34m:\u001b[0m \u001b[0mself\u001b[0m\u001b[0;34m(\u001b[0m\u001b[0;34mf'before_{event_type}'\u001b[0m\u001b[0;34m)\u001b[0m\u001b[0;34m;\u001b[0m  \u001b[0mf\u001b[0m\u001b[0;34m(\u001b[0m\u001b[0;34m)\u001b[0m\u001b[0;34m\u001b[0m\u001b[0;34m\u001b[0m\u001b[0m\n\u001b[0m\u001b[1;32m    194\u001b[0m         \u001b[0;32mexcept\u001b[0m \u001b[0mex\u001b[0m\u001b[0;34m:\u001b[0m \u001b[0mself\u001b[0m\u001b[0;34m(\u001b[0m\u001b[0;34mf'after_cancel_{event_type}'\u001b[0m\u001b[0;34m)\u001b[0m\u001b[0;34m\u001b[0m\u001b[0;34m\u001b[0m\u001b[0m\n\u001b[1;32m    195\u001b[0m         \u001b[0mself\u001b[0m\u001b[0;34m(\u001b[0m\u001b[0;34mf'after_{event_type}'\u001b[0m\u001b[0;34m)\u001b[0m\u001b[0;34m;\u001b[0m  \u001b[0mfinal\u001b[0m\u001b[0;34m(\u001b[0m\u001b[0;34m)\u001b[0m\u001b[0;34m\u001b[0m\u001b[0;34m\u001b[0m\u001b[0m\n",
            "\u001b[0;32m/usr/local/lib/python3.7/dist-packages/fastai/learner.py\u001b[0m in \u001b[0;36m_do_epoch\u001b[0;34m(self)\u001b[0m\n\u001b[1;32m    237\u001b[0m \u001b[0;34m\u001b[0m\u001b[0m\n\u001b[1;32m    238\u001b[0m     \u001b[0;32mdef\u001b[0m \u001b[0m_do_epoch\u001b[0m\u001b[0;34m(\u001b[0m\u001b[0mself\u001b[0m\u001b[0;34m)\u001b[0m\u001b[0;34m:\u001b[0m\u001b[0;34m\u001b[0m\u001b[0;34m\u001b[0m\u001b[0m\n\u001b[0;32m--> 239\u001b[0;31m         \u001b[0mself\u001b[0m\u001b[0;34m.\u001b[0m\u001b[0m_do_epoch_train\u001b[0m\u001b[0;34m(\u001b[0m\u001b[0;34m)\u001b[0m\u001b[0;34m\u001b[0m\u001b[0;34m\u001b[0m\u001b[0m\n\u001b[0m\u001b[1;32m    240\u001b[0m         \u001b[0mself\u001b[0m\u001b[0;34m.\u001b[0m\u001b[0m_do_epoch_validate\u001b[0m\u001b[0;34m(\u001b[0m\u001b[0;34m)\u001b[0m\u001b[0;34m\u001b[0m\u001b[0;34m\u001b[0m\u001b[0m\n\u001b[1;32m    241\u001b[0m \u001b[0;34m\u001b[0m\u001b[0m\n",
            "\u001b[0;32m/usr/local/lib/python3.7/dist-packages/fastai/learner.py\u001b[0m in \u001b[0;36m_do_epoch_train\u001b[0;34m(self)\u001b[0m\n\u001b[1;32m    229\u001b[0m     \u001b[0;32mdef\u001b[0m \u001b[0m_do_epoch_train\u001b[0m\u001b[0;34m(\u001b[0m\u001b[0mself\u001b[0m\u001b[0;34m)\u001b[0m\u001b[0;34m:\u001b[0m\u001b[0;34m\u001b[0m\u001b[0;34m\u001b[0m\u001b[0m\n\u001b[1;32m    230\u001b[0m         \u001b[0mself\u001b[0m\u001b[0;34m.\u001b[0m\u001b[0mdl\u001b[0m \u001b[0;34m=\u001b[0m \u001b[0mself\u001b[0m\u001b[0;34m.\u001b[0m\u001b[0mdls\u001b[0m\u001b[0;34m.\u001b[0m\u001b[0mtrain\u001b[0m\u001b[0;34m\u001b[0m\u001b[0;34m\u001b[0m\u001b[0m\n\u001b[0;32m--> 231\u001b[0;31m         \u001b[0mself\u001b[0m\u001b[0;34m.\u001b[0m\u001b[0m_with_events\u001b[0m\u001b[0;34m(\u001b[0m\u001b[0mself\u001b[0m\u001b[0;34m.\u001b[0m\u001b[0mall_batches\u001b[0m\u001b[0;34m,\u001b[0m \u001b[0;34m'train'\u001b[0m\u001b[0;34m,\u001b[0m \u001b[0mCancelTrainException\u001b[0m\u001b[0;34m)\u001b[0m\u001b[0;34m\u001b[0m\u001b[0;34m\u001b[0m\u001b[0m\n\u001b[0m\u001b[1;32m    232\u001b[0m \u001b[0;34m\u001b[0m\u001b[0m\n\u001b[1;32m    233\u001b[0m     \u001b[0;32mdef\u001b[0m \u001b[0m_do_epoch_validate\u001b[0m\u001b[0;34m(\u001b[0m\u001b[0mself\u001b[0m\u001b[0;34m,\u001b[0m \u001b[0mds_idx\u001b[0m\u001b[0;34m=\u001b[0m\u001b[0;36m1\u001b[0m\u001b[0;34m,\u001b[0m \u001b[0mdl\u001b[0m\u001b[0;34m=\u001b[0m\u001b[0;32mNone\u001b[0m\u001b[0;34m)\u001b[0m\u001b[0;34m:\u001b[0m\u001b[0;34m\u001b[0m\u001b[0;34m\u001b[0m\u001b[0m\n",
            "\u001b[0;32m/usr/local/lib/python3.7/dist-packages/fastai/learner.py\u001b[0m in \u001b[0;36m_with_events\u001b[0;34m(self, f, event_type, ex, final)\u001b[0m\n\u001b[1;32m    191\u001b[0m \u001b[0;34m\u001b[0m\u001b[0m\n\u001b[1;32m    192\u001b[0m     \u001b[0;32mdef\u001b[0m \u001b[0m_with_events\u001b[0m\u001b[0;34m(\u001b[0m\u001b[0mself\u001b[0m\u001b[0;34m,\u001b[0m \u001b[0mf\u001b[0m\u001b[0;34m,\u001b[0m \u001b[0mevent_type\u001b[0m\u001b[0;34m,\u001b[0m \u001b[0mex\u001b[0m\u001b[0;34m,\u001b[0m \u001b[0mfinal\u001b[0m\u001b[0;34m=\u001b[0m\u001b[0mnoop\u001b[0m\u001b[0;34m)\u001b[0m\u001b[0;34m:\u001b[0m\u001b[0;34m\u001b[0m\u001b[0;34m\u001b[0m\u001b[0m\n\u001b[0;32m--> 193\u001b[0;31m         \u001b[0;32mtry\u001b[0m\u001b[0;34m:\u001b[0m \u001b[0mself\u001b[0m\u001b[0;34m(\u001b[0m\u001b[0;34mf'before_{event_type}'\u001b[0m\u001b[0;34m)\u001b[0m\u001b[0;34m;\u001b[0m  \u001b[0mf\u001b[0m\u001b[0;34m(\u001b[0m\u001b[0;34m)\u001b[0m\u001b[0;34m\u001b[0m\u001b[0;34m\u001b[0m\u001b[0m\n\u001b[0m\u001b[1;32m    194\u001b[0m         \u001b[0;32mexcept\u001b[0m \u001b[0mex\u001b[0m\u001b[0;34m:\u001b[0m \u001b[0mself\u001b[0m\u001b[0;34m(\u001b[0m\u001b[0;34mf'after_cancel_{event_type}'\u001b[0m\u001b[0;34m)\u001b[0m\u001b[0;34m\u001b[0m\u001b[0;34m\u001b[0m\u001b[0m\n\u001b[1;32m    195\u001b[0m         \u001b[0mself\u001b[0m\u001b[0;34m(\u001b[0m\u001b[0;34mf'after_{event_type}'\u001b[0m\u001b[0;34m)\u001b[0m\u001b[0;34m;\u001b[0m  \u001b[0mfinal\u001b[0m\u001b[0;34m(\u001b[0m\u001b[0;34m)\u001b[0m\u001b[0;34m\u001b[0m\u001b[0;34m\u001b[0m\u001b[0m\n",
            "\u001b[0;32m/usr/local/lib/python3.7/dist-packages/fastai/learner.py\u001b[0m in \u001b[0;36mall_batches\u001b[0;34m(self)\u001b[0m\n\u001b[1;32m    197\u001b[0m     \u001b[0;32mdef\u001b[0m \u001b[0mall_batches\u001b[0m\u001b[0;34m(\u001b[0m\u001b[0mself\u001b[0m\u001b[0;34m)\u001b[0m\u001b[0;34m:\u001b[0m\u001b[0;34m\u001b[0m\u001b[0;34m\u001b[0m\u001b[0m\n\u001b[1;32m    198\u001b[0m         \u001b[0mself\u001b[0m\u001b[0;34m.\u001b[0m\u001b[0mn_iter\u001b[0m \u001b[0;34m=\u001b[0m \u001b[0mlen\u001b[0m\u001b[0;34m(\u001b[0m\u001b[0mself\u001b[0m\u001b[0;34m.\u001b[0m\u001b[0mdl\u001b[0m\u001b[0;34m)\u001b[0m\u001b[0;34m\u001b[0m\u001b[0;34m\u001b[0m\u001b[0m\n\u001b[0;32m--> 199\u001b[0;31m         \u001b[0;32mfor\u001b[0m \u001b[0mo\u001b[0m \u001b[0;32min\u001b[0m \u001b[0menumerate\u001b[0m\u001b[0;34m(\u001b[0m\u001b[0mself\u001b[0m\u001b[0;34m.\u001b[0m\u001b[0mdl\u001b[0m\u001b[0;34m)\u001b[0m\u001b[0;34m:\u001b[0m \u001b[0mself\u001b[0m\u001b[0;34m.\u001b[0m\u001b[0mone_batch\u001b[0m\u001b[0;34m(\u001b[0m\u001b[0;34m*\u001b[0m\u001b[0mo\u001b[0m\u001b[0;34m)\u001b[0m\u001b[0;34m\u001b[0m\u001b[0;34m\u001b[0m\u001b[0m\n\u001b[0m\u001b[1;32m    200\u001b[0m \u001b[0;34m\u001b[0m\u001b[0m\n\u001b[1;32m    201\u001b[0m     \u001b[0;32mdef\u001b[0m \u001b[0m_backward\u001b[0m\u001b[0;34m(\u001b[0m\u001b[0mself\u001b[0m\u001b[0;34m)\u001b[0m\u001b[0;34m:\u001b[0m \u001b[0mself\u001b[0m\u001b[0;34m.\u001b[0m\u001b[0mloss_grad\u001b[0m\u001b[0;34m.\u001b[0m\u001b[0mbackward\u001b[0m\u001b[0;34m(\u001b[0m\u001b[0;34m)\u001b[0m\u001b[0;34m\u001b[0m\u001b[0;34m\u001b[0m\u001b[0m\n",
            "\u001b[0;32m/usr/local/lib/python3.7/dist-packages/fastai/learner.py\u001b[0m in \u001b[0;36mone_batch\u001b[0;34m(self, i, b)\u001b[0m\n\u001b[1;32m    225\u001b[0m         \u001b[0mb\u001b[0m \u001b[0;34m=\u001b[0m \u001b[0mself\u001b[0m\u001b[0;34m.\u001b[0m\u001b[0m_set_device\u001b[0m\u001b[0;34m(\u001b[0m\u001b[0mb\u001b[0m\u001b[0;34m)\u001b[0m\u001b[0;34m\u001b[0m\u001b[0;34m\u001b[0m\u001b[0m\n\u001b[1;32m    226\u001b[0m         \u001b[0mself\u001b[0m\u001b[0;34m.\u001b[0m\u001b[0m_split\u001b[0m\u001b[0;34m(\u001b[0m\u001b[0mb\u001b[0m\u001b[0;34m)\u001b[0m\u001b[0;34m\u001b[0m\u001b[0;34m\u001b[0m\u001b[0m\n\u001b[0;32m--> 227\u001b[0;31m         \u001b[0mself\u001b[0m\u001b[0;34m.\u001b[0m\u001b[0m_with_events\u001b[0m\u001b[0;34m(\u001b[0m\u001b[0mself\u001b[0m\u001b[0;34m.\u001b[0m\u001b[0m_do_one_batch\u001b[0m\u001b[0;34m,\u001b[0m \u001b[0;34m'batch'\u001b[0m\u001b[0;34m,\u001b[0m \u001b[0mCancelBatchException\u001b[0m\u001b[0;34m)\u001b[0m\u001b[0;34m\u001b[0m\u001b[0;34m\u001b[0m\u001b[0m\n\u001b[0m\u001b[1;32m    228\u001b[0m \u001b[0;34m\u001b[0m\u001b[0m\n\u001b[1;32m    229\u001b[0m     \u001b[0;32mdef\u001b[0m \u001b[0m_do_epoch_train\u001b[0m\u001b[0;34m(\u001b[0m\u001b[0mself\u001b[0m\u001b[0;34m)\u001b[0m\u001b[0;34m:\u001b[0m\u001b[0;34m\u001b[0m\u001b[0;34m\u001b[0m\u001b[0m\n",
            "\u001b[0;32m/usr/local/lib/python3.7/dist-packages/fastai/learner.py\u001b[0m in \u001b[0;36m_with_events\u001b[0;34m(self, f, event_type, ex, final)\u001b[0m\n\u001b[1;32m    191\u001b[0m \u001b[0;34m\u001b[0m\u001b[0m\n\u001b[1;32m    192\u001b[0m     \u001b[0;32mdef\u001b[0m \u001b[0m_with_events\u001b[0m\u001b[0;34m(\u001b[0m\u001b[0mself\u001b[0m\u001b[0;34m,\u001b[0m \u001b[0mf\u001b[0m\u001b[0;34m,\u001b[0m \u001b[0mevent_type\u001b[0m\u001b[0;34m,\u001b[0m \u001b[0mex\u001b[0m\u001b[0;34m,\u001b[0m \u001b[0mfinal\u001b[0m\u001b[0;34m=\u001b[0m\u001b[0mnoop\u001b[0m\u001b[0;34m)\u001b[0m\u001b[0;34m:\u001b[0m\u001b[0;34m\u001b[0m\u001b[0;34m\u001b[0m\u001b[0m\n\u001b[0;32m--> 193\u001b[0;31m         \u001b[0;32mtry\u001b[0m\u001b[0;34m:\u001b[0m \u001b[0mself\u001b[0m\u001b[0;34m(\u001b[0m\u001b[0;34mf'before_{event_type}'\u001b[0m\u001b[0;34m)\u001b[0m\u001b[0;34m;\u001b[0m  \u001b[0mf\u001b[0m\u001b[0;34m(\u001b[0m\u001b[0;34m)\u001b[0m\u001b[0;34m\u001b[0m\u001b[0;34m\u001b[0m\u001b[0m\n\u001b[0m\u001b[1;32m    194\u001b[0m         \u001b[0;32mexcept\u001b[0m \u001b[0mex\u001b[0m\u001b[0;34m:\u001b[0m \u001b[0mself\u001b[0m\u001b[0;34m(\u001b[0m\u001b[0;34mf'after_cancel_{event_type}'\u001b[0m\u001b[0;34m)\u001b[0m\u001b[0;34m\u001b[0m\u001b[0;34m\u001b[0m\u001b[0m\n\u001b[1;32m    195\u001b[0m         \u001b[0mself\u001b[0m\u001b[0;34m(\u001b[0m\u001b[0;34mf'after_{event_type}'\u001b[0m\u001b[0;34m)\u001b[0m\u001b[0;34m;\u001b[0m  \u001b[0mfinal\u001b[0m\u001b[0;34m(\u001b[0m\u001b[0;34m)\u001b[0m\u001b[0;34m\u001b[0m\u001b[0;34m\u001b[0m\u001b[0m\n",
            "\u001b[0;32m/usr/local/lib/python3.7/dist-packages/fastai/learner.py\u001b[0m in \u001b[0;36m_do_one_batch\u001b[0;34m(self)\u001b[0m\n\u001b[1;32m    210\u001b[0m         \u001b[0mself\u001b[0m\u001b[0;34m(\u001b[0m\u001b[0;34m'after_loss'\u001b[0m\u001b[0;34m)\u001b[0m\u001b[0;34m\u001b[0m\u001b[0;34m\u001b[0m\u001b[0m\n\u001b[1;32m    211\u001b[0m         \u001b[0;32mif\u001b[0m \u001b[0;32mnot\u001b[0m \u001b[0mself\u001b[0m\u001b[0;34m.\u001b[0m\u001b[0mtraining\u001b[0m \u001b[0;32mor\u001b[0m \u001b[0;32mnot\u001b[0m \u001b[0mlen\u001b[0m\u001b[0;34m(\u001b[0m\u001b[0mself\u001b[0m\u001b[0;34m.\u001b[0m\u001b[0myb\u001b[0m\u001b[0;34m)\u001b[0m\u001b[0;34m:\u001b[0m \u001b[0;32mreturn\u001b[0m\u001b[0;34m\u001b[0m\u001b[0;34m\u001b[0m\u001b[0m\n\u001b[0;32m--> 212\u001b[0;31m         \u001b[0mself\u001b[0m\u001b[0;34m.\u001b[0m\u001b[0m_with_events\u001b[0m\u001b[0;34m(\u001b[0m\u001b[0mself\u001b[0m\u001b[0;34m.\u001b[0m\u001b[0m_backward\u001b[0m\u001b[0;34m,\u001b[0m \u001b[0;34m'backward'\u001b[0m\u001b[0;34m,\u001b[0m \u001b[0mCancelBackwardException\u001b[0m\u001b[0;34m)\u001b[0m\u001b[0;34m\u001b[0m\u001b[0;34m\u001b[0m\u001b[0m\n\u001b[0m\u001b[1;32m    213\u001b[0m         \u001b[0mself\u001b[0m\u001b[0;34m.\u001b[0m\u001b[0m_with_events\u001b[0m\u001b[0;34m(\u001b[0m\u001b[0mself\u001b[0m\u001b[0;34m.\u001b[0m\u001b[0m_step\u001b[0m\u001b[0;34m,\u001b[0m \u001b[0;34m'step'\u001b[0m\u001b[0;34m,\u001b[0m \u001b[0mCancelStepException\u001b[0m\u001b[0;34m)\u001b[0m\u001b[0;34m\u001b[0m\u001b[0;34m\u001b[0m\u001b[0m\n\u001b[1;32m    214\u001b[0m         \u001b[0mself\u001b[0m\u001b[0;34m.\u001b[0m\u001b[0mopt\u001b[0m\u001b[0;34m.\u001b[0m\u001b[0mzero_grad\u001b[0m\u001b[0;34m(\u001b[0m\u001b[0;34m)\u001b[0m\u001b[0;34m\u001b[0m\u001b[0;34m\u001b[0m\u001b[0m\n",
            "\u001b[0;32m/usr/local/lib/python3.7/dist-packages/fastai/learner.py\u001b[0m in \u001b[0;36m_with_events\u001b[0;34m(self, f, event_type, ex, final)\u001b[0m\n\u001b[1;32m    191\u001b[0m \u001b[0;34m\u001b[0m\u001b[0m\n\u001b[1;32m    192\u001b[0m     \u001b[0;32mdef\u001b[0m \u001b[0m_with_events\u001b[0m\u001b[0;34m(\u001b[0m\u001b[0mself\u001b[0m\u001b[0;34m,\u001b[0m \u001b[0mf\u001b[0m\u001b[0;34m,\u001b[0m \u001b[0mevent_type\u001b[0m\u001b[0;34m,\u001b[0m \u001b[0mex\u001b[0m\u001b[0;34m,\u001b[0m \u001b[0mfinal\u001b[0m\u001b[0;34m=\u001b[0m\u001b[0mnoop\u001b[0m\u001b[0;34m)\u001b[0m\u001b[0;34m:\u001b[0m\u001b[0;34m\u001b[0m\u001b[0;34m\u001b[0m\u001b[0m\n\u001b[0;32m--> 193\u001b[0;31m         \u001b[0;32mtry\u001b[0m\u001b[0;34m:\u001b[0m \u001b[0mself\u001b[0m\u001b[0;34m(\u001b[0m\u001b[0;34mf'before_{event_type}'\u001b[0m\u001b[0;34m)\u001b[0m\u001b[0;34m;\u001b[0m  \u001b[0mf\u001b[0m\u001b[0;34m(\u001b[0m\u001b[0;34m)\u001b[0m\u001b[0;34m\u001b[0m\u001b[0;34m\u001b[0m\u001b[0m\n\u001b[0m\u001b[1;32m    194\u001b[0m         \u001b[0;32mexcept\u001b[0m \u001b[0mex\u001b[0m\u001b[0;34m:\u001b[0m \u001b[0mself\u001b[0m\u001b[0;34m(\u001b[0m\u001b[0;34mf'after_cancel_{event_type}'\u001b[0m\u001b[0;34m)\u001b[0m\u001b[0;34m\u001b[0m\u001b[0;34m\u001b[0m\u001b[0m\n\u001b[1;32m    195\u001b[0m         \u001b[0mself\u001b[0m\u001b[0;34m(\u001b[0m\u001b[0;34mf'after_{event_type}'\u001b[0m\u001b[0;34m)\u001b[0m\u001b[0;34m;\u001b[0m  \u001b[0mfinal\u001b[0m\u001b[0;34m(\u001b[0m\u001b[0;34m)\u001b[0m\u001b[0;34m\u001b[0m\u001b[0;34m\u001b[0m\u001b[0m\n",
            "\u001b[0;32m/usr/local/lib/python3.7/dist-packages/fastai/learner.py\u001b[0m in \u001b[0;36m_backward\u001b[0;34m(self)\u001b[0m\n\u001b[1;32m    199\u001b[0m         \u001b[0;32mfor\u001b[0m \u001b[0mo\u001b[0m \u001b[0;32min\u001b[0m \u001b[0menumerate\u001b[0m\u001b[0;34m(\u001b[0m\u001b[0mself\u001b[0m\u001b[0;34m.\u001b[0m\u001b[0mdl\u001b[0m\u001b[0;34m)\u001b[0m\u001b[0;34m:\u001b[0m \u001b[0mself\u001b[0m\u001b[0;34m.\u001b[0m\u001b[0mone_batch\u001b[0m\u001b[0;34m(\u001b[0m\u001b[0;34m*\u001b[0m\u001b[0mo\u001b[0m\u001b[0;34m)\u001b[0m\u001b[0;34m\u001b[0m\u001b[0;34m\u001b[0m\u001b[0m\n\u001b[1;32m    200\u001b[0m \u001b[0;34m\u001b[0m\u001b[0m\n\u001b[0;32m--> 201\u001b[0;31m     \u001b[0;32mdef\u001b[0m \u001b[0m_backward\u001b[0m\u001b[0;34m(\u001b[0m\u001b[0mself\u001b[0m\u001b[0;34m)\u001b[0m\u001b[0;34m:\u001b[0m \u001b[0mself\u001b[0m\u001b[0;34m.\u001b[0m\u001b[0mloss_grad\u001b[0m\u001b[0;34m.\u001b[0m\u001b[0mbackward\u001b[0m\u001b[0;34m(\u001b[0m\u001b[0;34m)\u001b[0m\u001b[0;34m\u001b[0m\u001b[0;34m\u001b[0m\u001b[0m\n\u001b[0m\u001b[1;32m    202\u001b[0m     \u001b[0;32mdef\u001b[0m \u001b[0m_step\u001b[0m\u001b[0;34m(\u001b[0m\u001b[0mself\u001b[0m\u001b[0;34m)\u001b[0m\u001b[0;34m:\u001b[0m \u001b[0mself\u001b[0m\u001b[0;34m.\u001b[0m\u001b[0mopt\u001b[0m\u001b[0;34m.\u001b[0m\u001b[0mstep\u001b[0m\u001b[0;34m(\u001b[0m\u001b[0;34m)\u001b[0m\u001b[0;34m\u001b[0m\u001b[0;34m\u001b[0m\u001b[0m\n\u001b[1;32m    203\u001b[0m \u001b[0;34m\u001b[0m\u001b[0m\n",
            "\u001b[0;32m/usr/local/lib/python3.7/dist-packages/torch/_tensor.py\u001b[0m in \u001b[0;36mbackward\u001b[0;34m(self, gradient, retain_graph, create_graph, inputs)\u001b[0m\n\u001b[1;32m    393\u001b[0m                 \u001b[0mretain_graph\u001b[0m\u001b[0;34m=\u001b[0m\u001b[0mretain_graph\u001b[0m\u001b[0;34m,\u001b[0m\u001b[0;34m\u001b[0m\u001b[0;34m\u001b[0m\u001b[0m\n\u001b[1;32m    394\u001b[0m                 \u001b[0mcreate_graph\u001b[0m\u001b[0;34m=\u001b[0m\u001b[0mcreate_graph\u001b[0m\u001b[0;34m,\u001b[0m\u001b[0;34m\u001b[0m\u001b[0;34m\u001b[0m\u001b[0m\n\u001b[0;32m--> 395\u001b[0;31m                 inputs=inputs)\n\u001b[0m\u001b[1;32m    396\u001b[0m         \u001b[0mtorch\u001b[0m\u001b[0;34m.\u001b[0m\u001b[0mautograd\u001b[0m\u001b[0;34m.\u001b[0m\u001b[0mbackward\u001b[0m\u001b[0;34m(\u001b[0m\u001b[0mself\u001b[0m\u001b[0;34m,\u001b[0m \u001b[0mgradient\u001b[0m\u001b[0;34m,\u001b[0m \u001b[0mretain_graph\u001b[0m\u001b[0;34m,\u001b[0m \u001b[0mcreate_graph\u001b[0m\u001b[0;34m,\u001b[0m \u001b[0minputs\u001b[0m\u001b[0;34m=\u001b[0m\u001b[0minputs\u001b[0m\u001b[0;34m)\u001b[0m\u001b[0;34m\u001b[0m\u001b[0;34m\u001b[0m\u001b[0m\n\u001b[1;32m    397\u001b[0m \u001b[0;34m\u001b[0m\u001b[0m\n",
            "\u001b[0;32m/usr/local/lib/python3.7/dist-packages/torch/overrides.py\u001b[0m in \u001b[0;36mhandle_torch_function\u001b[0;34m(public_api, relevant_args, *args, **kwargs)\u001b[0m\n\u001b[1;32m   1496\u001b[0m         \u001b[0;31m# Use `public_api` instead of `implementation` so __torch_function__\u001b[0m\u001b[0;34m\u001b[0m\u001b[0;34m\u001b[0m\u001b[0;34m\u001b[0m\u001b[0m\n\u001b[1;32m   1497\u001b[0m         \u001b[0;31m# implementations can do equality/identity comparisons.\u001b[0m\u001b[0;34m\u001b[0m\u001b[0;34m\u001b[0m\u001b[0;34m\u001b[0m\u001b[0m\n\u001b[0;32m-> 1498\u001b[0;31m         \u001b[0mresult\u001b[0m \u001b[0;34m=\u001b[0m \u001b[0mtorch_func_method\u001b[0m\u001b[0;34m(\u001b[0m\u001b[0mpublic_api\u001b[0m\u001b[0;34m,\u001b[0m \u001b[0mtypes\u001b[0m\u001b[0;34m,\u001b[0m \u001b[0margs\u001b[0m\u001b[0;34m,\u001b[0m \u001b[0mkwargs\u001b[0m\u001b[0;34m)\u001b[0m\u001b[0;34m\u001b[0m\u001b[0;34m\u001b[0m\u001b[0m\n\u001b[0m\u001b[1;32m   1499\u001b[0m \u001b[0;34m\u001b[0m\u001b[0m\n\u001b[1;32m   1500\u001b[0m         \u001b[0;32mif\u001b[0m \u001b[0mresult\u001b[0m \u001b[0;32mis\u001b[0m \u001b[0;32mnot\u001b[0m \u001b[0mNotImplemented\u001b[0m\u001b[0;34m:\u001b[0m\u001b[0;34m\u001b[0m\u001b[0;34m\u001b[0m\u001b[0m\n",
            "\u001b[0;32m/usr/local/lib/python3.7/dist-packages/fastai/torch_core.py\u001b[0m in \u001b[0;36m__torch_function__\u001b[0;34m(cls, func, types, args, kwargs)\u001b[0m\n\u001b[1;32m    374\u001b[0m         \u001b[0;32mif\u001b[0m \u001b[0mcls\u001b[0m\u001b[0;34m.\u001b[0m\u001b[0mdebug\u001b[0m \u001b[0;32mand\u001b[0m \u001b[0mfunc\u001b[0m\u001b[0;34m.\u001b[0m\u001b[0m__name__\u001b[0m \u001b[0;32mnot\u001b[0m \u001b[0;32min\u001b[0m \u001b[0;34m(\u001b[0m\u001b[0;34m'__str__'\u001b[0m\u001b[0;34m,\u001b[0m\u001b[0;34m'__repr__'\u001b[0m\u001b[0;34m)\u001b[0m\u001b[0;34m:\u001b[0m \u001b[0mprint\u001b[0m\u001b[0;34m(\u001b[0m\u001b[0mfunc\u001b[0m\u001b[0;34m,\u001b[0m \u001b[0mtypes\u001b[0m\u001b[0;34m,\u001b[0m \u001b[0margs\u001b[0m\u001b[0;34m,\u001b[0m \u001b[0mkwargs\u001b[0m\u001b[0;34m)\u001b[0m\u001b[0;34m\u001b[0m\u001b[0;34m\u001b[0m\u001b[0m\n\u001b[1;32m    375\u001b[0m         \u001b[0;32mif\u001b[0m \u001b[0m_torch_handled\u001b[0m\u001b[0;34m(\u001b[0m\u001b[0margs\u001b[0m\u001b[0;34m,\u001b[0m \u001b[0mcls\u001b[0m\u001b[0;34m.\u001b[0m\u001b[0m_opt\u001b[0m\u001b[0;34m,\u001b[0m \u001b[0mfunc\u001b[0m\u001b[0;34m)\u001b[0m\u001b[0;34m:\u001b[0m \u001b[0mtypes\u001b[0m \u001b[0;34m=\u001b[0m \u001b[0;34m(\u001b[0m\u001b[0mtorch\u001b[0m\u001b[0;34m.\u001b[0m\u001b[0mTensor\u001b[0m\u001b[0;34m,\u001b[0m\u001b[0;34m)\u001b[0m\u001b[0;34m\u001b[0m\u001b[0;34m\u001b[0m\u001b[0m\n\u001b[0;32m--> 376\u001b[0;31m         \u001b[0mres\u001b[0m \u001b[0;34m=\u001b[0m \u001b[0msuper\u001b[0m\u001b[0;34m(\u001b[0m\u001b[0;34m)\u001b[0m\u001b[0;34m.\u001b[0m\u001b[0m__torch_function__\u001b[0m\u001b[0;34m(\u001b[0m\u001b[0mfunc\u001b[0m\u001b[0;34m,\u001b[0m \u001b[0mtypes\u001b[0m\u001b[0;34m,\u001b[0m \u001b[0margs\u001b[0m\u001b[0;34m,\u001b[0m \u001b[0mifnone\u001b[0m\u001b[0;34m(\u001b[0m\u001b[0mkwargs\u001b[0m\u001b[0;34m,\u001b[0m \u001b[0;34m{\u001b[0m\u001b[0;34m}\u001b[0m\u001b[0;34m)\u001b[0m\u001b[0;34m)\u001b[0m\u001b[0;34m\u001b[0m\u001b[0;34m\u001b[0m\u001b[0m\n\u001b[0m\u001b[1;32m    377\u001b[0m         \u001b[0mdict_objs\u001b[0m \u001b[0;34m=\u001b[0m \u001b[0m_find_args\u001b[0m\u001b[0;34m(\u001b[0m\u001b[0margs\u001b[0m\u001b[0;34m)\u001b[0m \u001b[0;32mif\u001b[0m \u001b[0margs\u001b[0m \u001b[0;32melse\u001b[0m \u001b[0m_find_args\u001b[0m\u001b[0;34m(\u001b[0m\u001b[0mlist\u001b[0m\u001b[0;34m(\u001b[0m\u001b[0mkwargs\u001b[0m\u001b[0;34m.\u001b[0m\u001b[0mvalues\u001b[0m\u001b[0;34m(\u001b[0m\u001b[0;34m)\u001b[0m\u001b[0;34m)\u001b[0m\u001b[0;34m)\u001b[0m\u001b[0;34m\u001b[0m\u001b[0;34m\u001b[0m\u001b[0m\n\u001b[1;32m    378\u001b[0m         \u001b[0;32mif\u001b[0m \u001b[0missubclass\u001b[0m\u001b[0;34m(\u001b[0m\u001b[0mtype\u001b[0m\u001b[0;34m(\u001b[0m\u001b[0mres\u001b[0m\u001b[0;34m)\u001b[0m\u001b[0;34m,\u001b[0m\u001b[0mTensorBase\u001b[0m\u001b[0;34m)\u001b[0m \u001b[0;32mand\u001b[0m \u001b[0mdict_objs\u001b[0m\u001b[0;34m:\u001b[0m \u001b[0mres\u001b[0m\u001b[0;34m.\u001b[0m\u001b[0mset_meta\u001b[0m\u001b[0;34m(\u001b[0m\u001b[0mdict_objs\u001b[0m\u001b[0;34m[\u001b[0m\u001b[0;36m0\u001b[0m\u001b[0;34m]\u001b[0m\u001b[0;34m,\u001b[0m\u001b[0mas_copy\u001b[0m\u001b[0;34m=\u001b[0m\u001b[0;32mTrue\u001b[0m\u001b[0;34m)\u001b[0m\u001b[0;34m\u001b[0m\u001b[0;34m\u001b[0m\u001b[0m\n",
            "\u001b[0;32m/usr/local/lib/python3.7/dist-packages/torch/_tensor.py\u001b[0m in \u001b[0;36m__torch_function__\u001b[0;34m(cls, func, types, args, kwargs)\u001b[0m\n\u001b[1;32m   1119\u001b[0m \u001b[0;34m\u001b[0m\u001b[0m\n\u001b[1;32m   1120\u001b[0m         \u001b[0;32mwith\u001b[0m \u001b[0m_C\u001b[0m\u001b[0;34m.\u001b[0m\u001b[0mDisableTorchFunction\u001b[0m\u001b[0;34m(\u001b[0m\u001b[0;34m)\u001b[0m\u001b[0;34m:\u001b[0m\u001b[0;34m\u001b[0m\u001b[0;34m\u001b[0m\u001b[0m\n\u001b[0;32m-> 1121\u001b[0;31m             \u001b[0mret\u001b[0m \u001b[0;34m=\u001b[0m \u001b[0mfunc\u001b[0m\u001b[0;34m(\u001b[0m\u001b[0;34m*\u001b[0m\u001b[0margs\u001b[0m\u001b[0;34m,\u001b[0m \u001b[0;34m**\u001b[0m\u001b[0mkwargs\u001b[0m\u001b[0;34m)\u001b[0m\u001b[0;34m\u001b[0m\u001b[0;34m\u001b[0m\u001b[0m\n\u001b[0m\u001b[1;32m   1122\u001b[0m             \u001b[0;32mif\u001b[0m \u001b[0mfunc\u001b[0m \u001b[0;32min\u001b[0m \u001b[0mget_default_nowrap_functions\u001b[0m\u001b[0;34m(\u001b[0m\u001b[0;34m)\u001b[0m\u001b[0;34m:\u001b[0m\u001b[0;34m\u001b[0m\u001b[0;34m\u001b[0m\u001b[0m\n\u001b[1;32m   1123\u001b[0m                 \u001b[0;32mreturn\u001b[0m \u001b[0mret\u001b[0m\u001b[0;34m\u001b[0m\u001b[0;34m\u001b[0m\u001b[0m\n",
            "\u001b[0;32m/usr/local/lib/python3.7/dist-packages/torch/_tensor.py\u001b[0m in \u001b[0;36mbackward\u001b[0;34m(self, gradient, retain_graph, create_graph, inputs)\u001b[0m\n\u001b[1;32m    394\u001b[0m                 \u001b[0mcreate_graph\u001b[0m\u001b[0;34m=\u001b[0m\u001b[0mcreate_graph\u001b[0m\u001b[0;34m,\u001b[0m\u001b[0;34m\u001b[0m\u001b[0;34m\u001b[0m\u001b[0m\n\u001b[1;32m    395\u001b[0m                 inputs=inputs)\n\u001b[0;32m--> 396\u001b[0;31m         \u001b[0mtorch\u001b[0m\u001b[0;34m.\u001b[0m\u001b[0mautograd\u001b[0m\u001b[0;34m.\u001b[0m\u001b[0mbackward\u001b[0m\u001b[0;34m(\u001b[0m\u001b[0mself\u001b[0m\u001b[0;34m,\u001b[0m \u001b[0mgradient\u001b[0m\u001b[0;34m,\u001b[0m \u001b[0mretain_graph\u001b[0m\u001b[0;34m,\u001b[0m \u001b[0mcreate_graph\u001b[0m\u001b[0;34m,\u001b[0m \u001b[0minputs\u001b[0m\u001b[0;34m=\u001b[0m\u001b[0minputs\u001b[0m\u001b[0;34m)\u001b[0m\u001b[0;34m\u001b[0m\u001b[0;34m\u001b[0m\u001b[0m\n\u001b[0m\u001b[1;32m    397\u001b[0m \u001b[0;34m\u001b[0m\u001b[0m\n\u001b[1;32m    398\u001b[0m     \u001b[0;32mdef\u001b[0m \u001b[0mregister_hook\u001b[0m\u001b[0;34m(\u001b[0m\u001b[0mself\u001b[0m\u001b[0;34m,\u001b[0m \u001b[0mhook\u001b[0m\u001b[0;34m)\u001b[0m\u001b[0;34m:\u001b[0m\u001b[0;34m\u001b[0m\u001b[0;34m\u001b[0m\u001b[0m\n",
            "\u001b[0;32m/usr/local/lib/python3.7/dist-packages/torch/autograd/__init__.py\u001b[0m in \u001b[0;36mbackward\u001b[0;34m(tensors, grad_tensors, retain_graph, create_graph, grad_variables, inputs)\u001b[0m\n\u001b[1;32m    173\u001b[0m     Variable._execution_engine.run_backward(  # Calls into the C++ engine to run the backward pass\n\u001b[1;32m    174\u001b[0m         \u001b[0mtensors\u001b[0m\u001b[0;34m,\u001b[0m \u001b[0mgrad_tensors_\u001b[0m\u001b[0;34m,\u001b[0m \u001b[0mretain_graph\u001b[0m\u001b[0;34m,\u001b[0m \u001b[0mcreate_graph\u001b[0m\u001b[0;34m,\u001b[0m \u001b[0minputs\u001b[0m\u001b[0;34m,\u001b[0m\u001b[0;34m\u001b[0m\u001b[0;34m\u001b[0m\u001b[0m\n\u001b[0;32m--> 175\u001b[0;31m         allow_unreachable=True, accumulate_grad=True)  # Calls into the C++ engine to run the backward pass\n\u001b[0m\u001b[1;32m    176\u001b[0m \u001b[0;34m\u001b[0m\u001b[0m\n\u001b[1;32m    177\u001b[0m def grad(\n",
            "\u001b[0;31mKeyboardInterrupt\u001b[0m: "
          ]
        }
      ]
    },
    {
      "cell_type": "code",
      "source": [
        "import torch"
      ],
      "metadata": {
        "id": "2wzgPnC0Hvl6"
      },
      "execution_count": null,
      "outputs": []
    },
    {
      "cell_type": "code",
      "source": [
        "aa = np.linspace(0.1,0.9,12)\n",
        "aa = aa.reshape(2,2,3)\n",
        "aa"
      ],
      "metadata": {
        "colab": {
          "base_uri": "https://localhost:8080/"
        },
        "id": "JA6Nhcg9I7ai",
        "outputId": "548e4dfa-768b-4dbd-d169-d093b433b0f4"
      },
      "execution_count": null,
      "outputs": [
        {
          "output_type": "execute_result",
          "data": {
            "text/plain": [
              "array([[[0.1       , 0.17272727, 0.24545455],\n",
              "        [0.31818182, 0.39090909, 0.46363636]],\n",
              "\n",
              "       [[0.53636364, 0.60909091, 0.68181818],\n",
              "        [0.75454545, 0.82727273, 0.9       ]]])"
            ]
          },
          "metadata": {},
          "execution_count": 40
        }
      ]
    },
    {
      "cell_type": "code",
      "source": [
        "t = torch.FloatTensor(aa)\n",
        "t.shape"
      ],
      "metadata": {
        "colab": {
          "base_uri": "https://localhost:8080/"
        },
        "id": "J9l4CLeSInN5",
        "outputId": "0d47c66e-935a-49b6-a6cf-491b264d3212"
      },
      "execution_count": null,
      "outputs": [
        {
          "output_type": "execute_result",
          "data": {
            "text/plain": [
              "torch.Size([2, 2, 3])"
            ]
          },
          "metadata": {},
          "execution_count": 41
        }
      ]
    },
    {
      "cell_type": "code",
      "source": [
        "t = t.view(-1,3)"
      ],
      "metadata": {
        "id": "mGFJD4zjJcE-"
      },
      "execution_count": null,
      "outputs": []
    },
    {
      "cell_type": "code",
      "source": [
        "t.shape"
      ],
      "metadata": {
        "colab": {
          "base_uri": "https://localhost:8080/"
        },
        "id": "uVxw319OJiU0",
        "outputId": "64567b0f-f584-4e07-f642-0e5cc2ccbdd2"
      },
      "execution_count": null,
      "outputs": [
        {
          "output_type": "execute_result",
          "data": {
            "text/plain": [
              "torch.Size([4, 3])"
            ]
          },
          "metadata": {},
          "execution_count": 43
        }
      ]
    },
    {
      "cell_type": "code",
      "source": [
        "t = t.view(4,3,1)"
      ],
      "metadata": {
        "id": "cDX3FSxLQJjr"
      },
      "execution_count": null,
      "outputs": []
    },
    {
      "cell_type": "code",
      "source": [
        "t"
      ],
      "metadata": {
        "colab": {
          "base_uri": "https://localhost:8080/"
        },
        "id": "X89rwkOEQSES",
        "outputId": "02592d83-d2e1-4e94-c0bd-112c3cc09f9c"
      },
      "execution_count": null,
      "outputs": [
        {
          "output_type": "execute_result",
          "data": {
            "text/plain": [
              "tensor([[[0.1000],\n",
              "         [0.1727],\n",
              "         [0.2455]],\n",
              "\n",
              "        [[0.3182],\n",
              "         [0.3909],\n",
              "         [0.4636]],\n",
              "\n",
              "        [[0.5364],\n",
              "         [0.6091],\n",
              "         [0.6818]],\n",
              "\n",
              "        [[0.7545],\n",
              "         [0.8273],\n",
              "         [0.9000]]])"
            ]
          },
          "metadata": {},
          "execution_count": 48
        }
      ]
    },
    {
      "cell_type": "code",
      "source": [
        "t.squeeze().shape"
      ],
      "metadata": {
        "colab": {
          "base_uri": "https://localhost:8080/"
        },
        "id": "5OimW4dyJxiN",
        "outputId": "6d53c52f-fafd-4a1c-b574-39bda92626da"
      },
      "execution_count": null,
      "outputs": [
        {
          "output_type": "execute_result",
          "data": {
            "text/plain": [
              "torch.Size([4, 3])"
            ]
          },
          "metadata": {},
          "execution_count": 49
        }
      ]
    },
    {
      "cell_type": "code",
      "source": [
        "dm1 = torch.IntTensor([i for i in range(1,10)])\n",
        "dm2 = torch.IntTensor([i for i in range(11,20)])\n",
        "dm1 = dm1.view(3,3)\n",
        "dm2 = dm2.view(3,3)"
      ],
      "metadata": {
        "id": "3LilDwlhSP9l"
      },
      "execution_count": null,
      "outputs": []
    },
    {
      "cell_type": "code",
      "source": [
        "torch.concat([dm1, dm2], dim=1)"
      ],
      "metadata": {
        "colab": {
          "base_uri": "https://localhost:8080/"
        },
        "id": "UA244NwbWwQe",
        "outputId": "1b6a366d-1aba-4c56-f74b-e67157158718"
      },
      "execution_count": null,
      "outputs": [
        {
          "output_type": "execute_result",
          "data": {
            "text/plain": [
              "tensor([[ 1,  2,  3, 11, 12, 13],\n",
              "        [ 4,  5,  6, 14, 15, 16],\n",
              "        [ 7,  8,  9, 17, 18, 19]], dtype=torch.int32)"
            ]
          },
          "metadata": {},
          "execution_count": 56
        }
      ]
    },
    {
      "cell_type": "code",
      "source": [
        "torch.cat([dm1, dm2], dim=1)"
      ],
      "metadata": {
        "colab": {
          "base_uri": "https://localhost:8080/"
        },
        "id": "U8X_LVZBd-YR",
        "outputId": "a70a58da-5759-4049-c80c-e3716a04bde4"
      },
      "execution_count": null,
      "outputs": [
        {
          "output_type": "execute_result",
          "data": {
            "text/plain": [
              "tensor([[ 1,  2,  3, 11, 12, 13],\n",
              "        [ 4,  5,  6, 14, 15, 16],\n",
              "        [ 7,  8,  9, 17, 18, 19]], dtype=torch.int32)"
            ]
          },
          "metadata": {},
          "execution_count": 57
        }
      ]
    },
    {
      "cell_type": "code",
      "source": [
        "a.view(-1,2)"
      ],
      "metadata": {
        "colab": {
          "base_uri": "https://localhost:8080/"
        },
        "id": "wt90A4QFfGJ5",
        "outputId": "b61ecddd-1c05-4527-9a62-d2d4bc9b3dd3"
      },
      "execution_count": null,
      "outputs": [
        {
          "output_type": "execute_result",
          "data": {
            "text/plain": [
              "tensor([[ 1, 11],\n",
              "        [ 2, 12],\n",
              "        [ 3, 13],\n",
              "        [ 4, 14],\n",
              "        [ 5, 15],\n",
              "        [ 6, 16],\n",
              "        [ 7, 17],\n",
              "        [ 8, 18],\n",
              "        [ 9, 19]], dtype=torch.int32)"
            ]
          },
          "metadata": {},
          "execution_count": 71
        }
      ]
    },
    {
      "cell_type": "code",
      "source": [
        "x = torch.FloatTensor([[1,2],[3,4]])\n",
        "print(x.mul_(2))"
      ],
      "metadata": {
        "colab": {
          "base_uri": "https://localhost:8080/"
        },
        "id": "7ouSBktMfg49",
        "outputId": "68644426-025e-4d2b-c55f-0b07cfdd8f6b"
      },
      "execution_count": null,
      "outputs": [
        {
          "output_type": "stream",
          "name": "stdout",
          "text": [
            "tensor([[2., 4.],\n",
            "        [6., 8.]])\n"
          ]
        }
      ]
    },
    {
      "cell_type": "code",
      "source": [
        "x"
      ],
      "metadata": {
        "colab": {
          "base_uri": "https://localhost:8080/"
        },
        "id": "MjJLXWCYmA_z",
        "outputId": "ba67ea13-a678-4a00-ace0-9452544809c0"
      },
      "execution_count": null,
      "outputs": [
        {
          "output_type": "execute_result",
          "data": {
            "text/plain": [
              "tensor([[2., 4.],\n",
              "        [6., 8.]])"
            ]
          },
          "metadata": {},
          "execution_count": 81
        }
      ]
    },
    {
      "cell_type": "code",
      "source": [
        "x_train = torch.FloatTensor([[1],[2],[3]])\n",
        "y_train = torch.FloatTensor([[2],[4],[6]])"
      ],
      "metadata": {
        "id": "PgMwubvJn78a"
      },
      "execution_count": null,
      "outputs": []
    },
    {
      "cell_type": "code",
      "source": [
        "w = torch.zeros(1, requires_grad=True)\n",
        "b = torch.zeros(1, requires_grad=True)\n",
        "w, b"
      ],
      "metadata": {
        "colab": {
          "base_uri": "https://localhost:8080/"
        },
        "id": "qoHpD_N-qUrD",
        "outputId": "5aa8d38a-e850-498d-be5c-2000221f21b6"
      },
      "execution_count": null,
      "outputs": [
        {
          "output_type": "execute_result",
          "data": {
            "text/plain": [
              "(tensor([0.], requires_grad=True), tensor([0.], requires_grad=True))"
            ]
          },
          "metadata": {},
          "execution_count": 105
        }
      ]
    },
    {
      "cell_type": "code",
      "source": [
        "hypo = x_train * w + b"
      ],
      "metadata": {
        "id": "6jYHi4YWqrH6"
      },
      "execution_count": null,
      "outputs": []
    },
    {
      "cell_type": "code",
      "source": [
        "cost = torch.mean((hypo - y_train)**2)\n",
        "cost"
      ],
      "metadata": {
        "colab": {
          "base_uri": "https://localhost:8080/"
        },
        "id": "m1mnygM0q_MG",
        "outputId": "6dd235f3-cce2-40ca-db07-cb86ff3491a0"
      },
      "execution_count": null,
      "outputs": [
        {
          "output_type": "execute_result",
          "data": {
            "text/plain": [
              "tensor(18.6667, grad_fn=<MeanBackward0>)"
            ]
          },
          "metadata": {},
          "execution_count": 88
        }
      ]
    },
    {
      "cell_type": "code",
      "source": [
        "optimizer = torch.optim.SGD([w,b], lr=0.01)"
      ],
      "metadata": {
        "id": "Tb2PL2zCrbFK"
      },
      "execution_count": null,
      "outputs": []
    },
    {
      "cell_type": "code",
      "source": [
        "optimizer.zero_grad"
      ],
      "metadata": {
        "colab": {
          "base_uri": "https://localhost:8080/"
        },
        "id": "uRnK8HHJr24D",
        "outputId": "a48d82ad-9f6c-4da6-bd1a-1b6cb7e4c5fb"
      },
      "execution_count": null,
      "outputs": [
        {
          "output_type": "execute_result",
          "data": {
            "text/plain": [
              "<bound method Optimizer.zero_grad of SGD (\n",
              "Parameter Group 0\n",
              "    dampening: 0\n",
              "    foreach: None\n",
              "    lr: 0.01\n",
              "    maximize: False\n",
              "    momentum: 0\n",
              "    nesterov: False\n",
              "    weight_decay: 0\n",
              ")>"
            ]
          },
          "metadata": {},
          "execution_count": 102
        }
      ]
    },
    {
      "cell_type": "code",
      "source": [
        "epochs = 2000\n",
        "for epoch in range(epochs):\n",
        "    hypo = x_train * w + b\n",
        "    cost = torch.mean((hypo - y_train) ** 2)\n",
        "    optimizer.zero_grad()\n",
        "    cost.backward()\n",
        "    optimizer.step()\n",
        "    if epoch % 100 == 0:\n",
        "        print(f'epoch : {epoch}, w : {w.item():.3f}, b : {b.item():.3f}, cost : {cost.item():.6f}')"
      ],
      "metadata": {
        "colab": {
          "base_uri": "https://localhost:8080/"
        },
        "id": "B6ZKmWKcsFsj",
        "outputId": "8e944deb-4dc6-46b0-e62e-1c116f479f25"
      },
      "execution_count": null,
      "outputs": [
        {
          "output_type": "stream",
          "name": "stdout",
          "text": [
            "epoch : 0, w : 0.187, b : 0.080, cost : 18.666666\n",
            "epoch : 100, w : 1.746, b : 0.578, cost : 0.048171\n",
            "epoch : 200, w : 1.800, b : 0.454, cost : 0.029767\n",
            "epoch : 300, w : 1.843, b : 0.357, cost : 0.018394\n",
            "epoch : 400, w : 1.876, b : 0.281, cost : 0.011366\n",
            "epoch : 500, w : 1.903, b : 0.221, cost : 0.007024\n",
            "epoch : 600, w : 1.924, b : 0.174, cost : 0.004340\n",
            "epoch : 700, w : 1.940, b : 0.136, cost : 0.002682\n",
            "epoch : 800, w : 1.953, b : 0.107, cost : 0.001657\n",
            "epoch : 900, w : 1.963, b : 0.084, cost : 0.001024\n",
            "epoch : 1000, w : 1.971, b : 0.066, cost : 0.000633\n",
            "epoch : 1100, w : 1.977, b : 0.052, cost : 0.000391\n",
            "epoch : 1200, w : 1.982, b : 0.041, cost : 0.000242\n",
            "epoch : 1300, w : 1.986, b : 0.032, cost : 0.000149\n",
            "epoch : 1400, w : 1.989, b : 0.025, cost : 0.000092\n",
            "epoch : 1500, w : 1.991, b : 0.020, cost : 0.000057\n",
            "epoch : 1600, w : 1.993, b : 0.016, cost : 0.000035\n",
            "epoch : 1700, w : 1.995, b : 0.012, cost : 0.000022\n",
            "epoch : 1800, w : 1.996, b : 0.010, cost : 0.000013\n",
            "epoch : 1900, w : 1.997, b : 0.008, cost : 0.000008\n"
          ]
        }
      ]
    },
    {
      "cell_type": "code",
      "source": [
        "w = torch.tensor(2.0,requires_grad=True)"
      ],
      "metadata": {
        "id": "lP22B09fvN_d"
      },
      "execution_count": null,
      "outputs": []
    },
    {
      "cell_type": "code",
      "source": [
        "y = w**2\n",
        "z = 2*y + 5"
      ],
      "metadata": {
        "id": "Jd83sSmQveun"
      },
      "execution_count": null,
      "outputs": []
    },
    {
      "cell_type": "code",
      "source": [
        "z.backward()"
      ],
      "metadata": {
        "id": "sIZfuh8evlIT"
      },
      "execution_count": null,
      "outputs": []
    },
    {
      "cell_type": "code",
      "source": [
        "x1_train = torch.FloatTensor([[73], [93], [89], [96], [73]])\n",
        "x2_train = torch.FloatTensor([[80], [88], [91], [98], [66]])\n",
        "x3_train = torch.FloatTensor([[75], [93], [90], [100], [70]])\n",
        "y_train = torch.FloatTensor([[152], [185], [180], [196], [142]])"
      ],
      "metadata": {
        "id": "bSyFe8WJvzq9"
      },
      "execution_count": null,
      "outputs": []
    },
    {
      "cell_type": "code",
      "source": [
        "w1 = torch.zeros(1, requires_grad=True)\n",
        "w2 = torch.zeros(1, requires_grad=True)\n",
        "w3 = torch.zeros(1, requires_grad=True)\n",
        "b = torch.zeros(1, requires_grad=True)"
      ],
      "metadata": {
        "id": "rwXy_6_axYOc"
      },
      "execution_count": null,
      "outputs": []
    },
    {
      "cell_type": "code",
      "source": [
        "optimizer = torch.optim.SGD([w1, w2, w3, b], lr =1e-5)"
      ],
      "metadata": {
        "id": "lm_KxX-4yLF2"
      },
      "execution_count": null,
      "outputs": []
    },
    {
      "cell_type": "code",
      "source": [
        "for epoch in range(2000):\n",
        "    pre = x1_train * w1 + x2_train * w2 + x3_train * w3 +b\n",
        "    cost = torch.mean((pre-y_train) ** 2)\n",
        "    optimizer.zero_grad()\n",
        "    cost.backward()\n",
        "    optimizer.step()\n",
        "    if epoch % 100 == 0:\n",
        "        print(f'epoch : {epoch}, w1 : {w1.item():.3f}, w2 : {w2.item():.3f}, w3 : {w3.item():.3f}, b : {b.item():.3f}, cost : {cost.item():.6f}')\n"
      ],
      "metadata": {
        "colab": {
          "base_uri": "https://localhost:8080/"
        },
        "id": "EMfy33ulx8uW",
        "outputId": "6d912239-9fbb-4983-90e6-9effc55a40d5"
      },
      "execution_count": null,
      "outputs": [
        {
          "output_type": "stream",
          "name": "stdout",
          "text": [
            "epoch : 0, w1 : 0.294, w2 : 0.294, w3 : 0.297, b : 0.003, cost : 29661.800781\n",
            "epoch : 100, w1 : 0.674, w2 : 0.661, w3 : 0.676, b : 0.008, cost : 1.563628\n",
            "epoch : 200, w1 : 0.679, w2 : 0.655, w3 : 0.677, b : 0.008, cost : 1.497595\n",
            "epoch : 300, w1 : 0.684, w2 : 0.649, w3 : 0.677, b : 0.008, cost : 1.435044\n",
            "epoch : 400, w1 : 0.689, w2 : 0.643, w3 : 0.678, b : 0.008, cost : 1.375726\n",
            "epoch : 500, w1 : 0.694, w2 : 0.638, w3 : 0.678, b : 0.009, cost : 1.319507\n",
            "epoch : 600, w1 : 0.699, w2 : 0.633, w3 : 0.679, b : 0.009, cost : 1.266222\n",
            "epoch : 700, w1 : 0.704, w2 : 0.627, w3 : 0.679, b : 0.009, cost : 1.215703\n",
            "epoch : 800, w1 : 0.709, w2 : 0.622, w3 : 0.679, b : 0.009, cost : 1.167810\n",
            "epoch : 900, w1 : 0.713, w2 : 0.617, w3 : 0.680, b : 0.009, cost : 1.122429\n",
            "epoch : 1000, w1 : 0.718, w2 : 0.613, w3 : 0.680, b : 0.009, cost : 1.079390\n",
            "epoch : 1100, w1 : 0.722, w2 : 0.608, w3 : 0.680, b : 0.009, cost : 1.038574\n",
            "epoch : 1200, w1 : 0.727, w2 : 0.603, w3 : 0.681, b : 0.010, cost : 0.999884\n",
            "epoch : 1300, w1 : 0.731, w2 : 0.599, w3 : 0.681, b : 0.010, cost : 0.963217\n",
            "epoch : 1400, w1 : 0.735, w2 : 0.595, w3 : 0.681, b : 0.010, cost : 0.928427\n",
            "epoch : 1500, w1 : 0.739, w2 : 0.591, w3 : 0.681, b : 0.010, cost : 0.895448\n",
            "epoch : 1600, w1 : 0.743, w2 : 0.586, w3 : 0.682, b : 0.010, cost : 0.864169\n",
            "epoch : 1700, w1 : 0.746, w2 : 0.583, w3 : 0.682, b : 0.010, cost : 0.834509\n",
            "epoch : 1800, w1 : 0.750, w2 : 0.579, w3 : 0.682, b : 0.010, cost : 0.806380\n",
            "epoch : 1900, w1 : 0.754, w2 : 0.575, w3 : 0.682, b : 0.010, cost : 0.779696\n"
          ]
        }
      ]
    },
    {
      "cell_type": "code",
      "source": [
        "x_train  =  torch.FloatTensor([[73,  80,  75], \n",
        "                               [93,  88,  93], \n",
        "                               [89,  91,  80], \n",
        "                               [96,  98,  100],   \n",
        "                               [73,  66,  70]])  \n",
        "y_train  =  torch.FloatTensor([[152],  [185],  [180],  [196],  [142]])"
      ],
      "metadata": {
        "id": "y-5ei6RY0MvS"
      },
      "execution_count": null,
      "outputs": []
    },
    {
      "cell_type": "code",
      "source": [
        "w = torch.zeros([3,1], requires_grad=True)\n",
        "b = torch.zeros(1, requires_grad=True)"
      ],
      "metadata": {
        "id": "LinmfXSC0NvH"
      },
      "execution_count": null,
      "outputs": []
    },
    {
      "cell_type": "code",
      "source": [
        "optimizer = torch.optim.SGD([w,b], lr=1e-5)"
      ],
      "metadata": {
        "id": "ehHX1V8n1MNv"
      },
      "execution_count": null,
      "outputs": []
    },
    {
      "cell_type": "code",
      "source": [
        "for epoch in range(2000):\n",
        "    pre = x_train.matmul(w) + b\n",
        "    cost = torch.mean((pre-y_train) ** 2)\n",
        "    optimizer.zero_grad()\n",
        "    cost.backward()\n",
        "    optimizer.step()\n",
        "    if epoch % 100 == 0:\n",
        "        print(f'epoch : {epoch}, pre : {pre.squeeze().detach()}, b : {b.item():.3f}, cost : {cost.item():.3f}')\n"
      ],
      "metadata": {
        "colab": {
          "base_uri": "https://localhost:8080/"
        },
        "id": "_hD61tdT1AJP",
        "outputId": "c801f481-941b-486d-ec49-2f88ff75dcff"
      },
      "execution_count": null,
      "outputs": [
        {
          "output_type": "stream",
          "name": "stdout",
          "text": [
            "epoch : 0, pre : tensor([104.5421, 125.6208, 119.2478, 134.7862,  95.8280]), b : 0.006, cost : 3069.590\n",
            "epoch : 100, pre : tensor([154.0430, 185.0920, 175.8333, 198.5690, 141.2222]), b : 0.008, cost : 5.750\n",
            "epoch : 200, pre : tensor([154.0275, 185.0643, 175.9356, 198.5117, 141.2286]), b : 0.008, cost : 5.508\n",
            "epoch : 300, pre : tensor([154.0117, 185.0380, 176.0349, 198.4558, 141.2354]), b : 0.008, cost : 5.277\n",
            "epoch : 400, pre : tensor([153.9957, 185.0128, 176.1314, 198.4011, 141.2427]), b : 0.008, cost : 5.058\n",
            "epoch : 500, pre : tensor([153.9794, 184.9887, 176.2251, 198.3478, 141.2505]), b : 0.008, cost : 4.848\n",
            "epoch : 600, pre : tensor([153.9629, 184.9657, 176.3161, 198.2956, 141.2588]), b : 0.008, cost : 4.649\n",
            "epoch : 700, pre : tensor([153.9462, 184.9438, 176.4046, 198.2446, 141.2674]), b : 0.009, cost : 4.459\n",
            "epoch : 800, pre : tensor([153.9293, 184.9228, 176.4905, 198.1948, 141.2764]), b : 0.009, cost : 4.277\n",
            "epoch : 900, pre : tensor([153.9123, 184.9028, 176.5741, 198.1461, 141.2857]), b : 0.009, cost : 4.104\n",
            "epoch : 1000, pre : tensor([153.8951, 184.8838, 176.6552, 198.0986, 141.2953]), b : 0.009, cost : 3.939\n",
            "epoch : 1100, pre : tensor([153.8779, 184.8656, 176.7341, 198.0520, 141.3053]), b : 0.009, cost : 3.781\n",
            "epoch : 1200, pre : tensor([153.8605, 184.8483, 176.8108, 198.0066, 141.3155]), b : 0.009, cost : 3.630\n",
            "epoch : 1300, pre : tensor([153.8430, 184.8317, 176.8853, 197.9621, 141.3260]), b : 0.009, cost : 3.486\n",
            "epoch : 1400, pre : tensor([153.8255, 184.8160, 176.9577, 197.9187, 141.3367]), b : 0.009, cost : 3.349\n",
            "epoch : 1500, pre : tensor([153.8080, 184.8010, 177.0282, 197.8762, 141.3475]), b : 0.009, cost : 3.217\n",
            "epoch : 1600, pre : tensor([153.7904, 184.7867, 177.0967, 197.8346, 141.3586]), b : 0.009, cost : 3.091\n",
            "epoch : 1700, pre : tensor([153.7728, 184.7731, 177.1633, 197.7940, 141.3699]), b : 0.009, cost : 2.971\n",
            "epoch : 1800, pre : tensor([153.7552, 184.7602, 177.2281, 197.7543, 141.3813]), b : 0.009, cost : 2.856\n",
            "epoch : 1900, pre : tensor([153.7376, 184.7479, 177.2911, 197.7155, 141.3929]), b : 0.009, cost : 2.746\n"
          ]
        }
      ]
    },
    {
      "cell_type": "code",
      "source": [
        "model = torch.nn.Linear(1, 1)\n",
        "cost = torch.functional.mse_loss()"
      ],
      "metadata": {
        "colab": {
          "base_uri": "https://localhost:8080/",
          "height": 193
        },
        "id": "RYW-sZrP3VOf",
        "outputId": "14ad2d60-e245-4c71-ff8f-c418f064d86b"
      },
      "execution_count": null,
      "outputs": [
        {
          "output_type": "error",
          "ename": "AttributeError",
          "evalue": "ignored",
          "traceback": [
            "\u001b[0;31m---------------------------------------------------------------------------\u001b[0m",
            "\u001b[0;31mAttributeError\u001b[0m                            Traceback (most recent call last)",
            "\u001b[0;32m<ipython-input-149-5f154562976f>\u001b[0m in \u001b[0;36m<module>\u001b[0;34m\u001b[0m\n\u001b[1;32m      1\u001b[0m \u001b[0mmodel\u001b[0m \u001b[0;34m=\u001b[0m \u001b[0mtorch\u001b[0m\u001b[0;34m.\u001b[0m\u001b[0mnn\u001b[0m\u001b[0;34m.\u001b[0m\u001b[0mLinear\u001b[0m\u001b[0;34m(\u001b[0m\u001b[0;36m1\u001b[0m\u001b[0;34m,\u001b[0m \u001b[0;36m1\u001b[0m\u001b[0;34m)\u001b[0m\u001b[0;34m\u001b[0m\u001b[0;34m\u001b[0m\u001b[0m\n\u001b[0;32m----> 2\u001b[0;31m \u001b[0mcost\u001b[0m \u001b[0;34m=\u001b[0m \u001b[0mtorch\u001b[0m\u001b[0;34m.\u001b[0m\u001b[0mfunctional\u001b[0m\u001b[0;34m.\u001b[0m\u001b[0mmse_loss\u001b[0m\u001b[0;34m(\u001b[0m\u001b[0;34m)\u001b[0m\u001b[0;34m\u001b[0m\u001b[0;34m\u001b[0m\u001b[0m\n\u001b[0m",
            "\u001b[0;31mAttributeError\u001b[0m: module 'torch.functional' has no attribute 'mse_loss'"
          ]
        }
      ]
    },
    {
      "cell_type": "code",
      "source": [
        "x_train = torch.FloatTensor([[1],[2],[3]])\n",
        "y_train = torch.FloatTensor([[2],[4],[6]])"
      ],
      "metadata": {
        "id": "8_onXbyx4HIn"
      },
      "execution_count": null,
      "outputs": []
    },
    {
      "cell_type": "code",
      "source": [
        "model = torch.nn.Linear(1, 1)"
      ],
      "metadata": {
        "id": "kzgGg8zw4W3S"
      },
      "execution_count": null,
      "outputs": []
    },
    {
      "cell_type": "code",
      "source": [
        "optimizer = torch.optim.SGD(model.parameters(), lr = 0.01)"
      ],
      "metadata": {
        "id": "OVleux0y4uT1"
      },
      "execution_count": null,
      "outputs": []
    },
    {
      "cell_type": "code",
      "source": [
        "epochs = 2000\n",
        "for epoch in range(epochs):\n",
        "    pre = model(x_train)\n",
        "    cost = torch.nn.functional.mse_loss(pre, y_train)\n",
        "    optimizer.zero_grad()\n",
        "    cost.backward()\n",
        "    optimizer.step()\n",
        "    if epoch % 100 == 0:\n",
        "        print(f'epoch : {epoch}/{epochs}, cost : {cost:.6f}')"
      ],
      "metadata": {
        "colab": {
          "base_uri": "https://localhost:8080/"
        },
        "id": "tckWGr455U5u",
        "outputId": "9e0ba289-32c4-4c8a-f868-307fd06b4234"
      },
      "execution_count": null,
      "outputs": [
        {
          "output_type": "stream",
          "name": "stdout",
          "text": [
            "epoch : 0/2000, cost : 9.631135\n",
            "epoch : 100/2000, cost : 0.031815\n",
            "epoch : 200/2000, cost : 0.019659\n",
            "epoch : 300/2000, cost : 0.012148\n",
            "epoch : 400/2000, cost : 0.007507\n",
            "epoch : 500/2000, cost : 0.004639\n",
            "epoch : 600/2000, cost : 0.002867\n",
            "epoch : 700/2000, cost : 0.001771\n",
            "epoch : 800/2000, cost : 0.001095\n",
            "epoch : 900/2000, cost : 0.000676\n",
            "epoch : 1000/2000, cost : 0.000418\n",
            "epoch : 1100/2000, cost : 0.000258\n",
            "epoch : 1200/2000, cost : 0.000160\n",
            "epoch : 1300/2000, cost : 0.000099\n",
            "epoch : 1400/2000, cost : 0.000061\n",
            "epoch : 1500/2000, cost : 0.000038\n",
            "epoch : 1600/2000, cost : 0.000023\n",
            "epoch : 1700/2000, cost : 0.000014\n",
            "epoch : 1800/2000, cost : 0.000009\n",
            "epoch : 1900/2000, cost : 0.000005\n"
          ]
        }
      ]
    },
    {
      "cell_type": "code",
      "source": [
        "var = torch.FloatTensor([[4]])\n",
        "model(var)"
      ],
      "metadata": {
        "colab": {
          "base_uri": "https://localhost:8080/"
        },
        "id": "-Sz9mWxK6QVH",
        "outputId": "eb7549c0-c6da-4de4-f921-bb548ad9dfd4"
      },
      "execution_count": null,
      "outputs": [
        {
          "output_type": "execute_result",
          "data": {
            "text/plain": [
              "tensor([[7.9963]], grad_fn=<AddmmBackward0>)"
            ]
          },
          "metadata": {},
          "execution_count": 157
        }
      ]
    },
    {
      "cell_type": "code",
      "source": [
        "list(model.parameters())"
      ],
      "metadata": {
        "colab": {
          "base_uri": "https://localhost:8080/"
        },
        "id": "nvzht-EL6dal",
        "outputId": "4dee2755-07d8-417d-cbf4-bd56f56c34c6"
      },
      "execution_count": null,
      "outputs": [
        {
          "output_type": "execute_result",
          "data": {
            "text/plain": [
              "[Parameter containing:\n",
              " tensor([[1.9979]], requires_grad=True), Parameter containing:\n",
              " tensor([0.0049], requires_grad=True)]"
            ]
          },
          "metadata": {},
          "execution_count": 158
        }
      ]
    },
    {
      "cell_type": "code",
      "source": [
        "x_train = torch.FloatTensor([[73, 80, 75],\n",
        "                             [93, 88, 93],\n",
        "                             [89, 91, 90],\n",
        "                             [96, 98, 100],\n",
        "                             [73, 66, 70]])\n",
        "y_train = torch.FloatTensor([[152], [185], [180], [196], [142]])"
      ],
      "metadata": {
        "id": "a98ck1t_-YK9"
      },
      "execution_count": null,
      "outputs": []
    },
    {
      "cell_type": "code",
      "source": [
        "model = torch.nn.Linear(3,1)"
      ],
      "metadata": {
        "id": "ON3zGmaB-Y3T"
      },
      "execution_count": null,
      "outputs": []
    },
    {
      "cell_type": "code",
      "source": [
        "optimizer = torch.optim.SGD(model.parameters(),lr=1e-5)"
      ],
      "metadata": {
        "id": "i54jVQOl-lnR"
      },
      "execution_count": null,
      "outputs": []
    },
    {
      "cell_type": "code",
      "source": [
        "epochs = 1000\n",
        "for epoch in range(epochs):\n",
        "    pre = model(x_train)\n",
        "    cost = torch.nn.functional.mse_loss(y_train, pre)\n",
        "    optimizer.zero_grad()\n",
        "    cost.backward()\n",
        "    optimizer.step()\n",
        "    if epoch % 100 == 0:\n",
        "        print(f'epoch : {epoch}/{epochs}, cost : {cost:.6f}')"
      ],
      "metadata": {
        "colab": {
          "base_uri": "https://localhost:8080/"
        },
        "id": "a1p8oV4E-iYn",
        "outputId": "470672ce-386e-4e21-c2de-c9be1c874f0c"
      },
      "execution_count": null,
      "outputs": [
        {
          "output_type": "stream",
          "name": "stdout",
          "text": [
            "epoch : 0/1000, cost : 31402.947266\n",
            "epoch : 100/1000, cost : 6.015189\n",
            "epoch : 200/1000, cost : 5.705954\n",
            "epoch : 300/1000, cost : 5.413043\n",
            "epoch : 400/1000, cost : 5.135574\n",
            "epoch : 500/1000, cost : 4.872722\n",
            "epoch : 600/1000, cost : 4.623765\n",
            "epoch : 700/1000, cost : 4.387917\n",
            "epoch : 800/1000, cost : 4.164495\n",
            "epoch : 900/1000, cost : 3.952893\n"
          ]
        }
      ]
    },
    {
      "cell_type": "code",
      "source": [
        "list(model.parameters())"
      ],
      "metadata": {
        "colab": {
          "base_uri": "https://localhost:8080/"
        },
        "id": "VoGHcnNA_tox",
        "outputId": "1731e1c6-693c-4ccb-daf2-a52d3f46df36"
      },
      "execution_count": null,
      "outputs": [
        {
          "output_type": "execute_result",
          "data": {
            "text/plain": [
              "[Parameter containing:\n",
              " tensor([[0.6907, 0.9015, 0.4155]], requires_grad=True), Parameter containing:\n",
              " tensor([0.5477], requires_grad=True)]"
            ]
          },
          "metadata": {},
          "execution_count": 163
        }
      ]
    },
    {
      "cell_type": "code",
      "source": [
        "new_var =  torch.FloatTensor([[73, 80, 75]]) \n",
        "model(new_var)"
      ],
      "metadata": {
        "colab": {
          "base_uri": "https://localhost:8080/"
        },
        "id": "oxWUEi3U_5x6",
        "outputId": "4e20e8e6-892f-4743-cc0b-c4439a1f88af"
      },
      "execution_count": null,
      "outputs": [
        {
          "output_type": "execute_result",
          "data": {
            "text/plain": [
              "tensor([[154.2513]], grad_fn=<AddmmBackward0>)"
            ]
          },
          "metadata": {},
          "execution_count": 164
        }
      ]
    },
    {
      "cell_type": "code",
      "source": [
        "class linearmodel(torch.nn.Module):\n",
        "    def __init__(self):\n",
        "        super().__init__()\n",
        "        self.linear = torch.nn.Linear(1,1)\n",
        "    def forward(self,x):\n",
        "        y = self.linear(x)\n",
        "        return y"
      ],
      "metadata": {
        "id": "4hcyLDzIBq4L"
      },
      "execution_count": null,
      "outputs": []
    },
    {
      "cell_type": "code",
      "source": [
        "mdoel = linearmodel()"
      ],
      "metadata": {
        "id": "NZnC-6_RCa0m"
      },
      "execution_count": null,
      "outputs": []
    },
    {
      "cell_type": "code",
      "source": [
        "x = torch.FloatTensor([[3]])"
      ],
      "metadata": {
        "id": "wVcClD1dCj4I"
      },
      "execution_count": null,
      "outputs": []
    },
    {
      "cell_type": "code",
      "source": [
        "class mullinear(torch.nn.Module):\n",
        "    def __init__(self):\n",
        "        super().__init__()\n",
        "        self.linear = torch.nn.Linear(1,1)\n",
        "    def forward(self, x):\n",
        "        return self.linear(x)"
      ],
      "metadata": {
        "id": "j17c9PczDwxa"
      },
      "execution_count": null,
      "outputs": []
    },
    {
      "cell_type": "code",
      "source": [
        "model = mullinear()"
      ],
      "metadata": {
        "id": "wiGXX0D-EoJK"
      },
      "execution_count": null,
      "outputs": []
    },
    {
      "cell_type": "code",
      "source": [
        "x_train = torch.FloatTensor([[1], [2], [3]])\n",
        "y_train = torch.FloatTensor([[2], [4], [6]])"
      ],
      "metadata": {
        "id": "8ogleLxBFF-p"
      },
      "execution_count": null,
      "outputs": []
    },
    {
      "cell_type": "code",
      "source": [
        "optimizer = torch.optim.SGD(model.parameters(), lr = 1e-2)\n",
        "epochs = 2000\n",
        "for epoch in range(epochs):\n",
        "    pre = model(x_train)\n",
        "    cost = torch.nn.functional.mse_loss(y_train, pre)\n",
        "    optimizer.zero_grad()\n",
        "    cost.backward()\n",
        "    optimizer.step()\n",
        "    if epochs % 100 == 0:\n",
        "        print(f'epoch : {epoch}/{epochs}, loss : {cost.item():.3f}')\n"
      ],
      "metadata": {
        "id": "xzslgGivEZ41"
      },
      "execution_count": null,
      "outputs": []
    },
    {
      "cell_type": "code",
      "source": [
        "val = torch.FloatTensor([[3]])\n",
        "model(val)"
      ],
      "metadata": {
        "colab": {
          "base_uri": "https://localhost:8080/"
        },
        "id": "QCbeNZvPGRLz",
        "outputId": "30958aa1-e339-4777-9193-f05795630901"
      },
      "execution_count": null,
      "outputs": [
        {
          "output_type": "execute_result",
          "data": {
            "text/plain": [
              "tensor([[5.9994]], grad_fn=<AddmmBackward0>)"
            ]
          },
          "metadata": {},
          "execution_count": 189
        }
      ]
    },
    {
      "cell_type": "code",
      "source": [
        "class multilinear(torch.nn.Module):\n",
        "    def __init__(self):\n",
        "        super().__init__()\n",
        "        self.linear = torch.nn.Linear(3,1)\n",
        "    def forward(self, x):\n",
        "        return self.linear(x)"
      ],
      "metadata": {
        "id": "Iaw1fMRlHL_o"
      },
      "execution_count": null,
      "outputs": []
    },
    {
      "cell_type": "code",
      "source": [
        "x_train = torch.FloatTensor([[73, 80, 75],\n",
        "                             [93, 88, 93],\n",
        "                             [89, 91, 90],\n",
        "                             [96, 98, 100],\n",
        "                             [73, 66, 70]])\n",
        "y_train = torch.FloatTensor([[152], [185], [180], [196], [142]])"
      ],
      "metadata": {
        "id": "-55_yO5PJQJU"
      },
      "execution_count": null,
      "outputs": []
    },
    {
      "cell_type": "code",
      "source": [
        "model = multilinear()\n",
        "optimizer = torch.optim.SGD(model.parameters(), lr = 1e-5)\n",
        "epochs = 2000\n",
        "for epoch in range(epochs):\n",
        "    pre = model(x_train)\n",
        "    loss = torch.nn.functional.mse_loss(y_train, pre)\n",
        "    optimizer.zero_grad()\n",
        "    loss.backward()\n",
        "    optimizer.step()\n",
        "    if epoch % 100 ==0:\n",
        "        print(f'epoch : {epoch}/{epochs}, loss : {loss.item():.3f}')"
      ],
      "metadata": {
        "colab": {
          "base_uri": "https://localhost:8080/"
        },
        "id": "sgtOIWrZHu3s",
        "outputId": "b7152154-7ef2-4a41-b647-463ae04eef7c"
      },
      "execution_count": null,
      "outputs": [
        {
          "output_type": "stream",
          "name": "stdout",
          "text": [
            "epoch : 0/2000, loss : 81734.734\n",
            "epoch : 100/2000, loss : 1.884\n",
            "epoch : 200/2000, loss : 1.795\n",
            "epoch : 300/2000, loss : 1.712\n",
            "epoch : 400/2000, loss : 1.632\n",
            "epoch : 500/2000, loss : 1.557\n",
            "epoch : 600/2000, loss : 1.486\n",
            "epoch : 700/2000, loss : 1.419\n",
            "epoch : 800/2000, loss : 1.355\n",
            "epoch : 900/2000, loss : 1.294\n",
            "epoch : 1000/2000, loss : 1.237\n",
            "epoch : 1100/2000, loss : 1.182\n",
            "epoch : 1200/2000, loss : 1.131\n",
            "epoch : 1300/2000, loss : 1.082\n",
            "epoch : 1400/2000, loss : 1.036\n",
            "epoch : 1500/2000, loss : 0.992\n",
            "epoch : 1600/2000, loss : 0.950\n",
            "epoch : 1700/2000, loss : 0.911\n",
            "epoch : 1800/2000, loss : 0.874\n",
            "epoch : 1900/2000, loss : 0.838\n"
          ]
        }
      ]
    },
    {
      "cell_type": "code",
      "source": [
        "list(model.parameters())"
      ],
      "metadata": {
        "colab": {
          "base_uri": "https://localhost:8080/"
        },
        "id": "dvYeUVqOJVmE",
        "outputId": "3422ada9-8190-4c55-902e-ebceef4b09f1"
      },
      "execution_count": null,
      "outputs": [
        {
          "output_type": "execute_result",
          "data": {
            "text/plain": [
              "[Parameter containing:\n",
              " tensor([[0.8032, 0.6268, 0.5788]], requires_grad=True), Parameter containing:\n",
              " tensor([0.2655], requires_grad=True)]"
            ]
          },
          "metadata": {},
          "execution_count": 206
        }
      ]
    },
    {
      "cell_type": "code",
      "source": [
        "x_train  =  torch.FloatTensor([[73,  80,  75], \n",
        "                               [93,  88,  93], \n",
        "                               [89,  91,  90], \n",
        "                               [96,  98,  100],   \n",
        "                               [73,  66,  70]])  \n",
        "y_train  =  torch.FloatTensor([[152],  [185],  [180],  [196],  [142]])"
      ],
      "metadata": {
        "id": "Iqj4kLrrMZcq"
      },
      "execution_count": null,
      "outputs": []
    },
    {
      "cell_type": "code",
      "source": [
        "dataset = torch.utils.data.TensorDataset(x_train, y_train)"
      ],
      "metadata": {
        "id": "iHwj1b8SMcmP"
      },
      "execution_count": null,
      "outputs": []
    },
    {
      "cell_type": "code",
      "source": [
        "dataloder = torch.utils.data.DataLoader(dataset, batch_size=2, shuffle=True)"
      ],
      "metadata": {
        "id": "MIWQhd8qOuF7"
      },
      "execution_count": null,
      "outputs": []
    },
    {
      "cell_type": "code",
      "source": [
        "model = torch.nn.Linear(3,1)\n",
        "optimizer = torch.optim.SGD(model.parameters(), lr = 1e-5)\n",
        "epochs = 2000\n",
        "for epoch in range(epochs):\n",
        "    for i, j in enumerate(dataloder):\n",
        "        x_train, y_train = j\n",
        "        pre = model(x_train)\n",
        "        loss = torch.nn.functional.mse_loss(y_train, pre)\n",
        "        optimizer.zero_grad()\n",
        "        loss.backward()\n",
        "        optimizer.step()\n",
        "        if epoch % 100 == 0:\n",
        "            print(f'epoch : {epoch}/{epochs}, batch : {i+1}/{len(dataloder)}, loss : {loss.item():.3f}')"
      ],
      "metadata": {
        "id": "q3B18GN8Q8iX"
      },
      "execution_count": null,
      "outputs": []
    },
    {
      "cell_type": "code",
      "source": [
        "optimizer = torch.optim.SGD()"
      ],
      "metadata": {
        "colab": {
          "base_uri": "https://localhost:8080/"
        },
        "id": "a4uO-JNBPI5N",
        "outputId": "6d3def47-0688-4cae-901e-812cb46c8b8f"
      },
      "execution_count": null,
      "outputs": [
        {
          "output_type": "stream",
          "name": "stdout",
          "text": [
            "[tensor([[89., 91., 90.],\n",
            "        [93., 88., 93.]]), tensor([[180.],\n",
            "        [185.]])]\n",
            "[tensor([[ 96.,  98., 100.],\n",
            "        [ 73.,  66.,  70.]]), tensor([[196.],\n",
            "        [142.]])]\n",
            "[tensor([[73., 80., 75.]]), tensor([[152.]])]\n"
          ]
        }
      ]
    },
    {
      "cell_type": "code",
      "source": [
        "class customdataset(torch.utils.data.Dataset):\n",
        "    def __init__(self):\n",
        "        self.x_train = torch.FloatTensor([[73,  80,  75], \n",
        "                               [93,  88,  93], \n",
        "                               [89,  91,  90], \n",
        "                               [96,  98,  100],   \n",
        "                               [73,  66,  70]])\n",
        "        self.y_train = torch.FloatTensor([[152],  [185],  [180],  [196],  [142]])\n",
        "    def __version__(self):\n",
        "        return '2.44'\n",
        "    def __len__(self):\n",
        "        return len(self.x_train)\n",
        "    def __getitem__(self, idx):\n",
        "        x = torch.FloatTensor(self.x_train[idx])\n",
        "        y = torch.FloatTensor(self.y_train[idx])\n",
        "        return x, y\n"
      ],
      "metadata": {
        "id": "o2pXdW-XV1QP"
      },
      "execution_count": null,
      "outputs": []
    },
    {
      "cell_type": "code",
      "source": [
        "datasets = customdataset()\n",
        "len(datasets)"
      ],
      "metadata": {
        "colab": {
          "base_uri": "https://localhost:8080/"
        },
        "id": "nyw-UPSsXCEr",
        "outputId": "1fec4e3e-cd1d-4fbc-d201-d116f6ddbd03"
      },
      "execution_count": null,
      "outputs": [
        {
          "output_type": "execute_result",
          "data": {
            "text/plain": [
              "5"
            ]
          },
          "metadata": {},
          "execution_count": 234
        }
      ]
    },
    {
      "cell_type": "code",
      "source": [
        "dataloder = torch.utils.data.DataLoader(datasets, batch_size=2, shuffle=True)\n",
        "for i in dataloder:\n",
        "    print(i)"
      ],
      "metadata": {
        "colab": {
          "base_uri": "https://localhost:8080/"
        },
        "id": "XKy0B7RcZFan",
        "outputId": "bf2fb50b-cc5f-4ad0-b606-716cb5f19ae0"
      },
      "execution_count": null,
      "outputs": [
        {
          "output_type": "stream",
          "name": "stdout",
          "text": [
            "[tensor([[73., 80., 75.],\n",
            "        [73., 66., 70.]]), tensor([[152.],\n",
            "        [142.]])]\n",
            "[tensor([[ 96.,  98., 100.],\n",
            "        [ 89.,  91.,  90.]]), tensor([[196.],\n",
            "        [180.]])]\n",
            "[tensor([[93., 88., 93.]]), tensor([[185.]])]\n"
          ]
        }
      ]
    },
    {
      "cell_type": "code",
      "source": [
        "import numpy as np\n",
        "def sigmoid(x):\n",
        "    return 1/(1+np.exp(-x))"
      ],
      "metadata": {
        "colab": {
          "base_uri": "https://localhost:8080/"
        },
        "id": "V-uQbvb7bvFm",
        "outputId": "75fd20c8-721c-48d5-c484-7136ad9e2da5"
      },
      "execution_count": null,
      "outputs": [
        {
          "output_type": "execute_result",
          "data": {
            "text/plain": [
              "0.6681877721681662"
            ]
          },
          "metadata": {},
          "execution_count": 239
        }
      ]
    },
    {
      "cell_type": "code",
      "source": [
        "import matplotlib.pyplot as plt\n",
        "x = np.arange(-5,5,0.1)\n",
        "plt.plot(x, sigmoid(x))\n",
        "plt.plot([-5,5],[0.5,0.5])\n",
        "plt.grid(True)\n",
        "plt.show()"
      ],
      "metadata": {
        "colab": {
          "base_uri": "https://localhost:8080/",
          "height": 265
        },
        "id": "lKv21umpci7_",
        "outputId": "aa532957-d4a9-4f00-a891-a487c414649c"
      },
      "execution_count": null,
      "outputs": [
        {
          "output_type": "display_data",
          "data": {
            "text/plain": [
              "<Figure size 432x288 with 1 Axes>"
            ],
            "image/png": "[encoded data removed]"
          },
          "metadata": {
            "needs_background": "light"
          }
        }
      ]
    },
    {
      "cell_type": "code",
      "source": [
        "x_train = torch.FloatTensor([[1, 2], [2, 3], [3, 1], [4, 3], [5, 3], [6, 2]])\n",
        "y_train = torch.FloatTensor([[0], [0], [0], [1], [1], [1]])\n",
        "w = torch.zeros((2,1), requires_grad=True)\n",
        "b = torch.zeros(1, requires_grad=True)"
      ],
      "metadata": {
        "id": "lMzGuE4GgQjJ"
      },
      "execution_count": null,
      "outputs": []
    },
    {
      "cell_type": "code",
      "source": [
        "pre = 1/(1+torch.exp(-(x_train.matmul(w)+b)))\n",
        "pre"
      ],
      "metadata": {
        "colab": {
          "base_uri": "https://localhost:8080/"
        },
        "id": "h0QlIvRNg5mJ",
        "outputId": "49a42594-268a-4a54-deb8-924892a22b9d"
      },
      "execution_count": null,
      "outputs": [
        {
          "output_type": "execute_result",
          "data": {
            "text/plain": [
              "tensor([[0.5000],\n",
              "        [0.5000],\n",
              "        [0.5000],\n",
              "        [0.5000],\n",
              "        [0.5000],\n",
              "        [0.5000]], grad_fn=<MulBackward0>)"
            ]
          },
          "metadata": {},
          "execution_count": 259
        }
      ]
    },
    {
      "cell_type": "code",
      "source": [
        "optimizer = torch.optim.SGD([w,b], lr=1)"
      ],
      "metadata": {
        "id": "sJcqgITUivPj"
      },
      "execution_count": null,
      "outputs": []
    },
    {
      "cell_type": "code",
      "source": [
        "epochs = 1000\n",
        "for epoch in range(epochs):\n",
        "    pre = torch.sigmoid(x_train.matmul(w)+b)\n",
        "    loss = torch.nn.functional.binary_cross_entropy(pre, y_train)\n",
        "    # .binary_cross_entropy(hypothesis, y_train)\n",
        "    # loss = -(y_train * torch.log(pre) + \n",
        "    #          (1 - y_train) * torch.log(1 - pre)).mean()\n",
        "    optimizer.zero_grad()\n",
        "    loss.backward()\n",
        "    optimizer.step()\n",
        "    if epoch % 100 ==0:\n",
        "        print(f'epoch : {epoch}/{epochs}, loss : {loss.item():.3f}')"
      ],
      "metadata": {
        "colab": {
          "base_uri": "https://localhost:8080/"
        },
        "id": "sD2ozcDsjRKK",
        "outputId": "062f0582-e78c-4877-cced-f4e3ce340a87"
      },
      "execution_count": null,
      "outputs": [
        {
          "output_type": "stream",
          "name": "stdout",
          "text": [
            "epoch : 0/1000, loss : 0.693\n",
            "epoch : 100/1000, loss : 0.135\n",
            "epoch : 200/1000, loss : 0.081\n",
            "epoch : 300/1000, loss : 0.058\n",
            "epoch : 400/1000, loss : 0.045\n",
            "epoch : 500/1000, loss : 0.037\n",
            "epoch : 600/1000, loss : 0.032\n",
            "epoch : 700/1000, loss : 0.028\n",
            "epoch : 800/1000, loss : 0.024\n",
            "epoch : 900/1000, loss : 0.022\n"
          ]
        }
      ]
    },
    {
      "cell_type": "code",
      "source": [
        "pre"
      ],
      "metadata": {
        "colab": {
          "base_uri": "https://localhost:8080/"
        },
        "id": "r-rYYkTQl5hM",
        "outputId": "bb1fa88a-0844-41a4-f2d8-cccb651038d1"
      },
      "execution_count": null,
      "outputs": [
        {
          "output_type": "execute_result",
          "data": {
            "text/plain": [
              "tensor([[2.7775e-04],\n",
              "        [3.1664e-02],\n",
              "        [3.9050e-02],\n",
              "        [9.5614e-01],\n",
              "        [9.9823e-01],\n",
              "        [9.9969e-01]], grad_fn=<SigmoidBackward0>)"
            ]
          },
          "metadata": {},
          "execution_count": 284
        }
      ]
    },
    {
      "cell_type": "code",
      "source": [
        "x_train[3:,1],"
      ],
      "metadata": {
        "colab": {
          "base_uri": "https://localhost:8080/"
        },
        "id": "PplQeGkjmZgg",
        "outputId": "2dd9d8d6-28d6-469d-a48c-db96013ed470"
      },
      "execution_count": null,
      "outputs": [
        {
          "output_type": "execute_result",
          "data": {
            "text/plain": [
              "(tensor([3., 3., 2.]),)"
            ]
          },
          "metadata": {},
          "execution_count": 291
        }
      ]
    },
    {
      "cell_type": "code",
      "source": [
        "plt.scatter(x_train[:3,0], x_train[:3,1])\n",
        "plt.scatter(x_train[3:,0], x_train[3:,1],c='r')\n",
        "plt.show()"
      ],
      "metadata": {
        "colab": {
          "base_uri": "https://localhost:8080/",
          "height": 265
        },
        "id": "hPlgyPRjmSJj",
        "outputId": "a1cb7dc9-5663-4564-de0b-52a26215950a"
      },
      "execution_count": null,
      "outputs": [
        {
          "output_type": "display_data",
          "data": {
            "text/plain": [
              "<Figure size 432x288 with 1 Axes>"
            ],
            "image/png": "[encoded data removed]"
          },
          "metadata": {
            "needs_background": "light"
          }
        }
      ]
    },
    {
      "cell_type": "code",
      "source": [
        "model = torch.nn.Sequential(\n",
        "    torch.nn.Linear(2,1),\n",
        "    torch.nn.Sigmoid()\n",
        ")"
      ],
      "metadata": {
        "id": "14YihrF3ncvr"
      },
      "execution_count": null,
      "outputs": []
    },
    {
      "cell_type": "code",
      "source": [
        "optimizer = torch.optim.SGD(model.parameters(), lr=1)"
      ],
      "metadata": {
        "id": "8NJpSANXsPHs"
      },
      "execution_count": null,
      "outputs": []
    },
    {
      "cell_type": "code",
      "source": [
        "epochs = 1000\n",
        "for epoch in range(epochs):\n",
        "    pre = model(x_train)\n",
        "    loss = torch.nn.functional.binary_cross_entropy(pre, y_train)\n",
        "    # .binary_cross_entropy(hypothesis, y_train)\n",
        "    # loss = -(y_train * torch.log(pre) + \n",
        "    #          (1 - y_train) * torch.log(1 - pre)).mean()\n",
        "    optimizer.zero_grad()\n",
        "    loss.backward()\n",
        "    optimizer.step()\n",
        "    if epoch % 20 ==0:\n",
        "        pree = pre >= torch.FloatTensor([[0.5]])\n",
        "        acc = pree.float() == y_train\n",
        "        accuracy = acc.sum().item()/len(y_train)\n",
        "        print(f'epoch : {epoch}/{epochs}, loss : {loss.item():.3f}, accuracy : {accuracy}')"
      ],
      "metadata": {
        "colab": {
          "base_uri": "https://localhost:8080/"
        },
        "id": "fcDYofYHr11E",
        "outputId": "d5ff488d-6bdd-4bad-9d04-1a375556a5b8"
      },
      "execution_count": null,
      "outputs": [
        {
          "output_type": "stream",
          "name": "stdout",
          "text": [
            "epoch : 0/1000, loss : 0.868, accuracy : 0.5\n",
            "epoch : 20/1000, loss : 0.572, accuracy : 0.8333333333333334\n",
            "epoch : 40/1000, loss : 0.386, accuracy : 0.8333333333333334\n",
            "epoch : 60/1000, loss : 0.234, accuracy : 0.8333333333333334\n",
            "epoch : 80/1000, loss : 0.155, accuracy : 1.0\n",
            "epoch : 100/1000, loss : 0.133, accuracy : 1.0\n",
            "epoch : 120/1000, loss : 0.117, accuracy : 1.0\n",
            "epoch : 140/1000, loss : 0.105, accuracy : 1.0\n",
            "epoch : 160/1000, loss : 0.095, accuracy : 1.0\n",
            "epoch : 180/1000, loss : 0.087, accuracy : 1.0\n",
            "epoch : 200/1000, loss : 0.080, accuracy : 1.0\n",
            "epoch : 220/1000, loss : 0.074, accuracy : 1.0\n",
            "epoch : 240/1000, loss : 0.069, accuracy : 1.0\n",
            "epoch : 260/1000, loss : 0.065, accuracy : 1.0\n",
            "epoch : 280/1000, loss : 0.061, accuracy : 1.0\n",
            "epoch : 300/1000, loss : 0.058, accuracy : 1.0\n",
            "epoch : 320/1000, loss : 0.055, accuracy : 1.0\n",
            "epoch : 340/1000, loss : 0.052, accuracy : 1.0\n",
            "epoch : 360/1000, loss : 0.049, accuracy : 1.0\n",
            "epoch : 380/1000, loss : 0.047, accuracy : 1.0\n",
            "epoch : 400/1000, loss : 0.045, accuracy : 1.0\n",
            "epoch : 420/1000, loss : 0.043, accuracy : 1.0\n",
            "epoch : 440/1000, loss : 0.042, accuracy : 1.0\n",
            "epoch : 460/1000, loss : 0.040, accuracy : 1.0\n",
            "epoch : 480/1000, loss : 0.039, accuracy : 1.0\n",
            "epoch : 500/1000, loss : 0.037, accuracy : 1.0\n",
            "epoch : 520/1000, loss : 0.036, accuracy : 1.0\n",
            "epoch : 540/1000, loss : 0.035, accuracy : 1.0\n",
            "epoch : 560/1000, loss : 0.034, accuracy : 1.0\n",
            "epoch : 580/1000, loss : 0.033, accuracy : 1.0\n",
            "epoch : 600/1000, loss : 0.032, accuracy : 1.0\n",
            "epoch : 620/1000, loss : 0.031, accuracy : 1.0\n",
            "epoch : 640/1000, loss : 0.030, accuracy : 1.0\n",
            "epoch : 660/1000, loss : 0.029, accuracy : 1.0\n",
            "epoch : 680/1000, loss : 0.028, accuracy : 1.0\n",
            "epoch : 700/1000, loss : 0.027, accuracy : 1.0\n",
            "epoch : 720/1000, loss : 0.027, accuracy : 1.0\n",
            "epoch : 740/1000, loss : 0.026, accuracy : 1.0\n",
            "epoch : 760/1000, loss : 0.026, accuracy : 1.0\n",
            "epoch : 780/1000, loss : 0.025, accuracy : 1.0\n",
            "epoch : 800/1000, loss : 0.024, accuracy : 1.0\n",
            "epoch : 820/1000, loss : 0.024, accuracy : 1.0\n",
            "epoch : 840/1000, loss : 0.023, accuracy : 1.0\n",
            "epoch : 860/1000, loss : 0.023, accuracy : 1.0\n",
            "epoch : 880/1000, loss : 0.022, accuracy : 1.0\n",
            "epoch : 900/1000, loss : 0.022, accuracy : 1.0\n",
            "epoch : 920/1000, loss : 0.021, accuracy : 1.0\n",
            "epoch : 940/1000, loss : 0.021, accuracy : 1.0\n",
            "epoch : 960/1000, loss : 0.021, accuracy : 1.0\n",
            "epoch : 980/1000, loss : 0.020, accuracy : 1.0\n"
          ]
        }
      ]
    },
    {
      "cell_type": "code",
      "source": [
        "class binaryclass(torch.nn.Module):\n",
        "    def __init__(self):\n",
        "        super().__init__()\n",
        "        self.linear = torch.nn.Linear(2,1)\n",
        "        self.sig = torch.nn.Sigmoid()\n",
        "    def forward(self,x):\n",
        "        return self.sig(self.linear(x))\n",
        "\n",
        "model = binaryclass()"
      ],
      "metadata": {
        "id": "f0HFLebLrBDe"
      },
      "execution_count": null,
      "outputs": []
    },
    {
      "cell_type": "code",
      "source": [
        "optimizer = torch.optim.SGD(model.parameters(), lr=1)"
      ],
      "metadata": {
        "id": "xjutpQS6xHhe"
      },
      "execution_count": null,
      "outputs": []
    },
    {
      "cell_type": "code",
      "source": [
        "epochs = 1000\n",
        "for epoch in range(epochs):\n",
        "    pre = model(x_train)\n",
        "    loss = torch.nn.functional.binary_cross_entropy(pre, y_train)\n",
        "    optimizer.zero_grad()\n",
        "    loss.backward()\n",
        "    optimizer.step()\n",
        "    if epoch % 20 == 0:\n",
        "        pree = pre >= torch.FloatTensor([[0.5]])\n",
        "        acc = ((pree == y_train).sum() / len(pre))*100\n",
        "        print(f'epoch : {epoch}/{epochs}, loss : {loss:.3f}, accuracy : {acc}%')"
      ],
      "metadata": {
        "colab": {
          "base_uri": "https://localhost:8080/"
        },
        "id": "q02L4cX2xZJb",
        "outputId": "b1fcf540-7f3b-4e74-980d-65f34a502a0f"
      },
      "execution_count": null,
      "outputs": [
        {
          "output_type": "stream",
          "name": "stdout",
          "text": [
            "epoch : 0/1000, loss : 0.786, accuracy : 50.0%\n",
            "epoch : 20/1000, loss : 0.598, accuracy : 83.33332824707031%\n",
            "epoch : 40/1000, loss : 0.396, accuracy : 83.33332824707031%\n",
            "epoch : 60/1000, loss : 0.241, accuracy : 83.33332824707031%\n",
            "epoch : 80/1000, loss : 0.157, accuracy : 100.0%\n",
            "epoch : 100/1000, loss : 0.134, accuracy : 100.0%\n",
            "epoch : 120/1000, loss : 0.118, accuracy : 100.0%\n",
            "epoch : 140/1000, loss : 0.106, accuracy : 100.0%\n",
            "epoch : 160/1000, loss : 0.096, accuracy : 100.0%\n",
            "epoch : 180/1000, loss : 0.087, accuracy : 100.0%\n",
            "epoch : 200/1000, loss : 0.080, accuracy : 100.0%\n",
            "epoch : 220/1000, loss : 0.075, accuracy : 100.0%\n",
            "epoch : 240/1000, loss : 0.069, accuracy : 100.0%\n",
            "epoch : 260/1000, loss : 0.065, accuracy : 100.0%\n",
            "epoch : 280/1000, loss : 0.061, accuracy : 100.0%\n",
            "epoch : 300/1000, loss : 0.058, accuracy : 100.0%\n",
            "epoch : 320/1000, loss : 0.055, accuracy : 100.0%\n",
            "epoch : 340/1000, loss : 0.052, accuracy : 100.0%\n",
            "epoch : 360/1000, loss : 0.050, accuracy : 100.0%\n",
            "epoch : 380/1000, loss : 0.047, accuracy : 100.0%\n",
            "epoch : 400/1000, loss : 0.045, accuracy : 100.0%\n",
            "epoch : 420/1000, loss : 0.043, accuracy : 100.0%\n",
            "epoch : 440/1000, loss : 0.042, accuracy : 100.0%\n",
            "epoch : 460/1000, loss : 0.040, accuracy : 100.0%\n",
            "epoch : 480/1000, loss : 0.039, accuracy : 100.0%\n",
            "epoch : 500/1000, loss : 0.037, accuracy : 100.0%\n",
            "epoch : 520/1000, loss : 0.036, accuracy : 100.0%\n",
            "epoch : 540/1000, loss : 0.035, accuracy : 100.0%\n",
            "epoch : 560/1000, loss : 0.034, accuracy : 100.0%\n",
            "epoch : 580/1000, loss : 0.033, accuracy : 100.0%\n",
            "epoch : 600/1000, loss : 0.032, accuracy : 100.0%\n",
            "epoch : 620/1000, loss : 0.031, accuracy : 100.0%\n",
            "epoch : 640/1000, loss : 0.030, accuracy : 100.0%\n",
            "epoch : 660/1000, loss : 0.029, accuracy : 100.0%\n",
            "epoch : 680/1000, loss : 0.028, accuracy : 100.0%\n",
            "epoch : 700/1000, loss : 0.028, accuracy : 100.0%\n",
            "epoch : 720/1000, loss : 0.027, accuracy : 100.0%\n",
            "epoch : 740/1000, loss : 0.026, accuracy : 100.0%\n",
            "epoch : 760/1000, loss : 0.026, accuracy : 100.0%\n",
            "epoch : 780/1000, loss : 0.025, accuracy : 100.0%\n",
            "epoch : 800/1000, loss : 0.024, accuracy : 100.0%\n",
            "epoch : 820/1000, loss : 0.024, accuracy : 100.0%\n",
            "epoch : 840/1000, loss : 0.023, accuracy : 100.0%\n",
            "epoch : 860/1000, loss : 0.023, accuracy : 100.0%\n",
            "epoch : 880/1000, loss : 0.022, accuracy : 100.0%\n",
            "epoch : 900/1000, loss : 0.022, accuracy : 100.0%\n",
            "epoch : 920/1000, loss : 0.021, accuracy : 100.0%\n",
            "epoch : 940/1000, loss : 0.021, accuracy : 100.0%\n",
            "epoch : 960/1000, loss : 0.021, accuracy : 100.0%\n",
            "epoch : 980/1000, loss : 0.020, accuracy : 100.0%\n"
          ]
        }
      ]
    },
    {
      "cell_type": "code",
      "source": [
        "f = np.random.randint(0,30,(3,30))"
      ],
      "metadata": {
        "id": "5rw_-BEO_OxN"
      },
      "execution_count": null,
      "outputs": []
    },
    {
      "cell_type": "code",
      "source": [
        "f"
      ],
      "metadata": {
        "colab": {
          "base_uri": "https://localhost:8080/"
        },
        "id": "Q2opAhC61LKs",
        "outputId": "dc47362f-4c80-43fb-eaf5-c534b1fcca96"
      },
      "execution_count": null,
      "outputs": [
        {
          "output_type": "execute_result",
          "data": {
            "text/plain": [
              "array([[19, 29,  3, 14, 29, 12, 10, 15,  1, 16,  9, 26, 29,  7,  5,  9,\n",
              "        21,  5,  1, 24, 25,  4, 20, 10,  6,  5, 20,  3, 10, 23],\n",
              "       [ 6, 13, 16,  5, 14,  5, 28, 24, 13, 26,  7,  1, 12,  2, 28, 27,\n",
              "         0,  8, 20, 11, 11,  3,  9, 20, 15, 26, 27, 28, 23,  2],\n",
              "       [22, 18, 14,  2,  8, 25,  2, 21, 11,  2, 28, 17,  2, 12, 28,  9,\n",
              "        21, 18,  5,  3, 20, 25, 15, 25, 22, 25, 13,  0,  3,  3]])"
            ]
          },
          "metadata": {},
          "execution_count": 366
        }
      ]
    },
    {
      "cell_type": "code",
      "source": [
        "def dsp(a,x):\n",
        "    print(f[a,x])\n",
        "    if f[a,x] == 21:\n",
        "        return 1\n",
        "    elif a == 2:\n",
        "        return\n",
        "    else:\n",
        "        return dsp(a+1,x)\n",
        "\n",
        "for i in range(f.shape[1]):\n",
        "    if dsp(0,i):\n",
        "        print(i+1)\n",
        "        break\n",
        "    if i == f.shape[1]-1:\n",
        "        print('out')\n"
      ],
      "metadata": {
        "colab": {
          "base_uri": "https://localhost:8080/"
        },
        "id": "Pp8On93573YO",
        "outputId": "15a0f640-6840-4e8a-92fd-ddf88608e759"
      },
      "execution_count": null,
      "outputs": [
        {
          "output_type": "stream",
          "name": "stdout",
          "text": [
            "19\n",
            "6\n",
            "22\n",
            "29\n",
            "13\n",
            "18\n",
            "3\n",
            "16\n",
            "14\n",
            "14\n",
            "5\n",
            "2\n",
            "29\n",
            "14\n",
            "8\n",
            "12\n",
            "5\n",
            "25\n",
            "10\n",
            "28\n",
            "2\n",
            "15\n",
            "24\n",
            "21\n",
            "8\n"
          ]
        }
      ]
    },
    {
      "cell_type": "code",
      "source": [
        "import torch"
      ],
      "metadata": {
        "id": "4xNBuYs3d81d"
      },
      "execution_count": 1,
      "outputs": []
    },
    {
      "cell_type": "code",
      "source": [
        "z = torch.FloatTensor([1,2,3])"
      ],
      "metadata": {
        "id": "HOjphfJud-iS"
      },
      "execution_count": 4,
      "outputs": []
    },
    {
      "cell_type": "code",
      "source": [
        "pre = torch.nn.functional.softmax(z, dim=0)"
      ],
      "metadata": {
        "id": "bz8gEc67eHEx"
      },
      "execution_count": 6,
      "outputs": []
    },
    {
      "cell_type": "code",
      "source": [
        "pre.sum()"
      ],
      "metadata": {
        "colab": {
          "base_uri": "https://localhost:8080/"
        },
        "id": "nTLuY6xzeTH7",
        "outputId": "c89915bc-d940-4855-aef9-02599d9c9766"
      },
      "execution_count": 8,
      "outputs": [
        {
          "output_type": "execute_result",
          "data": {
            "text/plain": [
              "tensor(1.)"
            ]
          },
          "metadata": {},
          "execution_count": 8
        }
      ]
    },
    {
      "cell_type": "code",
      "source": [
        "z = torch.rand(3,5,requires_grad=True)"
      ],
      "metadata": {
        "id": "2EOREUAKe0HE"
      },
      "execution_count": 9,
      "outputs": []
    },
    {
      "cell_type": "code",
      "source": [
        "pre = torch.nn.functional.softmax(z, dim=1)\n",
        "pre.sum(dim=1)"
      ],
      "metadata": {
        "colab": {
          "base_uri": "https://localhost:8080/"
        },
        "id": "xQhmNrd4fHtD",
        "outputId": "bdc74a38-df5e-474b-bb09-66eeb0a1a7a9"
      },
      "execution_count": 13,
      "outputs": [
        {
          "output_type": "execute_result",
          "data": {
            "text/plain": [
              "tensor([1.0000, 1.0000, 1.0000], grad_fn=<SumBackward1>)"
            ]
          },
          "metadata": {},
          "execution_count": 13
        }
      ]
    },
    {
      "cell_type": "code",
      "source": [
        "y = torch.randint(5,(3,))\n",
        "y"
      ],
      "metadata": {
        "colab": {
          "base_uri": "https://localhost:8080/"
        },
        "id": "8CeNPNVAfgsm",
        "outputId": "42c2e310-0204-4294-a76f-88c38f86b3a2"
      },
      "execution_count": 18,
      "outputs": [
        {
          "output_type": "execute_result",
          "data": {
            "text/plain": [
              "tensor([4, 1, 1])"
            ]
          },
          "metadata": {},
          "execution_count": 18
        }
      ]
    },
    {
      "cell_type": "code",
      "source": [
        "y_one_hot = torch.zeros_like(pre)\n",
        "y_one_hot = y_one_hot.scatter_(1, y.unsqueeze(1),1)\n",
        "y_one_hot"
      ],
      "metadata": {
        "colab": {
          "base_uri": "https://localhost:8080/"
        },
        "id": "BCTycy-AgNl7",
        "outputId": "c9734dc0-c642-40cf-edc5-1a21bbbd016d"
      },
      "execution_count": 21,
      "outputs": [
        {
          "output_type": "execute_result",
          "data": {
            "text/plain": [
              "tensor([[0., 0., 0., 0., 1.],\n",
              "        [0., 1., 0., 0., 0.],\n",
              "        [0., 1., 0., 0., 0.]])"
            ]
          },
          "metadata": {},
          "execution_count": 21
        }
      ]
    },
    {
      "cell_type": "code",
      "source": [
        "torch.nn.functional.log_softmax(z, dim=1)"
      ],
      "metadata": {
        "colab": {
          "base_uri": "https://localhost:8080/"
        },
        "id": "bhOq--6-iDDQ",
        "outputId": "94d84f1b-ae91-44ea-a8ff-d88adeea4c3f"
      },
      "execution_count": 23,
      "outputs": [
        {
          "output_type": "execute_result",
          "data": {
            "text/plain": [
              "tensor([[-1.3063, -1.7426, -1.6915, -1.6878, -1.6875],\n",
              "        [-1.5118, -1.9845, -1.1541, -1.7691, -1.8564],\n",
              "        [-1.5712, -1.6936, -1.9854, -1.6111, -1.3044]],\n",
              "       grad_fn=<LogSoftmaxBackward0>)"
            ]
          },
          "metadata": {},
          "execution_count": 23
        }
      ]
    },
    {
      "cell_type": "code",
      "source": [
        "torch.nn.functional.cross_entropy(z, y)"
      ],
      "metadata": {
        "colab": {
          "base_uri": "https://localhost:8080/"
        },
        "id": "DpJZ8ssfjiu9",
        "outputId": "1f4c5103-804e-4ec5-ca0a-be958000fdf7"
      },
      "execution_count": 25,
      "outputs": [
        {
          "output_type": "execute_result",
          "data": {
            "text/plain": [
              "tensor(1.7885, grad_fn=<NllLossBackward0>)"
            ]
          },
          "metadata": {},
          "execution_count": 25
        }
      ]
    },
    {
      "cell_type": "code",
      "source": [
        "x_train = [[1, 2, 1, 1],\n",
        "           [2, 1, 3, 2],\n",
        "           [3, 1, 3, 4],\n",
        "           [4, 1, 5, 5],\n",
        "           [1, 7, 5, 5],\n",
        "           [1, 2, 5, 6],\n",
        "           [1, 6, 6, 6],\n",
        "           [1, 7, 7, 7]]\n",
        "y_train = [2, 2, 2, 1, 1, 1, 0, 0]\n",
        "x_train = torch.FloatTensor(x_train)\n",
        "y_train = torch.LongTensor(y_train)"
      ],
      "metadata": {
        "id": "zqYeR9mQjyoU"
      },
      "execution_count": 26,
      "outputs": []
    },
    {
      "cell_type": "code",
      "source": [
        "torch.nn.functional.one_hot(y_train, 3)"
      ],
      "metadata": {
        "colab": {
          "base_uri": "https://localhost:8080/"
        },
        "id": "6a-kyYNsj2VF",
        "outputId": "bcca3f4f-1190-4ed0-cd0e-7f9ba8889f20"
      },
      "execution_count": 27,
      "outputs": [
        {
          "output_type": "execute_result",
          "data": {
            "text/plain": [
              "tensor([[0, 0, 1],\n",
              "        [0, 0, 1],\n",
              "        [0, 0, 1],\n",
              "        [0, 1, 0],\n",
              "        [0, 1, 0],\n",
              "        [0, 1, 0],\n",
              "        [1, 0, 0],\n",
              "        [1, 0, 0]])"
            ]
          },
          "metadata": {},
          "execution_count": 27
        }
      ]
    },
    {
      "cell_type": "code",
      "source": [
        "y_one_hot = torch.zeros(8,3)\n",
        "y_one_hot = y_one_hot.scatter(1,y_train.unsqueeze(1),1)\n",
        "y_one_hot"
      ],
      "metadata": {
        "colab": {
          "base_uri": "https://localhost:8080/"
        },
        "id": "yeMfSmXjko0G",
        "outputId": "74a3c7f8-e18f-4a71-829a-4b3953bce6df"
      },
      "execution_count": 29,
      "outputs": [
        {
          "output_type": "execute_result",
          "data": {
            "text/plain": [
              "tensor([[0., 0., 1.],\n",
              "        [0., 0., 1.],\n",
              "        [0., 0., 1.],\n",
              "        [0., 1., 0.],\n",
              "        [0., 1., 0.],\n",
              "        [0., 1., 0.],\n",
              "        [1., 0., 0.],\n",
              "        [1., 0., 0.]])"
            ]
          },
          "metadata": {},
          "execution_count": 29
        }
      ]
    },
    {
      "cell_type": "code",
      "source": [
        "w = torch.zeros((4,3),requires_grad=True)\n",
        "b = torch.zeros(1, requires_grad=True)\n",
        "optimizer = torch.optim.SGD([w,b],lr=0.1)"
      ],
      "metadata": {
        "id": "4bAySZC1lR1k"
      },
      "execution_count": 35,
      "outputs": []
    },
    {
      "cell_type": "code",
      "source": [
        "epochs = 1000\n",
        "for epoch in range(epochs):\n",
        "    pre = torch.nn.functional.softmax(x_train.matmul(w)+b, dim=1)\n",
        "    loss = (y_one_hot * -torch.log(pre)).sum(dim=1).mean()\n",
        "\n",
        "    optimizer.zero_grad()\n",
        "    loss.backward()\n",
        "    optimizer.step()\n",
        "\n",
        "    if epoch % 100 == 0:\n",
        "        print(f'epoch : {epoch}/{epochs} loss : {loss:.6f}')"
      ],
      "metadata": {
        "colab": {
          "base_uri": "https://localhost:8080/"
        },
        "id": "gQ4DA-Jel0Xu",
        "outputId": "5f15f16d-6449-44b1-ce91-aadbcfc733ba"
      },
      "execution_count": 34,
      "outputs": [
        {
          "output_type": "stream",
          "name": "stdout",
          "text": [
            "epoch : 0/1000 loss : 1.098612\n",
            "epoch : 100/1000 loss : 0.761050\n",
            "epoch : 200/1000 loss : 0.689991\n",
            "epoch : 300/1000 loss : 0.643229\n",
            "epoch : 400/1000 loss : 0.604117\n",
            "epoch : 500/1000 loss : 0.568255\n",
            "epoch : 600/1000 loss : 0.533922\n",
            "epoch : 700/1000 loss : 0.500291\n",
            "epoch : 800/1000 loss : 0.466908\n",
            "epoch : 900/1000 loss : 0.433507\n"
          ]
        }
      ]
    },
    {
      "cell_type": "code",
      "source": [
        "w = torch.zeros((4,3),requires_grad=True)\n",
        "b = torch.zeros(1, requires_grad=True)\n",
        "optimizer = torch.optim.SGD([w,b],lr=0.1)"
      ],
      "metadata": {
        "id": "uphGWmZAnrYD"
      },
      "execution_count": 48,
      "outputs": []
    },
    {
      "cell_type": "code",
      "source": [
        "epochs = 2000\n",
        "for epoch in range(epochs):\n",
        "    z = x_train.matmul(w)+b\n",
        "    loss = torch.nn.functional.cross_entropy(z, y_train)\n",
        "\n",
        "    optimizer.zero_grad()\n",
        "    loss.backward()\n",
        "    optimizer.step()\n",
        "\n",
        "    if epoch % 100 == 0:\n",
        "        accuracy = (z.argmax(dim=1) == y_train).sum() / len(y_train)\n",
        "        print(f'epoch : {epoch}/{epochs} loss : {loss:.6f}, accuracy : {accuracy}')"
      ],
      "metadata": {
        "colab": {
          "base_uri": "https://localhost:8080/"
        },
        "id": "N4QJhaPXnpjb",
        "outputId": "5252c3e7-0a0f-4496-be3d-dc21daa7f7c8"
      },
      "execution_count": 49,
      "outputs": [
        {
          "output_type": "stream",
          "name": "stdout",
          "text": [
            "epoch : 0/2000 loss : 1.098612, accuracy : 0.25\n",
            "epoch : 100/2000 loss : 0.761050, accuracy : 0.75\n",
            "epoch : 200/2000 loss : 0.689991, accuracy : 0.75\n",
            "epoch : 300/2000 loss : 0.643229, accuracy : 0.75\n",
            "epoch : 400/2000 loss : 0.604117, accuracy : 0.75\n",
            "epoch : 500/2000 loss : 0.568256, accuracy : 0.75\n",
            "epoch : 600/2000 loss : 0.533922, accuracy : 0.75\n",
            "epoch : 700/2000 loss : 0.500291, accuracy : 0.75\n",
            "epoch : 800/2000 loss : 0.466908, accuracy : 0.75\n",
            "epoch : 900/2000 loss : 0.433507, accuracy : 0.75\n",
            "epoch : 1000/2000 loss : 0.399962, accuracy : 0.875\n",
            "epoch : 1100/2000 loss : 0.366378, accuracy : 0.875\n",
            "epoch : 1200/2000 loss : 0.333642, accuracy : 0.875\n",
            "epoch : 1300/2000 loss : 0.307042, accuracy : 1.0\n",
            "epoch : 1400/2000 loss : 0.294653, accuracy : 1.0\n",
            "epoch : 1500/2000 loss : 0.285279, accuracy : 1.0\n",
            "epoch : 1600/2000 loss : 0.276488, accuracy : 1.0\n",
            "epoch : 1700/2000 loss : 0.268222, accuracy : 1.0\n",
            "epoch : 1800/2000 loss : 0.260429, accuracy : 1.0\n",
            "epoch : 1900/2000 loss : 0.253066, accuracy : 1.0\n"
          ]
        }
      ]
    },
    {
      "cell_type": "code",
      "source": [
        "(z.argmax(dim=1) == y_train).sum()"
      ],
      "metadata": {
        "colab": {
          "base_uri": "https://localhost:8080/"
        },
        "id": "AEPMUhEloH_I",
        "outputId": "b9b588a1-40d0-4c1a-a5e2-b238d043c688"
      },
      "execution_count": 45,
      "outputs": [
        {
          "output_type": "execute_result",
          "data": {
            "text/plain": [
              "tensor(7)"
            ]
          },
          "metadata": {},
          "execution_count": 45
        }
      ]
    },
    {
      "cell_type": "code",
      "source": [
        "y_train"
      ],
      "metadata": {
        "colab": {
          "base_uri": "https://localhost:8080/"
        },
        "id": "OmYxyY1uoKb3",
        "outputId": "19971a48-280a-4f7b-d4b0-1fb742cf73fa"
      },
      "execution_count": 41,
      "outputs": [
        {
          "output_type": "execute_result",
          "data": {
            "text/plain": [
              "tensor([2, 2, 2, 1, 1, 1, 0, 0])"
            ]
          },
          "metadata": {},
          "execution_count": 41
        }
      ]
    },
    {
      "cell_type": "code",
      "source": [
        "model = torch.nn.Linear(4,3)\n",
        "optimizer = torch.optim.SGD(model.parameters(), lr=0.1)"
      ],
      "metadata": {
        "id": "UNSZIx6bsQXI"
      },
      "execution_count": 58,
      "outputs": []
    },
    {
      "cell_type": "code",
      "source": [
        "epochs = 2000\n",
        "for epoch in range(epochs):\n",
        "    z = model(x_train)\n",
        "    loss = torch.nn.functional.cross_entropy(z, y_train)\n",
        "\n",
        "    optimizer.zero_grad()\n",
        "    loss.backward()\n",
        "    optimizer.step()\n",
        "\n",
        "    if epoch % 100 == 0:\n",
        "        accuracy = (z.argmax(dim=1) == y_train).sum() / len(y_train)\n",
        "        print(f'epoch : {epoch}/{epochs} loss : {loss:.6f}, accuracy : {accuracy}')"
      ],
      "metadata": {
        "colab": {
          "base_uri": "https://localhost:8080/"
        },
        "id": "IhGKpn51slAR",
        "outputId": "ec145044-36cd-40c7-a8eb-a0e07d55b0d0"
      },
      "execution_count": 59,
      "outputs": [
        {
          "output_type": "stream",
          "name": "stdout",
          "text": [
            "epoch : 0/2000 loss : 1.938370, accuracy : 0.375\n",
            "epoch : 100/2000 loss : 0.661021, accuracy : 0.625\n",
            "epoch : 200/2000 loss : 0.580357, accuracy : 0.625\n",
            "epoch : 300/2000 loss : 0.525825, accuracy : 0.625\n",
            "epoch : 400/2000 loss : 0.480945, accuracy : 0.625\n",
            "epoch : 500/2000 loss : 0.441045, accuracy : 0.75\n",
            "epoch : 600/2000 loss : 0.403965, accuracy : 0.75\n",
            "epoch : 700/2000 loss : 0.368289, accuracy : 0.875\n",
            "epoch : 800/2000 loss : 0.332875, accuracy : 0.875\n",
            "epoch : 900/2000 loss : 0.296850, accuracy : 0.875\n",
            "epoch : 1000/2000 loss : 0.261104, accuracy : 1.0\n",
            "epoch : 1100/2000 loss : 0.238568, accuracy : 1.0\n",
            "epoch : 1200/2000 loss : 0.226776, accuracy : 1.0\n",
            "epoch : 1300/2000 loss : 0.216113, accuracy : 1.0\n",
            "epoch : 1400/2000 loss : 0.206367, accuracy : 1.0\n",
            "epoch : 1500/2000 loss : 0.197427, accuracy : 1.0\n",
            "epoch : 1600/2000 loss : 0.189197, accuracy : 1.0\n",
            "epoch : 1700/2000 loss : 0.181597, accuracy : 1.0\n",
            "epoch : 1800/2000 loss : 0.174559, accuracy : 1.0\n",
            "epoch : 1900/2000 loss : 0.168025, accuracy : 1.0\n"
          ]
        }
      ]
    },
    {
      "cell_type": "code",
      "source": [
        "class softmaxclassifier(torch.nn.Module):\n",
        "    def __init__(self):\n",
        "        super().__init__()\n",
        "        self.linear = torch.nn.Linear(4,3)\n",
        "    \n",
        "    def forward(self,x):\n",
        "        return self.linear(x)"
      ],
      "metadata": {
        "id": "fLvy7Q-zs2lQ"
      },
      "execution_count": 60,
      "outputs": []
    },
    {
      "cell_type": "code",
      "source": [
        "model = softmaxclassifier()\n",
        "optimizer = torch.optim.SGD(model.parameters(), lr=0.1)"
      ],
      "metadata": {
        "id": "9YJekghptXvz"
      },
      "execution_count": 61,
      "outputs": []
    },
    {
      "cell_type": "code",
      "source": [
        "epochs = 2000\n",
        "for epoch in range(epochs):\n",
        "    z = model(x_train)\n",
        "    loss = torch.nn.functional.cross_entropy(z, y_train)\n",
        "\n",
        "    optimizer.zero_grad()\n",
        "    loss.backward()\n",
        "    optimizer.step()\n",
        "\n",
        "    if epoch % 100 == 0:\n",
        "        accuracy = (z.argmax(dim=1) == y_train).sum() / len(y_train)\n",
        "        print(f'epoch : {epoch}/{epochs} loss : {loss:.6f}, accuracy : {accuracy}')"
      ],
      "metadata": {
        "colab": {
          "base_uri": "https://localhost:8080/"
        },
        "id": "TRUpIPrGthFy",
        "outputId": "3e6c109e-b06e-4065-e453-bc934db7a79d"
      },
      "execution_count": 69,
      "outputs": [
        {
          "output_type": "stream",
          "name": "stdout",
          "text": [
            "epoch : 0/2000 loss : 0.158306, accuracy : 1.0\n",
            "epoch : 100/2000 loss : 0.152846, accuracy : 1.0\n",
            "epoch : 200/2000 loss : 0.147738, accuracy : 1.0\n",
            "epoch : 300/2000 loss : 0.142948, accuracy : 1.0\n",
            "epoch : 400/2000 loss : 0.138449, accuracy : 1.0\n",
            "epoch : 500/2000 loss : 0.134216, accuracy : 1.0\n",
            "epoch : 600/2000 loss : 0.130226, accuracy : 1.0\n",
            "epoch : 700/2000 loss : 0.126459, accuracy : 1.0\n",
            "epoch : 800/2000 loss : 0.122897, accuracy : 1.0\n",
            "epoch : 900/2000 loss : 0.119525, accuracy : 1.0\n",
            "epoch : 1000/2000 loss : 0.116328, accuracy : 1.0\n",
            "epoch : 1100/2000 loss : 0.113293, accuracy : 1.0\n",
            "epoch : 1200/2000 loss : 0.110407, accuracy : 1.0\n",
            "epoch : 1300/2000 loss : 0.107662, accuracy : 1.0\n",
            "epoch : 1400/2000 loss : 0.105046, accuracy : 1.0\n",
            "epoch : 1500/2000 loss : 0.102550, accuracy : 1.0\n",
            "epoch : 1600/2000 loss : 0.100168, accuracy : 1.0\n",
            "epoch : 1700/2000 loss : 0.097891, accuracy : 1.0\n",
            "epoch : 1800/2000 loss : 0.095713, accuracy : 1.0\n",
            "epoch : 1900/2000 loss : 0.093628, accuracy : 1.0\n"
          ]
        }
      ]
    },
    {
      "cell_type": "code",
      "source": [
        "USE_CUDA = torch.cuda.is_available()"
      ],
      "metadata": {
        "id": "frCeQGyHuLQI"
      },
      "execution_count": 65,
      "outputs": []
    },
    {
      "cell_type": "code",
      "source": [
        "use_cuda = torch.cuda.is_available()"
      ],
      "metadata": {
        "id": "DO-5i3znuZ9K"
      },
      "execution_count": 67,
      "outputs": []
    },
    {
      "cell_type": "code",
      "source": [
        "torch.device('cpu')"
      ],
      "metadata": {
        "colab": {
          "base_uri": "https://localhost:8080/"
        },
        "id": "2Vc_6G9Duw2O",
        "outputId": "5ec27711-958b-4c0c-9766-fd4e8a5adcc4"
      },
      "execution_count": 70,
      "outputs": [
        {
          "output_type": "execute_result",
          "data": {
            "text/plain": [
              "device(type='cpu')"
            ]
          },
          "metadata": {},
          "execution_count": 70
        }
      ]
    },
    {
      "cell_type": "code",
      "source": [
        "torch.manual_seed(42)"
      ],
      "metadata": {
        "colab": {
          "base_uri": "https://localhost:8080/"
        },
        "id": "IQRI9jMLvIlo",
        "outputId": "30059d29-74f8-4ea6-a385-b3b57f814f84"
      },
      "execution_count": 71,
      "outputs": [
        {
          "output_type": "execute_result",
          "data": {
            "text/plain": [
              "<torch._C.Generator at 0x7f028dceea50>"
            ]
          },
          "metadata": {},
          "execution_count": 71
        }
      ]
    },
    {
      "cell_type": "code",
      "source": [
        "import torchvision"
      ],
      "metadata": {
        "id": "5bjmWOSCvZH5"
      },
      "execution_count": 72,
      "outputs": []
    },
    {
      "cell_type": "code",
      "source": [
        "mnist_train = torchvision.datasets.MNIST(root='/mnist',\n",
        "                                         train=True,\n",
        "                                         transform=torchvision.transforms.ToTensor(),\n",
        "                                         download=True)"
      ],
      "metadata": {
        "colab": {
          "base_uri": "https://localhost:8080/",
          "height": 439,
          "referenced_widgets": [
            "b0d465cba2c2428ba80e8e371b4fbf81",
            "114b1765c73b45b19b6f7c9a6f641477",
            "7d25e8e3ccdb4380b0b2d9229fed2f6e",
            "aa85a47567db4df89e21b3b064ee16bd",
            "f50412aae2da435d9e85aee19fb4295e",
            "027706fab39a486382740942ee631c26",
            "56cfdadc6e2a4d83b3d3e197cca3adf1",
            "456f261b4725439baee818fd78c84075",
            "35edc54cd59f437ea585a1dbc14a8112",
            "5b0ed205c0c444cdaa16cb1ab822611a",
            "4e5e0118dbb04ef4adef25914a95e3b4",
            "a9d81d0acceb433b84b0b1a46110ebe5",
            "449ccfabf1cf4eef97163a31a1dd8726",
            "66272136aed641029ac594ef527a81c4",
            "1ddee3459a2c46d290244c717d9e357a",
            "ce27d6f339d6469495e5e892204a1d61",
            "6cd04a19272f46c4bef5a2daea116aee",
            "96d5969186a2454191c8187a71197574",
            "d4c8dd2eb58042da837795a811177594",
            "7c1390884d404ce7bbbf9e1774132e10",
            "7082c4e866b74cb0b5ac6962d2cea7c9",
            "a3dfc639ae1141b5a6261529b5ed2bd1",
            "07fa1733325144b6a10eb37ece3b1aca",
            "94a3ee0dea344581ac93547dc8d78c72",
            "f27ed307a4374171803df04547aa892d",
            "1fddc5b103db49349abca7b299f4c6d2",
            "0a7eaea2c5a54288a72aaa6cf6f20252",
            "87f8be1586be4385a6a4cddc78aab43d",
            "38798444a2a048de8d53c7611dd10827",
            "37fd3a4409cd44b3be8b2412bb25b3eb",
            "87441a2d266a406da04130609cfdd572",
            "0a11e9638d6e414386f3abbe77f4c1ce",
            "078f97d9595841ca9e21f8bba2e2ed38",
            "0c2d0edb19c94c2da39c4bfdceb503b8",
            "e5aa1a2408f245e99adc797779c18666",
            "118cd491d83f44b38e2b88f154dc6cbd",
            "718503f665944939b4e857189d750e74",
            "f5fda6617d50492ebfcdb97e99c52d37",
            "45a2029f9d5d42dc9b2d5f341d110d66",
            "f77c5ddc3d6a4bbd81512ebf318ffbb7",
            "53ef4fe77c7f4fcebae4ac7692258776",
            "3d633dda15a04795923ff8b68ebb170b",
            "ec26c92fe72645298ac7b25ab97d232f",
            "52895036831e460aaef13d9052057f3a"
          ]
        },
        "id": "4yy0XeCXvWoB",
        "outputId": "98f30bb7-368a-4d44-c08b-9ecf19051917"
      },
      "execution_count": 74,
      "outputs": [
        {
          "output_type": "stream",
          "name": "stdout",
          "text": [
            "Downloading http://yann.lecun.com/exdb/mnist/train-images-idx3-ubyte.gz\n",
            "Downloading http://yann.lecun.com/exdb/mnist/train-images-idx3-ubyte.gz to /mnist/MNIST/raw/train-images-idx3-ubyte.gz\n"
          ]
        },
        {
          "output_type": "display_data",
          "data": {
            "text/plain": [
              "  0%|          | 0/9912422 [00:00<?, ?it/s]"
            ],
            "application/vnd.jupyter.widget-view+json": {
              "version_major": 2,
              "version_minor": 0,
              "model_id": "b0d465cba2c2428ba80e8e371b4fbf81"
            }
          },
          "metadata": {}
        },
        {
          "output_type": "stream",
          "name": "stdout",
          "text": [
            "Extracting /mnist/MNIST/raw/train-images-idx3-ubyte.gz to /mnist/MNIST/raw\n",
            "\n",
            "Downloading http://yann.lecun.com/exdb/mnist/train-labels-idx1-ubyte.gz\n",
            "Downloading http://yann.lecun.com/exdb/mnist/train-labels-idx1-ubyte.gz to /mnist/MNIST/raw/train-labels-idx1-ubyte.gz\n"
          ]
        },
        {
          "output_type": "display_data",
          "data": {
            "text/plain": [
              "  0%|          | 0/28881 [00:00<?, ?it/s]"
            ],
            "application/vnd.jupyter.widget-view+json": {
              "version_major": 2,
              "version_minor": 0,
              "model_id": "a9d81d0acceb433b84b0b1a46110ebe5"
            }
          },
          "metadata": {}
        },
        {
          "output_type": "stream",
          "name": "stdout",
          "text": [
            "Extracting /mnist/MNIST/raw/train-labels-idx1-ubyte.gz to /mnist/MNIST/raw\n",
            "\n",
            "Downloading http://yann.lecun.com/exdb/mnist/t10k-images-idx3-ubyte.gz\n",
            "Downloading http://yann.lecun.com/exdb/mnist/t10k-images-idx3-ubyte.gz to /mnist/MNIST/raw/t10k-images-idx3-ubyte.gz\n"
          ]
        },
        {
          "output_type": "display_data",
          "data": {
            "text/plain": [
              "  0%|          | 0/1648877 [00:00<?, ?it/s]"
            ],
            "application/vnd.jupyter.widget-view+json": {
              "version_major": 2,
              "version_minor": 0,
              "model_id": "07fa1733325144b6a10eb37ece3b1aca"
            }
          },
          "metadata": {}
        },
        {
          "output_type": "stream",
          "name": "stdout",
          "text": [
            "Extracting /mnist/MNIST/raw/t10k-images-idx3-ubyte.gz to /mnist/MNIST/raw\n",
            "\n",
            "Downloading http://yann.lecun.com/exdb/mnist/t10k-labels-idx1-ubyte.gz\n",
            "Downloading http://yann.lecun.com/exdb/mnist/t10k-labels-idx1-ubyte.gz to /mnist/MNIST/raw/t10k-labels-idx1-ubyte.gz\n"
          ]
        },
        {
          "output_type": "display_data",
          "data": {
            "text/plain": [
              "  0%|          | 0/4542 [00:00<?, ?it/s]"
            ],
            "application/vnd.jupyter.widget-view+json": {
              "version_major": 2,
              "version_minor": 0,
              "model_id": "0c2d0edb19c94c2da39c4bfdceb503b8"
            }
          },
          "metadata": {}
        },
        {
          "output_type": "stream",
          "name": "stdout",
          "text": [
            "Extracting /mnist/MNIST/raw/t10k-labels-idx1-ubyte.gz to /mnist/MNIST/raw\n",
            "\n"
          ]
        }
      ]
    },
    {
      "cell_type": "code",
      "source": [
        "mnist_test = torchvision.datasets.MNIST(root='/mnist',\n",
        "                                        train=False,\n",
        "                                        transform=torchvision.transforms.ToTensor(),\n",
        "                                        download=True)"
      ],
      "metadata": {
        "id": "qjtcnF2Ywkq0"
      },
      "execution_count": 75,
      "outputs": []
    },
    {
      "cell_type": "code",
      "source": [
        "dataloder = torch.utils.data.DataLoader(mnist_train, batch_size=100, shuffle=True, drop_last=True)"
      ],
      "metadata": {
        "id": "ZXzFxp1Pw_ER"
      },
      "execution_count": 76,
      "outputs": []
    },
    {
      "cell_type": "code",
      "source": [
        "linear = torch.nn.Linear(784,10, bias=True).to('cpu')\n",
        "loss = torch.nn.CrossEntropyLoss().to('cpu')\n",
        "optimizer = torch.optim.SGD(linear.parameters(),lr=0.1)"
      ],
      "metadata": {
        "id": "ayOiABtryQg5"
      },
      "execution_count": 123,
      "outputs": []
    },
    {
      "cell_type": "code",
      "source": [
        "epochs = 15\n",
        "for epoch in range(epochs):\n",
        "    avg = 0\n",
        "    le = len(dataloder)\n",
        "    acc = 0\n",
        "    for x, y in dataloder:\n",
        "        x = x.view(-1,28*28)\n",
        "        pre = linear(x)\n",
        "        losses = loss(pre, y)\n",
        "\n",
        "        optimizer.zero_grad()\n",
        "        losses.backward()\n",
        "        optimizer.step()\n",
        "\n",
        "        avg += losses/le\n",
        "\n",
        "        acc += (torch.argmax(pre, dim=1) == y).sum().float()/le\n",
        "    print(f'epochs : {epoch:4d}, loss : {avg:.6f}, accuracy : {acc}') \n"
      ],
      "metadata": {
        "colab": {
          "base_uri": "https://localhost:8080/"
        },
        "id": "qxkj8e0Tzgbx",
        "outputId": "c7a7b614-01ac-4998-c8ca-8c34cd32c7ff"
      },
      "execution_count": 125,
      "outputs": [
        {
          "output_type": "stream",
          "name": "stdout",
          "text": [
            "epochs :    0, loss : 0.535730, accuracy : 86.66842651367188\n",
            "epochs :    1, loss : 0.359377, accuracy : 90.11339569091797\n",
            "epochs :    2, loss : 0.331252, accuracy : 90.71842193603516\n",
            "epochs :    3, loss : 0.316613, accuracy : 91.13674926757812\n",
            "epochs :    4, loss : 0.307127, accuracy : 91.42507934570312\n",
            "epochs :    5, loss : 0.300254, accuracy : 91.55172729492188\n",
            "epochs :    6, loss : 0.295011, accuracy : 91.78837585449219\n",
            "epochs :    7, loss : 0.290828, accuracy : 91.92668151855469\n",
            "epochs :    8, loss : 0.287512, accuracy : 91.99838256835938\n",
            "epochs :    9, loss : 0.284349, accuracy : 92.03504180908203\n",
            "epochs :   10, loss : 0.281873, accuracy : 92.1817398071289\n",
            "epochs :   11, loss : 0.279557, accuracy : 92.26506042480469\n",
            "epochs :   12, loss : 0.277769, accuracy : 92.26512145996094\n",
            "epochs :   13, loss : 0.276210, accuracy : 92.32839965820312\n",
            "epochs :   14, loss : 0.274532, accuracy : 92.35839080810547\n"
          ]
        }
      ]
    },
    {
      "cell_type": "code",
      "source": [
        "with torch.no_grad():\n",
        "    x_test = mnist_test.data.view(-1,28*28).float()\n",
        "    pre = linear(x_test)\n",
        "    y_test = mnist_test.targets\n",
        "    accuracy = (torch.argmax(pre, dim=1) == y_test).float().mean()\n",
        "    print(accuracy.item())\n",
        "\n",
        "    x = torch.randint(0,len(y_test),(1,))\n",
        "    x = x.item()\n",
        "    xx = x_test[x]\n",
        "    yy = y_test[x]\n",
        "    pre = linear(xx)\n",
        "    pree = torch.argmax(pre)\n",
        "    print(f'pre : {pree}, ansear : {yy.item()}')\n"
      ],
      "metadata": {
        "colab": {
          "base_uri": "https://localhost:8080/"
        },
        "id": "jPPxtsJj1_MV",
        "outputId": "bb4142fc-577c-4296-ade1-9d674f4eb89c"
      },
      "execution_count": 126,
      "outputs": [
        {
          "output_type": "stream",
          "name": "stdout",
          "text": [
            "0.8865000009536743\n",
            "pre : 5, ansear : 5\n"
          ]
        }
      ]
    },
    {
      "cell_type": "code",
      "source": [
        "x = 3\n",
        "a = 1 if x == 3 else 4\n",
        "print(a)"
      ],
      "metadata": {
        "colab": {
          "base_uri": "https://localhost:8080/"
        },
        "id": "tQrcufsT_kVh",
        "outputId": "f877891d-1e71-4ee6-ffda-3d142287e8bc"
      },
      "execution_count": 127,
      "outputs": [
        {
          "output_type": "stream",
          "name": "stdout",
          "text": [
            "1\n"
          ]
        }
      ]
    },
    {
      "cell_type": "code",
      "source": [
        "x = torch.tensor([[0,0],[0,1],[1,0],[1,1]]).float()\n",
        "y = torch.tensor([[0],[1],[1],[0]]).float()"
      ],
      "metadata": {
        "id": "9hQFFo3nAnHG"
      },
      "execution_count": 137,
      "outputs": []
    },
    {
      "cell_type": "code",
      "source": [
        "model = torch.nn.Sequential(torch.nn.Linear(2,10),\n",
        "                            torch.nn.ReLU(),\n",
        "                            torch.nn.Linear(10,10),\n",
        "                            torch.nn.ReLU(),\n",
        "                            torch.nn.Linear(10,10),\n",
        "                            torch.nn.ReLU(),\n",
        "                            torch.nn.Linear(10,1),\n",
        "                            torch.nn.Sigmoid())\n",
        "print(model(x))\n",
        "print(list(model.parameters()))"
      ],
      "metadata": {
        "colab": {
          "base_uri": "https://localhost:8080/"
        },
        "id": "TyLkhwBrA8qW",
        "outputId": "5fd51d18-881d-410f-f910-dc66bfe10822"
      },
      "execution_count": 166,
      "outputs": [
        {
          "output_type": "stream",
          "name": "stdout",
          "text": [
            "tensor([[0.5251],\n",
            "        [0.5296],\n",
            "        [0.5352],\n",
            "        [0.5415]], grad_fn=<SigmoidBackward0>)\n",
            "[Parameter containing:\n",
            "tensor([[ 0.5401, -0.4970],\n",
            "        [ 0.3971,  0.6058],\n",
            "        [-0.6589,  0.2857],\n",
            "        [-0.6207,  0.3771],\n",
            "        [-0.4464, -0.2085],\n",
            "        [-0.3499,  0.3257],\n",
            "        [-0.0545, -0.5671],\n",
            "        [-0.5282, -0.0612],\n",
            "        [-0.4380,  0.0798],\n",
            "        [ 0.5050,  0.3466]], requires_grad=True), Parameter containing:\n",
            "tensor([ 0.1433,  0.6859,  0.2150, -0.1086, -0.5291,  0.1135, -0.5236, -0.0537,\n",
            "        -0.5605, -0.3441], requires_grad=True), Parameter containing:\n",
            "tensor([[-0.1310,  0.0318,  0.0583, -0.0218, -0.1568, -0.2963,  0.0974,  0.2954,\n",
            "          0.2129, -0.2123],\n",
            "        [-0.2727, -0.2738, -0.2213, -0.2081,  0.2922, -0.0858,  0.1631,  0.1303,\n",
            "          0.1176, -0.3088],\n",
            "        [ 0.3080,  0.1954, -0.2947, -0.2079,  0.1317, -0.0651, -0.2224,  0.0582,\n",
            "         -0.2971,  0.2545],\n",
            "        [ 0.2630,  0.1655,  0.1471, -0.1965, -0.0320,  0.1568,  0.0774,  0.2599,\n",
            "          0.0713, -0.2518],\n",
            "        [-0.2012,  0.2243,  0.1960,  0.0792,  0.0459,  0.1849, -0.3093, -0.3045,\n",
            "         -0.1564, -0.1510],\n",
            "        [-0.0363,  0.1370, -0.0850,  0.0063, -0.2432, -0.1314,  0.2476,  0.2517,\n",
            "         -0.0798,  0.1240],\n",
            "        [ 0.2614,  0.2334, -0.0065, -0.2042, -0.0943,  0.1706, -0.1445,  0.1616,\n",
            "         -0.2279,  0.1382],\n",
            "        [ 0.1980, -0.0558,  0.3134,  0.1925,  0.0069, -0.0692,  0.0238, -0.1769,\n",
            "         -0.0460, -0.2922],\n",
            "        [ 0.1063,  0.0371, -0.2468, -0.0713,  0.1109, -0.2000,  0.1276, -0.2292,\n",
            "          0.0168, -0.0423],\n",
            "        [-0.2329, -0.0506, -0.1504, -0.0570,  0.0360, -0.0500, -0.0359,  0.2528,\n",
            "          0.2441, -0.1634]], requires_grad=True), Parameter containing:\n",
            "tensor([ 0.0418,  0.1188,  0.0212,  0.0248, -0.1214,  0.0578, -0.1835, -0.0673,\n",
            "        -0.1387,  0.1082], requires_grad=True), Parameter containing:\n",
            "tensor([[ 0.1104, -0.2710, -0.2494,  0.0059,  0.0951, -0.3029,  0.0247, -0.1891,\n",
            "         -0.2729,  0.2774],\n",
            "        [-0.2028, -0.1508,  0.3056, -0.1892, -0.1290, -0.1911, -0.1660,  0.0371,\n",
            "          0.1649,  0.1032],\n",
            "        [-0.0913,  0.0837, -0.2325,  0.2380, -0.2260,  0.1452, -0.2439, -0.1344,\n",
            "         -0.2877,  0.0470],\n",
            "        [ 0.1572, -0.2192,  0.1162, -0.0738,  0.0653, -0.2161, -0.2344, -0.0460,\n",
            "          0.1262, -0.3082],\n",
            "        [-0.2071, -0.2399, -0.0540, -0.2270, -0.1704, -0.1453, -0.2146, -0.1857,\n",
            "         -0.1381, -0.0853],\n",
            "        [ 0.2555, -0.0131,  0.2686,  0.0290,  0.1480,  0.1127, -0.0184,  0.2979,\n",
            "         -0.1827, -0.0864],\n",
            "        [ 0.0563,  0.0251, -0.1200,  0.1764, -0.2878,  0.2895,  0.0804, -0.0462,\n",
            "          0.2848, -0.1190],\n",
            "        [-0.3101, -0.2257,  0.2562, -0.1687,  0.0907, -0.0913,  0.2029, -0.1324,\n",
            "          0.2702,  0.2803],\n",
            "        [ 0.0189, -0.2407,  0.0463, -0.1497, -0.2338, -0.0777, -0.0507,  0.0577,\n",
            "         -0.0403,  0.0553],\n",
            "        [-0.0457, -0.3141,  0.0136,  0.0845,  0.2467, -0.2792, -0.1382, -0.1951,\n",
            "         -0.0852, -0.1471]], requires_grad=True), Parameter containing:\n",
            "tensor([ 0.2852, -0.2318, -0.2185, -0.0323,  0.0749,  0.2877,  0.0675,  0.2738,\n",
            "         0.0812, -0.2910], requires_grad=True), Parameter containing:\n",
            "tensor([[ 0.0841,  0.0511, -0.0729,  0.1018, -0.1843,  0.2860, -0.2145,  0.3109,\n",
            "          0.2308,  0.2248]], requires_grad=True), Parameter containing:\n",
            "tensor([-0.0861], requires_grad=True)]\n"
          ]
        }
      ]
    },
    {
      "cell_type": "code",
      "source": [
        "optimizer = torch.optim.SGD(model.parameters(), lr=1)"
      ],
      "metadata": {
        "id": "EyU5Rq9AB3II"
      },
      "execution_count": 167,
      "outputs": []
    },
    {
      "cell_type": "code",
      "source": [
        "epochs =10000\n",
        "for epoch in range(epochs):\n",
        "    pre = model(x)\n",
        "    loss = torch.nn.BCELoss()(pre, y)\n",
        "\n",
        "    optimizer.zero_grad()\n",
        "    loss.backward()\n",
        "    optimizer.step()\n",
        "    if epoch % 1000 == 0:\n",
        "        print(f'epoch : {epoch}/{epochs}, loss : {loss}')"
      ],
      "metadata": {
        "colab": {
          "base_uri": "https://localhost:8080/"
        },
        "id": "253AxcbNCNc8",
        "outputId": "fec49439-338b-421e-8eac-b7634aeda597"
      },
      "execution_count": 163,
      "outputs": [
        {
          "output_type": "stream",
          "name": "stdout",
          "text": [
            "epoch : 0/10000, loss : 0.7007156610488892\n",
            "epoch : 1000/10000, loss : 0.6931254863739014\n",
            "epoch : 2000/10000, loss : 0.6930925846099854\n",
            "epoch : 3000/10000, loss : 0.6929733753204346\n",
            "epoch : 4000/10000, loss : 0.6899243593215942\n",
            "epoch : 5000/10000, loss : 0.001807117834687233\n",
            "epoch : 6000/10000, loss : 0.000547640083823353\n",
            "epoch : 7000/10000, loss : 0.0003117382584605366\n",
            "epoch : 8000/10000, loss : 0.00021522669703699648\n",
            "epoch : 9000/10000, loss : 0.00016333060921169817\n"
          ]
        }
      ]
    },
    {
      "cell_type": "code",
      "source": [
        "epochs =10000\n",
        "for epoch in range(epochs):\n",
        "    pre = model(x)\n",
        "    loss = torch.nn.BCELoss()(pre, y)\n",
        "\n",
        "    optimizer.zero_grad()\n",
        "    loss.backward()\n",
        "    optimizer.step()\n",
        "    if epoch % 1000 == 0:\n",
        "        print(f'epoch : {epoch}/{epochs}, loss : {loss}')"
      ],
      "metadata": {
        "colab": {
          "base_uri": "https://localhost:8080/"
        },
        "id": "yExrIdgqL4LN",
        "outputId": "833116a5-1f0d-4619-87a2-8a3501b182aa"
      },
      "execution_count": 168,
      "outputs": [
        {
          "output_type": "stream",
          "name": "stdout",
          "text": [
            "epoch : 0/10000, loss : 0.6963142156600952\n",
            "epoch : 1000/10000, loss : 3.548074892023578e-05\n",
            "epoch : 2000/10000, loss : 1.524408708064584e-05\n",
            "epoch : 3000/10000, loss : 9.372905878990423e-06\n",
            "epoch : 4000/10000, loss : 6.6757584136212245e-06\n",
            "epoch : 5000/10000, loss : 5.126022188051138e-06\n",
            "epoch : 6000/10000, loss : 4.127636202611029e-06\n",
            "epoch : 7000/10000, loss : 3.457079628788051e-06\n",
            "epoch : 8000/10000, loss : 2.980239742100821e-06\n",
            "epoch : 9000/10000, loss : 2.5928077320713783e-06\n"
          ]
        }
      ]
    },
    {
      "cell_type": "code",
      "source": [
        "model(x)"
      ],
      "metadata": {
        "colab": {
          "base_uri": "https://localhost:8080/"
        },
        "id": "I9yf_dpECypB",
        "outputId": "279988e8-db84-4d34-ee6d-8c87f23b3484"
      },
      "execution_count": 169,
      "outputs": [
        {
          "output_type": "execute_result",
          "data": {
            "text/plain": [
              "tensor([[5.4873e-06],\n",
              "        [1.0000e+00],\n",
              "        [1.0000e+00],\n",
              "        [6.1565e-07]], grad_fn=<SigmoidBackward0>)"
            ]
          },
          "metadata": {},
          "execution_count": 169
        }
      ]
    },
    {
      "cell_type": "code",
      "source": [
        "from sklearn.datasets import load_digits"
      ],
      "metadata": {
        "id": "L72N5BNpQB-m"
      },
      "execution_count": 170,
      "outputs": []
    },
    {
      "cell_type": "code",
      "source": [
        "digits = load_digits()"
      ],
      "metadata": {
        "colab": {
          "base_uri": "https://localhost:8080/"
        },
        "id": "pSVIiUPGUk1D",
        "outputId": "eba83437-7bff-4c03-fc14-935100fc18bf"
      },
      "execution_count": 172,
      "outputs": [
        {
          "output_type": "execute_result",
          "data": {
            "text/plain": [
              "array([[ 0.,  0.,  5., 13.,  9.,  1.,  0.,  0.],\n",
              "       [ 0.,  0., 13., 15., 10., 15.,  5.,  0.],\n",
              "       [ 0.,  3., 15.,  2.,  0., 11.,  8.,  0.],\n",
              "       [ 0.,  4., 12.,  0.,  0.,  8.,  8.,  0.],\n",
              "       [ 0.,  5.,  8.,  0.,  0.,  9.,  8.,  0.],\n",
              "       [ 0.,  4., 11.,  0.,  1., 12.,  7.,  0.],\n",
              "       [ 0.,  2., 14.,  5., 10., 12.,  0.,  0.],\n",
              "       [ 0.,  0.,  6., 13., 10.,  0.,  0.,  0.]])"
            ]
          },
          "metadata": {},
          "execution_count": 172
        }
      ]
    },
    {
      "cell_type": "code",
      "source": [
        "import matplotlib.pyplot as plt\n",
        "for i in range(4):\n",
        "    plt.subplot(2,2,i+1)\n",
        "    plt.title(digits.target[i])\n",
        "    plt.imshow(digits.images[i],cmap='jet')\n",
        "plt.show()"
      ],
      "metadata": {
        "colab": {
          "base_uri": "https://localhost:8080/",
          "height": 281
        },
        "id": "8kcxcrD9Xrzk",
        "outputId": "e2920f2a-55bd-48fa-f548-3fb710919a7b"
      },
      "execution_count": 196,
      "outputs": [
        {
          "output_type": "display_data",
          "data": {
            "text/plain": [
              "<Figure size 432x288 with 4 Axes>"
            ],
            "image/png": "[encoded data removed]"
          },
          "metadata": {
            "needs_background": "light"
          }
        }
      ]
    },
    {
      "cell_type": "code",
      "source": [
        "xxx = tf.keras.layers.experimental.preprocessing.Resizing(16,16)(xx)"
      ],
      "metadata": {
        "id": "YG4Q4-KvVmvU"
      },
      "execution_count": 190,
      "outputs": []
    },
    {
      "cell_type": "code",
      "source": [
        "import matplotlib.pyplot as plt\n",
        "for i in range(4):\n",
        "    plt.subplot(2,2,i+1)\n",
        "    plt.title(digits.target[i])\n",
        "    plt.imshow(xxx[i].numpy().reshape(16,16),cmap='jet')\n",
        "plt.show()"
      ],
      "metadata": {
        "colab": {
          "base_uri": "https://localhost:8080/",
          "height": 281
        },
        "id": "Hrek39WvUvxB",
        "outputId": "65c3fc81-e9f5-451e-c159-7244a3cd16e5"
      },
      "execution_count": 195,
      "outputs": [
        {
          "output_type": "display_data",
          "data": {
            "text/plain": [
              "<Figure size 432x288 with 4 Axes>"
            ],
            "image/png": "[encoded data removed]"
          },
          "metadata": {
            "needs_background": "light"
          }
        }
      ]
    },
    {
      "cell_type": "code",
      "source": [
        "xxxx = tf.keras.layers.experimental.preprocessing.Resizing(32,32)(xxx)"
      ],
      "metadata": {
        "id": "Lwoc2WejYB8s"
      },
      "execution_count": 197,
      "outputs": []
    },
    {
      "cell_type": "code",
      "source": [
        "import matplotlib.pyplot as plt\n",
        "for i in range(4):\n",
        "    plt.subplot(2,2,i+1)\n",
        "    plt.title(digits.target[i])\n",
        "    plt.imshow(xxxx[i].numpy().reshape(32,32),cmap='jet')\n",
        "plt.show()"
      ],
      "metadata": {
        "colab": {
          "base_uri": "https://localhost:8080/",
          "height": 281
        },
        "id": "IIZUghoRYO30",
        "outputId": "e6ea518a-13f3-46b5-ee93-c5835fc53eca"
      },
      "execution_count": 199,
      "outputs": [
        {
          "output_type": "display_data",
          "data": {
            "text/plain": [
              "<Figure size 432x288 with 4 Axes>"
            ],
            "image/png": "[encoded data removed]"
          },
          "metadata": {
            "needs_background": "light"
          }
        }
      ]
    },
    {
      "cell_type": "code",
      "source": [
        "xxxxx = tf.keras.layers.experimental.preprocessing.Resizing(64,64)(xxxx)"
      ],
      "metadata": {
        "id": "rmvaU467YS7e"
      },
      "execution_count": 201,
      "outputs": []
    },
    {
      "cell_type": "code",
      "source": [
        "import matplotlib.pyplot as plt\n",
        "for i in range(4):\n",
        "    plt.subplot(2,2,i+1)\n",
        "    plt.title(digits.target[i])\n",
        "    plt.imshow(xxxxx[i].numpy().reshape(64,64),cmap='jet')\n",
        "plt.show()"
      ],
      "metadata": {
        "colab": {
          "base_uri": "https://localhost:8080/",
          "height": 281
        },
        "id": "W2kQktnnYX1c",
        "outputId": "101da40e-6549-4f4a-dfaf-b925b24a5f96"
      },
      "execution_count": 203,
      "outputs": [
        {
          "output_type": "display_data",
          "data": {
            "text/plain": [
              "<Figure size 432x288 with 4 Axes>"
            ],
            "image/png": "[encoded data removed]"
          },
          "metadata": {
            "needs_background": "light"
          }
        }
      ]
    },
    {
      "cell_type": "code",
      "source": [
        "x = torch.FloatTensor(digits.images)\n",
        "y = torch.LongTensor(digits.target)"
      ],
      "metadata": {
        "id": "EkPNR3RGahz1"
      },
      "execution_count": 214,
      "outputs": []
    },
    {
      "cell_type": "code",
      "source": [
        "x = x.view(-1,64)"
      ],
      "metadata": {
        "id": "_mSHnMxYb3S5"
      },
      "execution_count": 216,
      "outputs": []
    },
    {
      "cell_type": "code",
      "source": [
        "model= torch.nn.Sequential(torch.nn.Linear(64,32),\n",
        "                           torch.nn.ReLU(),\n",
        "                           torch.nn.Linear(32,16),\n",
        "                           torch.nn.ReLU(),\n",
        "                           torch.nn.Linear(16,10)\n",
        "                           )"
      ],
      "metadata": {
        "id": "kljuh5gQYlJm"
      },
      "execution_count": 230,
      "outputs": []
    },
    {
      "cell_type": "code",
      "source": [
        "optimizer = torch.optim.Adam(model.parameters())"
      ],
      "metadata": {
        "id": "tsHfiZgzZ6uN"
      },
      "execution_count": 231,
      "outputs": []
    },
    {
      "cell_type": "code",
      "source": [
        "epochs = 100\n",
        "losses = []\n",
        "acc = []\n",
        "for epoch in range(epochs):\n",
        "    pre = model(x)\n",
        "    loss = torch.nn.CrossEntropyLoss()(pre, y)\n",
        "\n",
        "    optimizer.zero_grad()\n",
        "    loss.backward()\n",
        "    optimizer.step()\n",
        "\n",
        "    acce = (torch.argmax(pre, dim=1) == y).sum()/len(y)\n",
        "    acc.append(acce)\n",
        "    if epoch % 10 == 0:\n",
        "        accuracy = (torch.argmax(pre, dim=1) == y).sum()/len(y)\n",
        "        print((f'epoch : {epoch:3d}/{epochs}, loss : {loss:.6f}, accuracy : {accuracy}'))\n",
        "    losses.append(loss.item())"
      ],
      "metadata": {
        "colab": {
          "base_uri": "https://localhost:8080/"
        },
        "id": "dcDHFAgeaFFA",
        "outputId": "a76732f7-c388-4ded-acf8-07953bfe9d19"
      },
      "execution_count": 232,
      "outputs": [
        {
          "output_type": "stream",
          "name": "stdout",
          "text": [
            "epoch :   0/100, loss : 2.619969, accuracy : 0.08069004118442535\n",
            "epoch :  10/100, loss : 2.081036, accuracy : 0.23761825263500214\n",
            "epoch :  20/100, loss : 1.740134, accuracy : 0.4513077437877655\n",
            "epoch :  30/100, loss : 1.405931, accuracy : 0.6505286693572998\n",
            "epoch :  40/100, loss : 1.079746, accuracy : 0.7735114097595215\n",
            "epoch :  50/100, loss : 0.800510, accuracy : 0.8308291435241699\n",
            "epoch :  60/100, loss : 0.593377, accuracy : 0.8759042620658875\n",
            "epoch :  70/100, loss : 0.450670, accuracy : 0.9087367653846741\n",
            "epoch :  80/100, loss : 0.352274, accuracy : 0.9193099737167358\n",
            "epoch :  90/100, loss : 0.283945, accuracy : 0.9371173977851868\n"
          ]
        }
      ]
    },
    {
      "cell_type": "code",
      "source": [
        "plt.subplot(1,2,1)\n",
        "plt.plot(losses)\n",
        "plt.subplot(1,2,2)\n",
        "plt.plot(acc)\n",
        "plt.show()"
      ],
      "metadata": {
        "colab": {
          "base_uri": "https://localhost:8080/",
          "height": 265
        },
        "id": "Gmno84uMcRzn",
        "outputId": "5765af6b-d0aa-445d-9ccd-2308c3cdae52"
      },
      "execution_count": 233,
      "outputs": [
        {
          "output_type": "display_data",
          "data": {
            "text/plain": [
              "<Figure size 432x288 with 2 Axes>"
            ],
            "image/png": "[encoded data removed]"
          },
          "metadata": {
            "needs_background": "light"
          }
        }
      ]
    },
    {
      "cell_type": "code",
      "source": [
        "xx = torch.FloatTensor(tf.squeeze(xxxxx).numpy()).view(-1,4096)\n",
        "xx.shape"
      ],
      "metadata": {
        "colab": {
          "base_uri": "https://localhost:8080/"
        },
        "id": "TWoJgk3ycnhZ",
        "outputId": "755353e7-79fb-44dd-8771-8ced390c2836"
      },
      "execution_count": 240,
      "outputs": [
        {
          "output_type": "execute_result",
          "data": {
            "text/plain": [
              "torch.Size([1797, 4096])"
            ]
          },
          "metadata": {},
          "execution_count": 240
        }
      ]
    },
    {
      "cell_type": "code",
      "source": [
        "model= torch.nn.Sequential(torch.nn.Linear(4096,64),\n",
        "                           torch.nn.ReLU(),\n",
        "                           torch.nn.Linear(64,32),\n",
        "                           torch.nn.ReLU(),\n",
        "                           torch.nn.Linear(32,16),\n",
        "                           torch.nn.ReLU(),\n",
        "                           torch.nn.Linear(16,10)\n",
        "                           )"
      ],
      "metadata": {
        "id": "CxfJ8zJweEkO"
      },
      "execution_count": 241,
      "outputs": []
    },
    {
      "cell_type": "code",
      "source": [
        "optimizer = torch.optim.Adam(model.parameters())"
      ],
      "metadata": {
        "id": "PAP336lTePoE"
      },
      "execution_count": 242,
      "outputs": []
    },
    {
      "cell_type": "code",
      "source": [
        "epochs = 100\n",
        "losses = []\n",
        "acc = []\n",
        "for epoch in range(epochs):\n",
        "    pre = model(xx)\n",
        "    loss = torch.nn.CrossEntropyLoss()(pre, y)\n",
        "\n",
        "    optimizer.zero_grad()\n",
        "    loss.backward()\n",
        "    optimizer.step()\n",
        "\n",
        "    acce = (torch.argmax(pre, dim=1) == y).sum()/len(y)\n",
        "    acc.append(acce)\n",
        "    if epoch % 10 == 0:\n",
        "        accuracy = (torch.argmax(pre, dim=1) == y).sum()/len(y)\n",
        "        print((f'epoch : {epoch:3d}/{epochs}, loss : {loss:.6f}, accuracy : {accuracy}'))\n",
        "    losses.append(loss.item())"
      ],
      "metadata": {
        "colab": {
          "base_uri": "https://localhost:8080/"
        },
        "id": "eE7tv5aPeR2V",
        "outputId": "3b8c56ca-86f7-4a19-ce2f-bf4a170b2cd8"
      },
      "execution_count": 243,
      "outputs": [
        {
          "output_type": "stream",
          "name": "stdout",
          "text": [
            "epoch :   0/100, loss : 2.417038, accuracy : 0.11352253705263138\n",
            "epoch :  10/100, loss : 1.629515, accuracy : 0.40066778659820557\n",
            "epoch :  20/100, loss : 0.947760, accuracy : 0.6928213834762573\n",
            "epoch :  30/100, loss : 0.576365, accuracy : 0.8569838404655457\n",
            "epoch :  40/100, loss : 0.375192, accuracy : 0.8992765545845032\n",
            "epoch :  50/100, loss : 0.265711, accuracy : 0.9226488471031189\n",
            "epoch :  60/100, loss : 0.200474, accuracy : 0.9460211396217346\n",
            "epoch :  70/100, loss : 0.158072, accuracy : 0.9616026878356934\n",
            "epoch :  80/100, loss : 0.129841, accuracy : 0.9693934321403503\n",
            "epoch :  90/100, loss : 0.109089, accuracy : 0.9771841764450073\n"
          ]
        }
      ]
    },
    {
      "cell_type": "code",
      "source": [
        "plt.subplot(1,2,1)\n",
        "plt.plot(losses)\n",
        "plt.subplot(1,2,2)\n",
        "plt.plot(acc)\n",
        "plt.show()"
      ],
      "metadata": {
        "colab": {
          "base_uri": "https://localhost:8080/",
          "height": 267
        },
        "id": "nYMM3I3feZx2",
        "outputId": "c1aa0288-3bd0-46a5-aec5-8c44ba89fbee"
      },
      "execution_count": 244,
      "outputs": [
        {
          "output_type": "display_data",
          "data": {
            "text/plain": [
              "<Figure size 432x288 with 2 Axes>"
            ],
            "image/png": "[encoded data removed]"
          },
          "metadata": {
            "needs_background": "light"
          }
        }
      ]
    }
  ]
}