{
  "nbformat": 4,
  "nbformat_minor": 0,
  "metadata": {
    "colab": {
      "provenance": [],
      "collapsed_sections": [],
      "authorship_tag": "ABX9TyOFvtnoiPbQMAugO0HmRXuY",
      "include_colab_link": true
    },
    "kernelspec": {
      "name": "python3",
      "display_name": "Python 3"
    },
    "language_info": {
      "name": "python"
    }
  },
  "cells": [
    {
      "cell_type": "markdown",
      "metadata": {
        "id": "view-in-github",
        "colab_type": "text"
      },
      "source": [
        "<a href=\"https://colab.research.google.com/github/chi-hun/chi-hun/blob/main/downcast_and_Parquet_.ipynb\" target=\"_parent\"><img src=\"https://colab.research.google.com/assets/colab-badge.svg\" alt=\"Open In Colab\"/></a>"
      ]
    },
    {
      "cell_type": "markdown",
      "source": [
        "# module"
      ],
      "metadata": {
        "id": "D_PWxq4dXB-2"
      }
    },
    {
      "cell_type": "code",
      "execution_count": null,
      "metadata": {
        "id": "6bXtdMMoHtcI"
      },
      "outputs": [],
      "source": [
        "import pandas as pd\n",
        "import os"
      ]
    },
    {
      "cell_type": "code",
      "source": [
        "from google.colab import drive\n",
        "drive.mount('/content/drive')"
      ],
      "metadata": {
        "colab": {
          "base_uri": "https://localhost:8080/"
        },
        "id": "6Ii6E36PH7yT",
        "outputId": "7cb03f4e-a4fe-46e6-c069-e3ceb743f4cc"
      },
      "execution_count": null,
      "outputs": [
        {
          "output_type": "stream",
          "name": "stdout",
          "text": [
            "Mounted at /content/drive\n"
          ]
        }
      ]
    },
    {
      "cell_type": "code",
      "source": [
        "x_train = pd.read_csv('/content/drive/MyDrive/Colab Notebooks/데이콘/제주도 도로 교통량 예측/x_train_2.csv')"
      ],
      "metadata": {
        "id": "FieVenA1H6V_"
      },
      "execution_count": null,
      "outputs": []
    },
    {
      "cell_type": "markdown",
      "source": [
        "# downcast (파일타입을 변경 메모리 사용량을 줄인다)"
      ],
      "metadata": {
        "id": "SJXQ4s-cXKtY"
      }
    },
    {
      "cell_type": "code",
      "source": [
        "x_train.info()"
      ],
      "metadata": {
        "colab": {
          "base_uri": "https://localhost:8080/"
        },
        "id": "n1uSTVh4JveO",
        "outputId": "f9efdf7c-698b-435f-8041-4bf826d10c26"
      },
      "execution_count": null,
      "outputs": [
        {
          "output_type": "stream",
          "name": "stdout",
          "text": [
            "<class 'pandas.core.frame.DataFrame'>\n",
            "RangeIndex: 4701217 entries, 0 to 4701216\n",
            "Data columns (total 30 columns):\n",
            " #   Column                     Dtype  \n",
            "---  ------                     -----  \n",
            " 0   base_hour                  float64\n",
            " 1   road_in_use                int64  \n",
            " 2   multi_linked               int64  \n",
            " 3   connect_code               int64  \n",
            " 4   road_type                  int64  \n",
            " 5   start_turn_restricted      int64  \n",
            " 6   end_turn_restricted        int64  \n",
            " 7   month                      int64  \n",
            " 8   lane_count_1               int64  \n",
            " 9   lane_count_2               int64  \n",
            " 10  lane_count_3               int64  \n",
            " 11  road_rating_103            int64  \n",
            " 12  road_rating_106            int64  \n",
            " 13  road_rating_107            int64  \n",
            " 14  maximum_speed_limit_30.0   int64  \n",
            " 15  maximum_speed_limit_40.0   int64  \n",
            " 16  maximum_speed_limit_50.0   int64  \n",
            " 17  maximum_speed_limit_60.0   int64  \n",
            " 18  maximum_speed_limit_70.0   int64  \n",
            " 19  maximum_speed_limit_80.0   int64  \n",
            " 20  weight_restricted_0.0      int64  \n",
            " 21  weight_restricted_32400.0  int64  \n",
            " 22  weight_restricted_43200.0  int64  \n",
            " 23  weight_restricted_50000.0  int64  \n",
            " 24  road_name_                 int64  \n",
            " 25  road_name_교                int64  \n",
            " 26  road_name_로                int64  \n",
            " 27  road_name_일반               int64  \n",
            " 28  road_name_지방               int64  \n",
            " 29  distance                   float64\n",
            "dtypes: float64(2), int64(28)\n",
            "memory usage: 1.1 GB\n"
          ]
        }
      ]
    },
    {
      "cell_type": "code",
      "source": [
        "x_train.memory_usage()"
      ],
      "metadata": {
        "colab": {
          "base_uri": "https://localhost:8080/"
        },
        "id": "QgRT1ZduKrqA",
        "outputId": "f57b9c3d-3261-461b-edda-6347973e6bcc"
      },
      "execution_count": null,
      "outputs": [
        {
          "output_type": "execute_result",
          "data": {
            "text/plain": [
              "Index                             128\n",
              "base_hour                    37609736\n",
              "road_in_use                  37609736\n",
              "multi_linked                 37609736\n",
              "connect_code                 37609736\n",
              "road_type                    37609736\n",
              "start_turn_restricted        37609736\n",
              "end_turn_restricted          37609736\n",
              "month                        37609736\n",
              "lane_count_1                 37609736\n",
              "lane_count_2                 37609736\n",
              "lane_count_3                 37609736\n",
              "road_rating_103              37609736\n",
              "road_rating_106              37609736\n",
              "road_rating_107              37609736\n",
              "maximum_speed_limit_30.0     37609736\n",
              "maximum_speed_limit_40.0     37609736\n",
              "maximum_speed_limit_50.0     37609736\n",
              "maximum_speed_limit_60.0     37609736\n",
              "maximum_speed_limit_70.0     37609736\n",
              "maximum_speed_limit_80.0     37609736\n",
              "weight_restricted_0.0        37609736\n",
              "weight_restricted_32400.0    37609736\n",
              "weight_restricted_43200.0    37609736\n",
              "weight_restricted_50000.0    37609736\n",
              "road_name_                   37609736\n",
              "road_name_교                  37609736\n",
              "road_name_로                  37609736\n",
              "road_name_일반                 37609736\n",
              "road_name_지방                 37609736\n",
              "distance                     37609736\n",
              "dtype: int64"
            ]
          },
          "metadata": {},
          "execution_count": 39
        }
      ]
    },
    {
      "cell_type": "code",
      "source": [
        "def downcast(df, vervose = True):\n",
        "    if vervose:\n",
        "        mem_st = round(df.memory_usage().sum() / 1024**2, 2)\n",
        "    for i in df.columns:\n",
        "        columns_dtype = df[i].dtype.name\n",
        "        if columns_dtype == 'object': # object 타입은 그대로 사용\n",
        "            pass\n",
        "        elif columns_dtype == 'bool': # bool은 int8로 변경\n",
        "            df[i] = df[i].astype('int8')\n",
        "        elif columns_dtype.startswith('int') or (df[i].round() == df[i]).all(): # int로 시작하거나 반올림한 값이 같으면 정수 downcast\n",
        "            df[i] = pd.to_numeric(df[i], downcast='integer')\n",
        "        else:\n",
        "            df[i] = pd.to_numeric(df[i], downcast='float') # float downcast\n",
        "    if vervose:\n",
        "        mem_la = round(df.memory_usage().sum() / 1024**2, 2)\n",
        "        zi = round(((mem_st - mem_la) / mem_st) * 100, 2)\n",
        "        print(f'{mem_st} -> {mem_la} 압출율 : {zi}%')\n",
        "    return df"
      ],
      "metadata": {
        "id": "fYD1sPS_QZXe"
      },
      "execution_count": null,
      "outputs": []
    },
    {
      "cell_type": "code",
      "source": [
        "x_train = downcast(x_train)"
      ],
      "metadata": {
        "colab": {
          "base_uri": "https://localhost:8080/"
        },
        "id": "qERxbOBHUTBW",
        "outputId": "3322033f-381b-450e-a814-00044e84ee9e"
      },
      "execution_count": null,
      "outputs": [
        {
          "output_type": "stream",
          "name": "stdout",
          "text": [
            "1076.02 -> 161.4 압출율 : 85.0%\n"
          ]
        }
      ]
    },
    {
      "cell_type": "code",
      "source": [
        "x_train.info()"
      ],
      "metadata": {
        "colab": {
          "base_uri": "https://localhost:8080/"
        },
        "id": "ZD4ymS9uWL0l",
        "outputId": "712d402f-5f8b-479b-b34b-1862e7c29a93"
      },
      "execution_count": null,
      "outputs": [
        {
          "output_type": "stream",
          "name": "stdout",
          "text": [
            "<class 'pandas.core.frame.DataFrame'>\n",
            "RangeIndex: 4701217 entries, 0 to 4701216\n",
            "Data columns (total 30 columns):\n",
            " #   Column                     Dtype  \n",
            "---  ------                     -----  \n",
            " 0   base_hour                  float32\n",
            " 1   road_in_use                int8   \n",
            " 2   multi_linked               int8   \n",
            " 3   connect_code               int8   \n",
            " 4   road_type                  int8   \n",
            " 5   start_turn_restricted      int8   \n",
            " 6   end_turn_restricted        int8   \n",
            " 7   month                      int8   \n",
            " 8   lane_count_1               int8   \n",
            " 9   lane_count_2               int8   \n",
            " 10  lane_count_3               int8   \n",
            " 11  road_rating_103            int8   \n",
            " 12  road_rating_106            int8   \n",
            " 13  road_rating_107            int8   \n",
            " 14  maximum_speed_limit_30.0   int8   \n",
            " 15  maximum_speed_limit_40.0   int8   \n",
            " 16  maximum_speed_limit_50.0   int8   \n",
            " 17  maximum_speed_limit_60.0   int8   \n",
            " 18  maximum_speed_limit_70.0   int8   \n",
            " 19  maximum_speed_limit_80.0   int8   \n",
            " 20  weight_restricted_0.0      int8   \n",
            " 21  weight_restricted_32400.0  int8   \n",
            " 22  weight_restricted_43200.0  int8   \n",
            " 23  weight_restricted_50000.0  int8   \n",
            " 24  road_name_                 int8   \n",
            " 25  road_name_교                int8   \n",
            " 26  road_name_로                int8   \n",
            " 27  road_name_일반               int8   \n",
            " 28  road_name_지방               int8   \n",
            " 29  distance                   float32\n",
            "dtypes: float32(2), int8(28)\n",
            "memory usage: 161.4 MB\n"
          ]
        }
      ]
    },
    {
      "cell_type": "code",
      "source": [
        "x_train.memory_usage()"
      ],
      "metadata": {
        "colab": {
          "base_uri": "https://localhost:8080/"
        },
        "id": "DIuA4wQ8WLnM",
        "outputId": "df702924-9d38-43c9-c49c-10ca20230f88"
      },
      "execution_count": null,
      "outputs": [
        {
          "output_type": "execute_result",
          "data": {
            "text/plain": [
              "Index                             128\n",
              "base_hour                    18804868\n",
              "road_in_use                   4701217\n",
              "multi_linked                  4701217\n",
              "connect_code                  4701217\n",
              "road_type                     4701217\n",
              "start_turn_restricted         4701217\n",
              "end_turn_restricted           4701217\n",
              "month                         4701217\n",
              "lane_count_1                  4701217\n",
              "lane_count_2                  4701217\n",
              "lane_count_3                  4701217\n",
              "road_rating_103               4701217\n",
              "road_rating_106               4701217\n",
              "road_rating_107               4701217\n",
              "maximum_speed_limit_30.0      4701217\n",
              "maximum_speed_limit_40.0      4701217\n",
              "maximum_speed_limit_50.0      4701217\n",
              "maximum_speed_limit_60.0      4701217\n",
              "maximum_speed_limit_70.0      4701217\n",
              "maximum_speed_limit_80.0      4701217\n",
              "weight_restricted_0.0         4701217\n",
              "weight_restricted_32400.0     4701217\n",
              "weight_restricted_43200.0     4701217\n",
              "weight_restricted_50000.0     4701217\n",
              "road_name_                    4701217\n",
              "road_name_교                   4701217\n",
              "road_name_로                   4701217\n",
              "road_name_일반                  4701217\n",
              "road_name_지방                  4701217\n",
              "distance                     18804868\n",
              "dtype: int64"
            ]
          },
          "metadata": {},
          "execution_count": 57
        }
      ]
    },
    {
      "cell_type": "markdown",
      "source": [
        "# parquet (파일종류를 변경, 파일사이즈를 줄인다)"
      ],
      "metadata": {
        "id": "xRkpp3LFYMpg"
      }
    },
    {
      "cell_type": "code",
      "source": [
        "path = '/content/drive/MyDrive/Colab Notebooks/데이콘/제주도 도로 교통량 예측/x_train_2.csv'\n",
        "size_st = round(os.path.getsize(path) / (1024 *1024), 2)\n",
        "df = pd.read_csv(path)\n",
        "df.to_parquet('train.parquet')\n",
        "path_r = '/content/train.parquet'\n",
        "size_la = round(os.path.getsize(path_r) / (1024 *1024), 2)\n",
        "df = pd.read_parquet(path_r)\n",
        "zi = round(((size_st - size_la) / size_st) * 100, 2)\n",
        "print(f'{size_st}MB -> {size_la}MB 압축율 : {zi}%')"
      ],
      "metadata": {
        "colab": {
          "base_uri": "https://localhost:8080/"
        },
        "id": "cgBmqNFTWaCW",
        "outputId": "5d4fbc94-e6ab-44d3-a9a3-9a9b899c69dc"
      },
      "execution_count": null,
      "outputs": [
        {
          "output_type": "stream",
          "name": "stdout",
          "text": [
            "343.05MB -> 16.48MB 압축율 : 95.2%\n"
          ]
        }
      ]
    },
    {
      "cell_type": "code",
      "source": [
        "#pip install fastparquet # 에러1시 실행\n",
        "\n",
        "# apt update && apt install -y build-essential #에러2시 실행\n",
        "# pip install fastparquet"
      ],
      "metadata": {
        "id": "MNETsetDb7V_"
      },
      "execution_count": null,
      "outputs": []
    },
    {
      "cell_type": "code",
      "source": [
        "df.to_parquet('sample.parquet', compression='gzip') # 기본 snappy 압축에서 gzip 압축을 사용하고 싶으면"
      ],
      "metadata": {
        "id": "V3KRoNrhcUPG"
      },
      "execution_count": null,
      "outputs": []
    }
  ]
}