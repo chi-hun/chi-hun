{
  "cells": [
    {
      "cell_type": "markdown",
      "metadata": {
        "id": "view-in-github",
        "colab_type": "text"
      },
      "source": [
        "<a href=\"https://colab.research.google.com/github/chi-hun/chi-hun/blob/main/datasetmake(image).ipynb\" target=\"_parent\"><img src=\"https://colab.research.google.com/assets/colab-badge.svg\" alt=\"Open In Colab\"/></a>"
      ]
    },
    {
      "cell_type": "code",
      "execution_count": null,
      "metadata": {
        "id": "RffAwHd5vU-q"
      },
      "outputs": [],
      "source": [
        "import tensorflow as tf\n",
        "from tensorflow.keras import layers\n",
        "import albumentations as A\n",
        "import matplotlib.pyplot as plt\n",
        "import numpy as np\n",
        "import pandas as pd\n",
        "import sklearn\n",
        "from sklearn.model_selection import train_test_split\n",
        "import glob\n",
        "import cv2\n",
        "autotune = tf.data.experimental.AUTOTUNE"
      ]
    },
    {
      "cell_type": "markdown",
      "metadata": {
        "id": "7o8wX1jMv6Z2"
      },
      "source": [
        "# tf.data 사용"
      ]
    },
    {
      "cell_type": "markdown",
      "metadata": {
        "id": "2IKz8DzizgGm"
      },
      "source": [
        "## 이미지 넘파이 배열(이미 준비된 데이터)"
      ]
    },
    {
      "cell_type": "code",
      "execution_count": null,
      "metadata": {
        "colab": {
          "base_uri": "https://localhost:8080/"
        },
        "id": "xWEUrdmSv-Se",
        "outputId": "a8c33c93-8130-4666-dc54-e3b287faaeb8"
      },
      "outputs": [
        {
          "name": "stdout",
          "output_type": "stream",
          "text": [
            "Downloading data from https://www.cs.toronto.edu/~kriz/cifar-10-python.tar.gz\n",
            "170500096/170498071 [==============================] - 6s 0us/step\n",
            "170508288/170498071 [==============================] - 6s 0us/step\n"
          ]
        }
      ],
      "source": [
        "(x_train, y_train),(x_test, y_test) = tf.keras.datasets.cifar10.load_data()\n",
        "x_train, x_val, y_train, y_val = train_test_split(x_train, y_train, stratify=y_train, test_size=0.1)"
      ]
    },
    {
      "cell_type": "code",
      "execution_count": null,
      "metadata": {
        "id": "eMoouCdAzDZA"
      },
      "outputs": [],
      "source": [
        "img_size = 30\n",
        "# albumentations 변환 \n",
        "transformer = A.Compose([A.HorizontalFlip(),\n",
        "                         A.ShiftScaleRotate(),\n",
        "                         A.RandomBrightnessContrast(),\n",
        "                         A.RandomFog(),\n",
        "                         A.Rotate(20)\n",
        "                         ])\n",
        "\n",
        "def rescsi(image, label=None): # 이미지 리스케일 및 리사이즈\n",
        "    image = tf.cast(image/255, tf.float32)\n",
        "    image = tf.image.resize(image, size=(img_size, img_size))\n",
        "    image = tf.reshape(image, (30,30,3))\n",
        "    return image, label\n",
        "\n",
        "def argument(image, label): # 이미지 데이터 증강\n",
        "    image = transformer(image=image)['image']\n",
        "    image,label = rescsi(image, label) # 트레인데이터 경우 리스케일링, 리사이즈 동시 진행\n",
        "    return image, label\n",
        "\n",
        "def numpy_tf(image, label): # 텐서 넘파이 함수 화\n",
        "    image, label = tf.numpy_function(func=argument, inp=[image, label], Tout=[tf.float32, tf.uint8])\n",
        "    image.set_shape((img_size,img_size,3)) #텐서 크기 재지정 (지정 안할시 모델 훈련 오류발생)\n",
        "    label.set_shape((1,))\n",
        "    return image, label\n",
        "\n",
        "def make_dataset(image, label=None, train=False):\n",
        "    if label is not None  : \n",
        "        dataset = tf.data.Dataset.from_tensor_slices((image, label))       \n",
        "    else : # 라벨이 없을경우(test 데이터)\n",
        "        dataset = tf.data.Dataset.from_tensor_slices((image))\n",
        "    \n",
        "    if train : # train 데이터 경우 데이터 증가, 셔플\n",
        "        dataset = dataset.map(numpy_tf).shuffle(1024).batch(32)\n",
        "    else :\n",
        "        dataset = dataset.map(rescsi, num_parallel_calls=autotune).batch(32).prefetch(buffer_size=autotune)\n",
        "\n",
        "    return dataset"
      ]
    },
    {
      "cell_type": "code",
      "execution_count": null,
      "metadata": {
        "id": "hvHkXTae_RCt"
      },
      "outputs": [],
      "source": [
        "train_ds = make_dataset(x_train, y_train, True)\n",
        "validation_ds = make_dataset(x_val, y_val, False)\n",
        "test_ds = make_dataset(x_test,train=False)"
      ]
    },
    {
      "cell_type": "code",
      "execution_count": null,
      "metadata": {
        "colab": {
          "base_uri": "https://localhost:8080/"
        },
        "id": "8eIvUb_SH8ip",
        "outputId": "83778efb-573a-41eb-d01a-bb2ffca6b0f4"
      },
      "outputs": [
        {
          "name": "stdout",
          "output_type": "stream",
          "text": [
            "Model: \"model_15\"\n",
            "_________________________________________________________________\n",
            " Layer (type)                Output Shape              Param #   \n",
            "=================================================================\n",
            " input_42 (InputLayer)       [(None, 30, 30, 3)]       0         \n",
            "                                                                 \n",
            " conv2d_26 (Conv2D)          (None, 28, 28, 32)        896       \n",
            "                                                                 \n",
            " max_pooling2d_25 (MaxPoolin  (None, 14, 14, 32)       0         \n",
            " g2D)                                                            \n",
            "                                                                 \n",
            " conv2d_27 (Conv2D)          (None, 12, 12, 64)        18496     \n",
            "                                                                 \n",
            " max_pooling2d_26 (MaxPoolin  (None, 6, 6, 64)         0         \n",
            " g2D)                                                            \n",
            "                                                                 \n",
            " global_average_pooling2d_16  (None, 64)               0         \n",
            "  (GlobalAveragePooling2D)                                       \n",
            "                                                                 \n",
            " dense_32 (Dense)            (None, 64)                4160      \n",
            "                                                                 \n",
            " dense_33 (Dense)            (None, 10)                650       \n",
            "                                                                 \n",
            "=================================================================\n",
            "Total params: 24,202\n",
            "Trainable params: 24,202\n",
            "Non-trainable params: 0\n",
            "_________________________________________________________________\n"
          ]
        }
      ],
      "source": [
        "inputs = layers.Input(shape=(30,30,3))\n",
        "x = layers.Conv2D(32, 3, activation='relu')(inputs)\n",
        "x = layers.MaxPool2D()(x)\n",
        "x = layers.Conv2D(64, 3, activation='relu')(x)\n",
        "x = layers.MaxPool2D()(x)\n",
        "x = layers.GlobalAvgPool2D()(x)\n",
        "x = layers.Dense(64,activation='relu')(x)\n",
        "outputs = layers.Dense(10,activation='softmax')(x)\n",
        "model = tf.keras.Model(inputs, outputs)\n",
        "model.summary()"
      ]
    },
    {
      "cell_type": "code",
      "execution_count": null,
      "metadata": {
        "id": "pT_10S5TI9oX"
      },
      "outputs": [],
      "source": [
        "model.compile(optimizer='adam', loss=tf.keras.losses.SparseCategoricalCrossentropy(), metrics=['accuracy'])"
      ]
    },
    {
      "cell_type": "code",
      "execution_count": null,
      "metadata": {
        "colab": {
          "base_uri": "https://localhost:8080/"
        },
        "id": "0qrgJR3ZJKCF",
        "outputId": "6fdf29ec-5e9e-4c92-c569-c77275995a33"
      },
      "outputs": [
        {
          "name": "stdout",
          "output_type": "stream",
          "text": [
            "Epoch 1/10\n",
            "1407/1407 [==============================] - 96s 67ms/step - loss: 1.9596 - accuracy: 0.2542 - val_loss: 1.7543 - val_accuracy: 0.3278\n",
            "Epoch 2/10\n",
            "1407/1407 [==============================] - 98s 69ms/step - loss: 1.7657 - accuracy: 0.3385 - val_loss: 1.6549 - val_accuracy: 0.3934\n",
            "Epoch 3/10\n",
            "1407/1407 [==============================] - 88s 62ms/step - loss: 1.6778 - accuracy: 0.3816 - val_loss: 1.5764 - val_accuracy: 0.4244\n",
            "Epoch 4/10\n",
            "1407/1407 [==============================] - 87s 61ms/step - loss: 1.6075 - accuracy: 0.4141 - val_loss: 1.5331 - val_accuracy: 0.4332\n",
            "Epoch 5/10\n",
            "1407/1407 [==============================] - 86s 61ms/step - loss: 1.5600 - accuracy: 0.4328 - val_loss: 1.4808 - val_accuracy: 0.4608\n",
            "Epoch 6/10\n",
            "1407/1407 [==============================] - 86s 61ms/step - loss: 1.5287 - accuracy: 0.4459 - val_loss: 1.4218 - val_accuracy: 0.4772\n",
            "Epoch 7/10\n",
            "1407/1407 [==============================] - 86s 60ms/step - loss: 1.4977 - accuracy: 0.4577 - val_loss: 1.3545 - val_accuracy: 0.5070\n",
            "Epoch 8/10\n",
            "1407/1407 [==============================] - 87s 61ms/step - loss: 1.4687 - accuracy: 0.4672 - val_loss: 1.3732 - val_accuracy: 0.5040\n",
            "Epoch 9/10\n",
            "1407/1407 [==============================] - 86s 60ms/step - loss: 1.4490 - accuracy: 0.4735 - val_loss: 1.3808 - val_accuracy: 0.5040\n",
            "Epoch 10/10\n",
            "1407/1407 [==============================] - 86s 61ms/step - loss: 1.4245 - accuracy: 0.4828 - val_loss: 1.2967 - val_accuracy: 0.5290\n"
          ]
        }
      ],
      "source": [
        "his = model.fit(train_ds, epochs=10, validation_data=validation_ds)"
      ]
    },
    {
      "cell_type": "code",
      "execution_count": null,
      "metadata": {
        "colab": {
          "base_uri": "https://localhost:8080/",
          "height": 265
        },
        "id": "iyIzC27heygG",
        "outputId": "e04a8133-36ed-455c-99bf-e2c9e94ec4e6"
      },
      "outputs": [
        {
          "data": {
            "image/png": "[encoded data removed]",
            "text/plain": [
              "<Figure size 432x288 with 2 Axes>"
            ]
          },
          "metadata": {},
          "output_type": "display_data"
        }
      ],
      "source": [
        "plt.subplot(1,2,1)\n",
        "plt.plot(his.history['loss'])\n",
        "plt.plot(his.history['val_loss'])\n",
        "plt.subplot(1,2,2)\n",
        "plt.plot(his.history['accuracy'])\n",
        "plt.plot(his.history['val_accuracy'])\n",
        "plt.show()"
      ]
    },
    {
      "cell_type": "markdown",
      "metadata": {
        "id": "EAjKgn4hgpEy"
      },
      "source": [
        "## 이미지 파일"
      ]
    },
    {
      "cell_type": "code",
      "execution_count": null,
      "metadata": {
        "id": "bwVBhBmOhOOL"
      },
      "outputs": [],
      "source": [
        "!unzip -qq '/content/drive/MyDrive/Colab Notebooks/공부/archi.zip'"
      ]
    },
    {
      "cell_type": "code",
      "execution_count": null,
      "metadata": {
        "id": "oY9QK0qVifMF"
      },
      "outputs": [],
      "source": [
        "train_folder = '/content/cifar10/train'\n",
        "test_folder = '/content/cifar10/test'\n",
        "train_path = sorted(glob.glob(train_folder+'/*/*')) # 파일 경로 리스트\n",
        "test_path = sorted(glob.glob(test_folder+'/*/*'))"
      ]
    },
    {
      "cell_type": "code",
      "execution_count": null,
      "metadata": {
        "id": "vjVVxDkCjYHB"
      },
      "outputs": [],
      "source": [
        "def label_make(path): # 파일명에서 라벨 추출(폴더별로 파일이 나눠져 있음)\n",
        "    label = []\n",
        "    for i in path:\n",
        "        label.append(i.split('/')[-2])\n",
        "    return label\n",
        "train_label = label_make(train_path)\n",
        "test_label = label_make(test_path)"
      ]
    },
    {
      "cell_type": "code",
      "execution_count": null,
      "metadata": {
        "id": "MnP3MIAFlOw_"
      },
      "outputs": [],
      "source": [
        "train_label = pd.get_dummies(train_label) # 원핫인코딩\n",
        "test_label = pd.get_dummies(test_label)"
      ]
    },
    {
      "cell_type": "code",
      "execution_count": null,
      "metadata": {
        "colab": {
          "base_uri": "https://localhost:8080/"
        },
        "id": "NR7edIrxnBgN",
        "outputId": "5411bb07-8823-4cfb-dd35-55b312a56101"
      },
      "outputs": [
        {
          "output_type": "execute_result",
          "data": {
            "text/plain": [
              "(45000, 5000, 45000, 5000)"
            ]
          },
          "metadata": {},
          "execution_count": 6
        }
      ],
      "source": [
        "train_path, validation_path, train_label, validation_label = train_test_split(train_path, train_label, stratify=train_label, test_size=0.1) # 훈련, 검증셋 분리\n",
        "len(train_path), len(validation_path), len(train_label), len(validation_label)"
      ]
    },
    {
      "cell_type": "code",
      "execution_count": null,
      "metadata": {
        "id": "QX40DPEouSpn"
      },
      "outputs": [],
      "source": [
        "transformer = A.Compose([A.HorizontalFlip(), # 데이터 증가\n",
        "                         A.ShiftScaleRotate(),\n",
        "                         A.RandomBrightnessContrast(),\n",
        "                         A.RandomFog(),\n",
        "                         A.Rotate(20)\n",
        "                         ])\n",
        "\n",
        "img_size = 30 # 변경 이미지 사이즈(원본 32)\n",
        "\n",
        "def make_image(path, label=None): # 이미지 경로에서 파일 블러와 텐서로 변경(image)\n",
        "    image = tf.io.decode_image(tf.io.read_file(path), expand_animations = False)\n",
        "    return image, label\n",
        "\n",
        "def rescale_resize(image, label=None): # 이미지 정규화, 사이즈 조정\n",
        "    image = tf.cast(image/255, tf.float32)\n",
        "    image = tf.image.resize(image, size=((img_size, img_size)))\n",
        "    return image, label\n",
        "\n",
        "def argument(image, label): # 이미지 증가(리사이즈 동시 진행)\n",
        "    image = transformer(image=image)['image']\n",
        "    image, label = rescale_resize(image, label)\n",
        "    return image, label\n",
        "\n",
        "def num_fuc(image, label): #  이미지 넘파이 함수 텐서플로우 함수로 계산\n",
        "    image, label = tf.numpy_function(func=argument, inp=[image, label], Tout=[tf.float32, tf.uint8])\n",
        "    image.set_shape((img_size, img_size, 3)) # 출력되는 모양 재정의\n",
        "    label.set_shape((10,))\n",
        "    return image, label\n",
        "\n",
        "def make_dataset(path, label=None, train=False): # 데이터 메이커(훈련, 검증, 테스트)\n",
        "    if label is not None : # 테스트 데이터인지 확인\n",
        "        dataset = tf.data.Dataset.from_tensor_slices((path, label))\n",
        "        dataset = dataset.map(make_image)\n",
        "    else :\n",
        "        dataset = tf.data.Dataset.from_tensor_slices((path))\n",
        "        dataset = dataset.map(make_image)\n",
        "\n",
        "    if train: # 훈련용 데이터 인지 확인\n",
        "        dataset = dataset.map(num_fuc, num_parallel_calls=autotune).shuffle(1024).batch(32).prefetch(buffer_size=autotune)\n",
        "    else :\n",
        "        dataset = dataset.map(rescale_resize, num_parallel_calls=autotune).batch(32).prefetch(buffer_size=autotune)\n",
        "\n",
        "    return dataset"
      ]
    },
    {
      "cell_type": "code",
      "execution_count": null,
      "metadata": {
        "id": "olLLHnmm3yWQ"
      },
      "outputs": [],
      "source": [
        "train_ds = make_dataset(train_path, train_label, True)\n",
        "validation_ds = make_dataset(validation_path, validation_label, train=False)\n",
        "test_ds = make_dataset(test_path, train = False)"
      ]
    },
    {
      "cell_type": "code",
      "execution_count": null,
      "metadata": {
        "colab": {
          "base_uri": "https://localhost:8080/"
        },
        "id": "_57L8_Bd46Ns",
        "outputId": "b63b1801-bc72-418c-85a9-3a6f31018c0f"
      },
      "outputs": [
        {
          "output_type": "stream",
          "name": "stdout",
          "text": [
            "Model: \"model\"\n",
            "_________________________________________________________________\n",
            " Layer (type)                Output Shape              Param #   \n",
            "=================================================================\n",
            " input_1 (InputLayer)        [(None, 30, 30, 3)]       0         \n",
            "                                                                 \n",
            " conv2d (Conv2D)             (None, 28, 28, 32)        896       \n",
            "                                                                 \n",
            " max_pooling2d (MaxPooling2D  (None, 14, 14, 32)       0         \n",
            " )                                                               \n",
            "                                                                 \n",
            " conv2d_1 (Conv2D)           (None, 12, 12, 64)        18496     \n",
            "                                                                 \n",
            " max_pooling2d_1 (MaxPooling  (None, 6, 6, 64)         0         \n",
            " 2D)                                                             \n",
            "                                                                 \n",
            " global_average_pooling2d (G  (None, 64)               0         \n",
            " lobalAveragePooling2D)                                          \n",
            "                                                                 \n",
            " dense (Dense)               (None, 64)                4160      \n",
            "                                                                 \n",
            " dense_1 (Dense)             (None, 10)                650       \n",
            "                                                                 \n",
            "=================================================================\n",
            "Total params: 24,202\n",
            "Trainable params: 24,202\n",
            "Non-trainable params: 0\n",
            "_________________________________________________________________\n"
          ]
        }
      ],
      "source": [
        "inputs = layers.Input(shape=(30,30,3))\n",
        "x = layers.Conv2D(32, 3, activation='relu')(inputs)\n",
        "x = layers.MaxPool2D()(x)\n",
        "x = layers.Conv2D(64, 3, activation='relu')(x)\n",
        "x = layers.MaxPool2D()(x)\n",
        "x = layers.GlobalAvgPool2D()(x)\n",
        "x = layers.Dense(64,activation='relu')(x)\n",
        "outputs = layers.Dense(10,activation='softmax')(x)\n",
        "model = tf.keras.Model(inputs, outputs)\n",
        "model.summary()"
      ]
    },
    {
      "cell_type": "code",
      "execution_count": null,
      "metadata": {
        "id": "LTLMuJNH7aNC"
      },
      "outputs": [],
      "source": [
        "model.compile(optimizer='adam', loss=tf.keras.losses.CategoricalCrossentropy(), metrics=['accuracy'])"
      ]
    },
    {
      "cell_type": "code",
      "execution_count": null,
      "metadata": {
        "colab": {
          "base_uri": "https://localhost:8080/"
        },
        "id": "wPTRS1My7e1w",
        "outputId": "ec7dabed-d122-4553-f558-46c369653045"
      },
      "outputs": [
        {
          "output_type": "stream",
          "name": "stdout",
          "text": [
            "Epoch 1/10\n",
            "1407/1407 [==============================] - 105s 73ms/step - loss: 1.9469 - accuracy: 0.2581 - val_loss: 1.8073 - val_accuracy: 0.3162\n",
            "Epoch 2/10\n",
            "1407/1407 [==============================] - 104s 73ms/step - loss: 1.7597 - accuracy: 0.3409 - val_loss: 1.6440 - val_accuracy: 0.3964\n",
            "Epoch 3/10\n",
            "1407/1407 [==============================] - 115s 81ms/step - loss: 1.6560 - accuracy: 0.3918 - val_loss: 1.6519 - val_accuracy: 0.3996\n",
            "Epoch 4/10\n",
            "1407/1407 [==============================] - 105s 73ms/step - loss: 1.5918 - accuracy: 0.4172 - val_loss: 1.5814 - val_accuracy: 0.4388\n",
            "Epoch 5/10\n",
            "1407/1407 [==============================] - 109s 76ms/step - loss: 1.5505 - accuracy: 0.4343 - val_loss: 1.4705 - val_accuracy: 0.4704\n",
            "Epoch 6/10\n",
            "1407/1407 [==============================] - 103s 72ms/step - loss: 1.5168 - accuracy: 0.4531 - val_loss: 1.4208 - val_accuracy: 0.4908\n",
            "Epoch 7/10\n",
            "1407/1407 [==============================] - 104s 73ms/step - loss: 1.4825 - accuracy: 0.4651 - val_loss: 1.3920 - val_accuracy: 0.5022\n",
            "Epoch 8/10\n",
            "1407/1407 [==============================] - 100s 70ms/step - loss: 1.4603 - accuracy: 0.4721 - val_loss: 1.3789 - val_accuracy: 0.5146\n",
            "Epoch 9/10\n",
            "1407/1407 [==============================] - 100s 70ms/step - loss: 1.4433 - accuracy: 0.4771 - val_loss: 1.3927 - val_accuracy: 0.5046\n",
            "Epoch 10/10\n",
            "1407/1407 [==============================] - 111s 78ms/step - loss: 1.4262 - accuracy: 0.4832 - val_loss: 1.4309 - val_accuracy: 0.5066\n"
          ]
        }
      ],
      "source": [
        "his = model.fit(train_ds, epochs=10, validation_data=validation_ds)"
      ]
    },
    {
      "cell_type": "code",
      "execution_count": null,
      "metadata": {
        "colab": {
          "base_uri": "https://localhost:8080/",
          "height": 265
        },
        "id": "01XD924XAjgd",
        "outputId": "8320f5a9-12cc-492d-f01e-d10ea68fb960"
      },
      "outputs": [
        {
          "output_type": "display_data",
          "data": {
            "text/plain": [
              "<Figure size 432x288 with 2 Axes>"
            ],
            "image/png": "[encoded data removed]"
          },
          "metadata": {
            "needs_background": "light"
          }
        }
      ],
      "source": [
        "plt.subplot(1,2,1)\n",
        "plt.plot(his.history['loss'])\n",
        "plt.plot(his.history['val_loss'])\n",
        "plt.subplot(1,2,2)\n",
        "plt.plot(his.history['accuracy'])\n",
        "plt.plot(his.history['val_accuracy'])\n",
        "plt.show()"
      ]
    },
    {
      "cell_type": "markdown",
      "metadata": {
        "id": "3Jr2dTOlL8eJ"
      },
      "source": [
        "StratifiedKFold 사용"
      ]
    },
    {
      "cell_type": "code",
      "execution_count": null,
      "metadata": {
        "id": "TaiC92he-7-S"
      },
      "outputs": [],
      "source": [
        "from sklearn.model_selection import StratifiedKFold\n",
        "from sklearn.utils import shuffle"
      ]
    },
    {
      "cell_type": "code",
      "execution_count": null,
      "metadata": {
        "colab": {
          "base_uri": "https://localhost:8080/"
        },
        "id": "iw_7EpLVEall",
        "outputId": "aba3331f-b8cf-4e9e-bb6b-ed12538fa1ad"
      },
      "outputs": [
        {
          "name": "stdout",
          "output_type": "stream",
          "text": [
            "1/20\n",
            "1547/1547 [==============================] - 88s 57ms/step - loss: 2.2255 - accuracy: 0.1579 - val_loss: 1.8637 - val_accuracy: 0.2900\n",
            "2/20\n",
            "1547/1547 [==============================] - 86s 55ms/step - loss: 1.8009 - accuracy: 0.3165 - val_loss: 1.6712 - val_accuracy: 0.3380\n",
            "3/20\n",
            "1547/1547 [==============================] - 87s 55ms/step - loss: 1.7007 - accuracy: 0.3674 - val_loss: 1.6154 - val_accuracy: 0.3800\n",
            "4/20\n",
            "1547/1547 [==============================] - 86s 55ms/step - loss: 1.6286 - accuracy: 0.4045 - val_loss: 1.5158 - val_accuracy: 0.4260\n",
            "5/20\n",
            "1547/1547 [==============================] - 88s 57ms/step - loss: 1.5707 - accuracy: 0.4279 - val_loss: 1.5424 - val_accuracy: 0.4440\n",
            "6/20\n",
            "1547/1547 [==============================] - 88s 57ms/step - loss: 1.5403 - accuracy: 0.4408 - val_loss: 1.3839 - val_accuracy: 0.4960\n",
            "7/20\n",
            "1547/1547 [==============================] - 93s 60ms/step - loss: 1.5023 - accuracy: 0.4550 - val_loss: 1.3391 - val_accuracy: 0.5260\n",
            "8/20\n",
            "1547/1547 [==============================] - 88s 57ms/step - loss: 1.4838 - accuracy: 0.4632 - val_loss: 1.5439 - val_accuracy: 0.4560\n",
            "9/20\n",
            "1547/1547 [==============================] - 88s 56ms/step - loss: 1.4546 - accuracy: 0.4744 - val_loss: 1.2364 - val_accuracy: 0.5520\n",
            "10/20\n",
            "1547/1547 [==============================] - 86s 55ms/step - loss: 1.4357 - accuracy: 0.4816 - val_loss: 1.3258 - val_accuracy: 0.5320\n",
            "11/20\n",
            "1547/1547 [==============================] - 87s 56ms/step - loss: 1.4184 - accuracy: 0.4909 - val_loss: 1.3428 - val_accuracy: 0.5380\n",
            "12/20\n",
            "1547/1547 [==============================] - 87s 56ms/step - loss: 1.3992 - accuracy: 0.4975 - val_loss: 1.2074 - val_accuracy: 0.5520\n",
            "13/20\n",
            "1547/1547 [==============================] - 93s 60ms/step - loss: 1.3839 - accuracy: 0.5038 - val_loss: 1.2652 - val_accuracy: 0.5520\n",
            "14/20\n",
            "1547/1547 [==============================] - 88s 57ms/step - loss: 1.3628 - accuracy: 0.5101 - val_loss: 1.2895 - val_accuracy: 0.5280\n",
            "15/20\n",
            "1547/1547 [==============================] - 96s 62ms/step - loss: 1.3511 - accuracy: 0.5154 - val_loss: 1.2622 - val_accuracy: 0.5460\n",
            "16/20\n",
            "1547/1547 [==============================] - 94s 61ms/step - loss: 1.3403 - accuracy: 0.5164 - val_loss: 1.1795 - val_accuracy: 0.5780\n",
            "17/20\n",
            "1547/1547 [==============================] - 89s 57ms/step - loss: 1.3316 - accuracy: 0.5230 - val_loss: 1.1415 - val_accuracy: 0.5620\n",
            "18/20\n",
            "1547/1547 [==============================] - 89s 57ms/step - loss: 1.3219 - accuracy: 0.5275 - val_loss: 1.1666 - val_accuracy: 0.5880\n",
            "19/20\n",
            "1547/1547 [==============================] - 89s 57ms/step - loss: 1.3048 - accuracy: 0.5334 - val_loss: 1.2594 - val_accuracy: 0.5640\n",
            "20/20\n",
            "1547/1547 [==============================] - 87s 56ms/step - loss: 1.3022 - accuracy: 0.5344 - val_loss: 1.1523 - val_accuracy: 0.6020\n"
          ]
        }
      ],
      "source": [
        "epochs = 20\n",
        "skf = StratifiedKFold(100, shuffle=True) # kfold\n",
        "train_path, train_label = shuffle(train_path, train_label) # shuffle\n",
        "skf_li = list(skf.split(train_path, train_label)) # kfold 실행결과 리스트\n",
        "train_df = pd.DataFrame({'path':train_path, 'label':train_label}) # 데이터 프레임화\n",
        "\n",
        "for epoch in range(epochs): # 훈련\n",
        "    print(f'{epoch+1}/{epochs}')\n",
        "    i, j = skf_li[epoch] # kfold 인덱스 반환\n",
        "    train_path_x = train_df['path'][i].values # 훈련 데이터 프레임\n",
        "    train_label_x = pd.get_dummies(train_df['label'][i].values)\n",
        "    validation_path_x = train_df['path'][j].values # 검증 데이터 프레임\n",
        "    validation_label_x = pd.get_dummies(train_df['label'][j].values) \n",
        "    train_ds = make_dataset(train_path_x, train_label_x, True) # 데이터셋 만들기\n",
        "    validation_ds = make_dataset(validation_path_x, validation_label_x, False)\n",
        "    his = model.fit(train_ds, epochs=1, validation_data=validation_ds) # 훈련"
      ]
    },
    {
      "cell_type": "code",
      "execution_count": null,
      "metadata": {
        "id": "XTWcvFNFTq3A"
      },
      "outputs": [],
      "source": [
        "tf.keras.utils.image_dataset_from_directory"
      ]
    },
    {
      "cell_type": "markdown",
      "metadata": {
        "id": "gea2_k-6TkSo"
      },
      "source": [
        "# tf.keras.utils.image_dataset_from_directory 사용"
      ]
    },
    {
      "cell_type": "code",
      "execution_count": null,
      "metadata": {
        "id": "1_8lqDfJUaPT"
      },
      "outputs": [],
      "source": [
        "train_path = '/content/cifar10/train'\n",
        "test_path = '/content/cifar10/test'"
      ]
    },
    {
      "cell_type": "code",
      "execution_count": null,
      "metadata": {
        "colab": {
          "base_uri": "https://localhost:8080/"
        },
        "id": "YPpWdS0JVNwp",
        "outputId": "19cfd51e-b4f6-400b-a38f-1b1da67179cb"
      },
      "outputs": [
        {
          "name": "stdout",
          "output_type": "stream",
          "text": [
            "Found 50000 files belonging to 10 classes.\n",
            "Using 45000 files for training.\n",
            "Found 50000 files belonging to 10 classes.\n",
            "Using 5000 files for validation.\n"
          ]
        }
      ],
      "source": [
        "image_size = 30\n",
        "train_ds = tf.keras.utils.image_dataset_from_directory(train_path, # 폴더별로 나눠저 있는 폴더 위치\n",
        "                                                       image_size = (image_size, image_size), \n",
        "                                                       shuffle = True, # 훈련 데이터, 검증 데이터만 셔플 \n",
        "                                                       batch_size = 32,\n",
        "                                                       seed = 42, # shfuffle시 필수\n",
        "                                                       subset = 'training',# 훈련 데이터\n",
        "                                                       validation_split = 0.1) # 검증 데이터 비율\n",
        "validation_ds = tf.keras.utils.image_dataset_from_directory(train_path,\n",
        "                                                       image_size = (image_size, image_size),\n",
        "                                                       shuffle = True,\n",
        "                                                       batch_size = 32,\n",
        "                                                       seed = 42,\n",
        "                                                       subset = 'validation', # 검증 데이터\n",
        "                                                       validation_split = 0.1)"
      ]
    },
    {
      "cell_type": "code",
      "execution_count": null,
      "metadata": {
        "colab": {
          "base_uri": "https://localhost:8080/"
        },
        "id": "iL8M-uFiXDdY",
        "outputId": "4b668809-e775-42c5-9f87-c11e55357f15"
      },
      "outputs": [
        {
          "name": "stdout",
          "output_type": "stream",
          "text": [
            "Found 10000 files belonging to 10 classes.\n"
          ]
        }
      ],
      "source": [
        "test_ds = tf.keras.utils.image_dataset_from_directory(test_path,\n",
        "                                                      image_size=(image_size,image_size),\n",
        "                                                      shuffle=False, # 테스트 데이터 shuffle False\n",
        "                                                      batch_size = 32,)"
      ]
    },
    {
      "cell_type": "code",
      "execution_count": null,
      "metadata": {
        "colab": {
          "base_uri": "https://localhost:8080/"
        },
        "id": "Hv9AMGxWXjJI",
        "outputId": "1ee5f8ea-99c4-439d-8828-f119e396ef87"
      },
      "outputs": [
        {
          "name": "stdout",
          "output_type": "stream",
          "text": [
            "Model: \"model_1\"\n",
            "_________________________________________________________________\n",
            " Layer (type)                Output Shape              Param #   \n",
            "=================================================================\n",
            " input_2 (InputLayer)        [(None, 30, 30, 3)]       0         \n",
            "                                                                 \n",
            " conv2d_2 (Conv2D)           (None, 28, 28, 32)        896       \n",
            "                                                                 \n",
            " max_pooling2d_2 (MaxPooling  (None, 14, 14, 32)       0         \n",
            " 2D)                                                             \n",
            "                                                                 \n",
            " conv2d_3 (Conv2D)           (None, 12, 12, 64)        18496     \n",
            "                                                                 \n",
            " max_pooling2d_3 (MaxPooling  (None, 6, 6, 64)         0         \n",
            " 2D)                                                             \n",
            "                                                                 \n",
            " global_average_pooling2d_1   (None, 64)               0         \n",
            " (GlobalAveragePooling2D)                                        \n",
            "                                                                 \n",
            " dense_2 (Dense)             (None, 64)                4160      \n",
            "                                                                 \n",
            " dense_3 (Dense)             (None, 10)                650       \n",
            "                                                                 \n",
            "=================================================================\n",
            "Total params: 24,202\n",
            "Trainable params: 24,202\n",
            "Non-trainable params: 0\n",
            "_________________________________________________________________\n"
          ]
        }
      ],
      "source": [
        "inputs = layers.Input(shape=(30,30,3))\n",
        "x = layers.Conv2D(32, 3, activation='relu')(inputs)\n",
        "x = layers.MaxPool2D()(x)\n",
        "x = layers.Conv2D(64, 3, activation='relu')(x)\n",
        "x = layers.MaxPool2D()(x)\n",
        "x = layers.GlobalAvgPool2D()(x)\n",
        "x = layers.Dense(64,activation='relu')(x)\n",
        "outputs = layers.Dense(10,activation='softmax')(x)\n",
        "model = tf.keras.Model(inputs, outputs)\n",
        "model.summary()"
      ]
    },
    {
      "cell_type": "code",
      "execution_count": null,
      "metadata": {
        "id": "i-hxzrRaXofq"
      },
      "outputs": [],
      "source": [
        "model.compile(optimizer='adam', loss=tf.keras.losses.SparseCategoricalCrossentropy(), metrics=['accuracy'])"
      ]
    },
    {
      "cell_type": "code",
      "execution_count": null,
      "metadata": {
        "colab": {
          "base_uri": "https://localhost:8080/"
        },
        "id": "7oMuCZqdXrXY",
        "outputId": "2abdcfc3-3557-44a0-8587-7af767dcab0e"
      },
      "outputs": [
        {
          "name": "stdout",
          "output_type": "stream",
          "text": [
            "Epoch 1/10\n",
            "1407/1407 [==============================] - 54s 38ms/step - loss: 1.8890 - accuracy: 0.3370 - val_loss: 1.5414 - val_accuracy: 0.4222\n",
            "Epoch 2/10\n",
            "1407/1407 [==============================] - 54s 39ms/step - loss: 1.5093 - accuracy: 0.4474 - val_loss: 1.4121 - val_accuracy: 0.4740\n",
            "Epoch 3/10\n",
            "1407/1407 [==============================] - 51s 36ms/step - loss: 1.3698 - accuracy: 0.5058 - val_loss: 1.2918 - val_accuracy: 0.5338\n",
            "Epoch 4/10\n",
            "1407/1407 [==============================] - 54s 39ms/step - loss: 1.2963 - accuracy: 0.5355 - val_loss: 1.2827 - val_accuracy: 0.5432\n",
            "Epoch 5/10\n",
            "1407/1407 [==============================] - 54s 38ms/step - loss: 1.2340 - accuracy: 0.5610 - val_loss: 1.2607 - val_accuracy: 0.5524\n",
            "Epoch 6/10\n",
            "1407/1407 [==============================] - 55s 39ms/step - loss: 1.1843 - accuracy: 0.5773 - val_loss: 1.1893 - val_accuracy: 0.5780\n",
            "Epoch 7/10\n",
            "1407/1407 [==============================] - 55s 39ms/step - loss: 1.1438 - accuracy: 0.5956 - val_loss: 1.1144 - val_accuracy: 0.6122\n",
            "Epoch 8/10\n",
            "1407/1407 [==============================] - 52s 37ms/step - loss: 1.1070 - accuracy: 0.6085 - val_loss: 1.1456 - val_accuracy: 0.5926\n",
            "Epoch 9/10\n",
            "1407/1407 [==============================] - 50s 35ms/step - loss: 1.0769 - accuracy: 0.6180 - val_loss: 1.1110 - val_accuracy: 0.6068\n",
            "Epoch 10/10\n",
            "1407/1407 [==============================] - 53s 37ms/step - loss: 1.0457 - accuracy: 0.6315 - val_loss: 1.1131 - val_accuracy: 0.6196\n"
          ]
        }
      ],
      "source": [
        "his = model.fit(train_ds, epochs=10, validation_data=validation_ds)"
      ]
    },
    {
      "cell_type": "code",
      "execution_count": null,
      "metadata": {
        "colab": {
          "base_uri": "https://localhost:8080/",
          "height": 265
        },
        "id": "oHKRzyJNaYXA",
        "outputId": "630d1596-e7a6-4034-9130-3562bb98c67c"
      },
      "outputs": [
        {
          "data": {
            "image/png": "[encoded data removed]",
            "text/plain": [
              "<Figure size 432x288 with 2 Axes>"
            ]
          },
          "metadata": {},
          "output_type": "display_data"
        }
      ],
      "source": [
        "plt.subplot(1,2,1)\n",
        "plt.plot(his.history['loss'])\n",
        "plt.plot(his.history['val_loss'])\n",
        "plt.subplot(1,2,2)\n",
        "plt.plot(his.history['accuracy'])\n",
        "plt.plot(his.history['val_accuracy'])\n",
        "plt.show()"
      ]
    },
    {
      "cell_type": "markdown",
      "metadata": {
        "id": "zE2UPba0acag"
      },
      "source": [
        "데이터 증강 "
      ]
    },
    {
      "cell_type": "code",
      "execution_count": null,
      "metadata": {
        "colab": {
          "base_uri": "https://localhost:8080/"
        },
        "id": "6BJHYvOqab86",
        "outputId": "e7a3195b-681b-4850-cf8b-0d45e92bbb54"
      },
      "outputs": [
        {
          "name": "stdout",
          "output_type": "stream",
          "text": [
            "Model: \"model_2\"\n",
            "_________________________________________________________________\n",
            " Layer (type)                Output Shape              Param #   \n",
            "=================================================================\n",
            " input_5 (InputLayer)        [(None, 30, 30, 3)]       0         \n",
            "                                                                 \n",
            " conv2d_4 (Conv2D)           (None, 28, 28, 32)        896       \n",
            "                                                                 \n",
            " max_pooling2d_4 (MaxPooling  (None, 14, 14, 32)       0         \n",
            " 2D)                                                             \n",
            "                                                                 \n",
            " conv2d_5 (Conv2D)           (None, 12, 12, 64)        18496     \n",
            "                                                                 \n",
            " max_pooling2d_5 (MaxPooling  (None, 6, 6, 64)         0         \n",
            " 2D)                                                             \n",
            "                                                                 \n",
            " global_average_pooling2d_2   (None, 64)               0         \n",
            " (GlobalAveragePooling2D)                                        \n",
            "                                                                 \n",
            " dense_4 (Dense)             (None, 64)                4160      \n",
            "                                                                 \n",
            " dense_5 (Dense)             (None, 10)                650       \n",
            "                                                                 \n",
            "=================================================================\n",
            "Total params: 24,202\n",
            "Trainable params: 24,202\n",
            "Non-trainable params: 0\n",
            "_________________________________________________________________\n"
          ]
        }
      ],
      "source": [
        "inputs = layers.Input(shape=(30,30,3))\n",
        "x = layers.experimental.preprocessing.RandomFlip('horizontal')(inputs) # 데이터 증강 레이어1\n",
        "x = layers.experimental.preprocessing.RandomRotation(0.1)(x) # 데이터 증강 레이어2\n",
        "x = layers.experimental.preprocessing.RandomContrast(0.1)(x) # 데이터 증강 레이어3\n",
        "x = layers.Conv2D(32, 3, activation='relu')(inputs)\n",
        "x = layers.MaxPool2D()(x)\n",
        "x = layers.Conv2D(64, 3, activation='relu')(x)\n",
        "x = layers.MaxPool2D()(x)\n",
        "x = layers.GlobalAvgPool2D()(x)\n",
        "x = layers.Dense(64,activation='relu')(x)\n",
        "outputs = layers.Dense(10,activation='softmax')(x)\n",
        "model = tf.keras.Model(inputs, outputs)\n",
        "model.summary()"
      ]
    },
    {
      "cell_type": "code",
      "execution_count": null,
      "metadata": {
        "id": "7qYeoasFbP0g"
      },
      "outputs": [],
      "source": [
        "model.compile(optimizer='adam', loss=tf.keras.losses.SparseCategoricalCrossentropy(), metrics=['accuracy'])"
      ]
    },
    {
      "cell_type": "code",
      "execution_count": null,
      "metadata": {
        "colab": {
          "base_uri": "https://localhost:8080/"
        },
        "id": "3oeUhcU0bTVi",
        "outputId": "77e8ee54-9de7-431c-9b63-82eb2f10fc55"
      },
      "outputs": [
        {
          "name": "stdout",
          "output_type": "stream",
          "text": [
            "Epoch 1/10\n",
            "1407/1407 [==============================] - 53s 37ms/step - loss: 1.8592 - accuracy: 0.3549 - val_loss: 1.5201 - val_accuracy: 0.4214\n",
            "Epoch 2/10\n",
            "1407/1407 [==============================] - 52s 37ms/step - loss: 1.4592 - accuracy: 0.4708 - val_loss: 1.4459 - val_accuracy: 0.4696\n",
            "Epoch 3/10\n",
            "1407/1407 [==============================] - 52s 37ms/step - loss: 1.3535 - accuracy: 0.5152 - val_loss: 1.3552 - val_accuracy: 0.5136\n",
            "Epoch 4/10\n",
            "1407/1407 [==============================] - 51s 37ms/step - loss: 1.2796 - accuracy: 0.5440 - val_loss: 1.2096 - val_accuracy: 0.5734\n",
            "Epoch 5/10\n",
            "1407/1407 [==============================] - 54s 38ms/step - loss: 1.2218 - accuracy: 0.5685 - val_loss: 1.2815 - val_accuracy: 0.5422\n",
            "Epoch 6/10\n",
            "1407/1407 [==============================] - 53s 38ms/step - loss: 1.1765 - accuracy: 0.5830 - val_loss: 1.2277 - val_accuracy: 0.5698\n",
            "Epoch 7/10\n",
            "1407/1407 [==============================] - 57s 40ms/step - loss: 1.1337 - accuracy: 0.5994 - val_loss: 1.2279 - val_accuracy: 0.5632\n",
            "Epoch 8/10\n",
            "1407/1407 [==============================] - 54s 38ms/step - loss: 1.1027 - accuracy: 0.6106 - val_loss: 1.1478 - val_accuracy: 0.5952\n",
            "Epoch 9/10\n",
            "1407/1407 [==============================] - 53s 38ms/step - loss: 1.0697 - accuracy: 0.6238 - val_loss: 1.1266 - val_accuracy: 0.5978\n",
            "Epoch 10/10\n",
            "1407/1407 [==============================] - 53s 38ms/step - loss: 1.0440 - accuracy: 0.6342 - val_loss: 1.0877 - val_accuracy: 0.6160\n"
          ]
        }
      ],
      "source": [
        "his = model.fit(train_ds, epochs=10, validation_data=validation_ds)"
      ]
    },
    {
      "cell_type": "code",
      "execution_count": null,
      "metadata": {
        "colab": {
          "base_uri": "https://localhost:8080/",
          "height": 265
        },
        "id": "Boky2I7UeIIj",
        "outputId": "bfc10cb5-9d09-4a52-e411-28f7180ac335"
      },
      "outputs": [
        {
          "data": {
            "image/png": "[encoded data removed]",
            "text/plain": [
              "<Figure size 432x288 with 2 Axes>"
            ]
          },
          "metadata": {},
          "output_type": "display_data"
        }
      ],
      "source": [
        "plt.subplot(1,2,1)\n",
        "plt.plot(his.history['loss'])\n",
        "plt.plot(his.history['val_loss'])\n",
        "plt.subplot(1,2,2)\n",
        "plt.plot(his.history['accuracy'])\n",
        "plt.plot(his.history['val_accuracy'])\n",
        "plt.show()"
      ]
    },
    {
      "cell_type": "markdown",
      "metadata": {
        "id": "HOS0MEIfHkG9"
      },
      "source": [
        "# tensorflow.keras.utils.Sequence  사용"
      ]
    },
    {
      "cell_type": "code",
      "execution_count": null,
      "metadata": {
        "id": "SGBDp9exH_Xh"
      },
      "outputs": [],
      "source": [
        "train_folder = '/content/cifar10/train'\n",
        "test_folder = '/content/cifar10/test'\n",
        "train_path = sorted(glob.glob(train_folder+'/*/*')) # 파일 경로 리스트\n",
        "test_path = sorted(glob.glob(test_folder+'/*/*'))"
      ]
    },
    {
      "cell_type": "code",
      "execution_count": null,
      "metadata": {
        "id": "5aW91HX1IETo"
      },
      "outputs": [],
      "source": [
        "def label_make(path): # 파일명에서 라벨 추출(폴더별로 파일이 나눠져 있음)\n",
        "    label = []\n",
        "    for i in path:\n",
        "        label.append(i.split('/')[-2])\n",
        "    return label\n",
        "train_label = label_make(train_path)\n",
        "test_label = label_make(test_path)"
      ]
    },
    {
      "cell_type": "code",
      "execution_count": null,
      "metadata": {
        "id": "5uQyZwaGrBUU"
      },
      "outputs": [],
      "source": [
        "train_path, validation_path, train_label, validation_label = train_test_split(train_path, train_label, test_size=0.1, stratify=train_label)"
      ]
    },
    {
      "cell_type": "code",
      "source": [
        "classes = pd.get_dummies(train_label).columns\n",
        "train_label = pd.get_dummies(train_label).values\n",
        "validation_label = pd.get_dummies(validation_label).values"
      ],
      "metadata": {
        "id": "yJUPG_jMX5rs"
      },
      "execution_count": null,
      "outputs": []
    },
    {
      "cell_type": "code",
      "execution_count": null,
      "metadata": {
        "id": "Y9tvOK-XD5Ka"
      },
      "outputs": [],
      "source": [
        "transformer = A.Compose([A.HorizontalFlip(), # 데이터 증가\n",
        "                         A.ShiftScaleRotate(),\n",
        "                         A.RandomBrightnessContrast(),\n",
        "                         A.RandomFog(),\n",
        "                         A.Rotate(20)\n",
        "                         ])\n",
        "\n",
        "def argument(image): # 데이터 증강\n",
        "    image = transformer(image=image)['image']\n",
        "    return image\n",
        "\n",
        "class data_make(tf.keras.utils.Sequence):\n",
        "    def __init__(self, path, label=None, batch_size = 32, image_size=32, train=False, shuffle=False, prepro=None):\n",
        "        self.path = path\n",
        "        self.batch_size = batch_size \n",
        "        self.image_size = image_size\n",
        "        self.train = train\n",
        "        self.shuffle = shuffle\n",
        "        self.label = label\n",
        "        self.prepro = prepro\n",
        "\n",
        "        if self.shuffle : # 셔플이 True이면 셔플 진행\n",
        "            self.on_epoch_end()\n",
        "\n",
        "    def __len__(self):\n",
        "        return int(np.ceil(len(self.path) / self.batch_size))\n",
        "\n",
        "    def __getitem__(self, index):\n",
        "        path_sel = self.path[index*self.batch_size:(index+1)*self.batch_size] # 배치 크기만큼 선택\n",
        "        if self.label is not None: # 라벨이 있을시 라벨도\n",
        "            label_sel = self.label[index*self.batch_size:(index+1)*self.batch_size]\n",
        "        else:\n",
        "            label_sel = None\n",
        "\n",
        "        image = np.zeros((len(path_sel), self.image_size, self.image_size, 3), dtype=np.float32) # 이미지 파일의 판 \n",
        "        for i in range(len(path_sel)): # 이미지를 opencv로 읽고 색변경, 사이즈 조정\n",
        "            img = cv2.cvtColor(cv2.imread(path_sel[i]),cv2.COLOR_BGR2RGB)\n",
        "            img = cv2.resize(img, (self.image_size, self.image_size))\n",
        "            if self.train: # 훈련파일이면 데이터 증강\n",
        "                img = argument(img)\n",
        "            if self.prepro is not None:\n",
        "                img = self.prepro(img)\n",
        "            # img = tf.cast(img/255, dtype = tf.float32) # 이미지 정규화\n",
        "            image[i] = img #판에 추가\n",
        "            # image = tf.cast(image, tf.float32) #텐서화\n",
        "            # image.set_shape((len(path_sel), self.image_size, self.image_size, 3))\n",
        "\n",
        "        return image, np.array(label_sel)\n",
        "\n",
        "    def on_epoch_end(self): # 1에포크 종료시 데이터 셔플\n",
        "        if self.shuffle:\n",
        "            self.path, self.label = sklearn.utils.shuffle(self.path, self.label)\n",
        "        else:\n",
        "            pass"
      ]
    },
    {
      "cell_type": "code",
      "execution_count": null,
      "metadata": {
        "id": "1pyMEIl2Yuw7"
      },
      "outputs": [],
      "source": [
        "train_ds = data_make(train_path, train_label, image_size = 30, train = True, shuffle=True)\n",
        "validation_ds = data_make(validation_path, validation_label, image_size = 30, train = False, shuffle=False)\n",
        "test_ds = data_make(test_path, image_size = 30, train = False, shuffle=False)"
      ]
    },
    {
      "cell_type": "code",
      "execution_count": null,
      "metadata": {
        "colab": {
          "base_uri": "https://localhost:8080/"
        },
        "id": "J2D20Oujqeq8",
        "outputId": "4a09eb7b-86f7-4d20-af85-b2fb70660f64"
      },
      "outputs": [
        {
          "output_type": "stream",
          "name": "stdout",
          "text": [
            "Model: \"model_1\"\n",
            "_________________________________________________________________\n",
            " Layer (type)                Output Shape              Param #   \n",
            "=================================================================\n",
            " input_2 (InputLayer)        [(None, 30, 30, 3)]       0         \n",
            "                                                                 \n",
            " conv2d_2 (Conv2D)           (None, 28, 28, 32)        896       \n",
            "                                                                 \n",
            " max_pooling2d_2 (MaxPooling  (None, 14, 14, 32)       0         \n",
            " 2D)                                                             \n",
            "                                                                 \n",
            " conv2d_3 (Conv2D)           (None, 12, 12, 64)        18496     \n",
            "                                                                 \n",
            " max_pooling2d_3 (MaxPooling  (None, 6, 6, 64)         0         \n",
            " 2D)                                                             \n",
            "                                                                 \n",
            " global_average_pooling2d_1   (None, 64)               0         \n",
            " (GlobalAveragePooling2D)                                        \n",
            "                                                                 \n",
            " dense_2 (Dense)             (None, 64)                4160      \n",
            "                                                                 \n",
            " dense_3 (Dense)             (None, 10)                650       \n",
            "                                                                 \n",
            "=================================================================\n",
            "Total params: 24,202\n",
            "Trainable params: 24,202\n",
            "Non-trainable params: 0\n",
            "_________________________________________________________________\n"
          ]
        }
      ],
      "source": [
        "inputs = layers.Input(shape=(30,30,3))\n",
        "x = layers.Conv2D(32, 3, activation='relu')(inputs)\n",
        "x = layers.MaxPool2D()(x)\n",
        "x = layers.Conv2D(64, 3, activation='relu')(x)\n",
        "x = layers.MaxPool2D()(x)\n",
        "x = layers.GlobalAvgPool2D()(x)\n",
        "x = layers.Dense(64,activation='relu')(x)\n",
        "outputs = layers.Dense(10,activation='softmax')(x)\n",
        "model = tf.keras.Model(inputs, outputs)\n",
        "model.summary()"
      ]
    },
    {
      "cell_type": "code",
      "execution_count": null,
      "metadata": {
        "id": "bSlpDPyPjSW9"
      },
      "outputs": [],
      "source": [
        "model.compile(optimizer='adam', loss=tf.keras.losses.CategoricalCrossentropy(), metrics=['accuracy'])"
      ]
    },
    {
      "cell_type": "code",
      "execution_count": null,
      "metadata": {
        "colab": {
          "base_uri": "https://localhost:8080/"
        },
        "id": "rBawoOFnjUEh",
        "outputId": "401c3bcc-84c0-40e1-e4ec-5ad84760c9ec"
      },
      "outputs": [
        {
          "output_type": "stream",
          "name": "stdout",
          "text": [
            "Epoch 1/10\n",
            "1563/1563 [==============================] - 44s 28ms/step - loss: 2.1711 - accuracy: 0.2800 - val_loss: 1.6695 - val_accuracy: 0.3822\n",
            "Epoch 2/10\n",
            "1563/1563 [==============================] - 43s 28ms/step - loss: 1.6673 - accuracy: 0.3887 - val_loss: 1.5006 - val_accuracy: 0.4480\n",
            "Epoch 3/10\n",
            "1563/1563 [==============================] - 44s 28ms/step - loss: 1.5722 - accuracy: 0.4327 - val_loss: 1.4743 - val_accuracy: 0.4690\n",
            "Epoch 4/10\n",
            "1563/1563 [==============================] - 45s 29ms/step - loss: 1.5165 - accuracy: 0.4569 - val_loss: 1.3522 - val_accuracy: 0.5166\n",
            "Epoch 5/10\n",
            "1563/1563 [==============================] - 44s 28ms/step - loss: 1.4696 - accuracy: 0.4747 - val_loss: 1.3565 - val_accuracy: 0.5080\n",
            "Epoch 6/10\n",
            "1563/1563 [==============================] - 43s 28ms/step - loss: 1.4340 - accuracy: 0.4909 - val_loss: 1.2764 - val_accuracy: 0.5436\n",
            "Epoch 7/10\n",
            "1563/1563 [==============================] - 45s 29ms/step - loss: 1.3979 - accuracy: 0.5048 - val_loss: 1.2555 - val_accuracy: 0.5514\n",
            "Epoch 8/10\n",
            "1563/1563 [==============================] - 45s 29ms/step - loss: 1.3685 - accuracy: 0.5144 - val_loss: 1.2100 - val_accuracy: 0.5730\n",
            "Epoch 9/10\n",
            "1563/1563 [==============================] - 44s 28ms/step - loss: 1.3452 - accuracy: 0.5194 - val_loss: 1.2586 - val_accuracy: 0.5680\n",
            "Epoch 10/10\n",
            "1563/1563 [==============================] - 43s 28ms/step - loss: 1.3262 - accuracy: 0.5299 - val_loss: 1.2127 - val_accuracy: 0.5740\n"
          ]
        }
      ],
      "source": [
        "his = model.fit(train_ds, epochs=10, validation_data=validation_ds)"
      ]
    },
    {
      "cell_type": "code",
      "execution_count": null,
      "metadata": {
        "colab": {
          "base_uri": "https://localhost:8080/",
          "height": 265
        },
        "id": "7oTNsnIsxmkT",
        "outputId": "b61a5d83-e638-4173-d661-e8e58166c71a"
      },
      "outputs": [
        {
          "output_type": "display_data",
          "data": {
            "text/plain": [
              "<Figure size 432x288 with 2 Axes>"
            ],
            "image/png": "[encoded data removed]"
          },
          "metadata": {
            "needs_background": "light"
          }
        }
      ],
      "source": [
        "plt.subplot(1,2,1)\n",
        "plt.plot(his.history['loss'])\n",
        "plt.plot(his.history['val_loss'])\n",
        "plt.subplot(1,2,2)\n",
        "plt.plot(his.history['accuracy'])\n",
        "plt.plot(his.history['val_accuracy'])\n",
        "plt.show()"
      ]
    }
  ],
  "metadata": {
    "colab": {
      "collapsed_sections": [],
      "provenance": [],
      "toc_visible": true,
      "mount_file_id": "1Z1dCUVd8i138xys-P7cB8rphiEjyZhYN",
      "authorship_tag": "ABX9TyO45AG6pom0pbFBGNXJYvhM",
      "include_colab_link": true
    },
    "kernelspec": {
      "display_name": "Python 3",
      "name": "python3"
    },
    "language_info": {
      "name": "python"
    }
  },
  "nbformat": 4,
  "nbformat_minor": 0
}