{
  "cells": [
    {
      "cell_type": "markdown",
      "metadata": {
        "id": "view-in-github",
        "colab_type": "text"
      },
      "source": [
        "<a href=\"https://colab.research.google.com/github/chi-hun/chi-hun/blob/main/datasetmake(image).ipynb\" target=\"_parent\"><img src=\"https://colab.research.google.com/assets/colab-badge.svg\" alt=\"Open In Colab\"/></a>"
      ]
    },
    {
      "cell_type": "code",
      "execution_count": 447,
      "metadata": {
        "id": "RffAwHd5vU-q"
      },
      "outputs": [],
      "source": [
        "import tensorflow as tf\n",
        "from tensorflow.keras import layers\n",
        "import albumentations as A\n",
        "import matplotlib.pyplot as plt\n",
        "import numpy as np\n",
        "import pandas as pd\n",
        "import sklearn\n",
        "from sklearn.model_selection import train_test_split\n",
        "import glob\n",
        "import cv2\n",
        "import tqdm\n",
        "import time\n",
        "from functools import partial\n",
        "autotune = tf.data.experimental.AUTOTUNE"
      ]
    },
    {
      "cell_type": "markdown",
      "metadata": {
        "id": "7o8wX1jMv6Z2"
      },
      "source": [
        "# tf.data 사용"
      ]
    },
    {
      "cell_type": "markdown",
      "metadata": {
        "id": "2IKz8DzizgGm"
      },
      "source": [
        "## 이미지 넘파이 배열(이미 준비된 데이터)"
      ]
    },
    {
      "cell_type": "code",
      "execution_count": null,
      "metadata": {
        "id": "xWEUrdmSv-Se"
      },
      "outputs": [],
      "source": [
        "(x_train, y_train),(x_test, y_test) = tf.keras.datasets.cifar10.load_data()\n",
        "x_train, x_val, y_train, y_val = train_test_split(x_train, y_train, stratify=y_train, test_size=0.1)"
      ]
    },
    {
      "cell_type": "code",
      "execution_count": null,
      "metadata": {
        "id": "eMoouCdAzDZA"
      },
      "outputs": [],
      "source": [
        "img_size = 30\n",
        "# albumentations 변환 \n",
        "transformer = A.Compose([A.HorizontalFlip(),\n",
        "                         A.ShiftScaleRotate(),\n",
        "                         A.RandomBrightnessContrast(),\n",
        "                         A.RandomFog(),\n",
        "                         A.Rotate(20)\n",
        "                         ])\n",
        "\n",
        "def rescsi(image, label=None): # 이미지 리스케일 및 리사이즈\n",
        "    image = tf.cast(image/255, tf.float32)\n",
        "    image = tf.image.resize(image, size=(img_size, img_size))\n",
        "    image = tf.reshape(image, (30,30,3))\n",
        "    return image, label\n",
        "\n",
        "def argument(image, label): # 이미지 데이터 증강\n",
        "    image = transformer(image=image)['image']\n",
        "    image,label = rescsi(image, label) # 트레인데이터 경우 리스케일링, 리사이즈 동시 진행\n",
        "    return image, label\n",
        "\n",
        "def numpy_tf(image, label): # 텐서 넘파이 함수 화\n",
        "    image, label = tf.numpy_function(func=argument, inp=[image, label], Tout=[tf.float32, tf.uint8])\n",
        "    image.set_shape((img_size,img_size,3)) #텐서 크기 재지정 (지정 안할시 모델 훈련 오류발생)\n",
        "    label.set_shape((1,))\n",
        "    return image, label\n",
        "\n",
        "def make_dataset(image, label=None, train=False):\n",
        "    if label is not None  : \n",
        "        dataset = tf.data.Dataset.from_tensor_slices((image, label))       \n",
        "    else : # 라벨이 없을경우(test 데이터)\n",
        "        dataset = tf.data.Dataset.from_tensor_slices((image))\n",
        "    \n",
        "    if train : # train 데이터 경우 데이터 증가, 셔플\n",
        "        dataset = dataset.map(numpy_tf).shuffle(1024).batch(32)\n",
        "    else :\n",
        "        dataset = dataset.map(rescsi, num_parallel_calls=autotune).batch(32).prefetch(buffer_size=autotune)\n",
        "\n",
        "    return dataset"
      ]
    },
    {
      "cell_type": "code",
      "execution_count": 387,
      "metadata": {
        "id": "hvHkXTae_RCt",
        "colab": {
          "base_uri": "https://localhost:8080/",
          "height": 211
        },
        "outputId": "75f98153-33a0-47de-ca2a-f4aa829d2de4"
      },
      "outputs": [
        {
          "output_type": "error",
          "ename": "NameError",
          "evalue": "ignored",
          "traceback": [
            "\u001b[0;31m---------------------------------------------------------------------------\u001b[0m",
            "\u001b[0;31mNameError\u001b[0m                                 Traceback (most recent call last)",
            "\u001b[0;32m<ipython-input-387-c4a84f68c6a4>\u001b[0m in \u001b[0;36m<module>\u001b[0;34m\u001b[0m\n\u001b[0;32m----> 1\u001b[0;31m \u001b[0mtrain_ds\u001b[0m \u001b[0;34m=\u001b[0m \u001b[0mmake_dataset\u001b[0m\u001b[0;34m(\u001b[0m\u001b[0mx_train\u001b[0m\u001b[0;34m,\u001b[0m \u001b[0my_train\u001b[0m\u001b[0;34m,\u001b[0m \u001b[0;32mTrue\u001b[0m\u001b[0;34m)\u001b[0m\u001b[0;34m\u001b[0m\u001b[0;34m\u001b[0m\u001b[0m\n\u001b[0m\u001b[1;32m      2\u001b[0m \u001b[0mvalidation_ds\u001b[0m \u001b[0;34m=\u001b[0m \u001b[0mmake_dataset\u001b[0m\u001b[0;34m(\u001b[0m\u001b[0mx_val\u001b[0m\u001b[0;34m,\u001b[0m \u001b[0my_val\u001b[0m\u001b[0;34m,\u001b[0m \u001b[0;32mFalse\u001b[0m\u001b[0;34m)\u001b[0m\u001b[0;34m\u001b[0m\u001b[0;34m\u001b[0m\u001b[0m\n\u001b[1;32m      3\u001b[0m \u001b[0mtest_ds\u001b[0m \u001b[0;34m=\u001b[0m \u001b[0mmake_dataset\u001b[0m\u001b[0;34m(\u001b[0m\u001b[0mx_test\u001b[0m\u001b[0;34m,\u001b[0m\u001b[0mtrain\u001b[0m\u001b[0;34m=\u001b[0m\u001b[0;32mFalse\u001b[0m\u001b[0;34m)\u001b[0m\u001b[0;34m\u001b[0m\u001b[0;34m\u001b[0m\u001b[0m\n",
            "\u001b[0;31mNameError\u001b[0m: name 'make_dataset' is not defined"
          ]
        }
      ],
      "source": [
        "train_ds = make_dataset(x_train, y_train, True)\n",
        "validation_ds = make_dataset(x_val, y_val, False)\n",
        "test_ds = make_dataset(x_test,train=False)"
      ]
    },
    {
      "cell_type": "code",
      "execution_count": null,
      "metadata": {
        "colab": {
          "base_uri": "https://localhost:8080/"
        },
        "id": "8eIvUb_SH8ip",
        "outputId": "83778efb-573a-41eb-d01a-bb2ffca6b0f4"
      },
      "outputs": [
        {
          "name": "stdout",
          "output_type": "stream",
          "text": [
            "Model: \"model_15\"\n",
            "_________________________________________________________________\n",
            " Layer (type)                Output Shape              Param #   \n",
            "=================================================================\n",
            " input_42 (InputLayer)       [(None, 30, 30, 3)]       0         \n",
            "                                                                 \n",
            " conv2d_26 (Conv2D)          (None, 28, 28, 32)        896       \n",
            "                                                                 \n",
            " max_pooling2d_25 (MaxPoolin  (None, 14, 14, 32)       0         \n",
            " g2D)                                                            \n",
            "                                                                 \n",
            " conv2d_27 (Conv2D)          (None, 12, 12, 64)        18496     \n",
            "                                                                 \n",
            " max_pooling2d_26 (MaxPoolin  (None, 6, 6, 64)         0         \n",
            " g2D)                                                            \n",
            "                                                                 \n",
            " global_average_pooling2d_16  (None, 64)               0         \n",
            "  (GlobalAveragePooling2D)                                       \n",
            "                                                                 \n",
            " dense_32 (Dense)            (None, 64)                4160      \n",
            "                                                                 \n",
            " dense_33 (Dense)            (None, 10)                650       \n",
            "                                                                 \n",
            "=================================================================\n",
            "Total params: 24,202\n",
            "Trainable params: 24,202\n",
            "Non-trainable params: 0\n",
            "_________________________________________________________________\n"
          ]
        }
      ],
      "source": [
        "inputs = layers.Input(shape=(30,30,3))\n",
        "x = layers.Conv2D(32, 3, activation='relu')(inputs)\n",
        "x = layers.MaxPool2D()(x)\n",
        "x = layers.Conv2D(64, 3, activation='relu')(x)\n",
        "x = layers.MaxPool2D()(x)\n",
        "x = layers.GlobalAvgPool2D()(x)\n",
        "x = layers.Dense(64,activation='relu')(x)\n",
        "outputs = layers.Dense(10,activation='softmax')(x)\n",
        "model = tf.keras.Model(inputs, outputs)\n",
        "model.summary()"
      ]
    },
    {
      "cell_type": "code",
      "execution_count": null,
      "metadata": {
        "id": "pT_10S5TI9oX"
      },
      "outputs": [],
      "source": [
        "model.compile(optimizer='adam', loss=tf.keras.losses.SparseCategoricalCrossentropy(), metrics=['accuracy'])"
      ]
    },
    {
      "cell_type": "code",
      "execution_count": null,
      "metadata": {
        "colab": {
          "base_uri": "https://localhost:8080/"
        },
        "id": "0qrgJR3ZJKCF",
        "outputId": "6fdf29ec-5e9e-4c92-c569-c77275995a33"
      },
      "outputs": [
        {
          "name": "stdout",
          "output_type": "stream",
          "text": [
            "Epoch 1/10\n",
            "1407/1407 [==============================] - 96s 67ms/step - loss: 1.9596 - accuracy: 0.2542 - val_loss: 1.7543 - val_accuracy: 0.3278\n",
            "Epoch 2/10\n",
            "1407/1407 [==============================] - 98s 69ms/step - loss: 1.7657 - accuracy: 0.3385 - val_loss: 1.6549 - val_accuracy: 0.3934\n",
            "Epoch 3/10\n",
            "1407/1407 [==============================] - 88s 62ms/step - loss: 1.6778 - accuracy: 0.3816 - val_loss: 1.5764 - val_accuracy: 0.4244\n",
            "Epoch 4/10\n",
            "1407/1407 [==============================] - 87s 61ms/step - loss: 1.6075 - accuracy: 0.4141 - val_loss: 1.5331 - val_accuracy: 0.4332\n",
            "Epoch 5/10\n",
            "1407/1407 [==============================] - 86s 61ms/step - loss: 1.5600 - accuracy: 0.4328 - val_loss: 1.4808 - val_accuracy: 0.4608\n",
            "Epoch 6/10\n",
            "1407/1407 [==============================] - 86s 61ms/step - loss: 1.5287 - accuracy: 0.4459 - val_loss: 1.4218 - val_accuracy: 0.4772\n",
            "Epoch 7/10\n",
            "1407/1407 [==============================] - 86s 60ms/step - loss: 1.4977 - accuracy: 0.4577 - val_loss: 1.3545 - val_accuracy: 0.5070\n",
            "Epoch 8/10\n",
            "1407/1407 [==============================] - 87s 61ms/step - loss: 1.4687 - accuracy: 0.4672 - val_loss: 1.3732 - val_accuracy: 0.5040\n",
            "Epoch 9/10\n",
            "1407/1407 [==============================] - 86s 60ms/step - loss: 1.4490 - accuracy: 0.4735 - val_loss: 1.3808 - val_accuracy: 0.5040\n",
            "Epoch 10/10\n",
            "1407/1407 [==============================] - 86s 61ms/step - loss: 1.4245 - accuracy: 0.4828 - val_loss: 1.2967 - val_accuracy: 0.5290\n"
          ]
        }
      ],
      "source": [
        "his = model.fit(train_ds, epochs=10, validation_data=validation_ds)"
      ]
    },
    {
      "cell_type": "code",
      "execution_count": null,
      "metadata": {
        "colab": {
          "base_uri": "https://localhost:8080/",
          "height": 265
        },
        "id": "iyIzC27heygG",
        "outputId": "e04a8133-36ed-455c-99bf-e2c9e94ec4e6"
      },
      "outputs": [
        {
          "data": {
            "image/png": "[encoded data removed]",
            "text/plain": [
              "<Figure size 432x288 with 2 Axes>"
            ]
          },
          "metadata": {},
          "output_type": "display_data"
        }
      ],
      "source": [
        "plt.subplot(1,2,1)\n",
        "plt.plot(his.history['loss'])\n",
        "plt.plot(his.history['val_loss'])\n",
        "plt.subplot(1,2,2)\n",
        "plt.plot(his.history['accuracy'])\n",
        "plt.plot(his.history['val_accuracy'])\n",
        "plt.show()"
      ]
    },
    {
      "cell_type": "markdown",
      "metadata": {
        "id": "EAjKgn4hgpEy"
      },
      "source": [
        "## 이미지 파일(albumentations로 증강)"
      ]
    },
    {
      "cell_type": "code",
      "execution_count": null,
      "metadata": {
        "id": "bwVBhBmOhOOL"
      },
      "outputs": [],
      "source": [
        "!unzip -qq '/content/drive/MyDrive/Colab Notebooks/공부/archi.zip'"
      ]
    },
    {
      "cell_type": "code",
      "execution_count": null,
      "metadata": {
        "id": "oY9QK0qVifMF"
      },
      "outputs": [],
      "source": [
        "train_folder = '/content/cifar10/train'\n",
        "test_folder = '/content/cifar10/test'\n",
        "train_path = sorted(glob.glob(train_folder+'/*/*')) # 파일 경로 리스트\n",
        "test_path = sorted(glob.glob(test_folder+'/*/*'))"
      ]
    },
    {
      "cell_type": "code",
      "execution_count": null,
      "metadata": {
        "id": "vjVVxDkCjYHB"
      },
      "outputs": [],
      "source": [
        "def label_make(path): # 파일명에서 라벨 추출(폴더별로 파일이 나눠져 있음)\n",
        "    label = []\n",
        "    for i in path:\n",
        "        label.append(i.split('/')[-2])\n",
        "    return label\n",
        "train_label = label_make(train_path)\n",
        "test_label = label_make(test_path)"
      ]
    },
    {
      "cell_type": "code",
      "execution_count": null,
      "metadata": {
        "id": "MnP3MIAFlOw_"
      },
      "outputs": [],
      "source": [
        "train_label = pd.get_dummies(train_label) # 원핫인코딩\n",
        "test_label = pd.get_dummies(test_label)"
      ]
    },
    {
      "cell_type": "code",
      "execution_count": null,
      "metadata": {
        "colab": {
          "base_uri": "https://localhost:8080/"
        },
        "id": "NR7edIrxnBgN",
        "outputId": "de4ca831-bbec-4a34-9126-7f461913e790"
      },
      "outputs": [
        {
          "output_type": "execute_result",
          "data": {
            "text/plain": [
              "(45000, 5000, 45000, 5000)"
            ]
          },
          "metadata": {},
          "execution_count": 6
        }
      ],
      "source": [
        "train_path, validation_path, train_label, validation_label = train_test_split(train_path, train_label, stratify=train_label, test_size=0.1) # 훈련, 검증셋 분리\n",
        "len(train_path), len(validation_path), len(train_label), len(validation_label)"
      ]
    },
    {
      "cell_type": "code",
      "execution_count": null,
      "metadata": {
        "id": "QX40DPEouSpn"
      },
      "outputs": [],
      "source": [
        "transformer = A.Compose([A.HorizontalFlip(), # 데이터 증가\n",
        "                         A.ShiftScaleRotate(),\n",
        "                         A.RandomBrightnessContrast(),\n",
        "                         A.RandomFog(),\n",
        "                         A.Rotate(20)\n",
        "                         ])\n",
        "\n",
        "img_size = 30 # 변경 이미지 사이즈(원본 32)\n",
        "\n",
        "def make_image(path, label=None): # 이미지 경로에서 파일 블러와 텐서로 변경(image)\n",
        "    image = tf.io.decode_image(tf.io.read_file(path), expand_animations = False)\n",
        "    return image, label\n",
        "\n",
        "def rescale_resize(image, label=None): # 이미지 정규화, 사이즈 조정\n",
        "    image = tf.cast(image/255, tf.float32)\n",
        "    image = tf.image.resize(image, size=((img_size, img_size)))\n",
        "    return image, label\n",
        "\n",
        "def argument(image, label): # 이미지 증가(리사이즈 동시 진행)\n",
        "    image = transformer(image=image)['image']\n",
        "    image, label = rescale_resize(image, label)\n",
        "    return image, label\n",
        "\n",
        "def num_fuc(image, label): #  이미지 넘파이 함수 텐서플로우 함수로 계산\n",
        "    image, label = tf.numpy_function(func=argument, inp=[image, label], Tout=[tf.float32, tf.uint8])\n",
        "    image.set_shape((img_size, img_size, 3)) # 출력되는 모양 재정의\n",
        "    label.set_shape((10,))\n",
        "    return image, label\n",
        "\n",
        "def make_dataset(path, label=None, train=False): # 데이터 메이커(훈련, 검증, 테스트)\n",
        "    if label is not None : # 테스트 데이터인지 확인\n",
        "        dataset = tf.data.Dataset.from_tensor_slices((path, label))\n",
        "        dataset = dataset.map(make_image)\n",
        "    else :\n",
        "        dataset = tf.data.Dataset.from_tensor_slices((path))\n",
        "        dataset = dataset.map(make_image)\n",
        "\n",
        "    if train: # 훈련용 데이터 인지 확인\n",
        "        dataset = dataset.map(num_fuc, num_parallel_calls=autotune).shuffle(1024).batch(32).prefetch(buffer_size=autotune)\n",
        "    else :\n",
        "        dataset = dataset.map(rescale_resize, num_parallel_calls=autotune).batch(32).prefetch(buffer_size=autotune)\n",
        "\n",
        "    return dataset"
      ]
    },
    {
      "cell_type": "code",
      "execution_count": null,
      "metadata": {
        "id": "olLLHnmm3yWQ"
      },
      "outputs": [],
      "source": [
        "train_ds = make_dataset(train_path, train_label, True)\n",
        "validation_ds = make_dataset(validation_path, validation_label, train=False)\n",
        "test_ds = make_dataset(test_path, train = False)"
      ]
    },
    {
      "cell_type": "code",
      "execution_count": null,
      "metadata": {
        "colab": {
          "base_uri": "https://localhost:8080/"
        },
        "id": "_57L8_Bd46Ns",
        "outputId": "b63b1801-bc72-418c-85a9-3a6f31018c0f"
      },
      "outputs": [
        {
          "output_type": "stream",
          "name": "stdout",
          "text": [
            "Model: \"model\"\n",
            "_________________________________________________________________\n",
            " Layer (type)                Output Shape              Param #   \n",
            "=================================================================\n",
            " input_1 (InputLayer)        [(None, 30, 30, 3)]       0         \n",
            "                                                                 \n",
            " conv2d (Conv2D)             (None, 28, 28, 32)        896       \n",
            "                                                                 \n",
            " max_pooling2d (MaxPooling2D  (None, 14, 14, 32)       0         \n",
            " )                                                               \n",
            "                                                                 \n",
            " conv2d_1 (Conv2D)           (None, 12, 12, 64)        18496     \n",
            "                                                                 \n",
            " max_pooling2d_1 (MaxPooling  (None, 6, 6, 64)         0         \n",
            " 2D)                                                             \n",
            "                                                                 \n",
            " global_average_pooling2d (G  (None, 64)               0         \n",
            " lobalAveragePooling2D)                                          \n",
            "                                                                 \n",
            " dense (Dense)               (None, 64)                4160      \n",
            "                                                                 \n",
            " dense_1 (Dense)             (None, 10)                650       \n",
            "                                                                 \n",
            "=================================================================\n",
            "Total params: 24,202\n",
            "Trainable params: 24,202\n",
            "Non-trainable params: 0\n",
            "_________________________________________________________________\n"
          ]
        }
      ],
      "source": [
        "inputs = layers.Input(shape=(30,30,3))\n",
        "x = layers.Conv2D(32, 3, activation='relu')(inputs)\n",
        "x = layers.MaxPool2D()(x)\n",
        "x = layers.Conv2D(64, 3, activation='relu')(x)\n",
        "x = layers.MaxPool2D()(x)\n",
        "x = layers.GlobalAvgPool2D()(x)\n",
        "x = layers.Dense(64,activation='relu')(x)\n",
        "outputs = layers.Dense(10,activation='softmax')(x)\n",
        "model = tf.keras.Model(inputs, outputs)\n",
        "model.summary()"
      ]
    },
    {
      "cell_type": "code",
      "execution_count": null,
      "metadata": {
        "id": "LTLMuJNH7aNC"
      },
      "outputs": [],
      "source": [
        "model.compile(optimizer='adam', loss=tf.keras.losses.CategoricalCrossentropy(), metrics=['accuracy'])"
      ]
    },
    {
      "cell_type": "code",
      "execution_count": null,
      "metadata": {
        "colab": {
          "base_uri": "https://localhost:8080/"
        },
        "id": "wPTRS1My7e1w",
        "outputId": "ec7dabed-d122-4553-f558-46c369653045"
      },
      "outputs": [
        {
          "output_type": "stream",
          "name": "stdout",
          "text": [
            "Epoch 1/10\n",
            "1407/1407 [==============================] - 105s 73ms/step - loss: 1.9469 - accuracy: 0.2581 - val_loss: 1.8073 - val_accuracy: 0.3162\n",
            "Epoch 2/10\n",
            "1407/1407 [==============================] - 104s 73ms/step - loss: 1.7597 - accuracy: 0.3409 - val_loss: 1.6440 - val_accuracy: 0.3964\n",
            "Epoch 3/10\n",
            "1407/1407 [==============================] - 115s 81ms/step - loss: 1.6560 - accuracy: 0.3918 - val_loss: 1.6519 - val_accuracy: 0.3996\n",
            "Epoch 4/10\n",
            "1407/1407 [==============================] - 105s 73ms/step - loss: 1.5918 - accuracy: 0.4172 - val_loss: 1.5814 - val_accuracy: 0.4388\n",
            "Epoch 5/10\n",
            "1407/1407 [==============================] - 109s 76ms/step - loss: 1.5505 - accuracy: 0.4343 - val_loss: 1.4705 - val_accuracy: 0.4704\n",
            "Epoch 6/10\n",
            "1407/1407 [==============================] - 103s 72ms/step - loss: 1.5168 - accuracy: 0.4531 - val_loss: 1.4208 - val_accuracy: 0.4908\n",
            "Epoch 7/10\n",
            "1407/1407 [==============================] - 104s 73ms/step - loss: 1.4825 - accuracy: 0.4651 - val_loss: 1.3920 - val_accuracy: 0.5022\n",
            "Epoch 8/10\n",
            "1407/1407 [==============================] - 100s 70ms/step - loss: 1.4603 - accuracy: 0.4721 - val_loss: 1.3789 - val_accuracy: 0.5146\n",
            "Epoch 9/10\n",
            "1407/1407 [==============================] - 100s 70ms/step - loss: 1.4433 - accuracy: 0.4771 - val_loss: 1.3927 - val_accuracy: 0.5046\n",
            "Epoch 10/10\n",
            "1407/1407 [==============================] - 111s 78ms/step - loss: 1.4262 - accuracy: 0.4832 - val_loss: 1.4309 - val_accuracy: 0.5066\n"
          ]
        }
      ],
      "source": [
        "his = model.fit(train_ds, epochs=10, validation_data=validation_ds)"
      ]
    },
    {
      "cell_type": "code",
      "execution_count": null,
      "metadata": {
        "colab": {
          "base_uri": "https://localhost:8080/",
          "height": 265
        },
        "id": "01XD924XAjgd",
        "outputId": "8320f5a9-12cc-492d-f01e-d10ea68fb960"
      },
      "outputs": [
        {
          "output_type": "display_data",
          "data": {
            "text/plain": [
              "<Figure size 432x288 with 2 Axes>"
            ],
            "image/png": "[encoded data removed]"
          },
          "metadata": {
            "needs_background": "light"
          }
        }
      ],
      "source": [
        "plt.subplot(1,2,1)\n",
        "plt.plot(his.history['loss'])\n",
        "plt.plot(his.history['val_loss'])\n",
        "plt.subplot(1,2,2)\n",
        "plt.plot(his.history['accuracy'])\n",
        "plt.plot(his.history['val_accuracy'])\n",
        "plt.show()"
      ]
    },
    {
      "cell_type": "markdown",
      "metadata": {
        "id": "3Jr2dTOlL8eJ"
      },
      "source": [
        "StratifiedKFold 사용"
      ]
    },
    {
      "cell_type": "code",
      "execution_count": null,
      "metadata": {
        "id": "TaiC92he-7-S"
      },
      "outputs": [],
      "source": [
        "from sklearn.model_selection import StratifiedKFold\n",
        "from sklearn.utils import shuffle"
      ]
    },
    {
      "cell_type": "code",
      "execution_count": null,
      "metadata": {
        "colab": {
          "base_uri": "https://localhost:8080/"
        },
        "id": "iw_7EpLVEall",
        "outputId": "aba3331f-b8cf-4e9e-bb6b-ed12538fa1ad"
      },
      "outputs": [
        {
          "name": "stdout",
          "output_type": "stream",
          "text": [
            "1/20\n",
            "1547/1547 [==============================] - 88s 57ms/step - loss: 2.2255 - accuracy: 0.1579 - val_loss: 1.8637 - val_accuracy: 0.2900\n",
            "2/20\n",
            "1547/1547 [==============================] - 86s 55ms/step - loss: 1.8009 - accuracy: 0.3165 - val_loss: 1.6712 - val_accuracy: 0.3380\n",
            "3/20\n",
            "1547/1547 [==============================] - 87s 55ms/step - loss: 1.7007 - accuracy: 0.3674 - val_loss: 1.6154 - val_accuracy: 0.3800\n",
            "4/20\n",
            "1547/1547 [==============================] - 86s 55ms/step - loss: 1.6286 - accuracy: 0.4045 - val_loss: 1.5158 - val_accuracy: 0.4260\n",
            "5/20\n",
            "1547/1547 [==============================] - 88s 57ms/step - loss: 1.5707 - accuracy: 0.4279 - val_loss: 1.5424 - val_accuracy: 0.4440\n",
            "6/20\n",
            "1547/1547 [==============================] - 88s 57ms/step - loss: 1.5403 - accuracy: 0.4408 - val_loss: 1.3839 - val_accuracy: 0.4960\n",
            "7/20\n",
            "1547/1547 [==============================] - 93s 60ms/step - loss: 1.5023 - accuracy: 0.4550 - val_loss: 1.3391 - val_accuracy: 0.5260\n",
            "8/20\n",
            "1547/1547 [==============================] - 88s 57ms/step - loss: 1.4838 - accuracy: 0.4632 - val_loss: 1.5439 - val_accuracy: 0.4560\n",
            "9/20\n",
            "1547/1547 [==============================] - 88s 56ms/step - loss: 1.4546 - accuracy: 0.4744 - val_loss: 1.2364 - val_accuracy: 0.5520\n",
            "10/20\n",
            "1547/1547 [==============================] - 86s 55ms/step - loss: 1.4357 - accuracy: 0.4816 - val_loss: 1.3258 - val_accuracy: 0.5320\n",
            "11/20\n",
            "1547/1547 [==============================] - 87s 56ms/step - loss: 1.4184 - accuracy: 0.4909 - val_loss: 1.3428 - val_accuracy: 0.5380\n",
            "12/20\n",
            "1547/1547 [==============================] - 87s 56ms/step - loss: 1.3992 - accuracy: 0.4975 - val_loss: 1.2074 - val_accuracy: 0.5520\n",
            "13/20\n",
            "1547/1547 [==============================] - 93s 60ms/step - loss: 1.3839 - accuracy: 0.5038 - val_loss: 1.2652 - val_accuracy: 0.5520\n",
            "14/20\n",
            "1547/1547 [==============================] - 88s 57ms/step - loss: 1.3628 - accuracy: 0.5101 - val_loss: 1.2895 - val_accuracy: 0.5280\n",
            "15/20\n",
            "1547/1547 [==============================] - 96s 62ms/step - loss: 1.3511 - accuracy: 0.5154 - val_loss: 1.2622 - val_accuracy: 0.5460\n",
            "16/20\n",
            "1547/1547 [==============================] - 94s 61ms/step - loss: 1.3403 - accuracy: 0.5164 - val_loss: 1.1795 - val_accuracy: 0.5780\n",
            "17/20\n",
            "1547/1547 [==============================] - 89s 57ms/step - loss: 1.3316 - accuracy: 0.5230 - val_loss: 1.1415 - val_accuracy: 0.5620\n",
            "18/20\n",
            "1547/1547 [==============================] - 89s 57ms/step - loss: 1.3219 - accuracy: 0.5275 - val_loss: 1.1666 - val_accuracy: 0.5880\n",
            "19/20\n",
            "1547/1547 [==============================] - 89s 57ms/step - loss: 1.3048 - accuracy: 0.5334 - val_loss: 1.2594 - val_accuracy: 0.5640\n",
            "20/20\n",
            "1547/1547 [==============================] - 87s 56ms/step - loss: 1.3022 - accuracy: 0.5344 - val_loss: 1.1523 - val_accuracy: 0.6020\n"
          ]
        }
      ],
      "source": [
        "epochs = 20\n",
        "skf = StratifiedKFold(100, shuffle=True) # kfold\n",
        "train_path, train_label = shuffle(train_path, train_label) # shuffle\n",
        "skf_li = list(skf.split(train_path, train_label)) # kfold 실행결과 리스트\n",
        "train_df = pd.DataFrame({'path':train_path, 'label':train_label}) # 데이터 프레임화\n",
        "\n",
        "for epoch in range(epochs): # 훈련\n",
        "    print(f'{epoch+1}/{epochs}')\n",
        "    i, j = skf_li[epoch] # kfold 인덱스 반환\n",
        "    train_path_x = train_df['path'][i].values # 훈련 데이터 프레임\n",
        "    train_label_x = pd.get_dummies(train_df['label'][i].values)\n",
        "    validation_path_x = train_df['path'][j].values # 검증 데이터 프레임\n",
        "    validation_label_x = pd.get_dummies(train_df['label'][j].values) \n",
        "    train_ds = make_dataset(train_path_x, train_label_x, True) # 데이터셋 만들기\n",
        "    validation_ds = make_dataset(validation_path_x, validation_label_x, False)\n",
        "    his = model.fit(train_ds, epochs=1, validation_data=validation_ds) # 훈련"
      ]
    },
    {
      "cell_type": "markdown",
      "source": [
        "## 이미지(tf.image로 증강)"
      ],
      "metadata": {
        "id": "VXQKtmQwSS_a"
      }
    },
    {
      "cell_type": "code",
      "source": [
        "def make_image(labeled):\n",
        "    def read_image(path):\n",
        "        img = tf.io.read_file(path)\n",
        "        img = tf.image.decode_jpeg(img, channels=3) #jpeg, image\n",
        "        img = tf.cast(img, tf.float32) / 255.0\n",
        "        img = tf.image.resize(img, (img_size, img_size))\n",
        "        return img\n",
        "    \n",
        "    def image_with_label(path, label):\n",
        "        return read_image(path), label\n",
        "    \n",
        "    return image_with_label if labeled else read_image\n",
        "\n",
        "\n",
        "def make_argument(labeled):\n",
        "    def image_argument(img):\n",
        "        img = tf.image.random_flip_left_right(img)\n",
        "        img = tf.image.random_flip_up_down(img)\n",
        "        img = tf.image.random_brightness(img, 0.05)\n",
        "        img = tf.image.random_contrast(img, 0.95, 1.05) # 대비\n",
        "        img = tf.image.random_hue(img, 0.05) # 색조\n",
        "        img = tf.image.random_saturation(img, 0.95, 1.05) # 채도\n",
        "        return img\n",
        "    \n",
        "    def argument_with_label(img, label):\n",
        "        return image_argument(img), label\n",
        "\n",
        "    return argument_with_label if labeled else image_argument\n",
        "\n",
        "\n",
        "def make_dataset(path, label=None, labeled=False, img_size=300, batch=32, argument=False, repeat=False, shuffle=False):\n",
        "    image_f = make_image(labeled)\n",
        "    argument_f = make_argument(labeled)\n",
        "\n",
        "    if labeled:\n",
        "        dataset = tf.data.Dataset.from_tensor_slices((path, label))\n",
        "    else:\n",
        "        dataset = tf.data.Dataset.from_tensor_slices((path))\n",
        "    dataset = dataset.map(image_f, num_parallel_calls=autotune)\n",
        "    if argument:\n",
        "        dataset = dataset.map(argument_f, num_parallel_calls=autotune)\n",
        "    if repeat:\n",
        "        dataset = dataset.repeat()\n",
        "    if shuffle:\n",
        "        dataset = dataset.shuffle(1024)\n",
        "    dataset = dataset.batch(batch)\n",
        "    dataset = dataset.prefetch(autotune)\n",
        "\n",
        "    return dataset"
      ],
      "metadata": {
        "id": "VJwgOcmZBUhq"
      },
      "execution_count": null,
      "outputs": []
    },
    {
      "cell_type": "code",
      "source": [
        "img_size = 30 # 변경 이미지 사이즈(원본 32)\n",
        "train_ds = make_dataset(train_path, train_label.values, labeled=True, img_size=img_size, batch=32, argument=True, repeat=False, shuffle=True)\n",
        "validation_ds = make_dataset(validation_path, validation_label.values, labeled=True, img_size=img_size, batch=32, argument=False, repeat=False, shuffle=False)"
      ],
      "metadata": {
        "id": "uLZTa8iaXPI_"
      },
      "execution_count": null,
      "outputs": []
    },
    {
      "cell_type": "code",
      "source": [
        "inputs = layers.Input(shape=(30,30,3))\n",
        "x = layers.Conv2D(32, 3, activation='relu')(inputs)\n",
        "x = layers.MaxPool2D()(x)\n",
        "x = layers.Conv2D(64, 3, activation='relu')(x)\n",
        "x = layers.MaxPool2D()(x)\n",
        "x = layers.GlobalAvgPool2D()(x)\n",
        "x = layers.Dense(64,activation='relu')(x)\n",
        "outputs = layers.Dense(10,activation='softmax')(x)\n",
        "model = tf.keras.Model(inputs, outputs)\n",
        "model.summary()"
      ],
      "metadata": {
        "colab": {
          "base_uri": "https://localhost:8080/"
        },
        "id": "ZFlXRdLVaS9s",
        "outputId": "9458c177-1958-411e-fb86-390be3e1bede"
      },
      "execution_count": null,
      "outputs": [
        {
          "output_type": "stream",
          "name": "stdout",
          "text": [
            "Model: \"model\"\n",
            "_________________________________________________________________\n",
            " Layer (type)                Output Shape              Param #   \n",
            "=================================================================\n",
            " input_1 (InputLayer)        [(None, 30, 30, 3)]       0         \n",
            "                                                                 \n",
            " conv2d (Conv2D)             (None, 28, 28, 32)        896       \n",
            "                                                                 \n",
            " max_pooling2d (MaxPooling2D  (None, 14, 14, 32)       0         \n",
            " )                                                               \n",
            "                                                                 \n",
            " conv2d_1 (Conv2D)           (None, 12, 12, 64)        18496     \n",
            "                                                                 \n",
            " max_pooling2d_1 (MaxPooling  (None, 6, 6, 64)         0         \n",
            " 2D)                                                             \n",
            "                                                                 \n",
            " global_average_pooling2d (G  (None, 64)               0         \n",
            " lobalAveragePooling2D)                                          \n",
            "                                                                 \n",
            " dense (Dense)               (None, 64)                4160      \n",
            "                                                                 \n",
            " dense_1 (Dense)             (None, 10)                650       \n",
            "                                                                 \n",
            "=================================================================\n",
            "Total params: 24,202\n",
            "Trainable params: 24,202\n",
            "Non-trainable params: 0\n",
            "_________________________________________________________________\n"
          ]
        }
      ]
    },
    {
      "cell_type": "code",
      "source": [
        "model.compile(optimizer='adam', loss=tf.keras.losses.CategoricalCrossentropy(), metrics=['accuracy'])\n",
        "his = model.fit(train_ds, epochs=10, validation_data=validation_ds)"
      ],
      "metadata": {
        "colab": {
          "base_uri": "https://localhost:8080/"
        },
        "id": "fM1KEsN2a7qM",
        "outputId": "a28f587d-a30a-41ba-fc2f-3f6851079a4a"
      },
      "execution_count": null,
      "outputs": [
        {
          "output_type": "stream",
          "name": "stdout",
          "text": [
            "Epoch 1/10\n",
            "1407/1407 [==============================] - 88s 62ms/step - loss: 1.9035 - accuracy: 0.2718 - val_loss: 1.7505 - val_accuracy: 0.3146\n",
            "Epoch 2/10\n",
            "1407/1407 [==============================] - 88s 62ms/step - loss: 1.7092 - accuracy: 0.3535 - val_loss: 1.7220 - val_accuracy: 0.3640\n",
            "Epoch 3/10\n",
            "1407/1407 [==============================] - 90s 63ms/step - loss: 1.6177 - accuracy: 0.3976 - val_loss: 1.5601 - val_accuracy: 0.4198\n",
            "Epoch 4/10\n",
            "1407/1407 [==============================] - 84s 60ms/step - loss: 1.5461 - accuracy: 0.4317 - val_loss: 1.5081 - val_accuracy: 0.4450\n",
            "Epoch 5/10\n",
            "1407/1407 [==============================] - 85s 60ms/step - loss: 1.5000 - accuracy: 0.4519 - val_loss: 1.4651 - val_accuracy: 0.4624\n",
            "Epoch 6/10\n",
            "1407/1407 [==============================] - 84s 59ms/step - loss: 1.4653 - accuracy: 0.4665 - val_loss: 1.4284 - val_accuracy: 0.4796\n",
            "Epoch 7/10\n",
            "1407/1407 [==============================] - 87s 62ms/step - loss: 1.4311 - accuracy: 0.4789 - val_loss: 1.4195 - val_accuracy: 0.4822\n",
            "Epoch 8/10\n",
            "1407/1407 [==============================] - 84s 59ms/step - loss: 1.4067 - accuracy: 0.4912 - val_loss: 1.4096 - val_accuracy: 0.4860\n",
            "Epoch 9/10\n",
            "1407/1407 [==============================] - 90s 64ms/step - loss: 1.3891 - accuracy: 0.5009 - val_loss: 1.4049 - val_accuracy: 0.4938\n",
            "Epoch 10/10\n",
            "1407/1407 [==============================] - 87s 62ms/step - loss: 1.3653 - accuracy: 0.5085 - val_loss: 1.3865 - val_accuracy: 0.4960\n"
          ]
        }
      ]
    },
    {
      "cell_type": "code",
      "source": [
        "plt.subplot(1,2,1)\n",
        "plt.plot(his.history['loss'])\n",
        "plt.plot(his.history['val_loss'])\n",
        "plt.subplot(1,2,2)\n",
        "plt.plot(his.history['accuracy'])\n",
        "plt.plot(his.history['val_accuracy'])\n",
        "plt.show()"
      ],
      "metadata": {
        "colab": {
          "base_uri": "https://localhost:8080/",
          "height": 265
        },
        "id": "1L_fmK3idIhu",
        "outputId": "aa85711d-863c-4da4-aebe-db3ea4d609fc"
      },
      "execution_count": null,
      "outputs": [
        {
          "output_type": "display_data",
          "data": {
            "text/plain": [
              "<Figure size 432x288 with 2 Axes>"
            ],
            "image/png": "[encoded data removed]"
          },
          "metadata": {
            "needs_background": "light"
          }
        }
      ]
    },
    {
      "cell_type": "markdown",
      "metadata": {
        "id": "gea2_k-6TkSo"
      },
      "source": [
        "# tf.keras.utils.image_dataset_from_directory 사용"
      ]
    },
    {
      "cell_type": "code",
      "execution_count": null,
      "metadata": {
        "id": "1_8lqDfJUaPT"
      },
      "outputs": [],
      "source": [
        "train_path = '/content/cifar10/train'\n",
        "test_path = '/content/cifar10/test'"
      ]
    },
    {
      "cell_type": "code",
      "execution_count": null,
      "metadata": {
        "colab": {
          "base_uri": "https://localhost:8080/"
        },
        "id": "YPpWdS0JVNwp",
        "outputId": "19cfd51e-b4f6-400b-a38f-1b1da67179cb"
      },
      "outputs": [
        {
          "name": "stdout",
          "output_type": "stream",
          "text": [
            "Found 50000 files belonging to 10 classes.\n",
            "Using 45000 files for training.\n",
            "Found 50000 files belonging to 10 classes.\n",
            "Using 5000 files for validation.\n"
          ]
        }
      ],
      "source": [
        "image_size = 30\n",
        "train_ds = tf.keras.utils.image_dataset_from_directory(train_path, # 폴더별로 나눠저 있는 폴더 위치\n",
        "                                                       image_size = (image_size, image_size), \n",
        "                                                       shuffle = True, # 훈련 데이터, 검증 데이터만 셔플 \n",
        "                                                       batch_size = 32,\n",
        "                                                       seed = 42, # shfuffle시 필수\n",
        "                                                       subset = 'training',# 훈련 데이터\n",
        "                                                       validation_split = 0.1) # 검증 데이터 비율\n",
        "validation_ds = tf.keras.utils.image_dataset_from_directory(train_path,\n",
        "                                                       image_size = (image_size, image_size),\n",
        "                                                       shuffle = True,\n",
        "                                                       batch_size = 32,\n",
        "                                                       seed = 42,\n",
        "                                                       subset = 'validation', # 검증 데이터\n",
        "                                                       validation_split = 0.1)"
      ]
    },
    {
      "cell_type": "code",
      "execution_count": null,
      "metadata": {
        "colab": {
          "base_uri": "https://localhost:8080/"
        },
        "id": "iL8M-uFiXDdY",
        "outputId": "4b668809-e775-42c5-9f87-c11e55357f15"
      },
      "outputs": [
        {
          "name": "stdout",
          "output_type": "stream",
          "text": [
            "Found 10000 files belonging to 10 classes.\n"
          ]
        }
      ],
      "source": [
        "test_ds = tf.keras.utils.image_dataset_from_directory(test_path,\n",
        "                                                      image_size=(image_size,image_size),\n",
        "                                                      shuffle=False, # 테스트 데이터 shuffle False\n",
        "                                                      batch_size = 32,)"
      ]
    },
    {
      "cell_type": "code",
      "execution_count": null,
      "metadata": {
        "colab": {
          "base_uri": "https://localhost:8080/"
        },
        "id": "Hv9AMGxWXjJI",
        "outputId": "1ee5f8ea-99c4-439d-8828-f119e396ef87"
      },
      "outputs": [
        {
          "name": "stdout",
          "output_type": "stream",
          "text": [
            "Model: \"model_1\"\n",
            "_________________________________________________________________\n",
            " Layer (type)                Output Shape              Param #   \n",
            "=================================================================\n",
            " input_2 (InputLayer)        [(None, 30, 30, 3)]       0         \n",
            "                                                                 \n",
            " conv2d_2 (Conv2D)           (None, 28, 28, 32)        896       \n",
            "                                                                 \n",
            " max_pooling2d_2 (MaxPooling  (None, 14, 14, 32)       0         \n",
            " 2D)                                                             \n",
            "                                                                 \n",
            " conv2d_3 (Conv2D)           (None, 12, 12, 64)        18496     \n",
            "                                                                 \n",
            " max_pooling2d_3 (MaxPooling  (None, 6, 6, 64)         0         \n",
            " 2D)                                                             \n",
            "                                                                 \n",
            " global_average_pooling2d_1   (None, 64)               0         \n",
            " (GlobalAveragePooling2D)                                        \n",
            "                                                                 \n",
            " dense_2 (Dense)             (None, 64)                4160      \n",
            "                                                                 \n",
            " dense_3 (Dense)             (None, 10)                650       \n",
            "                                                                 \n",
            "=================================================================\n",
            "Total params: 24,202\n",
            "Trainable params: 24,202\n",
            "Non-trainable params: 0\n",
            "_________________________________________________________________\n"
          ]
        }
      ],
      "source": [
        "inputs = layers.Input(shape=(30,30,3))\n",
        "x = layers.Conv2D(32, 3, activation='relu')(inputs)\n",
        "x = layers.MaxPool2D()(x)\n",
        "x = layers.Conv2D(64, 3, activation='relu')(x)\n",
        "x = layers.MaxPool2D()(x)\n",
        "x = layers.GlobalAvgPool2D()(x)\n",
        "x = layers.Dense(64,activation='relu')(x)\n",
        "outputs = layers.Dense(10,activation='softmax')(x)\n",
        "model = tf.keras.Model(inputs, outputs)\n",
        "model.summary()"
      ]
    },
    {
      "cell_type": "code",
      "execution_count": null,
      "metadata": {
        "id": "i-hxzrRaXofq"
      },
      "outputs": [],
      "source": [
        "model.compile(optimizer='adam', loss=tf.keras.losses.SparseCategoricalCrossentropy(), metrics=['accuracy'])"
      ]
    },
    {
      "cell_type": "code",
      "execution_count": null,
      "metadata": {
        "colab": {
          "base_uri": "https://localhost:8080/"
        },
        "id": "7oMuCZqdXrXY",
        "outputId": "2abdcfc3-3557-44a0-8587-7af767dcab0e"
      },
      "outputs": [
        {
          "name": "stdout",
          "output_type": "stream",
          "text": [
            "Epoch 1/10\n",
            "1407/1407 [==============================] - 54s 38ms/step - loss: 1.8890 - accuracy: 0.3370 - val_loss: 1.5414 - val_accuracy: 0.4222\n",
            "Epoch 2/10\n",
            "1407/1407 [==============================] - 54s 39ms/step - loss: 1.5093 - accuracy: 0.4474 - val_loss: 1.4121 - val_accuracy: 0.4740\n",
            "Epoch 3/10\n",
            "1407/1407 [==============================] - 51s 36ms/step - loss: 1.3698 - accuracy: 0.5058 - val_loss: 1.2918 - val_accuracy: 0.5338\n",
            "Epoch 4/10\n",
            "1407/1407 [==============================] - 54s 39ms/step - loss: 1.2963 - accuracy: 0.5355 - val_loss: 1.2827 - val_accuracy: 0.5432\n",
            "Epoch 5/10\n",
            "1407/1407 [==============================] - 54s 38ms/step - loss: 1.2340 - accuracy: 0.5610 - val_loss: 1.2607 - val_accuracy: 0.5524\n",
            "Epoch 6/10\n",
            "1407/1407 [==============================] - 55s 39ms/step - loss: 1.1843 - accuracy: 0.5773 - val_loss: 1.1893 - val_accuracy: 0.5780\n",
            "Epoch 7/10\n",
            "1407/1407 [==============================] - 55s 39ms/step - loss: 1.1438 - accuracy: 0.5956 - val_loss: 1.1144 - val_accuracy: 0.6122\n",
            "Epoch 8/10\n",
            "1407/1407 [==============================] - 52s 37ms/step - loss: 1.1070 - accuracy: 0.6085 - val_loss: 1.1456 - val_accuracy: 0.5926\n",
            "Epoch 9/10\n",
            "1407/1407 [==============================] - 50s 35ms/step - loss: 1.0769 - accuracy: 0.6180 - val_loss: 1.1110 - val_accuracy: 0.6068\n",
            "Epoch 10/10\n",
            "1407/1407 [==============================] - 53s 37ms/step - loss: 1.0457 - accuracy: 0.6315 - val_loss: 1.1131 - val_accuracy: 0.6196\n"
          ]
        }
      ],
      "source": [
        "his = model.fit(train_ds, epochs=10, validation_data=validation_ds)"
      ]
    },
    {
      "cell_type": "code",
      "execution_count": null,
      "metadata": {
        "colab": {
          "base_uri": "https://localhost:8080/",
          "height": 265
        },
        "id": "oHKRzyJNaYXA",
        "outputId": "630d1596-e7a6-4034-9130-3562bb98c67c"
      },
      "outputs": [
        {
          "data": {
            "image/png": "[encoded data removed]",
            "text/plain": [
              "<Figure size 432x288 with 2 Axes>"
            ]
          },
          "metadata": {},
          "output_type": "display_data"
        }
      ],
      "source": [
        "plt.subplot(1,2,1)\n",
        "plt.plot(his.history['loss'])\n",
        "plt.plot(his.history['val_loss'])\n",
        "plt.subplot(1,2,2)\n",
        "plt.plot(his.history['accuracy'])\n",
        "plt.plot(his.history['val_accuracy'])\n",
        "plt.show()"
      ]
    },
    {
      "cell_type": "markdown",
      "metadata": {
        "id": "zE2UPba0acag"
      },
      "source": [
        "데이터 증강 "
      ]
    },
    {
      "cell_type": "code",
      "execution_count": null,
      "metadata": {
        "colab": {
          "base_uri": "https://localhost:8080/"
        },
        "id": "6BJHYvOqab86",
        "outputId": "e7a3195b-681b-4850-cf8b-0d45e92bbb54"
      },
      "outputs": [
        {
          "name": "stdout",
          "output_type": "stream",
          "text": [
            "Model: \"model_2\"\n",
            "_________________________________________________________________\n",
            " Layer (type)                Output Shape              Param #   \n",
            "=================================================================\n",
            " input_5 (InputLayer)        [(None, 30, 30, 3)]       0         \n",
            "                                                                 \n",
            " conv2d_4 (Conv2D)           (None, 28, 28, 32)        896       \n",
            "                                                                 \n",
            " max_pooling2d_4 (MaxPooling  (None, 14, 14, 32)       0         \n",
            " 2D)                                                             \n",
            "                                                                 \n",
            " conv2d_5 (Conv2D)           (None, 12, 12, 64)        18496     \n",
            "                                                                 \n",
            " max_pooling2d_5 (MaxPooling  (None, 6, 6, 64)         0         \n",
            " 2D)                                                             \n",
            "                                                                 \n",
            " global_average_pooling2d_2   (None, 64)               0         \n",
            " (GlobalAveragePooling2D)                                        \n",
            "                                                                 \n",
            " dense_4 (Dense)             (None, 64)                4160      \n",
            "                                                                 \n",
            " dense_5 (Dense)             (None, 10)                650       \n",
            "                                                                 \n",
            "=================================================================\n",
            "Total params: 24,202\n",
            "Trainable params: 24,202\n",
            "Non-trainable params: 0\n",
            "_________________________________________________________________\n"
          ]
        }
      ],
      "source": [
        "inputs = layers.Input(shape=(30,30,3))\n",
        "x = layers.experimental.preprocessing.RandomFlip('horizontal')(inputs) # 데이터 증강 레이어1\n",
        "x = layers.experimental.preprocessing.RandomRotation(0.1)(x) # 데이터 증강 레이어2\n",
        "x = layers.experimental.preprocessing.RandomContrast(0.1)(x) # 데이터 증강 레이어3\n",
        "x = layers.Conv2D(32, 3, activation='relu')(inputs)\n",
        "x = layers.MaxPool2D()(x)\n",
        "x = layers.Conv2D(64, 3, activation='relu')(x)\n",
        "x = layers.MaxPool2D()(x)\n",
        "x = layers.GlobalAvgPool2D()(x)\n",
        "x = layers.Dense(64,activation='relu')(x)\n",
        "outputs = layers.Dense(10,activation='softmax')(x)\n",
        "model = tf.keras.Model(inputs, outputs)\n",
        "model.summary()"
      ]
    },
    {
      "cell_type": "code",
      "execution_count": null,
      "metadata": {
        "id": "7qYeoasFbP0g"
      },
      "outputs": [],
      "source": [
        "model.compile(optimizer='adam', loss=tf.keras.losses.SparseCategoricalCrossentropy(), metrics=['accuracy'])"
      ]
    },
    {
      "cell_type": "code",
      "execution_count": null,
      "metadata": {
        "colab": {
          "base_uri": "https://localhost:8080/"
        },
        "id": "3oeUhcU0bTVi",
        "outputId": "77e8ee54-9de7-431c-9b63-82eb2f10fc55"
      },
      "outputs": [
        {
          "name": "stdout",
          "output_type": "stream",
          "text": [
            "Epoch 1/10\n",
            "1407/1407 [==============================] - 53s 37ms/step - loss: 1.8592 - accuracy: 0.3549 - val_loss: 1.5201 - val_accuracy: 0.4214\n",
            "Epoch 2/10\n",
            "1407/1407 [==============================] - 52s 37ms/step - loss: 1.4592 - accuracy: 0.4708 - val_loss: 1.4459 - val_accuracy: 0.4696\n",
            "Epoch 3/10\n",
            "1407/1407 [==============================] - 52s 37ms/step - loss: 1.3535 - accuracy: 0.5152 - val_loss: 1.3552 - val_accuracy: 0.5136\n",
            "Epoch 4/10\n",
            "1407/1407 [==============================] - 51s 37ms/step - loss: 1.2796 - accuracy: 0.5440 - val_loss: 1.2096 - val_accuracy: 0.5734\n",
            "Epoch 5/10\n",
            "1407/1407 [==============================] - 54s 38ms/step - loss: 1.2218 - accuracy: 0.5685 - val_loss: 1.2815 - val_accuracy: 0.5422\n",
            "Epoch 6/10\n",
            "1407/1407 [==============================] - 53s 38ms/step - loss: 1.1765 - accuracy: 0.5830 - val_loss: 1.2277 - val_accuracy: 0.5698\n",
            "Epoch 7/10\n",
            "1407/1407 [==============================] - 57s 40ms/step - loss: 1.1337 - accuracy: 0.5994 - val_loss: 1.2279 - val_accuracy: 0.5632\n",
            "Epoch 8/10\n",
            "1407/1407 [==============================] - 54s 38ms/step - loss: 1.1027 - accuracy: 0.6106 - val_loss: 1.1478 - val_accuracy: 0.5952\n",
            "Epoch 9/10\n",
            "1407/1407 [==============================] - 53s 38ms/step - loss: 1.0697 - accuracy: 0.6238 - val_loss: 1.1266 - val_accuracy: 0.5978\n",
            "Epoch 10/10\n",
            "1407/1407 [==============================] - 53s 38ms/step - loss: 1.0440 - accuracy: 0.6342 - val_loss: 1.0877 - val_accuracy: 0.6160\n"
          ]
        }
      ],
      "source": [
        "his = model.fit(train_ds, epochs=10, validation_data=validation_ds)"
      ]
    },
    {
      "cell_type": "code",
      "execution_count": null,
      "metadata": {
        "colab": {
          "base_uri": "https://localhost:8080/",
          "height": 265
        },
        "id": "Boky2I7UeIIj",
        "outputId": "bfc10cb5-9d09-4a52-e411-28f7180ac335"
      },
      "outputs": [
        {
          "data": {
            "image/png": "[encoded data removed]",
            "text/plain": [
              "<Figure size 432x288 with 2 Axes>"
            ]
          },
          "metadata": {},
          "output_type": "display_data"
        }
      ],
      "source": [
        "plt.subplot(1,2,1)\n",
        "plt.plot(his.history['loss'])\n",
        "plt.plot(his.history['val_loss'])\n",
        "plt.subplot(1,2,2)\n",
        "plt.plot(his.history['accuracy'])\n",
        "plt.plot(his.history['val_accuracy'])\n",
        "plt.show()"
      ]
    },
    {
      "cell_type": "markdown",
      "source": [
        "# tf.keras.preprocessing.image.ImageDataGenerator"
      ],
      "metadata": {
        "id": "0qZ-awSELH_B"
      }
    },
    {
      "cell_type": "code",
      "source": [
        "train_folder = '/content/cifar10/train'\n",
        "test_folder = '/content/cifar10/test'\n",
        "train_path = sorted(glob.glob(train_folder+'/*/*')) # 파일 경로 리스트\n",
        "test_path = sorted(glob.glob(test_folder+'/*/*'))"
      ],
      "metadata": {
        "id": "J6BDYWAOMK3Q"
      },
      "execution_count": null,
      "outputs": []
    },
    {
      "cell_type": "code",
      "source": [
        "def label_make(path): # 파일명에서 라벨 추출(폴더별로 파일이 나눠져 있음)\n",
        "    label = []\n",
        "    for i in path:\n",
        "        label.append(i.split('/')[-2])\n",
        "    return label\n",
        "train_label = label_make(train_path)\n",
        "test_label = label_make(test_path)"
      ],
      "metadata": {
        "id": "HOcD44ZPMLqI"
      },
      "execution_count": null,
      "outputs": []
    },
    {
      "cell_type": "code",
      "source": [
        "train_df = pd.DataFrame({'path' : train_path, 'label' : train_label})"
      ],
      "metadata": {
        "id": "s8IMgvjyMSNW"
      },
      "execution_count": null,
      "outputs": []
    },
    {
      "cell_type": "code",
      "source": [
        "train_ge = tf.keras.preprocessing.image.ImageDataGenerator(rescale=1./255,\n",
        "                                                           rotation_range=20,\n",
        "                                                           width_shift_range=0.2,\n",
        "                                                           height_shift_range=0.2,\n",
        "                                                           shear_range=0.2,\n",
        "                                                           zoom_range=0.2,\n",
        "                                                           horizontal_flip=True,\n",
        "                                                           vertical_flip=True,\n",
        "                                                           data_format=\"channels_last\",\n",
        "                                                           validation_split=0.10)"
      ],
      "metadata": {
        "id": "rrXKnZ4DLGkm"
      },
      "execution_count": null,
      "outputs": []
    },
    {
      "cell_type": "code",
      "source": [
        "train_ds = train_ge.flow_from_dataframe(dataframe=train_df, x_col='path', y_col='label', batch_size=32, target_size=(30,30), shuffle=True, subset='training', class_mode='categorical')\n",
        "val_ds = train_ge.flow_from_dataframe(dataframe=train_df, x_col='path', y_col='label', batch_size=32, target_size=(30,30), shuffle=True, subset='validation', class_mode='categorical')"
      ],
      "metadata": {
        "colab": {
          "base_uri": "https://localhost:8080/"
        },
        "id": "xhFf5j4bN2HC",
        "outputId": "6e3d2b43-7341-407c-f785-5eb0a0107ce0"
      },
      "execution_count": null,
      "outputs": [
        {
          "output_type": "stream",
          "name": "stdout",
          "text": [
            "Found 45000 validated image filenames belonging to 10 classes.\n",
            "Found 5000 validated image filenames belonging to 10 classes.\n"
          ]
        }
      ]
    },
    {
      "cell_type": "code",
      "source": [
        "inputs = layers.Input(shape=(30,30,3))\n",
        "x = layers.Conv2D(32, 3, activation='relu')(inputs)\n",
        "x = layers.MaxPool2D()(x)\n",
        "x = layers.Conv2D(64, 3, activation='relu')(x)\n",
        "x = layers.MaxPool2D()(x)\n",
        "x = layers.GlobalAvgPool2D()(x)\n",
        "x = layers.Dense(64,activation='relu')(x)\n",
        "outputs = layers.Dense(10,activation='softmax')(x)\n",
        "model = tf.keras.Model(inputs, outputs)\n",
        "model.summary()"
      ],
      "metadata": {
        "colab": {
          "base_uri": "https://localhost:8080/"
        },
        "id": "HoWmy1XGQuZB",
        "outputId": "b0e9835b-a6cb-4e03-8e70-bd4fd07a0b9e"
      },
      "execution_count": null,
      "outputs": [
        {
          "output_type": "stream",
          "name": "stdout",
          "text": [
            "Model: \"model_2\"\n",
            "_________________________________________________________________\n",
            " Layer (type)                Output Shape              Param #   \n",
            "=================================================================\n",
            " input_3 (InputLayer)        [(None, 30, 30, 3)]       0         \n",
            "                                                                 \n",
            " conv2d_4 (Conv2D)           (None, 28, 28, 32)        896       \n",
            "                                                                 \n",
            " max_pooling2d_4 (MaxPooling  (None, 14, 14, 32)       0         \n",
            " 2D)                                                             \n",
            "                                                                 \n",
            " conv2d_5 (Conv2D)           (None, 12, 12, 64)        18496     \n",
            "                                                                 \n",
            " max_pooling2d_5 (MaxPooling  (None, 6, 6, 64)         0         \n",
            " 2D)                                                             \n",
            "                                                                 \n",
            " global_average_pooling2d_2   (None, 64)               0         \n",
            " (GlobalAveragePooling2D)                                        \n",
            "                                                                 \n",
            " dense_4 (Dense)             (None, 64)                4160      \n",
            "                                                                 \n",
            " dense_5 (Dense)             (None, 10)                650       \n",
            "                                                                 \n",
            "=================================================================\n",
            "Total params: 24,202\n",
            "Trainable params: 24,202\n",
            "Non-trainable params: 0\n",
            "_________________________________________________________________\n"
          ]
        }
      ]
    },
    {
      "cell_type": "code",
      "source": [
        "model.compile(optimizer='adam', loss=tf.keras.losses.CategoricalCrossentropy(), metrics=['accuracy'])"
      ],
      "metadata": {
        "id": "sui3EPw-QxIw"
      },
      "execution_count": null,
      "outputs": []
    },
    {
      "cell_type": "code",
      "source": [
        "his = model.fit(train_ds, epochs=10, validation_data=val_ds)"
      ],
      "metadata": {
        "colab": {
          "base_uri": "https://localhost:8080/",
          "height": 510
        },
        "id": "qNcpNgtRQzR4",
        "outputId": "441f3893-f4e5-4710-961b-551b8fc97d82"
      },
      "execution_count": null,
      "outputs": [
        {
          "output_type": "stream",
          "name": "stdout",
          "text": [
            "Epoch 1/10\n",
            "1407/1407 [==============================] - 65s 46ms/step - loss: 1.9048 - accuracy: 0.2657 - val_loss: 10.5283 - val_accuracy: 0.0000e+00\n",
            "Epoch 2/10\n",
            "1407/1407 [==============================] - 67s 48ms/step - loss: 1.7387 - accuracy: 0.3329 - val_loss: 12.9062 - val_accuracy: 0.0000e+00\n",
            "Epoch 3/10\n",
            "1407/1407 [==============================] - 66s 47ms/step - loss: 1.6805 - accuracy: 0.3636 - val_loss: 15.7488 - val_accuracy: 0.0000e+00\n",
            "Epoch 4/10\n",
            "1407/1407 [==============================] - 66s 47ms/step - loss: 1.6283 - accuracy: 0.3913 - val_loss: 18.2676 - val_accuracy: 0.0000e+00\n",
            "Epoch 5/10\n",
            " 402/1407 [=======>......................] - ETA: 45s - loss: 1.6013 - accuracy: 0.4013"
          ]
        },
        {
          "output_type": "error",
          "ename": "KeyboardInterrupt",
          "evalue": "ignored",
          "traceback": [
            "\u001b[0;31m---------------------------------------------------------------------------\u001b[0m",
            "\u001b[0;31mKeyboardInterrupt\u001b[0m                         Traceback (most recent call last)",
            "\u001b[0;32m<ipython-input-30-e48d74103fa3>\u001b[0m in \u001b[0;36m<module>\u001b[0;34m\u001b[0m\n\u001b[0;32m----> 1\u001b[0;31m \u001b[0mhis\u001b[0m \u001b[0;34m=\u001b[0m \u001b[0mmodel\u001b[0m\u001b[0;34m.\u001b[0m\u001b[0mfit\u001b[0m\u001b[0;34m(\u001b[0m\u001b[0mtrain_ds\u001b[0m\u001b[0;34m,\u001b[0m \u001b[0mepochs\u001b[0m\u001b[0;34m=\u001b[0m\u001b[0;36m10\u001b[0m\u001b[0;34m,\u001b[0m \u001b[0mvalidation_data\u001b[0m\u001b[0;34m=\u001b[0m\u001b[0mval_ds\u001b[0m\u001b[0;34m)\u001b[0m\u001b[0;34m\u001b[0m\u001b[0;34m\u001b[0m\u001b[0m\n\u001b[0m",
            "\u001b[0;32m/usr/local/lib/python3.7/dist-packages/keras/utils/traceback_utils.py\u001b[0m in \u001b[0;36merror_handler\u001b[0;34m(*args, **kwargs)\u001b[0m\n\u001b[1;32m     62\u001b[0m     \u001b[0mfiltered_tb\u001b[0m \u001b[0;34m=\u001b[0m \u001b[0;32mNone\u001b[0m\u001b[0;34m\u001b[0m\u001b[0;34m\u001b[0m\u001b[0m\n\u001b[1;32m     63\u001b[0m     \u001b[0;32mtry\u001b[0m\u001b[0;34m:\u001b[0m\u001b[0;34m\u001b[0m\u001b[0;34m\u001b[0m\u001b[0m\n\u001b[0;32m---> 64\u001b[0;31m       \u001b[0;32mreturn\u001b[0m \u001b[0mfn\u001b[0m\u001b[0;34m(\u001b[0m\u001b[0;34m*\u001b[0m\u001b[0margs\u001b[0m\u001b[0;34m,\u001b[0m \u001b[0;34m**\u001b[0m\u001b[0mkwargs\u001b[0m\u001b[0;34m)\u001b[0m\u001b[0;34m\u001b[0m\u001b[0;34m\u001b[0m\u001b[0m\n\u001b[0m\u001b[1;32m     65\u001b[0m     \u001b[0;32mexcept\u001b[0m \u001b[0mException\u001b[0m \u001b[0;32mas\u001b[0m \u001b[0me\u001b[0m\u001b[0;34m:\u001b[0m  \u001b[0;31m# pylint: disable=broad-except\u001b[0m\u001b[0;34m\u001b[0m\u001b[0;34m\u001b[0m\u001b[0m\n\u001b[1;32m     66\u001b[0m       \u001b[0mfiltered_tb\u001b[0m \u001b[0;34m=\u001b[0m \u001b[0m_process_traceback_frames\u001b[0m\u001b[0;34m(\u001b[0m\u001b[0me\u001b[0m\u001b[0;34m.\u001b[0m\u001b[0m__traceback__\u001b[0m\u001b[0;34m)\u001b[0m\u001b[0;34m\u001b[0m\u001b[0;34m\u001b[0m\u001b[0m\n",
            "\u001b[0;32m/usr/local/lib/python3.7/dist-packages/keras/engine/training.py\u001b[0m in \u001b[0;36mfit\u001b[0;34m(self, x, y, batch_size, epochs, verbose, callbacks, validation_split, validation_data, shuffle, class_weight, sample_weight, initial_epoch, steps_per_epoch, validation_steps, validation_batch_size, validation_freq, max_queue_size, workers, use_multiprocessing)\u001b[0m\n\u001b[1;32m   1407\u001b[0m                 _r=1):\n\u001b[1;32m   1408\u001b[0m               \u001b[0mcallbacks\u001b[0m\u001b[0;34m.\u001b[0m\u001b[0mon_train_batch_begin\u001b[0m\u001b[0;34m(\u001b[0m\u001b[0mstep\u001b[0m\u001b[0;34m)\u001b[0m\u001b[0;34m\u001b[0m\u001b[0;34m\u001b[0m\u001b[0m\n\u001b[0;32m-> 1409\u001b[0;31m               \u001b[0mtmp_logs\u001b[0m \u001b[0;34m=\u001b[0m \u001b[0mself\u001b[0m\u001b[0;34m.\u001b[0m\u001b[0mtrain_function\u001b[0m\u001b[0;34m(\u001b[0m\u001b[0miterator\u001b[0m\u001b[0;34m)\u001b[0m\u001b[0;34m\u001b[0m\u001b[0;34m\u001b[0m\u001b[0m\n\u001b[0m\u001b[1;32m   1410\u001b[0m               \u001b[0;32mif\u001b[0m \u001b[0mdata_handler\u001b[0m\u001b[0;34m.\u001b[0m\u001b[0mshould_sync\u001b[0m\u001b[0;34m:\u001b[0m\u001b[0;34m\u001b[0m\u001b[0;34m\u001b[0m\u001b[0m\n\u001b[1;32m   1411\u001b[0m                 \u001b[0mcontext\u001b[0m\u001b[0;34m.\u001b[0m\u001b[0masync_wait\u001b[0m\u001b[0;34m(\u001b[0m\u001b[0;34m)\u001b[0m\u001b[0;34m\u001b[0m\u001b[0;34m\u001b[0m\u001b[0m\n",
            "\u001b[0;32m/usr/local/lib/python3.7/dist-packages/tensorflow/python/util/traceback_utils.py\u001b[0m in \u001b[0;36merror_handler\u001b[0;34m(*args, **kwargs)\u001b[0m\n\u001b[1;32m    148\u001b[0m     \u001b[0mfiltered_tb\u001b[0m \u001b[0;34m=\u001b[0m \u001b[0;32mNone\u001b[0m\u001b[0;34m\u001b[0m\u001b[0;34m\u001b[0m\u001b[0m\n\u001b[1;32m    149\u001b[0m     \u001b[0;32mtry\u001b[0m\u001b[0;34m:\u001b[0m\u001b[0;34m\u001b[0m\u001b[0;34m\u001b[0m\u001b[0m\n\u001b[0;32m--> 150\u001b[0;31m       \u001b[0;32mreturn\u001b[0m \u001b[0mfn\u001b[0m\u001b[0;34m(\u001b[0m\u001b[0;34m*\u001b[0m\u001b[0margs\u001b[0m\u001b[0;34m,\u001b[0m \u001b[0;34m**\u001b[0m\u001b[0mkwargs\u001b[0m\u001b[0;34m)\u001b[0m\u001b[0;34m\u001b[0m\u001b[0;34m\u001b[0m\u001b[0m\n\u001b[0m\u001b[1;32m    151\u001b[0m     \u001b[0;32mexcept\u001b[0m \u001b[0mException\u001b[0m \u001b[0;32mas\u001b[0m \u001b[0me\u001b[0m\u001b[0;34m:\u001b[0m\u001b[0;34m\u001b[0m\u001b[0;34m\u001b[0m\u001b[0m\n\u001b[1;32m    152\u001b[0m       \u001b[0mfiltered_tb\u001b[0m \u001b[0;34m=\u001b[0m \u001b[0m_process_traceback_frames\u001b[0m\u001b[0;34m(\u001b[0m\u001b[0me\u001b[0m\u001b[0;34m.\u001b[0m\u001b[0m__traceback__\u001b[0m\u001b[0;34m)\u001b[0m\u001b[0;34m\u001b[0m\u001b[0;34m\u001b[0m\u001b[0m\n",
            "\u001b[0;32m/usr/local/lib/python3.7/dist-packages/tensorflow/python/eager/def_function.py\u001b[0m in \u001b[0;36m__call__\u001b[0;34m(self, *args, **kwds)\u001b[0m\n\u001b[1;32m    913\u001b[0m \u001b[0;34m\u001b[0m\u001b[0m\n\u001b[1;32m    914\u001b[0m       \u001b[0;32mwith\u001b[0m \u001b[0mOptionalXlaContext\u001b[0m\u001b[0;34m(\u001b[0m\u001b[0mself\u001b[0m\u001b[0;34m.\u001b[0m\u001b[0m_jit_compile\u001b[0m\u001b[0;34m)\u001b[0m\u001b[0;34m:\u001b[0m\u001b[0;34m\u001b[0m\u001b[0;34m\u001b[0m\u001b[0m\n\u001b[0;32m--> 915\u001b[0;31m         \u001b[0mresult\u001b[0m \u001b[0;34m=\u001b[0m \u001b[0mself\u001b[0m\u001b[0;34m.\u001b[0m\u001b[0m_call\u001b[0m\u001b[0;34m(\u001b[0m\u001b[0;34m*\u001b[0m\u001b[0margs\u001b[0m\u001b[0;34m,\u001b[0m \u001b[0;34m**\u001b[0m\u001b[0mkwds\u001b[0m\u001b[0;34m)\u001b[0m\u001b[0;34m\u001b[0m\u001b[0;34m\u001b[0m\u001b[0m\n\u001b[0m\u001b[1;32m    916\u001b[0m \u001b[0;34m\u001b[0m\u001b[0m\n\u001b[1;32m    917\u001b[0m       \u001b[0mnew_tracing_count\u001b[0m \u001b[0;34m=\u001b[0m \u001b[0mself\u001b[0m\u001b[0;34m.\u001b[0m\u001b[0mexperimental_get_tracing_count\u001b[0m\u001b[0;34m(\u001b[0m\u001b[0;34m)\u001b[0m\u001b[0;34m\u001b[0m\u001b[0;34m\u001b[0m\u001b[0m\n",
            "\u001b[0;32m/usr/local/lib/python3.7/dist-packages/tensorflow/python/eager/def_function.py\u001b[0m in \u001b[0;36m_call\u001b[0;34m(self, *args, **kwds)\u001b[0m\n\u001b[1;32m    945\u001b[0m       \u001b[0;31m# In this case we have created variables on the first call, so we run the\u001b[0m\u001b[0;34m\u001b[0m\u001b[0;34m\u001b[0m\u001b[0;34m\u001b[0m\u001b[0m\n\u001b[1;32m    946\u001b[0m       \u001b[0;31m# defunned version which is guaranteed to never create variables.\u001b[0m\u001b[0;34m\u001b[0m\u001b[0;34m\u001b[0m\u001b[0;34m\u001b[0m\u001b[0m\n\u001b[0;32m--> 947\u001b[0;31m       \u001b[0;32mreturn\u001b[0m \u001b[0mself\u001b[0m\u001b[0;34m.\u001b[0m\u001b[0m_stateless_fn\u001b[0m\u001b[0;34m(\u001b[0m\u001b[0;34m*\u001b[0m\u001b[0margs\u001b[0m\u001b[0;34m,\u001b[0m \u001b[0;34m**\u001b[0m\u001b[0mkwds\u001b[0m\u001b[0;34m)\u001b[0m  \u001b[0;31m# pylint: disable=not-callable\u001b[0m\u001b[0;34m\u001b[0m\u001b[0;34m\u001b[0m\u001b[0m\n\u001b[0m\u001b[1;32m    948\u001b[0m     \u001b[0;32melif\u001b[0m \u001b[0mself\u001b[0m\u001b[0;34m.\u001b[0m\u001b[0m_stateful_fn\u001b[0m \u001b[0;32mis\u001b[0m \u001b[0;32mnot\u001b[0m \u001b[0;32mNone\u001b[0m\u001b[0;34m:\u001b[0m\u001b[0;34m\u001b[0m\u001b[0;34m\u001b[0m\u001b[0m\n\u001b[1;32m    949\u001b[0m       \u001b[0;31m# Release the lock early so that multiple threads can perform the call\u001b[0m\u001b[0;34m\u001b[0m\u001b[0;34m\u001b[0m\u001b[0;34m\u001b[0m\u001b[0m\n",
            "\u001b[0;32m/usr/local/lib/python3.7/dist-packages/tensorflow/python/eager/function.py\u001b[0m in \u001b[0;36m__call__\u001b[0;34m(self, *args, **kwargs)\u001b[0m\n\u001b[1;32m   2452\u001b[0m        filtered_flat_args) = self._maybe_define_function(args, kwargs)\n\u001b[1;32m   2453\u001b[0m     return graph_function._call_flat(\n\u001b[0;32m-> 2454\u001b[0;31m         filtered_flat_args, captured_inputs=graph_function.captured_inputs)  # pylint: disable=protected-access\n\u001b[0m\u001b[1;32m   2455\u001b[0m \u001b[0;34m\u001b[0m\u001b[0m\n\u001b[1;32m   2456\u001b[0m   \u001b[0;34m@\u001b[0m\u001b[0mproperty\u001b[0m\u001b[0;34m\u001b[0m\u001b[0;34m\u001b[0m\u001b[0m\n",
            "\u001b[0;32m/usr/local/lib/python3.7/dist-packages/tensorflow/python/eager/function.py\u001b[0m in \u001b[0;36m_call_flat\u001b[0;34m(self, args, captured_inputs, cancellation_manager)\u001b[0m\n\u001b[1;32m   1859\u001b[0m       \u001b[0;31m# No tape is watching; skip to running the function.\u001b[0m\u001b[0;34m\u001b[0m\u001b[0;34m\u001b[0m\u001b[0;34m\u001b[0m\u001b[0m\n\u001b[1;32m   1860\u001b[0m       return self._build_call_outputs(self._inference_function.call(\n\u001b[0;32m-> 1861\u001b[0;31m           ctx, args, cancellation_manager=cancellation_manager))\n\u001b[0m\u001b[1;32m   1862\u001b[0m     forward_backward = self._select_forward_and_backward_functions(\n\u001b[1;32m   1863\u001b[0m         \u001b[0margs\u001b[0m\u001b[0;34m,\u001b[0m\u001b[0;34m\u001b[0m\u001b[0;34m\u001b[0m\u001b[0m\n",
            "\u001b[0;32m/usr/local/lib/python3.7/dist-packages/tensorflow/python/eager/function.py\u001b[0m in \u001b[0;36mcall\u001b[0;34m(self, ctx, args, cancellation_manager)\u001b[0m\n\u001b[1;32m    500\u001b[0m               \u001b[0minputs\u001b[0m\u001b[0;34m=\u001b[0m\u001b[0margs\u001b[0m\u001b[0;34m,\u001b[0m\u001b[0;34m\u001b[0m\u001b[0;34m\u001b[0m\u001b[0m\n\u001b[1;32m    501\u001b[0m               \u001b[0mattrs\u001b[0m\u001b[0;34m=\u001b[0m\u001b[0mattrs\u001b[0m\u001b[0;34m,\u001b[0m\u001b[0;34m\u001b[0m\u001b[0;34m\u001b[0m\u001b[0m\n\u001b[0;32m--> 502\u001b[0;31m               ctx=ctx)\n\u001b[0m\u001b[1;32m    503\u001b[0m         \u001b[0;32melse\u001b[0m\u001b[0;34m:\u001b[0m\u001b[0;34m\u001b[0m\u001b[0;34m\u001b[0m\u001b[0m\n\u001b[1;32m    504\u001b[0m           outputs = execute.execute_with_cancellation(\n",
            "\u001b[0;32m/usr/local/lib/python3.7/dist-packages/tensorflow/python/eager/execute.py\u001b[0m in \u001b[0;36mquick_execute\u001b[0;34m(op_name, num_outputs, inputs, attrs, ctx, name)\u001b[0m\n\u001b[1;32m     53\u001b[0m     \u001b[0mctx\u001b[0m\u001b[0;34m.\u001b[0m\u001b[0mensure_initialized\u001b[0m\u001b[0;34m(\u001b[0m\u001b[0;34m)\u001b[0m\u001b[0;34m\u001b[0m\u001b[0;34m\u001b[0m\u001b[0m\n\u001b[1;32m     54\u001b[0m     tensors = pywrap_tfe.TFE_Py_Execute(ctx._handle, device_name, op_name,\n\u001b[0;32m---> 55\u001b[0;31m                                         inputs, attrs, num_outputs)\n\u001b[0m\u001b[1;32m     56\u001b[0m   \u001b[0;32mexcept\u001b[0m \u001b[0mcore\u001b[0m\u001b[0;34m.\u001b[0m\u001b[0m_NotOkStatusException\u001b[0m \u001b[0;32mas\u001b[0m \u001b[0me\u001b[0m\u001b[0;34m:\u001b[0m\u001b[0;34m\u001b[0m\u001b[0;34m\u001b[0m\u001b[0m\n\u001b[1;32m     57\u001b[0m     \u001b[0;32mif\u001b[0m \u001b[0mname\u001b[0m \u001b[0;32mis\u001b[0m \u001b[0;32mnot\u001b[0m \u001b[0;32mNone\u001b[0m\u001b[0;34m:\u001b[0m\u001b[0;34m\u001b[0m\u001b[0;34m\u001b[0m\u001b[0m\n",
            "\u001b[0;31mKeyboardInterrupt\u001b[0m: "
          ]
        }
      ]
    },
    {
      "cell_type": "code",
      "source": [
        "plt.subplot(1,2,1)\n",
        "plt.plot(his.history['loss'])\n",
        "plt.plot(his.history['val_loss'])\n",
        "plt.subplot(1,2,2)\n",
        "plt.plot(his.history['accuracy'])\n",
        "plt.plot(his.history['val_accuracy'])\n",
        "plt.show()"
      ],
      "metadata": {
        "colab": {
          "base_uri": "https://localhost:8080/",
          "height": 266
        },
        "id": "1091sqGVRI6g",
        "outputId": "d8200bf4-21cb-4579-ca7b-d136cea1ec9e"
      },
      "execution_count": null,
      "outputs": [
        {
          "output_type": "display_data",
          "data": {
            "text/plain": [
              "<Figure size 432x288 with 2 Axes>"
            ],
            "image/png": "[encoded data removed]"
          },
          "metadata": {
            "needs_background": "light"
          }
        }
      ]
    },
    {
      "cell_type": "markdown",
      "metadata": {
        "id": "HOS0MEIfHkG9"
      },
      "source": [
        "# tensorflow.keras.utils.Sequence  사용"
      ]
    },
    {
      "cell_type": "code",
      "execution_count": 312,
      "metadata": {
        "id": "SGBDp9exH_Xh"
      },
      "outputs": [],
      "source": [
        "train_folder = '/content/cifar10/train'\n",
        "test_folder = '/content/cifar10/test'\n",
        "train_path = sorted(glob.glob(train_folder+'/*/*')) # 파일 경로 리스트\n",
        "test_path = sorted(glob.glob(test_folder+'/*/*'))"
      ]
    },
    {
      "cell_type": "code",
      "execution_count": 313,
      "metadata": {
        "id": "5aW91HX1IETo"
      },
      "outputs": [],
      "source": [
        "def label_make(path): # 파일명에서 라벨 추출(폴더별로 파일이 나눠져 있음)\n",
        "    label = []\n",
        "    for i in path:\n",
        "        label.append(i.split('/')[-2])\n",
        "    return label\n",
        "train_label = label_make(train_path)\n",
        "test_label = label_make(test_path)"
      ]
    },
    {
      "cell_type": "code",
      "execution_count": 314,
      "metadata": {
        "id": "5uQyZwaGrBUU"
      },
      "outputs": [],
      "source": [
        "train_path, validation_path, train_label, validation_label = train_test_split(train_path, train_label, test_size=0.1, stratify=train_label)"
      ]
    },
    {
      "cell_type": "code",
      "source": [
        "classes = pd.get_dummies(train_label).columns\n",
        "train_label = pd.get_dummies(train_label).values\n",
        "validation_label = pd.get_dummies(validation_label).values"
      ],
      "metadata": {
        "id": "yJUPG_jMX5rs"
      },
      "execution_count": 315,
      "outputs": []
    },
    {
      "cell_type": "code",
      "execution_count": 316,
      "metadata": {
        "id": "Y9tvOK-XD5Ka"
      },
      "outputs": [],
      "source": [
        "transformer = A.Compose([A.HorizontalFlip(), # 데이터 증가\n",
        "                         A.ShiftScaleRotate(),\n",
        "                         A.RandomBrightnessContrast(),\n",
        "                         A.RandomFog(),\n",
        "                         A.Rotate(20)\n",
        "                         ])\n",
        "\n",
        "def make_argument(image): # 데이터 증강\n",
        "    image = transformer(image=image)['image']\n",
        "    return image\n",
        "\n",
        "class data_make(tf.keras.utils.Sequence):\n",
        "    def __init__(self, path, label=None, batch_size = 32, image_size=32, argument=False, shuffle=False, prepro=None):\n",
        "        self.path = path\n",
        "        self.batch_size = batch_size \n",
        "        self.image_size = image_size\n",
        "        self.argument = argument\n",
        "        self.shuffle = shuffle\n",
        "        self.label = label\n",
        "        self.prepro = prepro\n",
        "\n",
        "        if self.shuffle : # 셔플이 True이면 셔플 진행\n",
        "            self.on_epoch_end()\n",
        "\n",
        "    def __len__(self):\n",
        "        return int(np.ceil(len(self.path) / self.batch_size))\n",
        "\n",
        "    def __getitem__(self, index):\n",
        "        path_sel = self.path[index*self.batch_size:(index+1)*self.batch_size] # 배치 크기만큼 선택\n",
        "        if self.label is not None: # 라벨이 있을시 라벨도\n",
        "            label_sel = self.label[index*self.batch_size:(index+1)*self.batch_size]\n",
        "\n",
        "        image = np.zeros((len(path_sel), self.image_size, self.image_size, 3), dtype=np.float32) # 이미지 파일의 판 \n",
        "        for i in range(len(path_sel)): # 이미지를 opencv로 읽고 색변경, 사이즈 조정\n",
        "            img = cv2.cvtColor(cv2.imread(path_sel[i]),cv2.COLOR_BGR2RGB)\n",
        "            img = cv2.resize(img, (self.image_size, self.image_size))\n",
        "            if self.argument: # 훈련파일이면 데이터 증강\n",
        "                img = make_argument(img)\n",
        "            if self.prepro is not None:\n",
        "                img = self.prepro(img)\n",
        "            # img = tf.cast(img/255, dtype = tf.float32) # 이미지 정규화\n",
        "            image[i] = img #판에 추가\n",
        "            # image = tf.cast(image, tf.float32) #텐서화\n",
        "            # image.set_shape((len(path_sel), self.image_size, self.image_size, 3))\n",
        "\n",
        "        if self.label is not None:\n",
        "            return image, np.array(label_sel)\n",
        "        else:\n",
        "            return image\n",
        "\n",
        "    def on_epoch_end(self): # 1에포크 종료시 데이터 셔플\n",
        "        if self.shuffle:\n",
        "            self.path, self.label = sklearn.utils.shuffle(self.path, self.label)\n",
        "        else:\n",
        "            pass"
      ]
    },
    {
      "cell_type": "code",
      "execution_count": 317,
      "metadata": {
        "id": "1pyMEIl2Yuw7"
      },
      "outputs": [],
      "source": [
        "train_ds = data_make(train_path, train_label, image_size = 30, argument = True, shuffle=True)\n",
        "validation_ds = data_make(validation_path, validation_label, image_size = 30, argument = False, shuffle=False)\n",
        "test_ds = data_make(test_path, image_size = 30, argument = False, shuffle=False)"
      ]
    },
    {
      "cell_type": "code",
      "execution_count": 328,
      "metadata": {
        "colab": {
          "base_uri": "https://localhost:8080/"
        },
        "id": "J2D20Oujqeq8",
        "outputId": "188ceaf9-e569-4581-9d0a-6a78fafeeb03"
      },
      "outputs": [
        {
          "output_type": "stream",
          "name": "stdout",
          "text": [
            "Model: \"model_9\"\n",
            "_________________________________________________________________\n",
            " Layer (type)                Output Shape              Param #   \n",
            "=================================================================\n",
            " input_10 (InputLayer)       [(None, 30, 30, 3)]       0         \n",
            "                                                                 \n",
            " conv2d_18 (Conv2D)          (None, 28, 28, 32)        896       \n",
            "                                                                 \n",
            " max_pooling2d_18 (MaxPoolin  (None, 14, 14, 32)       0         \n",
            " g2D)                                                            \n",
            "                                                                 \n",
            " conv2d_19 (Conv2D)          (None, 12, 12, 64)        18496     \n",
            "                                                                 \n",
            " max_pooling2d_19 (MaxPoolin  (None, 6, 6, 64)         0         \n",
            " g2D)                                                            \n",
            "                                                                 \n",
            " global_average_pooling2d_9   (None, 64)               0         \n",
            " (GlobalAveragePooling2D)                                        \n",
            "                                                                 \n",
            " dense_18 (Dense)            (None, 64)                4160      \n",
            "                                                                 \n",
            " dense_19 (Dense)            (None, 10)                650       \n",
            "                                                                 \n",
            "=================================================================\n",
            "Total params: 24,202\n",
            "Trainable params: 24,202\n",
            "Non-trainable params: 0\n",
            "_________________________________________________________________\n"
          ]
        }
      ],
      "source": [
        "inputs = layers.Input(shape=(30,30,3))\n",
        "x = layers.Conv2D(32, 3, activation='relu')(inputs)\n",
        "x = layers.MaxPool2D()(x)\n",
        "x = layers.Conv2D(64, 3, activation='relu')(x)\n",
        "x = layers.MaxPool2D()(x)\n",
        "x = layers.GlobalAvgPool2D()(x)\n",
        "x = layers.Dense(64,activation='relu')(x)\n",
        "outputs = layers.Dense(10,activation='softmax')(x)\n",
        "model = tf.keras.Model(inputs, outputs)\n",
        "model.summary()"
      ]
    },
    {
      "cell_type": "code",
      "execution_count": 329,
      "metadata": {
        "id": "bSlpDPyPjSW9"
      },
      "outputs": [],
      "source": [
        "model.compile(optimizer='adam', loss=tf.keras.losses.CategoricalCrossentropy(), metrics=['accuracy'])"
      ]
    },
    {
      "cell_type": "code",
      "execution_count": 327,
      "metadata": {
        "colab": {
          "base_uri": "https://localhost:8080/"
        },
        "id": "rBawoOFnjUEh",
        "outputId": "6aa9cef9-ec09-4234-b187-adb8ab6beb38"
      },
      "outputs": [
        {
          "output_type": "stream",
          "name": "stdout",
          "text": [
            "Epoch 1/10\n",
            "1407/1407 [==============================] - 78s 55ms/step - loss: 1.9932 - accuracy: 0.3068 - val_loss: 1.6052 - val_accuracy: 0.4228\n",
            "Epoch 2/10\n",
            "1407/1407 [==============================] - 66s 47ms/step - loss: 1.6325 - accuracy: 0.4099 - val_loss: 1.5378 - val_accuracy: 0.4392\n",
            "Epoch 3/10\n",
            "1407/1407 [==============================] - 68s 48ms/step - loss: 1.5471 - accuracy: 0.4463 - val_loss: 1.5005 - val_accuracy: 0.4614\n",
            "Epoch 4/10\n",
            "1407/1407 [==============================] - 61s 44ms/step - loss: 1.4940 - accuracy: 0.4648 - val_loss: 1.3471 - val_accuracy: 0.5200\n",
            "Epoch 5/10\n",
            "1407/1407 [==============================] - 61s 43ms/step - loss: 1.4535 - accuracy: 0.4820 - val_loss: 1.3578 - val_accuracy: 0.5070\n",
            "Epoch 6/10\n",
            "1407/1407 [==============================] - 65s 47ms/step - loss: 1.4229 - accuracy: 0.4910 - val_loss: 1.3059 - val_accuracy: 0.5292\n",
            "Epoch 7/10\n",
            "1407/1407 [==============================] - 61s 43ms/step - loss: 1.3866 - accuracy: 0.5094 - val_loss: 1.2305 - val_accuracy: 0.5684\n",
            "Epoch 8/10\n",
            "1407/1407 [==============================] - 61s 44ms/step - loss: 1.3722 - accuracy: 0.5138 - val_loss: 1.2153 - val_accuracy: 0.5632\n",
            "Epoch 9/10\n",
            "1407/1407 [==============================] - 66s 47ms/step - loss: 1.3482 - accuracy: 0.5196 - val_loss: 1.2385 - val_accuracy: 0.5566\n",
            "Epoch 10/10\n",
            "1407/1407 [==============================] - 62s 44ms/step - loss: 1.3159 - accuracy: 0.5300 - val_loss: 1.2822 - val_accuracy: 0.5460\n",
            "779.1222567558289\n"
          ]
        }
      ],
      "source": [
        "time_now = time.time()\n",
        "his = model.fit(train_ds, epochs=10, validation_data=validation_ds)\n",
        "print(time.time() - time_now)"
      ]
    },
    {
      "cell_type": "code",
      "execution_count": null,
      "metadata": {
        "colab": {
          "base_uri": "https://localhost:8080/",
          "height": 265
        },
        "id": "7oTNsnIsxmkT",
        "outputId": "b61a5d83-e638-4173-d661-e8e58166c71a"
      },
      "outputs": [
        {
          "output_type": "display_data",
          "data": {
            "text/plain": [
              "<Figure size 432x288 with 2 Axes>"
            ],
            "image/png": "[encoded data removed]"
          },
          "metadata": {
            "needs_background": "light"
          }
        }
      ],
      "source": [
        "plt.subplot(1,2,1)\n",
        "plt.plot(his.history['loss'])\n",
        "plt.plot(his.history['val_loss'])\n",
        "plt.subplot(1,2,2)\n",
        "plt.plot(his.history['accuracy'])\n",
        "plt.plot(his.history['val_accuracy'])\n",
        "plt.show()"
      ]
    },
    {
      "cell_type": "markdown",
      "source": [
        "# TFRecord"
      ],
      "metadata": {
        "id": "Aq1dh0jURBFe"
      }
    },
    {
      "cell_type": "code",
      "source": [
        "!unzip -qq '/content/drive/MyDrive/Colab Notebooks/공부/archi.zip'\n",
        "train_folder = '/content/cifar10/train'\n",
        "test_folder = '/content/cifar10/test'\n",
        "train_path = sorted(glob.glob(train_folder+'/*/*')) # 파일 경로 리스트\n",
        "test_path = sorted(glob.glob(test_folder+'/*/*'))"
      ],
      "metadata": {
        "id": "n0bDrOVr9alw"
      },
      "execution_count": 430,
      "outputs": []
    },
    {
      "cell_type": "code",
      "source": [
        "def label_make(path): # 파일명에서 라벨 추출(폴더별로 파일이 나눠져 있음)\n",
        "    label = []\n",
        "    for i in path:\n",
        "        label.append(i.split('/')[-2])\n",
        "    return label\n",
        "train_label = label_make(train_path)\n",
        "test_label = label_make(test_path)\n",
        "train_label = pd.get_dummies(train_label).values\n",
        "test_label = pd.get_dummies(test_label).values"
      ],
      "metadata": {
        "id": "ZYRhot6Y-wuK"
      },
      "execution_count": 431,
      "outputs": []
    },
    {
      "cell_type": "code",
      "source": [
        "train_path, validation_path, train_label, validation_label = train_test_split(train_path, train_label, test_size=0.1, stratify=train_label)"
      ],
      "metadata": {
        "id": "rHMKv7hr2UIr"
      },
      "execution_count": 432,
      "outputs": []
    },
    {
      "cell_type": "code",
      "source": [
        "# The following functions can be used to convert a value to a type compatible\n",
        "# with tf.train.Example.\n",
        "# 형식별로 feature 변형\n",
        "def _bytes_feature(value):\n",
        "    if isinstance(value, type(tf.constant(0))):\n",
        "        value = value.numpy() # BytesList won't unpack a string from an EagerTensor\n",
        "    return tf.train.Feature(bytes_list=tf.train.BytesList(value=[value]))\n",
        "def _float_feature(value): # Returns a float_list from a float / double\n",
        "    return tf.train.Feature(float_list=tf.train.FloatList(value=[value]))\n",
        "def _int64_feature(value): # Returns an int64_list from a bool / enum / int / uint\n",
        "    return tf.train.Feature(int64_list=tf.train.Int64List(value=[value]))"
      ],
      "metadata": {
        "id": "LY3HIVCMTTIE"
      },
      "execution_count": 335,
      "outputs": []
    },
    {
      "cell_type": "code",
      "source": [
        "img_size = 30\n",
        "def make_tfr(file_name, file_path, label_value=None, img_size=img_size):\n",
        "    tfr_writer = tf.io.TFRecordWriter(file_name) # tfr 라이터 \n",
        "    for i in tqdm.tqdm(range(len(file_path))):\n",
        "        img = cv2.imread(train_path[i]) # 이미지를 읽어서 사이즈 변형 후 바이트화\n",
        "        img = cv2.cvtColor(img, cv2.COLOR_BGR2RGB)\n",
        "        img = cv2.resize(img, (img_size, img_size))\n",
        "        img = img.tobytes()\n",
        "\n",
        "        if label_value is not None: # 라벨이 있을시\n",
        "            label = label_value[i] # 라벨도 바이트화\n",
        "            label = label.tobytes()\n",
        "\n",
        "            # example 형식 만들기\n",
        "            example = tf.train.Example(features=\n",
        "                                       tf.train.Features(feature={\n",
        "                                           'image' : _bytes_feature(img),\n",
        "                                           'label' : _bytes_feature(label)\n",
        "                                       }))\n",
        "            tfr_writer.write(example.SerializeToString()) #binary string으로 변경후 저장\n",
        "\n",
        "        else: # 라벨이 없을시\n",
        "            example = tf.train.Example(features=\n",
        "                                       tf.train.Features(feature={\n",
        "                                           'image' : _bytes_feature(img)\n",
        "                                       }))\n",
        "\n",
        "    tfr_writer.close()"
      ],
      "metadata": {
        "id": "gaBJBdjOrmMP"
      },
      "execution_count": 442,
      "outputs": []
    },
    {
      "cell_type": "code",
      "source": [
        "make_tfr('train.tfr', train_path, train_label, img_size = 30)\n",
        "make_tfr('validation.tfr', validation_path, validation_label, img_size = 30)\n",
        "make_tfr('test.tfr', test_path, img_size = 30)"
      ],
      "metadata": {
        "colab": {
          "base_uri": "https://localhost:8080/"
        },
        "id": "DZo0jcqD5kS0",
        "outputId": "bc5cd9ca-7f85-40fd-a916-622706ff17b2"
      },
      "execution_count": 443,
      "outputs": [
        {
          "output_type": "stream",
          "name": "stderr",
          "text": [
            "100%|██████████| 45000/45000 [00:08<00:00, 5134.15it/s]\n",
            "100%|██████████| 5000/5000 [00:00<00:00, 5260.12it/s]\n",
            "100%|██████████| 10000/10000 [00:01<00:00, 7201.46it/s]\n"
          ]
        }
      ]
    },
    {
      "cell_type": "code",
      "source": [
        "transformer = A.Compose([A.HorizontalFlip(), # 데이터 증가\n",
        "                         A.ShiftScaleRotate(),\n",
        "                         A.RandomBrightnessContrast(),\n",
        "                         A.RandomFog(),\n",
        "                         A.Rotate(20)\n",
        "                         ])\n",
        "\n",
        "def aug_image(img): #이미지 변환\n",
        "    # image_dic = {'image':img}\n",
        "    # aug_img = transformer(**image_dic)\n",
        "    aug_img = transformer(image=img)\n",
        "    aug_img = tf.cast(aug_img['image'], tf.float32)\n",
        "    return aug_img\n",
        "\n",
        "def process_data(img): #텐서플로우 계산으로 aug_image \n",
        "    img = tf.numpy_function(func=aug_image, inp=[img], Tout=tf.float32)\n",
        "    return img\n",
        "\n",
        "def _parse_function(tfrecord_serialized, in_label=True, img_size=img_size, argument=False):\n",
        "    if in_label:\n",
        "        features={'image': tf.io.FixedLenFeature([], tf.string),\n",
        "                  'label': tf.io.FixedLenFeature([], tf.string)\n",
        "                  }\n",
        "    else:\n",
        "        features={'image': tf.io.FixedLenFeature([], tf.string)}\n",
        "\n",
        "    parsed_features = tf.io.parse_single_example(tfrecord_serialized, features)\n",
        "    \n",
        "    img = tf.io.decode_raw(parsed_features['image'], tf.uint8)\n",
        "    img = tf.reshape(img, (img_size, img_size, 3))\n",
        "    \n",
        "    if argument:\n",
        "        img = process_data(img)\n",
        "    \n",
        "    img = tf.cast(img, tf.float32)/255.\n",
        "\n",
        "    if in_label:\n",
        "        label = tf.io.decode_raw(parsed_features['label'], tf.uint8)\n",
        "        return img, label\n",
        "    else:\n",
        "        return img\n",
        "\n",
        "\n",
        "def make_dataset(tfr_file_path, in_label = True, img_size=img_size, argument=False, shuffle=False, n_shuffle=2000, batch_size=32):\n",
        "    dataset = tf.data.TFRecordDataset(tfr_file_path)\n",
        "    # dataset = data.map(partial(process_data, image_size=120))\n",
        "    dataset = dataset.map(partial(_parse_function, in_label=True, img_size=img_size, argument=False), num_parallel_calls=tf.data.experimental.AUTOTUNE)\n",
        "    if shuffle:\n",
        "        dataset = dataset.shuffle(n_shuffle).prefetch(tf.data.experimental.AUTOTUNE).batch(batch_size)\n",
        "    else:\n",
        "        dataset = dataset.prefetch(tf.data.experimental.AUTOTUNE).batch(batch_size)\n",
        "    return dataset\n",
        "\n",
        "train_ds = make_dataset('/content/train.tfr', in_label=True, img_size=img_size, argument=True, shuffle=True, n_shuffle=2000, batch_size=32)\n",
        "validation_ds = make_dataset('/content/validation.tfr', in_label=True, img_size=img_size, argument=False, shuffle=False, batch_size=32)\n",
        "test_ds = make_dataset('/content/test.tfr', in_label=False, img_size=img_size, argument=False, shuffle=False, batch_size=32)"
      ],
      "metadata": {
        "id": "evhSdASH_M3O"
      },
      "execution_count": 471,
      "outputs": []
    },
    {
      "cell_type": "code",
      "source": [
        "def _parse_function(tfrecord_serialized):\n",
        "    features={'image': tf.io.FixedLenFeature([], tf.string),\n",
        "              'label': tf.io.FixedLenFeature([], tf.string)\n",
        "             }\n",
        "    parsed_features = tf.io.parse_single_example(tfrecord_serialized, features)\n",
        "    \n",
        "    image = tf.io.decode_raw(parsed_features['image'], tf.uint8)\n",
        "    image = tf.reshape(image, (img_size, img_size, 3))\n",
        "    image = tf.cast(image, tf.float32)/255. \n",
        "\n",
        "    classes = tf.io.decode_raw(parsed_features['label'], tf.uint8)\n",
        "    # classes = tf.squeeze(classes)\n",
        "\n",
        "    return image, classes\n",
        "\n",
        "def _parse_function2(tfrecord_serialized):\n",
        "    features={'image': tf.io.FixedLenFeature([], tf.string)             }\n",
        "    parsed_features = tf.io.parse_single_example(tfrecord_serialized, features)\n",
        "    \n",
        "    image = tf.io.decode_raw(parsed_features['image'], tf.uint8)\n",
        "    image = tf.reshape(image, [IMG_SIZE, IMG_SIZE, 3])\n",
        "#     image = tf.cast(image, tf.float32)/255. \n",
        "\n",
        "    return image\n",
        "\n",
        "\n"
      ],
      "metadata": {
        "id": "mchKHoVmK256"
      },
      "execution_count": 380,
      "outputs": []
    },
    {
      "cell_type": "code",
      "source": [
        "transformer = A.Compose([A.HorizontalFlip(), # 데이터 증가\n",
        "                         A.ShiftScaleRotate(),\n",
        "                         A.RandomBrightnessContrast(),\n",
        "                         A.RandomFog(),\n",
        "                         A.Rotate(20)\n",
        "                         ])\n",
        "\n",
        "def aug_image(image): #이미지 변환\n",
        "    image_dic = {'image':image}\n",
        "    aug_img = transformer(**image_dic)\n",
        "    aug_img = tf.cast(aug_img['image'], tf.float32)\n",
        "    return aug_img\n",
        "\n",
        "def process_data(image): #텐서플로우 계산으로 aug_image \n",
        "    aug_img = tf.numpy_function(func=aug_image, inp=[image], Tout=tf.float32)\n",
        "    return aug_img\n",
        "\n",
        "def _parse_function(tfrecord_serialized):\n",
        "    features={'image': tf.io.FixedLenFeature([], tf.string),\n",
        "              'label': tf.io.FixedLenFeature([], tf.string)\n",
        "             }\n",
        "    parsed_features = tf.io.parse_single_example(tfrecord_serialized, features)\n",
        "    \n",
        "    image = tf.io.decode_raw(parsed_features['image'], tf.uint8)\n",
        "    image = tf.reshape(image, (img_size, img_size, 3))\n",
        "    \n",
        "    image = process_data(image)\n",
        "    \n",
        "    image = tf.cast(image, tf.float32)/255. \n",
        "\n",
        "    classes = tf.io.decode_raw(parsed_features['label'], tf.uint8)\n",
        "    # classes = tf.squeeze(classes)\n",
        "\n",
        "    return image, classes"
      ],
      "metadata": {
        "id": "wxbwCRGYgOs1"
      },
      "execution_count": 421,
      "outputs": []
    },
    {
      "cell_type": "code",
      "source": [
        "train_dataset = tf.data.TFRecordDataset('/content/train.tfr')\n",
        "train_dataset = train_dataset.map(_parse_function, num_parallel_calls=tf.data.experimental.AUTOTUNE)\n",
        "train_dataset = train_dataset.shuffle(2000).prefetch(tf.data.experimental.AUTOTUNE).batch(32)"
      ],
      "metadata": {
        "id": "AeSxIVeoK-XR"
      },
      "execution_count": 426,
      "outputs": []
    },
    {
      "cell_type": "code",
      "source": [
        "test_dataset = tf.data.TFRecordDataset('/content/test.tfr')\n",
        "test_dataset = test_dataset.map(_parse_function, num_parallel_calls=tf.data.experimental.AUTOTUNE)\n",
        "test_dataset = test_dataset.shuffle(2000).prefetch(tf.data.experimental.AUTOTUNE).batch(32)"
      ],
      "metadata": {
        "id": "6lBHpl3rNVHq"
      },
      "execution_count": 340,
      "outputs": []
    },
    {
      "cell_type": "code",
      "source": [
        "inputs = layers.Input(shape=(30,30,3))\n",
        "x = layers.Conv2D(32, 3, activation='relu')(inputs)\n",
        "x = layers.MaxPool2D()(x)\n",
        "x = layers.Conv2D(64, 3, activation='relu')(x)\n",
        "x = layers.MaxPool2D()(x)\n",
        "x = layers.GlobalAvgPool2D()(x)\n",
        "x = layers.Dense(64,activation='relu')(x)\n",
        "outputs = layers.Dense(10,activation='softmax')(x)\n",
        "model = tf.keras.Model(inputs, outputs)\n",
        "model.summary()"
      ],
      "metadata": {
        "colab": {
          "base_uri": "https://localhost:8080/"
        },
        "id": "cMbsQzwiNiia",
        "outputId": "85964822-5434-4c0c-bfa2-679131f1adc0"
      },
      "execution_count": 472,
      "outputs": [
        {
          "output_type": "stream",
          "name": "stdout",
          "text": [
            "Model: \"model_14\"\n",
            "_________________________________________________________________\n",
            " Layer (type)                Output Shape              Param #   \n",
            "=================================================================\n",
            " input_15 (InputLayer)       [(None, 30, 30, 3)]       0         \n",
            "                                                                 \n",
            " conv2d_28 (Conv2D)          (None, 28, 28, 32)        896       \n",
            "                                                                 \n",
            " max_pooling2d_28 (MaxPoolin  (None, 14, 14, 32)       0         \n",
            " g2D)                                                            \n",
            "                                                                 \n",
            " conv2d_29 (Conv2D)          (None, 12, 12, 64)        18496     \n",
            "                                                                 \n",
            " max_pooling2d_29 (MaxPoolin  (None, 6, 6, 64)         0         \n",
            " g2D)                                                            \n",
            "                                                                 \n",
            " global_average_pooling2d_14  (None, 64)               0         \n",
            "  (GlobalAveragePooling2D)                                       \n",
            "                                                                 \n",
            " dense_28 (Dense)            (None, 64)                4160      \n",
            "                                                                 \n",
            " dense_29 (Dense)            (None, 10)                650       \n",
            "                                                                 \n",
            "=================================================================\n",
            "Total params: 24,202\n",
            "Trainable params: 24,202\n",
            "Non-trainable params: 0\n",
            "_________________________________________________________________\n"
          ]
        }
      ]
    },
    {
      "cell_type": "code",
      "source": [
        "model.compile(optimizer='adam', loss=tf.keras.losses.CategoricalCrossentropy(), metrics=['accuracy'])"
      ],
      "metadata": {
        "id": "uXWyegMyNlzW"
      },
      "execution_count": 473,
      "outputs": []
    },
    {
      "cell_type": "code",
      "source": [
        "time_now = time.time()\n",
        "his = model.fit(train_dataset, epochs=10, validation_data=test_dataset)\n",
        "print(time.time() - time_now)"
      ],
      "metadata": {
        "colab": {
          "base_uri": "https://localhost:8080/"
        },
        "id": "J_hqkzkdNpWa",
        "outputId": "5de2f4d7-404a-49e5-8c33-b9a2db44a001"
      },
      "execution_count": 343,
      "outputs": [
        {
          "output_type": "stream",
          "name": "stdout",
          "text": [
            "Epoch 1/10\n",
            "1407/1407 [==============================] - 60s 42ms/step - loss: 1.8262 - accuracy: 0.3071 - val_loss: 1.6514 - val_accuracy: 0.3787\n",
            "Epoch 2/10\n",
            "1407/1407 [==============================] - 59s 42ms/step - loss: 1.6171 - accuracy: 0.3980 - val_loss: 1.5252 - val_accuracy: 0.4355\n",
            "Epoch 3/10\n",
            "1407/1407 [==============================] - 59s 42ms/step - loss: 1.4932 - accuracy: 0.4525 - val_loss: 1.4253 - val_accuracy: 0.4762\n",
            "Epoch 4/10\n",
            "1407/1407 [==============================] - 63s 45ms/step - loss: 1.4228 - accuracy: 0.4828 - val_loss: 1.4148 - val_accuracy: 0.4893\n",
            "Epoch 5/10\n",
            "1407/1407 [==============================] - 59s 42ms/step - loss: 1.3738 - accuracy: 0.5003 - val_loss: 1.3339 - val_accuracy: 0.5132\n",
            "Epoch 6/10\n",
            "1407/1407 [==============================] - 58s 41ms/step - loss: 1.3321 - accuracy: 0.5173 - val_loss: 1.3534 - val_accuracy: 0.5101\n",
            "Epoch 7/10\n",
            "1407/1407 [==============================] - 63s 45ms/step - loss: 1.2990 - accuracy: 0.5312 - val_loss: 1.2980 - val_accuracy: 0.5335\n",
            "Epoch 8/10\n",
            "1407/1407 [==============================] - 59s 42ms/step - loss: 1.2665 - accuracy: 0.5422 - val_loss: 1.2570 - val_accuracy: 0.5530\n",
            "Epoch 9/10\n",
            "1407/1407 [==============================] - 60s 42ms/step - loss: 1.2373 - accuracy: 0.5546 - val_loss: 1.2469 - val_accuracy: 0.5533\n",
            "Epoch 10/10\n",
            "1407/1407 [==============================] - 59s 42ms/step - loss: 1.2143 - accuracy: 0.5635 - val_loss: 1.2129 - val_accuracy: 0.5673\n",
            "774.2090682983398\n"
          ]
        }
      ]
    },
    {
      "cell_type": "code",
      "source": [
        "time_now = time.time()\n",
        "his = model.fit(train_dataset, epochs=10, validation_data=test_dataset)\n",
        "print(time.time() - time_now)"
      ],
      "metadata": {
        "colab": {
          "base_uri": "https://localhost:8080/"
        },
        "id": "PaHgrPGknZz-",
        "outputId": "2a7d807b-6d3c-4b7f-e003-9c335a99c71d"
      },
      "execution_count": 429,
      "outputs": [
        {
          "output_type": "stream",
          "name": "stdout",
          "text": [
            "Epoch 1/10\n",
            "1407/1407 [==============================] - 74s 51ms/step - loss: 1.9226 - accuracy: 0.2667 - val_loss: 1.8915 - val_accuracy: 0.2949\n",
            "Epoch 2/10\n",
            "1407/1407 [==============================] - 71s 50ms/step - loss: 1.7445 - accuracy: 0.3488 - val_loss: 1.6190 - val_accuracy: 0.4069\n",
            "Epoch 3/10\n",
            "1407/1407 [==============================] - 76s 53ms/step - loss: 1.6572 - accuracy: 0.3869 - val_loss: 1.5518 - val_accuracy: 0.4292\n",
            "Epoch 4/10\n",
            "1407/1407 [==============================] - 71s 50ms/step - loss: 1.5944 - accuracy: 0.4179 - val_loss: 1.4702 - val_accuracy: 0.4586\n",
            "Epoch 5/10\n",
            "1407/1407 [==============================] - 71s 49ms/step - loss: 1.5500 - accuracy: 0.4354 - val_loss: 1.4225 - val_accuracy: 0.4793\n",
            "Epoch 6/10\n",
            "1407/1407 [==============================] - 71s 49ms/step - loss: 1.5194 - accuracy: 0.4473 - val_loss: 1.4332 - val_accuracy: 0.4857\n",
            "Epoch 7/10\n",
            "1407/1407 [==============================] - 71s 49ms/step - loss: 1.4904 - accuracy: 0.4584 - val_loss: 1.4668 - val_accuracy: 0.4750\n",
            "Epoch 8/10\n",
            "1407/1407 [==============================] - 71s 50ms/step - loss: 1.4619 - accuracy: 0.4705 - val_loss: 1.4397 - val_accuracy: 0.4773\n",
            "Epoch 9/10\n",
            "1407/1407 [==============================] - 70s 49ms/step - loss: 1.4422 - accuracy: 0.4769 - val_loss: 1.5523 - val_accuracy: 0.4520\n",
            "Epoch 10/10\n",
            "1407/1407 [==============================] - 76s 53ms/step - loss: 1.4238 - accuracy: 0.4849 - val_loss: 1.3687 - val_accuracy: 0.5088\n",
            "792.5387365818024\n"
          ]
        }
      ]
    },
    {
      "cell_type": "code",
      "source": [
        "time_now = time.time()\n",
        "his = model.fit(train_ds, epochs=10, validation_data=validation_ds)\n",
        "print(time.time() - time_now)"
      ],
      "metadata": {
        "colab": {
          "base_uri": "https://localhost:8080/",
          "height": 547
        },
        "id": "J5bMiWD9GYPv",
        "outputId": "fb88dd65-94a3-49ce-ce33-b96357cce20e"
      },
      "execution_count": 474,
      "outputs": [
        {
          "output_type": "stream",
          "name": "stdout",
          "text": [
            "Epoch 1/10\n",
            "1407/1407 [==============================] - 58s 41ms/step - loss: 1.8482 - accuracy: 0.2982 - val_loss: 3.2405 - val_accuracy: 0.0970\n",
            "Epoch 2/10\n",
            "1407/1407 [==============================] - 62s 44ms/step - loss: 1.6019 - accuracy: 0.4088 - val_loss: 3.4864 - val_accuracy: 0.0954\n",
            "Epoch 3/10\n",
            "1407/1407 [==============================] - 58s 41ms/step - loss: 1.4795 - accuracy: 0.4592 - val_loss: 3.7228 - val_accuracy: 0.1012\n",
            "Epoch 4/10\n",
            "1407/1407 [==============================] - 58s 41ms/step - loss: 1.4074 - accuracy: 0.4924 - val_loss: 3.9842 - val_accuracy: 0.0998\n",
            "Epoch 5/10\n",
            "1021/1407 [====================>.........] - ETA: 15s - loss: 1.3610 - accuracy: 0.5079"
          ]
        },
        {
          "output_type": "error",
          "ename": "KeyboardInterrupt",
          "evalue": "ignored",
          "traceback": [
            "\u001b[0;31m---------------------------------------------------------------------------\u001b[0m",
            "\u001b[0;31mKeyboardInterrupt\u001b[0m                         Traceback (most recent call last)",
            "\u001b[0;32m<ipython-input-474-2725297d4529>\u001b[0m in \u001b[0;36m<module>\u001b[0;34m\u001b[0m\n\u001b[1;32m      1\u001b[0m \u001b[0mtime_now\u001b[0m \u001b[0;34m=\u001b[0m \u001b[0mtime\u001b[0m\u001b[0;34m.\u001b[0m\u001b[0mtime\u001b[0m\u001b[0;34m(\u001b[0m\u001b[0;34m)\u001b[0m\u001b[0;34m\u001b[0m\u001b[0;34m\u001b[0m\u001b[0m\n\u001b[0;32m----> 2\u001b[0;31m \u001b[0mhis\u001b[0m \u001b[0;34m=\u001b[0m \u001b[0mmodel\u001b[0m\u001b[0;34m.\u001b[0m\u001b[0mfit\u001b[0m\u001b[0;34m(\u001b[0m\u001b[0mtrain_ds\u001b[0m\u001b[0;34m,\u001b[0m \u001b[0mepochs\u001b[0m\u001b[0;34m=\u001b[0m\u001b[0;36m10\u001b[0m\u001b[0;34m,\u001b[0m \u001b[0mvalidation_data\u001b[0m\u001b[0;34m=\u001b[0m\u001b[0mvalidation_ds\u001b[0m\u001b[0;34m)\u001b[0m\u001b[0;34m\u001b[0m\u001b[0;34m\u001b[0m\u001b[0m\n\u001b[0m\u001b[1;32m      3\u001b[0m \u001b[0mprint\u001b[0m\u001b[0;34m(\u001b[0m\u001b[0mtime\u001b[0m\u001b[0;34m.\u001b[0m\u001b[0mtime\u001b[0m\u001b[0;34m(\u001b[0m\u001b[0;34m)\u001b[0m \u001b[0;34m-\u001b[0m \u001b[0mtime_now\u001b[0m\u001b[0;34m)\u001b[0m\u001b[0;34m\u001b[0m\u001b[0;34m\u001b[0m\u001b[0m\n",
            "\u001b[0;32m/usr/local/lib/python3.8/dist-packages/keras/utils/traceback_utils.py\u001b[0m in \u001b[0;36merror_handler\u001b[0;34m(*args, **kwargs)\u001b[0m\n\u001b[1;32m     62\u001b[0m     \u001b[0mfiltered_tb\u001b[0m \u001b[0;34m=\u001b[0m \u001b[0;32mNone\u001b[0m\u001b[0;34m\u001b[0m\u001b[0;34m\u001b[0m\u001b[0m\n\u001b[1;32m     63\u001b[0m     \u001b[0;32mtry\u001b[0m\u001b[0;34m:\u001b[0m\u001b[0;34m\u001b[0m\u001b[0;34m\u001b[0m\u001b[0m\n\u001b[0;32m---> 64\u001b[0;31m       \u001b[0;32mreturn\u001b[0m \u001b[0mfn\u001b[0m\u001b[0;34m(\u001b[0m\u001b[0;34m*\u001b[0m\u001b[0margs\u001b[0m\u001b[0;34m,\u001b[0m \u001b[0;34m**\u001b[0m\u001b[0mkwargs\u001b[0m\u001b[0;34m)\u001b[0m\u001b[0;34m\u001b[0m\u001b[0;34m\u001b[0m\u001b[0m\n\u001b[0m\u001b[1;32m     65\u001b[0m     \u001b[0;32mexcept\u001b[0m \u001b[0mException\u001b[0m \u001b[0;32mas\u001b[0m \u001b[0me\u001b[0m\u001b[0;34m:\u001b[0m  \u001b[0;31m# pylint: disable=broad-except\u001b[0m\u001b[0;34m\u001b[0m\u001b[0;34m\u001b[0m\u001b[0m\n\u001b[1;32m     66\u001b[0m       \u001b[0mfiltered_tb\u001b[0m \u001b[0;34m=\u001b[0m \u001b[0m_process_traceback_frames\u001b[0m\u001b[0;34m(\u001b[0m\u001b[0me\u001b[0m\u001b[0;34m.\u001b[0m\u001b[0m__traceback__\u001b[0m\u001b[0;34m)\u001b[0m\u001b[0;34m\u001b[0m\u001b[0;34m\u001b[0m\u001b[0m\n",
            "\u001b[0;32m/usr/local/lib/python3.8/dist-packages/keras/engine/training.py\u001b[0m in \u001b[0;36mfit\u001b[0;34m(self, x, y, batch_size, epochs, verbose, callbacks, validation_split, validation_data, shuffle, class_weight, sample_weight, initial_epoch, steps_per_epoch, validation_steps, validation_batch_size, validation_freq, max_queue_size, workers, use_multiprocessing)\u001b[0m\n\u001b[1;32m   1407\u001b[0m                 _r=1):\n\u001b[1;32m   1408\u001b[0m               \u001b[0mcallbacks\u001b[0m\u001b[0;34m.\u001b[0m\u001b[0mon_train_batch_begin\u001b[0m\u001b[0;34m(\u001b[0m\u001b[0mstep\u001b[0m\u001b[0;34m)\u001b[0m\u001b[0;34m\u001b[0m\u001b[0;34m\u001b[0m\u001b[0m\n\u001b[0;32m-> 1409\u001b[0;31m               \u001b[0mtmp_logs\u001b[0m \u001b[0;34m=\u001b[0m \u001b[0mself\u001b[0m\u001b[0;34m.\u001b[0m\u001b[0mtrain_function\u001b[0m\u001b[0;34m(\u001b[0m\u001b[0miterator\u001b[0m\u001b[0;34m)\u001b[0m\u001b[0;34m\u001b[0m\u001b[0;34m\u001b[0m\u001b[0m\n\u001b[0m\u001b[1;32m   1410\u001b[0m               \u001b[0;32mif\u001b[0m \u001b[0mdata_handler\u001b[0m\u001b[0;34m.\u001b[0m\u001b[0mshould_sync\u001b[0m\u001b[0;34m:\u001b[0m\u001b[0;34m\u001b[0m\u001b[0;34m\u001b[0m\u001b[0m\n\u001b[1;32m   1411\u001b[0m                 \u001b[0mcontext\u001b[0m\u001b[0;34m.\u001b[0m\u001b[0masync_wait\u001b[0m\u001b[0;34m(\u001b[0m\u001b[0;34m)\u001b[0m\u001b[0;34m\u001b[0m\u001b[0;34m\u001b[0m\u001b[0m\n",
            "\u001b[0;32m/usr/local/lib/python3.8/dist-packages/tensorflow/python/util/traceback_utils.py\u001b[0m in \u001b[0;36merror_handler\u001b[0;34m(*args, **kwargs)\u001b[0m\n\u001b[1;32m    148\u001b[0m     \u001b[0mfiltered_tb\u001b[0m \u001b[0;34m=\u001b[0m \u001b[0;32mNone\u001b[0m\u001b[0;34m\u001b[0m\u001b[0;34m\u001b[0m\u001b[0m\n\u001b[1;32m    149\u001b[0m     \u001b[0;32mtry\u001b[0m\u001b[0;34m:\u001b[0m\u001b[0;34m\u001b[0m\u001b[0;34m\u001b[0m\u001b[0m\n\u001b[0;32m--> 150\u001b[0;31m       \u001b[0;32mreturn\u001b[0m \u001b[0mfn\u001b[0m\u001b[0;34m(\u001b[0m\u001b[0;34m*\u001b[0m\u001b[0margs\u001b[0m\u001b[0;34m,\u001b[0m \u001b[0;34m**\u001b[0m\u001b[0mkwargs\u001b[0m\u001b[0;34m)\u001b[0m\u001b[0;34m\u001b[0m\u001b[0;34m\u001b[0m\u001b[0m\n\u001b[0m\u001b[1;32m    151\u001b[0m     \u001b[0;32mexcept\u001b[0m \u001b[0mException\u001b[0m \u001b[0;32mas\u001b[0m \u001b[0me\u001b[0m\u001b[0;34m:\u001b[0m\u001b[0;34m\u001b[0m\u001b[0;34m\u001b[0m\u001b[0m\n\u001b[1;32m    152\u001b[0m       \u001b[0mfiltered_tb\u001b[0m \u001b[0;34m=\u001b[0m \u001b[0m_process_traceback_frames\u001b[0m\u001b[0;34m(\u001b[0m\u001b[0me\u001b[0m\u001b[0;34m.\u001b[0m\u001b[0m__traceback__\u001b[0m\u001b[0;34m)\u001b[0m\u001b[0;34m\u001b[0m\u001b[0;34m\u001b[0m\u001b[0m\n",
            "\u001b[0;32m/usr/local/lib/python3.8/dist-packages/tensorflow/python/eager/def_function.py\u001b[0m in \u001b[0;36m__call__\u001b[0;34m(self, *args, **kwds)\u001b[0m\n\u001b[1;32m    913\u001b[0m \u001b[0;34m\u001b[0m\u001b[0m\n\u001b[1;32m    914\u001b[0m       \u001b[0;32mwith\u001b[0m \u001b[0mOptionalXlaContext\u001b[0m\u001b[0;34m(\u001b[0m\u001b[0mself\u001b[0m\u001b[0;34m.\u001b[0m\u001b[0m_jit_compile\u001b[0m\u001b[0;34m)\u001b[0m\u001b[0;34m:\u001b[0m\u001b[0;34m\u001b[0m\u001b[0;34m\u001b[0m\u001b[0m\n\u001b[0;32m--> 915\u001b[0;31m         \u001b[0mresult\u001b[0m \u001b[0;34m=\u001b[0m \u001b[0mself\u001b[0m\u001b[0;34m.\u001b[0m\u001b[0m_call\u001b[0m\u001b[0;34m(\u001b[0m\u001b[0;34m*\u001b[0m\u001b[0margs\u001b[0m\u001b[0;34m,\u001b[0m \u001b[0;34m**\u001b[0m\u001b[0mkwds\u001b[0m\u001b[0;34m)\u001b[0m\u001b[0;34m\u001b[0m\u001b[0;34m\u001b[0m\u001b[0m\n\u001b[0m\u001b[1;32m    916\u001b[0m \u001b[0;34m\u001b[0m\u001b[0m\n\u001b[1;32m    917\u001b[0m       \u001b[0mnew_tracing_count\u001b[0m \u001b[0;34m=\u001b[0m \u001b[0mself\u001b[0m\u001b[0;34m.\u001b[0m\u001b[0mexperimental_get_tracing_count\u001b[0m\u001b[0;34m(\u001b[0m\u001b[0;34m)\u001b[0m\u001b[0;34m\u001b[0m\u001b[0;34m\u001b[0m\u001b[0m\n",
            "\u001b[0;32m/usr/local/lib/python3.8/dist-packages/tensorflow/python/eager/def_function.py\u001b[0m in \u001b[0;36m_call\u001b[0;34m(self, *args, **kwds)\u001b[0m\n\u001b[1;32m    945\u001b[0m       \u001b[0;31m# In this case we have created variables on the first call, so we run the\u001b[0m\u001b[0;34m\u001b[0m\u001b[0;34m\u001b[0m\u001b[0;34m\u001b[0m\u001b[0m\n\u001b[1;32m    946\u001b[0m       \u001b[0;31m# defunned version which is guaranteed to never create variables.\u001b[0m\u001b[0;34m\u001b[0m\u001b[0;34m\u001b[0m\u001b[0;34m\u001b[0m\u001b[0m\n\u001b[0;32m--> 947\u001b[0;31m       \u001b[0;32mreturn\u001b[0m \u001b[0mself\u001b[0m\u001b[0;34m.\u001b[0m\u001b[0m_stateless_fn\u001b[0m\u001b[0;34m(\u001b[0m\u001b[0;34m*\u001b[0m\u001b[0margs\u001b[0m\u001b[0;34m,\u001b[0m \u001b[0;34m**\u001b[0m\u001b[0mkwds\u001b[0m\u001b[0;34m)\u001b[0m  \u001b[0;31m# pylint: disable=not-callable\u001b[0m\u001b[0;34m\u001b[0m\u001b[0;34m\u001b[0m\u001b[0m\n\u001b[0m\u001b[1;32m    948\u001b[0m     \u001b[0;32melif\u001b[0m \u001b[0mself\u001b[0m\u001b[0;34m.\u001b[0m\u001b[0m_stateful_fn\u001b[0m \u001b[0;32mis\u001b[0m \u001b[0;32mnot\u001b[0m \u001b[0;32mNone\u001b[0m\u001b[0;34m:\u001b[0m\u001b[0;34m\u001b[0m\u001b[0;34m\u001b[0m\u001b[0m\n\u001b[1;32m    949\u001b[0m       \u001b[0;31m# Release the lock early so that multiple threads can perform the call\u001b[0m\u001b[0;34m\u001b[0m\u001b[0;34m\u001b[0m\u001b[0;34m\u001b[0m\u001b[0m\n",
            "\u001b[0;32m/usr/local/lib/python3.8/dist-packages/tensorflow/python/eager/function.py\u001b[0m in \u001b[0;36m__call__\u001b[0;34m(self, *args, **kwargs)\u001b[0m\n\u001b[1;32m   2451\u001b[0m       (graph_function,\n\u001b[1;32m   2452\u001b[0m        filtered_flat_args) = self._maybe_define_function(args, kwargs)\n\u001b[0;32m-> 2453\u001b[0;31m     return graph_function._call_flat(\n\u001b[0m\u001b[1;32m   2454\u001b[0m         filtered_flat_args, captured_inputs=graph_function.captured_inputs)  # pylint: disable=protected-access\n\u001b[1;32m   2455\u001b[0m \u001b[0;34m\u001b[0m\u001b[0m\n",
            "\u001b[0;32m/usr/local/lib/python3.8/dist-packages/tensorflow/python/eager/function.py\u001b[0m in \u001b[0;36m_call_flat\u001b[0;34m(self, args, captured_inputs, cancellation_manager)\u001b[0m\n\u001b[1;32m   1858\u001b[0m         and executing_eagerly):\n\u001b[1;32m   1859\u001b[0m       \u001b[0;31m# No tape is watching; skip to running the function.\u001b[0m\u001b[0;34m\u001b[0m\u001b[0;34m\u001b[0m\u001b[0;34m\u001b[0m\u001b[0m\n\u001b[0;32m-> 1860\u001b[0;31m       return self._build_call_outputs(self._inference_function.call(\n\u001b[0m\u001b[1;32m   1861\u001b[0m           ctx, args, cancellation_manager=cancellation_manager))\n\u001b[1;32m   1862\u001b[0m     forward_backward = self._select_forward_and_backward_functions(\n",
            "\u001b[0;32m/usr/local/lib/python3.8/dist-packages/tensorflow/python/eager/function.py\u001b[0m in \u001b[0;36mcall\u001b[0;34m(self, ctx, args, cancellation_manager)\u001b[0m\n\u001b[1;32m    495\u001b[0m       \u001b[0;32mwith\u001b[0m \u001b[0m_InterpolateFunctionError\u001b[0m\u001b[0;34m(\u001b[0m\u001b[0mself\u001b[0m\u001b[0;34m)\u001b[0m\u001b[0;34m:\u001b[0m\u001b[0;34m\u001b[0m\u001b[0;34m\u001b[0m\u001b[0m\n\u001b[1;32m    496\u001b[0m         \u001b[0;32mif\u001b[0m \u001b[0mcancellation_manager\u001b[0m \u001b[0;32mis\u001b[0m \u001b[0;32mNone\u001b[0m\u001b[0;34m:\u001b[0m\u001b[0;34m\u001b[0m\u001b[0;34m\u001b[0m\u001b[0m\n\u001b[0;32m--> 497\u001b[0;31m           outputs = execute.execute(\n\u001b[0m\u001b[1;32m    498\u001b[0m               \u001b[0mstr\u001b[0m\u001b[0;34m(\u001b[0m\u001b[0mself\u001b[0m\u001b[0;34m.\u001b[0m\u001b[0msignature\u001b[0m\u001b[0;34m.\u001b[0m\u001b[0mname\u001b[0m\u001b[0;34m)\u001b[0m\u001b[0;34m,\u001b[0m\u001b[0;34m\u001b[0m\u001b[0;34m\u001b[0m\u001b[0m\n\u001b[1;32m    499\u001b[0m               \u001b[0mnum_outputs\u001b[0m\u001b[0;34m=\u001b[0m\u001b[0mself\u001b[0m\u001b[0;34m.\u001b[0m\u001b[0m_num_outputs\u001b[0m\u001b[0;34m,\u001b[0m\u001b[0;34m\u001b[0m\u001b[0;34m\u001b[0m\u001b[0m\n",
            "\u001b[0;32m/usr/local/lib/python3.8/dist-packages/tensorflow/python/eager/execute.py\u001b[0m in \u001b[0;36mquick_execute\u001b[0;34m(op_name, num_outputs, inputs, attrs, ctx, name)\u001b[0m\n\u001b[1;32m     52\u001b[0m   \u001b[0;32mtry\u001b[0m\u001b[0;34m:\u001b[0m\u001b[0;34m\u001b[0m\u001b[0;34m\u001b[0m\u001b[0m\n\u001b[1;32m     53\u001b[0m     \u001b[0mctx\u001b[0m\u001b[0;34m.\u001b[0m\u001b[0mensure_initialized\u001b[0m\u001b[0;34m(\u001b[0m\u001b[0;34m)\u001b[0m\u001b[0;34m\u001b[0m\u001b[0;34m\u001b[0m\u001b[0m\n\u001b[0;32m---> 54\u001b[0;31m     tensors = pywrap_tfe.TFE_Py_Execute(ctx._handle, device_name, op_name,\n\u001b[0m\u001b[1;32m     55\u001b[0m                                         inputs, attrs, num_outputs)\n\u001b[1;32m     56\u001b[0m   \u001b[0;32mexcept\u001b[0m \u001b[0mcore\u001b[0m\u001b[0;34m.\u001b[0m\u001b[0m_NotOkStatusException\u001b[0m \u001b[0;32mas\u001b[0m \u001b[0me\u001b[0m\u001b[0;34m:\u001b[0m\u001b[0;34m\u001b[0m\u001b[0;34m\u001b[0m\u001b[0m\n",
            "\u001b[0;31mKeyboardInterrupt\u001b[0m: "
          ]
        }
      ]
    }
  ],
  "metadata": {
    "colab": {
      "provenance": [],
      "mount_file_id": "1Z1dCUVd8i138xys-P7cB8rphiEjyZhYN",
      "authorship_tag": "ABX9TyOPgdQYx3XhIwxUY97LiQBq",
      "include_colab_link": true
    },
    "kernelspec": {
      "display_name": "Python 3",
      "name": "python3"
    },
    "language_info": {
      "name": "python"
    }
  },
  "nbformat": 4,
  "nbformat_minor": 0
}